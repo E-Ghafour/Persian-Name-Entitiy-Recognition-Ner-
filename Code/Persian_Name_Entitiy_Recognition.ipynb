{
  "nbformat": 4,
  "nbformat_minor": 0,
  "metadata": {
    "colab": {
      "name": "Persian-Name-Entitiy-Recognition.ipynb",
      "provenance": [],
      "collapsed_sections": []
    },
    "kernelspec": {
      "name": "python3",
      "display_name": "Python 3"
    },
    "language_info": {
      "name": "python"
    }
  },
  "cells": [
    {
      "cell_type": "code",
      "execution_count": null,
      "metadata": {
        "id": "7lzyzrLG65CO"
      },
      "outputs": [],
      "source": [
        "import pandas as pd\n",
        "import numpy as np"
      ]
    },
    {
      "cell_type": "code",
      "source": [
        "df = pd.read_table(\"Persian-NER-part2.txt\", delimiter=\"\")"
      ],
      "metadata": {
        "colab": {
          "base_uri": "https://localhost:8080/",
          "height": 224
        },
        "id": "7QUiWlAeygii",
        "outputId": "c17fd49e-dcd9-4d43-d37f-6ed0f2d319f2"
      },
      "execution_count": null,
      "outputs": [
        {
          "output_type": "error",
          "ename": "ValueError",
          "evalue": "ignored",
          "traceback": [
            "\u001b[0;31m---------------------------------------------------------------------------\u001b[0m",
            "\u001b[0;31mValueError\u001b[0m                                Traceback (most recent call last)",
            "\u001b[0;32m<ipython-input-5-1d4ccda1d708>\u001b[0m in \u001b[0;36m<module>\u001b[0;34m()\u001b[0m\n\u001b[0;32m----> 1\u001b[0;31m \u001b[0mdf\u001b[0m \u001b[0;34m=\u001b[0m \u001b[0mpd\u001b[0m\u001b[0;34m.\u001b[0m\u001b[0mread_table\u001b[0m\u001b[0;34m(\u001b[0m\u001b[0;34m\"Persian-NER-part2.txt\"\u001b[0m\u001b[0;34m,\u001b[0m \u001b[0mdelimiter\u001b[0m\u001b[0;34m=\u001b[0m\u001b[0;34m\"\"\u001b[0m\u001b[0;34m)\u001b[0m\u001b[0;34m\u001b[0m\u001b[0;34m\u001b[0m\u001b[0m\n\u001b[0m",
            "\u001b[0;32m/usr/local/lib/python3.7/dist-packages/pandas/util/_decorators.py\u001b[0m in \u001b[0;36mwrapper\u001b[0;34m(*args, **kwargs)\u001b[0m\n\u001b[1;32m    309\u001b[0m                     \u001b[0mstacklevel\u001b[0m\u001b[0;34m=\u001b[0m\u001b[0mstacklevel\u001b[0m\u001b[0;34m,\u001b[0m\u001b[0;34m\u001b[0m\u001b[0;34m\u001b[0m\u001b[0m\n\u001b[1;32m    310\u001b[0m                 )\n\u001b[0;32m--> 311\u001b[0;31m             \u001b[0;32mreturn\u001b[0m \u001b[0mfunc\u001b[0m\u001b[0;34m(\u001b[0m\u001b[0;34m*\u001b[0m\u001b[0margs\u001b[0m\u001b[0;34m,\u001b[0m \u001b[0;34m**\u001b[0m\u001b[0mkwargs\u001b[0m\u001b[0;34m)\u001b[0m\u001b[0;34m\u001b[0m\u001b[0;34m\u001b[0m\u001b[0m\n\u001b[0m\u001b[1;32m    312\u001b[0m \u001b[0;34m\u001b[0m\u001b[0m\n\u001b[1;32m    313\u001b[0m         \u001b[0;32mreturn\u001b[0m \u001b[0mwrapper\u001b[0m\u001b[0;34m\u001b[0m\u001b[0;34m\u001b[0m\u001b[0m\n",
            "\u001b[0;32m/usr/local/lib/python3.7/dist-packages/pandas/io/parsers/readers.py\u001b[0m in \u001b[0;36mread_table\u001b[0;34m(filepath_or_buffer, sep, delimiter, header, names, index_col, usecols, squeeze, prefix, mangle_dupe_cols, dtype, engine, converters, true_values, false_values, skipinitialspace, skiprows, skipfooter, nrows, na_values, keep_default_na, na_filter, verbose, skip_blank_lines, parse_dates, infer_datetime_format, keep_date_col, date_parser, dayfirst, cache_dates, iterator, chunksize, compression, thousands, decimal, lineterminator, quotechar, quoting, doublequote, escapechar, comment, encoding, dialect, error_bad_lines, warn_bad_lines, on_bad_lines, encoding_errors, delim_whitespace, low_memory, memory_map, float_precision)\u001b[0m\n\u001b[1;32m    681\u001b[0m     \u001b[0mkwds\u001b[0m\u001b[0;34m.\u001b[0m\u001b[0mupdate\u001b[0m\u001b[0;34m(\u001b[0m\u001b[0mkwds_defaults\u001b[0m\u001b[0;34m)\u001b[0m\u001b[0;34m\u001b[0m\u001b[0;34m\u001b[0m\u001b[0m\n\u001b[1;32m    682\u001b[0m \u001b[0;34m\u001b[0m\u001b[0m\n\u001b[0;32m--> 683\u001b[0;31m     \u001b[0;32mreturn\u001b[0m \u001b[0m_read\u001b[0m\u001b[0;34m(\u001b[0m\u001b[0mfilepath_or_buffer\u001b[0m\u001b[0;34m,\u001b[0m \u001b[0mkwds\u001b[0m\u001b[0;34m)\u001b[0m\u001b[0;34m\u001b[0m\u001b[0;34m\u001b[0m\u001b[0m\n\u001b[0m\u001b[1;32m    684\u001b[0m \u001b[0;34m\u001b[0m\u001b[0m\n\u001b[1;32m    685\u001b[0m \u001b[0;34m\u001b[0m\u001b[0m\n",
            "\u001b[0;32m/usr/local/lib/python3.7/dist-packages/pandas/io/parsers/readers.py\u001b[0m in \u001b[0;36m_read\u001b[0;34m(filepath_or_buffer, kwds)\u001b[0m\n\u001b[1;32m    480\u001b[0m \u001b[0;34m\u001b[0m\u001b[0m\n\u001b[1;32m    481\u001b[0m     \u001b[0;31m# Create the parser.\u001b[0m\u001b[0;34m\u001b[0m\u001b[0;34m\u001b[0m\u001b[0;34m\u001b[0m\u001b[0m\n\u001b[0;32m--> 482\u001b[0;31m     \u001b[0mparser\u001b[0m \u001b[0;34m=\u001b[0m \u001b[0mTextFileReader\u001b[0m\u001b[0;34m(\u001b[0m\u001b[0mfilepath_or_buffer\u001b[0m\u001b[0;34m,\u001b[0m \u001b[0;34m**\u001b[0m\u001b[0mkwds\u001b[0m\u001b[0;34m)\u001b[0m\u001b[0;34m\u001b[0m\u001b[0;34m\u001b[0m\u001b[0m\n\u001b[0m\u001b[1;32m    483\u001b[0m \u001b[0;34m\u001b[0m\u001b[0m\n\u001b[1;32m    484\u001b[0m     \u001b[0;32mif\u001b[0m \u001b[0mchunksize\u001b[0m \u001b[0;32mor\u001b[0m \u001b[0miterator\u001b[0m\u001b[0;34m:\u001b[0m\u001b[0;34m\u001b[0m\u001b[0;34m\u001b[0m\u001b[0m\n",
            "\u001b[0;32m/usr/local/lib/python3.7/dist-packages/pandas/io/parsers/readers.py\u001b[0m in \u001b[0;36m__init__\u001b[0;34m(self, f, engine, **kwds)\u001b[0m\n\u001b[1;32m    809\u001b[0m             \u001b[0mself\u001b[0m\u001b[0;34m.\u001b[0m\u001b[0moptions\u001b[0m\u001b[0;34m[\u001b[0m\u001b[0;34m\"has_index_names\"\u001b[0m\u001b[0;34m]\u001b[0m \u001b[0;34m=\u001b[0m \u001b[0mkwds\u001b[0m\u001b[0;34m[\u001b[0m\u001b[0;34m\"has_index_names\"\u001b[0m\u001b[0;34m]\u001b[0m\u001b[0;34m\u001b[0m\u001b[0;34m\u001b[0m\u001b[0m\n\u001b[1;32m    810\u001b[0m \u001b[0;34m\u001b[0m\u001b[0m\n\u001b[0;32m--> 811\u001b[0;31m         \u001b[0mself\u001b[0m\u001b[0;34m.\u001b[0m\u001b[0m_engine\u001b[0m \u001b[0;34m=\u001b[0m \u001b[0mself\u001b[0m\u001b[0;34m.\u001b[0m\u001b[0m_make_engine\u001b[0m\u001b[0;34m(\u001b[0m\u001b[0mself\u001b[0m\u001b[0;34m.\u001b[0m\u001b[0mengine\u001b[0m\u001b[0;34m)\u001b[0m\u001b[0;34m\u001b[0m\u001b[0;34m\u001b[0m\u001b[0m\n\u001b[0m\u001b[1;32m    812\u001b[0m \u001b[0;34m\u001b[0m\u001b[0m\n\u001b[1;32m    813\u001b[0m     \u001b[0;32mdef\u001b[0m \u001b[0mclose\u001b[0m\u001b[0;34m(\u001b[0m\u001b[0mself\u001b[0m\u001b[0;34m)\u001b[0m\u001b[0;34m:\u001b[0m\u001b[0;34m\u001b[0m\u001b[0;34m\u001b[0m\u001b[0m\n",
            "\u001b[0;32m/usr/local/lib/python3.7/dist-packages/pandas/io/parsers/readers.py\u001b[0m in \u001b[0;36m_make_engine\u001b[0;34m(self, engine)\u001b[0m\n\u001b[1;32m   1038\u001b[0m             )\n\u001b[1;32m   1039\u001b[0m         \u001b[0;31m# error: Too many arguments for \"ParserBase\"\u001b[0m\u001b[0;34m\u001b[0m\u001b[0;34m\u001b[0m\u001b[0;34m\u001b[0m\u001b[0m\n\u001b[0;32m-> 1040\u001b[0;31m         \u001b[0;32mreturn\u001b[0m \u001b[0mmapping\u001b[0m\u001b[0;34m[\u001b[0m\u001b[0mengine\u001b[0m\u001b[0;34m]\u001b[0m\u001b[0;34m(\u001b[0m\u001b[0mself\u001b[0m\u001b[0;34m.\u001b[0m\u001b[0mf\u001b[0m\u001b[0;34m,\u001b[0m \u001b[0;34m**\u001b[0m\u001b[0mself\u001b[0m\u001b[0;34m.\u001b[0m\u001b[0moptions\u001b[0m\u001b[0;34m)\u001b[0m  \u001b[0;31m# type: ignore[call-arg]\u001b[0m\u001b[0;34m\u001b[0m\u001b[0;34m\u001b[0m\u001b[0m\n\u001b[0m\u001b[1;32m   1041\u001b[0m \u001b[0;34m\u001b[0m\u001b[0m\n\u001b[1;32m   1042\u001b[0m     \u001b[0;32mdef\u001b[0m \u001b[0m_failover_to_python\u001b[0m\u001b[0;34m(\u001b[0m\u001b[0mself\u001b[0m\u001b[0;34m)\u001b[0m\u001b[0;34m:\u001b[0m\u001b[0;34m\u001b[0m\u001b[0;34m\u001b[0m\u001b[0m\n",
            "\u001b[0;32m/usr/local/lib/python3.7/dist-packages/pandas/io/parsers/c_parser_wrapper.py\u001b[0m in \u001b[0;36m__init__\u001b[0;34m(self, src, **kwds)\u001b[0m\n\u001b[1;32m     67\u001b[0m         \u001b[0mkwds\u001b[0m\u001b[0;34m[\u001b[0m\u001b[0;34m\"dtype\"\u001b[0m\u001b[0;34m]\u001b[0m \u001b[0;34m=\u001b[0m \u001b[0mensure_dtype_objs\u001b[0m\u001b[0;34m(\u001b[0m\u001b[0mkwds\u001b[0m\u001b[0;34m.\u001b[0m\u001b[0mget\u001b[0m\u001b[0;34m(\u001b[0m\u001b[0;34m\"dtype\"\u001b[0m\u001b[0;34m,\u001b[0m \u001b[0;32mNone\u001b[0m\u001b[0;34m)\u001b[0m\u001b[0;34m)\u001b[0m\u001b[0;34m\u001b[0m\u001b[0;34m\u001b[0m\u001b[0m\n\u001b[1;32m     68\u001b[0m         \u001b[0;32mtry\u001b[0m\u001b[0;34m:\u001b[0m\u001b[0;34m\u001b[0m\u001b[0;34m\u001b[0m\u001b[0m\n\u001b[0;32m---> 69\u001b[0;31m             \u001b[0mself\u001b[0m\u001b[0;34m.\u001b[0m\u001b[0m_reader\u001b[0m \u001b[0;34m=\u001b[0m \u001b[0mparsers\u001b[0m\u001b[0;34m.\u001b[0m\u001b[0mTextReader\u001b[0m\u001b[0;34m(\u001b[0m\u001b[0mself\u001b[0m\u001b[0;34m.\u001b[0m\u001b[0mhandles\u001b[0m\u001b[0;34m.\u001b[0m\u001b[0mhandle\u001b[0m\u001b[0;34m,\u001b[0m \u001b[0;34m**\u001b[0m\u001b[0mkwds\u001b[0m\u001b[0;34m)\u001b[0m\u001b[0;34m\u001b[0m\u001b[0;34m\u001b[0m\u001b[0m\n\u001b[0m\u001b[1;32m     70\u001b[0m         \u001b[0;32mexcept\u001b[0m \u001b[0mException\u001b[0m\u001b[0;34m:\u001b[0m\u001b[0;34m\u001b[0m\u001b[0;34m\u001b[0m\u001b[0m\n\u001b[1;32m     71\u001b[0m             \u001b[0mself\u001b[0m\u001b[0;34m.\u001b[0m\u001b[0mhandles\u001b[0m\u001b[0;34m.\u001b[0m\u001b[0mclose\u001b[0m\u001b[0;34m(\u001b[0m\u001b[0;34m)\u001b[0m\u001b[0;34m\u001b[0m\u001b[0;34m\u001b[0m\u001b[0m\n",
            "\u001b[0;32m/usr/local/lib/python3.7/dist-packages/pandas/_libs/parsers.pyx\u001b[0m in \u001b[0;36mpandas._libs.parsers.TextReader.__cinit__\u001b[0;34m()\u001b[0m\n",
            "\u001b[0;31mValueError\u001b[0m: only single character unicode strings can be converted to Py_UCS4, got length 0"
          ]
        }
      ]
    },
    {
      "cell_type": "code",
      "source": [
        "a = pd.read_csv(\"Persian-NER-part2.txt\", header=None, delimiter=r\"\\s+\", error_bad_lines=False, warn_bad_lines=True)"
      ],
      "metadata": {
        "colab": {
          "base_uri": "https://localhost:8080/",
          "height": 573
        },
        "id": "Y0hNfJWUM-r5",
        "outputId": "68c2ed97-d511-4a90-b22c-d2f359bef0b6"
      },
      "execution_count": null,
      "outputs": [
        {
          "output_type": "stream",
          "name": "stderr",
          "text": [
            "/usr/local/lib/python3.7/dist-packages/IPython/core/interactiveshell.py:2882: FutureWarning: The warn_bad_lines argument has been deprecated and will be removed in a future version.\n",
            "\n",
            "\n",
            "  exec(code_obj, self.user_global_ns, self.user_ns)\n",
            "/usr/local/lib/python3.7/dist-packages/IPython/core/interactiveshell.py:2882: FutureWarning: The error_bad_lines argument has been deprecated and will be removed in a future version.\n",
            "\n",
            "\n",
            "  exec(code_obj, self.user_global_ns, self.user_ns)\n",
            "b'Skipping line 4358: expected 2 fields, saw 3\\nSkipping line 11804: expected 2 fields, saw 3\\nSkipping line 15007: expected 2 fields, saw 3\\nSkipping line 19460: expected 2 fields, saw 3\\nSkipping line 19610: expected 2 fields, saw 3\\nSkipping line 27166: expected 2 fields, saw 3\\nSkipping line 40756: expected 2 fields, saw 3\\nSkipping line 53571: expected 2 fields, saw 3\\nSkipping line 53591: expected 2 fields, saw 3\\nSkipping line 53608: expected 2 fields, saw 3\\nSkipping line 64425: expected 2 fields, saw 3\\nSkipping line 75529: expected 2 fields, saw 3\\nSkipping line 78783: expected 2 fields, saw 3\\nSkipping line 95408: expected 2 fields, saw 3\\nSkipping line 99286: expected 2 fields, saw 3\\nSkipping line 99366: expected 2 fields, saw 3\\nSkipping line 99589: expected 2 fields, saw 3\\nSkipping line 115021: expected 2 fields, saw 3\\nSkipping line 123324: expected 2 fields, saw 3\\nSkipping line 141371: expected 2 fields, saw 3\\nSkipping line 144170: expected 2 fields, saw 3\\nSkipping line 148314: expected 2 fields, saw 3\\nSkipping line 150859: expected 2 fields, saw 3\\nSkipping line 158075: expected 2 fields, saw 3\\nSkipping line 166382: expected 2 fields, saw 3\\nSkipping line 176514: expected 2 fields, saw 3\\nSkipping line 176698: expected 2 fields, saw 3\\nSkipping line 178489: expected 2 fields, saw 3\\nSkipping line 195817: expected 2 fields, saw 3\\nSkipping line 202098: expected 2 fields, saw 3\\nSkipping line 202120: expected 2 fields, saw 3\\nSkipping line 206170: expected 2 fields, saw 3\\nSkipping line 207018: expected 2 fields, saw 3\\nSkipping line 219940: expected 2 fields, saw 3\\nSkipping line 219950: expected 2 fields, saw 3\\nSkipping line 219960: expected 2 fields, saw 3\\nSkipping line 219970: expected 2 fields, saw 3\\nSkipping line 219980: expected 2 fields, saw 3\\nSkipping line 219992: expected 2 fields, saw 3\\nSkipping line 220004: expected 2 fields, saw 3\\nSkipping line 220014: expected 2 fields, saw 3\\nSkipping line 220024: expected 2 fields, saw 3\\nSkipping line 220038: expected 2 fields, saw 3\\nSkipping line 220050: expected 2 fields, saw 3\\nSkipping line 220062: expected 2 fields, saw 3\\nSkipping line 238980: expected 2 fields, saw 3\\nSkipping line 247098: expected 2 fields, saw 3\\nSkipping line 256956: expected 2 fields, saw 3\\nSkipping line 261340: expected 2 fields, saw 3\\n'\n",
            "b'Skipping line 294508: expected 2 fields, saw 3\\nSkipping line 294514: expected 2 fields, saw 3\\nSkipping line 295050: expected 2 fields, saw 3\\nSkipping line 295056: expected 2 fields, saw 3\\nSkipping line 305246: expected 2 fields, saw 3\\nSkipping line 308812: expected 2 fields, saw 3\\nSkipping line 328473: expected 2 fields, saw 3\\nSkipping line 338162: expected 2 fields, saw 3\\nSkipping line 340717: expected 2 fields, saw 3\\nSkipping line 340745: expected 2 fields, saw 3\\nSkipping line 340806: expected 2 fields, saw 4\\nSkipping line 340815: expected 2 fields, saw 4\\nSkipping line 351113: expected 2 fields, saw 3\\nSkipping line 373461: expected 2 fields, saw 3\\nSkipping line 380849: expected 2 fields, saw 3\\nSkipping line 391458: expected 2 fields, saw 3\\nSkipping line 398043: expected 2 fields, saw 3\\nSkipping line 401127: expected 2 fields, saw 3\\nSkipping line 402808: expected 2 fields, saw 3\\nSkipping line 407370: expected 2 fields, saw 3\\nSkipping line 449906: expected 2 fields, saw 3\\nSkipping line 458327: expected 2 fields, saw 3\\nSkipping line 467890: expected 2 fields, saw 3\\nSkipping line 477277: expected 2 fields, saw 3\\nSkipping line 483472: expected 2 fields, saw 3\\nSkipping line 495103: expected 2 fields, saw 3\\nSkipping line 496446: expected 2 fields, saw 3\\nSkipping line 510632: expected 2 fields, saw 3\\nSkipping line 517187: expected 2 fields, saw 3\\nSkipping line 519915: expected 2 fields, saw 3\\nSkipping line 524138: expected 2 fields, saw 3\\nSkipping line 529724: expected 2 fields, saw 3\\nSkipping line 529760: expected 2 fields, saw 3\\nSkipping line 535958: expected 2 fields, saw 3\\n'\n",
            "b'Skipping line 546472: expected 2 fields, saw 3\\nSkipping line 546621: expected 2 fields, saw 3\\nSkipping line 547773: expected 2 fields, saw 3\\nSkipping line 559692: expected 2 fields, saw 3\\nSkipping line 563828: expected 2 fields, saw 3\\nSkipping line 563886: expected 2 fields, saw 3\\nSkipping line 563995: expected 2 fields, saw 3\\nSkipping line 567336: expected 2 fields, saw 3\\nSkipping line 567646: expected 2 fields, saw 3\\nSkipping line 574998: expected 2 fields, saw 3\\nSkipping line 575584: expected 2 fields, saw 3\\nSkipping line 581126: expected 2 fields, saw 3\\nSkipping line 584206: expected 2 fields, saw 3\\nSkipping line 612389: expected 2 fields, saw 3\\nSkipping line 613774: expected 2 fields, saw 3\\nSkipping line 616358: expected 2 fields, saw 3\\nSkipping line 617050: expected 2 fields, saw 4\\nSkipping line 623458: expected 2 fields, saw 3\\nSkipping line 623462: expected 2 fields, saw 3\\nSkipping line 623483: expected 2 fields, saw 3\\nSkipping line 623489: expected 2 fields, saw 3\\nSkipping line 624668: expected 2 fields, saw 3\\nSkipping line 624674: expected 2 fields, saw 3\\nSkipping line 625124: expected 2 fields, saw 3\\nSkipping line 626608: expected 2 fields, saw 3\\nSkipping line 632910: expected 2 fields, saw 3\\nSkipping line 638261: expected 2 fields, saw 3\\nSkipping line 647195: expected 2 fields, saw 3\\nSkipping line 648103: expected 2 fields, saw 3\\nSkipping line 648703: expected 2 fields, saw 3\\nSkipping line 650137: expected 2 fields, saw 3\\nSkipping line 655054: expected 2 fields, saw 3\\nSkipping line 657795: expected 2 fields, saw 3\\nSkipping line 662734: expected 2 fields, saw 3\\nSkipping line 662784: expected 2 fields, saw 3\\nSkipping line 668052: expected 2 fields, saw 3\\nSkipping line 676172: expected 2 fields, saw 3\\nSkipping line 681412: expected 2 fields, saw 3\\nSkipping line 682951: expected 2 fields, saw 4\\nSkipping line 687023: expected 2 fields, saw 3\\nSkipping line 689897: expected 2 fields, saw 3\\nSkipping line 690161: expected 2 fields, saw 3\\nSkipping line 690565: expected 2 fields, saw 3\\nSkipping line 696269: expected 2 fields, saw 3\\nSkipping line 700777: expected 2 fields, saw 5\\nSkipping line 708396: expected 2 fields, saw 3\\nSkipping line 716318: expected 2 fields, saw 3\\nSkipping line 719597: expected 2 fields, saw 3\\nSkipping line 725723: expected 2 fields, saw 3\\nSkipping line 737106: expected 2 fields, saw 3\\nSkipping line 743600: expected 2 fields, saw 3\\nSkipping line 756436: expected 2 fields, saw 3\\nSkipping line 758056: expected 2 fields, saw 3\\nSkipping line 760509: expected 2 fields, saw 3\\nSkipping line 764869: expected 2 fields, saw 3\\nSkipping line 773904: expected 2 fields, saw 3\\nSkipping line 773929: expected 2 fields, saw 3\\nSkipping line 773951: expected 2 fields, saw 3\\nSkipping line 774054: expected 2 fields, saw 3\\nSkipping line 774385: expected 2 fields, saw 3\\nSkipping line 782440: expected 2 fields, saw 3\\nSkipping line 786321: expected 2 fields, saw 3\\nSkipping line 786800: expected 2 fields, saw 3\\nSkipping line 787775: expected 2 fields, saw 3\\nSkipping line 787952: expected 2 fields, saw 3\\nSkipping line 815117: expected 2 fields, saw 3\\nSkipping line 815977: expected 2 fields, saw 3\\n'\n",
            "b'Skipping line 825744: expected 2 fields, saw 3\\nSkipping line 841601: expected 2 fields, saw 3\\nSkipping line 841888: expected 2 fields, saw 4\\nSkipping line 848379: expected 2 fields, saw 3\\nSkipping line 848481: expected 2 fields, saw 3\\nSkipping line 851732: expected 2 fields, saw 3\\nSkipping line 853534: expected 2 fields, saw 3\\nSkipping line 858617: expected 2 fields, saw 3\\nSkipping line 859307: expected 2 fields, saw 3\\nSkipping line 871183: expected 2 fields, saw 3\\nSkipping line 872700: expected 2 fields, saw 3\\nSkipping line 872709: expected 2 fields, saw 3\\nSkipping line 881308: expected 2 fields, saw 3\\nSkipping line 897813: expected 2 fields, saw 3\\nSkipping line 910788: expected 2 fields, saw 3\\nSkipping line 919863: expected 2 fields, saw 3\\nSkipping line 919869: expected 2 fields, saw 3\\nSkipping line 919965: expected 2 fields, saw 3\\nSkipping line 919971: expected 2 fields, saw 3\\nSkipping line 930740: expected 2 fields, saw 3\\nSkipping line 933391: expected 2 fields, saw 3\\nSkipping line 939954: expected 2 fields, saw 3\\nSkipping line 939960: expected 2 fields, saw 3\\nSkipping line 940170: expected 2 fields, saw 3\\nSkipping line 942871: expected 2 fields, saw 3\\nSkipping line 942876: expected 2 fields, saw 3\\nSkipping line 944403: expected 2 fields, saw 3\\nSkipping line 944406: expected 2 fields, saw 4\\nSkipping line 946262: expected 2 fields, saw 3\\nSkipping line 949183: expected 2 fields, saw 3\\nSkipping line 950183: expected 2 fields, saw 3\\nSkipping line 952146: expected 2 fields, saw 3\\nSkipping line 957899: expected 2 fields, saw 3\\nSkipping line 988179: expected 2 fields, saw 4\\nSkipping line 994283: expected 2 fields, saw 3\\nSkipping line 1007204: expected 2 fields, saw 3\\nSkipping line 1010614: expected 2 fields, saw 3\\nSkipping line 1011099: expected 2 fields, saw 3\\nSkipping line 1012618: expected 2 fields, saw 3\\nSkipping line 1015381: expected 2 fields, saw 3\\nSkipping line 1015692: expected 2 fields, saw 3\\nSkipping line 1016884: expected 2 fields, saw 3\\nSkipping line 1017557: expected 2 fields, saw 3\\nSkipping line 1017628: expected 2 fields, saw 3\\nSkipping line 1022973: expected 2 fields, saw 3\\nSkipping line 1033895: expected 2 fields, saw 3\\nSkipping line 1039411: expected 2 fields, saw 3\\nSkipping line 1046483: expected 2 fields, saw 3\\nSkipping line 1056354: expected 2 fields, saw 3\\nSkipping line 1063548: expected 2 fields, saw 3\\nSkipping line 1075115: expected 2 fields, saw 3\\nSkipping line 1085948: expected 2 fields, saw 3\\n'\n",
            "b'Skipping line 1115219: expected 2 fields, saw 4\\nSkipping line 1118479: expected 2 fields, saw 3\\nSkipping line 1118494: expected 2 fields, saw 3\\nSkipping line 1118501: expected 2 fields, saw 3\\nSkipping line 1124422: expected 2 fields, saw 3\\nSkipping line 1125411: expected 2 fields, saw 3\\nSkipping line 1140926: expected 2 fields, saw 3\\nSkipping line 1140983: expected 2 fields, saw 3\\nSkipping line 1144951: expected 2 fields, saw 3\\nSkipping line 1147797: expected 2 fields, saw 3\\nSkipping line 1148499: expected 2 fields, saw 3\\nSkipping line 1166491: expected 2 fields, saw 3\\nSkipping line 1170321: expected 2 fields, saw 3\\nSkipping line 1181695: expected 2 fields, saw 3\\nSkipping line 1184422: expected 2 fields, saw 3\\nSkipping line 1191032: expected 2 fields, saw 3\\nSkipping line 1199974: expected 2 fields, saw 3\\nSkipping line 1215194: expected 2 fields, saw 3\\nSkipping line 1216024: expected 2 fields, saw 3\\nSkipping line 1223926: expected 2 fields, saw 3\\nSkipping line 1227224: expected 2 fields, saw 3\\nSkipping line 1230109: expected 2 fields, saw 3\\nSkipping line 1231540: expected 2 fields, saw 3\\nSkipping line 1231544: expected 2 fields, saw 3\\nSkipping line 1231718: expected 2 fields, saw 3\\nSkipping line 1231724: expected 2 fields, saw 3\\nSkipping line 1236011: expected 2 fields, saw 3\\nSkipping line 1236017: expected 2 fields, saw 3\\nSkipping line 1236180: expected 2 fields, saw 3\\nSkipping line 1258764: expected 2 fields, saw 3\\nSkipping line 1270772: expected 2 fields, saw 3\\nSkipping line 1282164: expected 2 fields, saw 3\\nSkipping line 1293681: expected 2 fields, saw 3\\nSkipping line 1298633: expected 2 fields, saw 3\\nSkipping line 1307963: expected 2 fields, saw 3\\nSkipping line 1328579: expected 2 fields, saw 3\\nSkipping line 1331645: expected 2 fields, saw 3\\nSkipping line 1333734: expected 2 fields, saw 3\\nSkipping line 1335565: expected 2 fields, saw 3\\nSkipping line 1337516: expected 2 fields, saw 3\\nSkipping line 1340807: expected 2 fields, saw 3\\nSkipping line 1345823: expected 2 fields, saw 3\\nSkipping line 1352331: expected 2 fields, saw 4\\nSkipping line 1354705: expected 2 fields, saw 3\\nSkipping line 1358510: expected 2 fields, saw 3\\n'\n",
            "b'Skipping line 1363291: expected 2 fields, saw 3\\nSkipping line 1375172: expected 2 fields, saw 3\\nSkipping line 1383610: expected 2 fields, saw 3\\nSkipping line 1400191: expected 2 fields, saw 3\\nSkipping line 1414288: expected 2 fields, saw 3\\nSkipping line 1428732: expected 2 fields, saw 3\\nSkipping line 1460162: expected 2 fields, saw 3\\nSkipping line 1461435: expected 2 fields, saw 3\\nSkipping line 1470465: expected 2 fields, saw 4\\nSkipping line 1472198: expected 2 fields, saw 3\\nSkipping line 1490974: expected 2 fields, saw 3\\nSkipping line 1495626: expected 2 fields, saw 3\\nSkipping line 1499988: expected 2 fields, saw 3\\nSkipping line 1511640: expected 2 fields, saw 3\\nSkipping line 1519147: expected 2 fields, saw 4\\nSkipping line 1527234: expected 2 fields, saw 3\\nSkipping line 1530189: expected 2 fields, saw 3\\nSkipping line 1532814: expected 2 fields, saw 3\\nSkipping line 1555147: expected 2 fields, saw 3\\nSkipping line 1558773: expected 2 fields, saw 4\\nSkipping line 1566664: expected 2 fields, saw 3\\nSkipping line 1568736: expected 2 fields, saw 3\\nSkipping line 1574605: expected 2 fields, saw 3\\nSkipping line 1578718: expected 2 fields, saw 3\\nSkipping line 1584432: expected 2 fields, saw 3\\nSkipping line 1584438: expected 2 fields, saw 3\\nSkipping line 1584551: expected 2 fields, saw 3\\nSkipping line 1584557: expected 2 fields, saw 3\\nSkipping line 1591038: expected 2 fields, saw 3\\nSkipping line 1595398: expected 2 fields, saw 3\\nSkipping line 1615489: expected 2 fields, saw 3\\nSkipping line 1615495: expected 2 fields, saw 3\\nSkipping line 1615665: expected 2 fields, saw 3\\nSkipping line 1615671: expected 2 fields, saw 3\\nSkipping line 1617103: expected 2 fields, saw 3\\nSkipping line 1618306: expected 2 fields, saw 3\\nSkipping line 1621340: expected 2 fields, saw 3\\nSkipping line 1621346: expected 2 fields, saw 3\\nSkipping line 1621493: expected 2 fields, saw 3\\nSkipping line 1621499: expected 2 fields, saw 3\\nSkipping line 1624432: expected 2 fields, saw 3\\n'\n",
            "b'Skipping line 1644980: expected 2 fields, saw 3\\nSkipping line 1657060: expected 2 fields, saw 3\\nSkipping line 1681547: expected 2 fields, saw 3\\nSkipping line 1681631: expected 2 fields, saw 3\\nSkipping line 1682102: expected 2 fields, saw 3\\nSkipping line 1682302: expected 2 fields, saw 4\\nSkipping line 1682420: expected 2 fields, saw 3\\nSkipping line 1684939: expected 2 fields, saw 4\\nSkipping line 1685217: expected 2 fields, saw 3\\nSkipping line 1688924: expected 2 fields, saw 3\\nSkipping line 1688938: expected 2 fields, saw 3\\nSkipping line 1688994: expected 2 fields, saw 3\\nSkipping line 1689015: expected 2 fields, saw 3\\nSkipping line 1689026: expected 2 fields, saw 3\\nSkipping line 1689040: expected 2 fields, saw 3\\nSkipping line 1689054: expected 2 fields, saw 3\\nSkipping line 1689083: expected 2 fields, saw 3\\nSkipping line 1689108: expected 2 fields, saw 3\\nSkipping line 1689133: expected 2 fields, saw 3\\nSkipping line 1689148: expected 2 fields, saw 3\\nSkipping line 1689172: expected 2 fields, saw 3\\nSkipping line 1700959: expected 2 fields, saw 3\\nSkipping line 1701225: expected 2 fields, saw 3\\nSkipping line 1701305: expected 2 fields, saw 3\\nSkipping line 1701371: expected 2 fields, saw 3\\nSkipping line 1728157: expected 2 fields, saw 3\\nSkipping line 1738329: expected 2 fields, saw 3\\nSkipping line 1754455: expected 2 fields, saw 3\\nSkipping line 1759319: expected 2 fields, saw 3\\nSkipping line 1764975: expected 2 fields, saw 3\\nSkipping line 1786180: expected 2 fields, saw 3\\nSkipping line 1786542: expected 2 fields, saw 3\\nSkipping line 1791270: expected 2 fields, saw 3\\nSkipping line 1808466: expected 2 fields, saw 3\\nSkipping line 1813709: expected 2 fields, saw 3\\nSkipping line 1822145: expected 2 fields, saw 4\\nSkipping line 1822154: expected 2 fields, saw 3\\nSkipping line 1827085: expected 2 fields, saw 3\\nSkipping line 1828240: expected 2 fields, saw 3\\nSkipping line 1840734: expected 2 fields, saw 3\\nSkipping line 1843808: expected 2 fields, saw 3\\nSkipping line 1843828: expected 2 fields, saw 3\\nSkipping line 1848015: expected 2 fields, saw 3\\nSkipping line 1848591: expected 2 fields, saw 3\\nSkipping line 1849291: expected 2 fields, saw 3\\nSkipping line 1855868: expected 2 fields, saw 3\\nSkipping line 1859103: expected 2 fields, saw 3\\nSkipping line 1861643: expected 2 fields, saw 3\\nSkipping line 1861656: expected 2 fields, saw 4\\nSkipping line 1861731: expected 2 fields, saw 4\\nSkipping line 1861739: expected 2 fields, saw 3\\nSkipping line 1862963: expected 2 fields, saw 3\\nSkipping line 1863057: expected 2 fields, saw 3\\nSkipping line 1863069: expected 2 fields, saw 3\\nSkipping line 1864506: expected 2 fields, saw 3\\nSkipping line 1868757: expected 2 fields, saw 3\\nSkipping line 1870550: expected 2 fields, saw 3\\nSkipping line 1877436: expected 2 fields, saw 3\\nSkipping line 1894259: expected 2 fields, saw 3\\nSkipping line 1901696: expected 2 fields, saw 3\\n'\n",
            "b'Skipping line 1910224: expected 2 fields, saw 3\\nSkipping line 1912846: expected 2 fields, saw 3\\nSkipping line 1914251: expected 2 fields, saw 3\\nSkipping line 1943652: expected 2 fields, saw 4\\nSkipping line 1943965: expected 2 fields, saw 3\\nSkipping line 1947794: expected 2 fields, saw 3\\nSkipping line 1953258: expected 2 fields, saw 3\\nSkipping line 1965805: expected 2 fields, saw 3\\nSkipping line 1971512: expected 2 fields, saw 3\\nSkipping line 1972797: expected 2 fields, saw 3\\nSkipping line 1980002: expected 2 fields, saw 3\\nSkipping line 1984819: expected 2 fields, saw 3\\nSkipping line 1987203: expected 2 fields, saw 3\\nSkipping line 1989935: expected 2 fields, saw 3\\nSkipping line 1996368: expected 2 fields, saw 3\\nSkipping line 2005700: expected 2 fields, saw 3\\nSkipping line 2012110: expected 2 fields, saw 4\\nSkipping line 2017972: expected 2 fields, saw 3\\nSkipping line 2023146: expected 2 fields, saw 3\\nSkipping line 2023164: expected 2 fields, saw 4\\nSkipping line 2023490: expected 2 fields, saw 3\\nSkipping line 2024597: expected 2 fields, saw 3\\nSkipping line 2041134: expected 2 fields, saw 3\\nSkipping line 2045226: expected 2 fields, saw 3\\nSkipping line 2045232: expected 2 fields, saw 3\\nSkipping line 2047180: expected 2 fields, saw 3\\nSkipping line 2063371: expected 2 fields, saw 3\\nSkipping line 2063662: expected 2 fields, saw 3\\nSkipping line 2063701: expected 2 fields, saw 3\\nSkipping line 2064454: expected 2 fields, saw 3\\nSkipping line 2064792: expected 2 fields, saw 3\\nSkipping line 2064796: expected 2 fields, saw 3\\nSkipping line 2071630: expected 2 fields, saw 4\\nSkipping line 2088672: expected 2 fields, saw 3\\nSkipping line 2088690: expected 2 fields, saw 3\\nSkipping line 2088715: expected 2 fields, saw 3\\nSkipping line 2103715: expected 2 fields, saw 3\\nSkipping line 2103757: expected 2 fields, saw 3\\nSkipping line 2104065: expected 2 fields, saw 3\\nSkipping line 2104075: expected 2 fields, saw 3\\nSkipping line 2112314: expected 2 fields, saw 3\\nSkipping line 2115942: expected 2 fields, saw 3\\nSkipping line 2131637: expected 2 fields, saw 3\\nSkipping line 2140943: expected 2 fields, saw 3\\nSkipping line 2144104: expected 2 fields, saw 3\\nSkipping line 2151586: expected 2 fields, saw 3\\nSkipping line 2152110: expected 2 fields, saw 3\\nSkipping line 2152297: expected 2 fields, saw 3\\nSkipping line 2152884: expected 2 fields, saw 3\\nSkipping line 2152922: expected 2 fields, saw 3\\nSkipping line 2153068: expected 2 fields, saw 3\\nSkipping line 2153236: expected 2 fields, saw 3\\nSkipping line 2153361: expected 2 fields, saw 3\\nSkipping line 2157793: expected 2 fields, saw 3\\nSkipping line 2157800: expected 2 fields, saw 3\\nSkipping line 2158549: expected 2 fields, saw 3\\nSkipping line 2160587: expected 2 fields, saw 3\\nSkipping line 2161731: expected 2 fields, saw 3\\nSkipping line 2166588: expected 2 fields, saw 3\\nSkipping line 2168257: expected 2 fields, saw 3\\nSkipping line 2176743: expected 2 fields, saw 3\\n'\n",
            "b'Skipping line 2183402: expected 2 fields, saw 3\\nSkipping line 2183521: expected 2 fields, saw 3\\nSkipping line 2183564: expected 2 fields, saw 3\\nSkipping line 2183618: expected 2 fields, saw 3\\nSkipping line 2185181: expected 2 fields, saw 3\\nSkipping line 2186522: expected 2 fields, saw 3\\nSkipping line 2186528: expected 2 fields, saw 3\\nSkipping line 2186552: expected 2 fields, saw 3\\nSkipping line 2186680: expected 2 fields, saw 3\\nSkipping line 2186686: expected 2 fields, saw 3\\nSkipping line 2198673: expected 2 fields, saw 3\\nSkipping line 2199104: expected 2 fields, saw 3\\nSkipping line 2199161: expected 2 fields, saw 3\\nSkipping line 2199167: expected 2 fields, saw 3\\nSkipping line 2199187: expected 2 fields, saw 3\\nSkipping line 2199193: expected 2 fields, saw 3\\nSkipping line 2200012: expected 2 fields, saw 3\\nSkipping line 2203251: expected 2 fields, saw 3\\nSkipping line 2208055: expected 2 fields, saw 3\\nSkipping line 2211907: expected 2 fields, saw 3\\nSkipping line 2212366: expected 2 fields, saw 3\\nSkipping line 2239554: expected 2 fields, saw 3\\nSkipping line 2243047: expected 2 fields, saw 3\\nSkipping line 2249880: expected 2 fields, saw 3\\nSkipping line 2257253: expected 2 fields, saw 3\\nSkipping line 2257271: expected 2 fields, saw 3\\nSkipping line 2257515: expected 2 fields, saw 3\\nSkipping line 2257535: expected 2 fields, saw 3\\nSkipping line 2258444: expected 2 fields, saw 3\\nSkipping line 2264426: expected 2 fields, saw 3\\nSkipping line 2265061: expected 2 fields, saw 3\\nSkipping line 2265063: expected 2 fields, saw 3\\nSkipping line 2265408: expected 2 fields, saw 3\\nSkipping line 2265410: expected 2 fields, saw 3\\nSkipping line 2265494: expected 2 fields, saw 3\\nSkipping line 2265619: expected 2 fields, saw 3\\nSkipping line 2270489: expected 2 fields, saw 3\\nSkipping line 2272930: expected 2 fields, saw 3\\nSkipping line 2281036: expected 2 fields, saw 3\\nSkipping line 2293524: expected 2 fields, saw 3\\nSkipping line 2294891: expected 2 fields, saw 3\\nSkipping line 2305011: expected 2 fields, saw 3\\nSkipping line 2305851: expected 2 fields, saw 3\\nSkipping line 2311164: expected 2 fields, saw 3\\nSkipping line 2327406: expected 2 fields, saw 3\\nSkipping line 2328523: expected 2 fields, saw 3\\nSkipping line 2336501: expected 2 fields, saw 3\\nSkipping line 2342431: expected 2 fields, saw 3\\nSkipping line 2352784: expected 2 fields, saw 3\\nSkipping line 2370989: expected 2 fields, saw 3\\nSkipping line 2382838: expected 2 fields, saw 3\\nSkipping line 2382952: expected 2 fields, saw 3\\nSkipping line 2385204: expected 2 fields, saw 3\\nSkipping line 2403078: expected 2 fields, saw 3\\nSkipping line 2430067: expected 2 fields, saw 3\\nSkipping line 2440688: expected 2 fields, saw 3\\nSkipping line 2441258: expected 2 fields, saw 3\\nSkipping line 2447702: expected 2 fields, saw 4\\nSkipping line 2447754: expected 2 fields, saw 4\\n'\n",
            "b'Skipping line 2453358: expected 2 fields, saw 3\\nSkipping line 2458665: expected 2 fields, saw 3\\nSkipping line 2460748: expected 2 fields, saw 3\\nSkipping line 2460913: expected 2 fields, saw 3\\nSkipping line 2467762: expected 2 fields, saw 3\\nSkipping line 2469863: expected 2 fields, saw 3\\nSkipping line 2474709: expected 2 fields, saw 3\\nSkipping line 2476143: expected 2 fields, saw 3\\nSkipping line 2476223: expected 2 fields, saw 3\\nSkipping line 2492841: expected 2 fields, saw 3\\nSkipping line 2494519: expected 2 fields, saw 3\\nSkipping line 2497687: expected 2 fields, saw 3\\nSkipping line 2499590: expected 2 fields, saw 3\\nSkipping line 2506680: expected 2 fields, saw 3\\nSkipping line 2507014: expected 2 fields, saw 3\\nSkipping line 2508623: expected 2 fields, saw 3\\nSkipping line 2511805: expected 2 fields, saw 3\\nSkipping line 2517745: expected 2 fields, saw 3\\nSkipping line 2517834: expected 2 fields, saw 3\\nSkipping line 2517851: expected 2 fields, saw 3\\nSkipping line 2519556: expected 2 fields, saw 4\\nSkipping line 2526460: expected 2 fields, saw 3\\nSkipping line 2528986: expected 2 fields, saw 3\\nSkipping line 2529575: expected 2 fields, saw 3\\nSkipping line 2530677: expected 2 fields, saw 3\\nSkipping line 2546690: expected 2 fields, saw 3\\nSkipping line 2554003: expected 2 fields, saw 3\\nSkipping line 2563546: expected 2 fields, saw 3\\nSkipping line 2570588: expected 2 fields, saw 3\\nSkipping line 2604074: expected 2 fields, saw 3\\nSkipping line 2612734: expected 2 fields, saw 3\\nSkipping line 2613722: expected 2 fields, saw 3\\nSkipping line 2615083: expected 2 fields, saw 3\\nSkipping line 2629566: expected 2 fields, saw 3\\nSkipping line 2630056: expected 2 fields, saw 3\\nSkipping line 2636489: expected 2 fields, saw 3\\nSkipping line 2649716: expected 2 fields, saw 3\\nSkipping line 2656241: expected 2 fields, saw 3\\nSkipping line 2674508: expected 2 fields, saw 3\\nSkipping line 2677361: expected 2 fields, saw 3\\nSkipping line 2677366: expected 2 fields, saw 3\\nSkipping line 2684558: expected 2 fields, saw 4\\nSkipping line 2702501: expected 2 fields, saw 3\\nSkipping line 2703958: expected 2 fields, saw 3\\nSkipping line 2719111: expected 2 fields, saw 3\\nSkipping line 2719124: expected 2 fields, saw 3\\n'\n",
            "b'Skipping line 2737062: expected 2 fields, saw 3\\nSkipping line 2747583: expected 2 fields, saw 3\\nSkipping line 2754313: expected 2 fields, saw 3\\nSkipping line 2756650: expected 2 fields, saw 3\\nSkipping line 2756771: expected 2 fields, saw 3\\nSkipping line 2759699: expected 2 fields, saw 3\\nSkipping line 2759724: expected 2 fields, saw 3\\nSkipping line 2768942: expected 2 fields, saw 3\\nSkipping line 2770196: expected 2 fields, saw 3\\nSkipping line 2771660: expected 2 fields, saw 3\\nSkipping line 2772485: expected 2 fields, saw 3\\nSkipping line 2786241: expected 2 fields, saw 3\\nSkipping line 2817783: expected 2 fields, saw 3\\nSkipping line 2824149: expected 2 fields, saw 6\\n'\n"
          ]
        },
        {
          "output_type": "error",
          "ename": "ParserError",
          "evalue": "ignored",
          "traceback": [
            "\u001b[0;31m---------------------------------------------------------------------------\u001b[0m",
            "\u001b[0;31mParserError\u001b[0m                               Traceback (most recent call last)",
            "\u001b[0;32m<ipython-input-17-798fc132e2f8>\u001b[0m in \u001b[0;36m<module>\u001b[0;34m()\u001b[0m\n\u001b[0;32m----> 1\u001b[0;31m \u001b[0ma\u001b[0m \u001b[0;34m=\u001b[0m \u001b[0mpd\u001b[0m\u001b[0;34m.\u001b[0m\u001b[0mread_csv\u001b[0m\u001b[0;34m(\u001b[0m\u001b[0;34m\"Persian-NER-part2.txt\"\u001b[0m\u001b[0;34m,\u001b[0m \u001b[0mheader\u001b[0m\u001b[0;34m=\u001b[0m\u001b[0;32mNone\u001b[0m\u001b[0;34m,\u001b[0m \u001b[0mdelimiter\u001b[0m\u001b[0;34m=\u001b[0m\u001b[0;34mr\"\\s+\"\u001b[0m\u001b[0;34m,\u001b[0m \u001b[0merror_bad_lines\u001b[0m\u001b[0;34m=\u001b[0m\u001b[0;32mFalse\u001b[0m\u001b[0;34m,\u001b[0m \u001b[0mwarn_bad_lines\u001b[0m\u001b[0;34m=\u001b[0m\u001b[0;32mTrue\u001b[0m\u001b[0;34m)\u001b[0m\u001b[0;34m\u001b[0m\u001b[0;34m\u001b[0m\u001b[0m\n\u001b[0m",
            "\u001b[0;32m/usr/local/lib/python3.7/dist-packages/pandas/util/_decorators.py\u001b[0m in \u001b[0;36mwrapper\u001b[0;34m(*args, **kwargs)\u001b[0m\n\u001b[1;32m    309\u001b[0m                     \u001b[0mstacklevel\u001b[0m\u001b[0;34m=\u001b[0m\u001b[0mstacklevel\u001b[0m\u001b[0;34m,\u001b[0m\u001b[0;34m\u001b[0m\u001b[0;34m\u001b[0m\u001b[0m\n\u001b[1;32m    310\u001b[0m                 )\n\u001b[0;32m--> 311\u001b[0;31m             \u001b[0;32mreturn\u001b[0m \u001b[0mfunc\u001b[0m\u001b[0;34m(\u001b[0m\u001b[0;34m*\u001b[0m\u001b[0margs\u001b[0m\u001b[0;34m,\u001b[0m \u001b[0;34m**\u001b[0m\u001b[0mkwargs\u001b[0m\u001b[0;34m)\u001b[0m\u001b[0;34m\u001b[0m\u001b[0;34m\u001b[0m\u001b[0m\n\u001b[0m\u001b[1;32m    312\u001b[0m \u001b[0;34m\u001b[0m\u001b[0m\n\u001b[1;32m    313\u001b[0m         \u001b[0;32mreturn\u001b[0m \u001b[0mwrapper\u001b[0m\u001b[0;34m\u001b[0m\u001b[0;34m\u001b[0m\u001b[0m\n",
            "\u001b[0;32m/usr/local/lib/python3.7/dist-packages/pandas/io/parsers/readers.py\u001b[0m in \u001b[0;36mread_csv\u001b[0;34m(filepath_or_buffer, sep, delimiter, header, names, index_col, usecols, squeeze, prefix, mangle_dupe_cols, dtype, engine, converters, true_values, false_values, skipinitialspace, skiprows, skipfooter, nrows, na_values, keep_default_na, na_filter, verbose, skip_blank_lines, parse_dates, infer_datetime_format, keep_date_col, date_parser, dayfirst, cache_dates, iterator, chunksize, compression, thousands, decimal, lineterminator, quotechar, quoting, doublequote, escapechar, comment, encoding, encoding_errors, dialect, error_bad_lines, warn_bad_lines, on_bad_lines, delim_whitespace, low_memory, memory_map, float_precision, storage_options)\u001b[0m\n\u001b[1;32m    584\u001b[0m     \u001b[0mkwds\u001b[0m\u001b[0;34m.\u001b[0m\u001b[0mupdate\u001b[0m\u001b[0;34m(\u001b[0m\u001b[0mkwds_defaults\u001b[0m\u001b[0;34m)\u001b[0m\u001b[0;34m\u001b[0m\u001b[0;34m\u001b[0m\u001b[0m\n\u001b[1;32m    585\u001b[0m \u001b[0;34m\u001b[0m\u001b[0m\n\u001b[0;32m--> 586\u001b[0;31m     \u001b[0;32mreturn\u001b[0m \u001b[0m_read\u001b[0m\u001b[0;34m(\u001b[0m\u001b[0mfilepath_or_buffer\u001b[0m\u001b[0;34m,\u001b[0m \u001b[0mkwds\u001b[0m\u001b[0;34m)\u001b[0m\u001b[0;34m\u001b[0m\u001b[0;34m\u001b[0m\u001b[0m\n\u001b[0m\u001b[1;32m    587\u001b[0m \u001b[0;34m\u001b[0m\u001b[0m\n\u001b[1;32m    588\u001b[0m \u001b[0;34m\u001b[0m\u001b[0m\n",
            "\u001b[0;32m/usr/local/lib/python3.7/dist-packages/pandas/io/parsers/readers.py\u001b[0m in \u001b[0;36m_read\u001b[0;34m(filepath_or_buffer, kwds)\u001b[0m\n\u001b[1;32m    486\u001b[0m \u001b[0;34m\u001b[0m\u001b[0m\n\u001b[1;32m    487\u001b[0m     \u001b[0;32mwith\u001b[0m \u001b[0mparser\u001b[0m\u001b[0;34m:\u001b[0m\u001b[0;34m\u001b[0m\u001b[0;34m\u001b[0m\u001b[0m\n\u001b[0;32m--> 488\u001b[0;31m         \u001b[0;32mreturn\u001b[0m \u001b[0mparser\u001b[0m\u001b[0;34m.\u001b[0m\u001b[0mread\u001b[0m\u001b[0;34m(\u001b[0m\u001b[0mnrows\u001b[0m\u001b[0;34m)\u001b[0m\u001b[0;34m\u001b[0m\u001b[0;34m\u001b[0m\u001b[0m\n\u001b[0m\u001b[1;32m    489\u001b[0m \u001b[0;34m\u001b[0m\u001b[0m\n\u001b[1;32m    490\u001b[0m \u001b[0;34m\u001b[0m\u001b[0m\n",
            "\u001b[0;32m/usr/local/lib/python3.7/dist-packages/pandas/io/parsers/readers.py\u001b[0m in \u001b[0;36mread\u001b[0;34m(self, nrows)\u001b[0m\n\u001b[1;32m   1045\u001b[0m     \u001b[0;32mdef\u001b[0m \u001b[0mread\u001b[0m\u001b[0;34m(\u001b[0m\u001b[0mself\u001b[0m\u001b[0;34m,\u001b[0m \u001b[0mnrows\u001b[0m\u001b[0;34m=\u001b[0m\u001b[0;32mNone\u001b[0m\u001b[0;34m)\u001b[0m\u001b[0;34m:\u001b[0m\u001b[0;34m\u001b[0m\u001b[0;34m\u001b[0m\u001b[0m\n\u001b[1;32m   1046\u001b[0m         \u001b[0mnrows\u001b[0m \u001b[0;34m=\u001b[0m \u001b[0mvalidate_integer\u001b[0m\u001b[0;34m(\u001b[0m\u001b[0;34m\"nrows\"\u001b[0m\u001b[0;34m,\u001b[0m \u001b[0mnrows\u001b[0m\u001b[0;34m)\u001b[0m\u001b[0;34m\u001b[0m\u001b[0;34m\u001b[0m\u001b[0m\n\u001b[0;32m-> 1047\u001b[0;31m         \u001b[0mindex\u001b[0m\u001b[0;34m,\u001b[0m \u001b[0mcolumns\u001b[0m\u001b[0;34m,\u001b[0m \u001b[0mcol_dict\u001b[0m \u001b[0;34m=\u001b[0m \u001b[0mself\u001b[0m\u001b[0;34m.\u001b[0m\u001b[0m_engine\u001b[0m\u001b[0;34m.\u001b[0m\u001b[0mread\u001b[0m\u001b[0;34m(\u001b[0m\u001b[0mnrows\u001b[0m\u001b[0;34m)\u001b[0m\u001b[0;34m\u001b[0m\u001b[0;34m\u001b[0m\u001b[0m\n\u001b[0m\u001b[1;32m   1048\u001b[0m \u001b[0;34m\u001b[0m\u001b[0m\n\u001b[1;32m   1049\u001b[0m         \u001b[0;32mif\u001b[0m \u001b[0mindex\u001b[0m \u001b[0;32mis\u001b[0m \u001b[0;32mNone\u001b[0m\u001b[0;34m:\u001b[0m\u001b[0;34m\u001b[0m\u001b[0;34m\u001b[0m\u001b[0m\n",
            "\u001b[0;32m/usr/local/lib/python3.7/dist-packages/pandas/io/parsers/c_parser_wrapper.py\u001b[0m in \u001b[0;36mread\u001b[0;34m(self, nrows)\u001b[0m\n\u001b[1;32m    222\u001b[0m         \u001b[0;32mtry\u001b[0m\u001b[0;34m:\u001b[0m\u001b[0;34m\u001b[0m\u001b[0;34m\u001b[0m\u001b[0m\n\u001b[1;32m    223\u001b[0m             \u001b[0;32mif\u001b[0m \u001b[0mself\u001b[0m\u001b[0;34m.\u001b[0m\u001b[0mlow_memory\u001b[0m\u001b[0;34m:\u001b[0m\u001b[0;34m\u001b[0m\u001b[0;34m\u001b[0m\u001b[0m\n\u001b[0;32m--> 224\u001b[0;31m                 \u001b[0mchunks\u001b[0m \u001b[0;34m=\u001b[0m \u001b[0mself\u001b[0m\u001b[0;34m.\u001b[0m\u001b[0m_reader\u001b[0m\u001b[0;34m.\u001b[0m\u001b[0mread_low_memory\u001b[0m\u001b[0;34m(\u001b[0m\u001b[0mnrows\u001b[0m\u001b[0;34m)\u001b[0m\u001b[0;34m\u001b[0m\u001b[0;34m\u001b[0m\u001b[0m\n\u001b[0m\u001b[1;32m    225\u001b[0m                 \u001b[0;31m# destructive to chunks\u001b[0m\u001b[0;34m\u001b[0m\u001b[0;34m\u001b[0m\u001b[0;34m\u001b[0m\u001b[0m\n\u001b[1;32m    226\u001b[0m                 \u001b[0mdata\u001b[0m \u001b[0;34m=\u001b[0m \u001b[0m_concatenate_chunks\u001b[0m\u001b[0;34m(\u001b[0m\u001b[0mchunks\u001b[0m\u001b[0;34m)\u001b[0m\u001b[0;34m\u001b[0m\u001b[0;34m\u001b[0m\u001b[0m\n",
            "\u001b[0;32m/usr/local/lib/python3.7/dist-packages/pandas/_libs/parsers.pyx\u001b[0m in \u001b[0;36mpandas._libs.parsers.TextReader.read_low_memory\u001b[0;34m()\u001b[0m\n",
            "\u001b[0;32m/usr/local/lib/python3.7/dist-packages/pandas/_libs/parsers.pyx\u001b[0m in \u001b[0;36mpandas._libs.parsers.TextReader._read_rows\u001b[0;34m()\u001b[0m\n",
            "\u001b[0;32m/usr/local/lib/python3.7/dist-packages/pandas/_libs/parsers.pyx\u001b[0m in \u001b[0;36mpandas._libs.parsers.TextReader._tokenize_rows\u001b[0;34m()\u001b[0m\n",
            "\u001b[0;32m/usr/local/lib/python3.7/dist-packages/pandas/_libs/parsers.pyx\u001b[0m in \u001b[0;36mpandas._libs.parsers.raise_parser_error\u001b[0;34m()\u001b[0m\n",
            "\u001b[0;31mParserError\u001b[0m: Error tokenizing data. C error: EOF inside string starting at row 2824157"
          ]
        }
      ]
    },
    {
      "cell_type": "code",
      "source": [
        "a3 = pd.read_csv(\"Persian-NER-part3.txt\", header=None, delimiter=r\"\\s+\", error_bad_lines=False, warn_bad_lines=True)"
      ],
      "metadata": {
        "colab": {
          "base_uri": "https://localhost:8080/",
          "height": 487
        },
        "id": "xlh49nmoYHJN",
        "outputId": "f04dd169-cde4-4613-f463-32bcd7740981"
      },
      "execution_count": null,
      "outputs": [
        {
          "output_type": "stream",
          "name": "stderr",
          "text": [
            "/usr/local/lib/python3.7/dist-packages/IPython/core/interactiveshell.py:2882: FutureWarning: The warn_bad_lines argument has been deprecated and will be removed in a future version.\n",
            "\n",
            "\n",
            "  exec(code_obj, self.user_global_ns, self.user_ns)\n",
            "/usr/local/lib/python3.7/dist-packages/IPython/core/interactiveshell.py:2882: FutureWarning: The error_bad_lines argument has been deprecated and will be removed in a future version.\n",
            "\n",
            "\n",
            "  exec(code_obj, self.user_global_ns, self.user_ns)\n",
            "b'Skipping line 7126: expected 2 fields, saw 3\\nSkipping line 7153: expected 2 fields, saw 3\\nSkipping line 7160: expected 2 fields, saw 3\\nSkipping line 7166: expected 2 fields, saw 3\\nSkipping line 21273: expected 2 fields, saw 3\\nSkipping line 30884: expected 2 fields, saw 3\\nSkipping line 30909: expected 2 fields, saw 3\\nSkipping line 32779: expected 2 fields, saw 3\\nSkipping line 33958: expected 2 fields, saw 3\\nSkipping line 39302: expected 2 fields, saw 3\\nSkipping line 41199: expected 2 fields, saw 3\\nSkipping line 41329: expected 2 fields, saw 3\\nSkipping line 41375: expected 2 fields, saw 3\\nSkipping line 43294: expected 2 fields, saw 3\\nSkipping line 46499: expected 2 fields, saw 3\\nSkipping line 67468: expected 2 fields, saw 3\\nSkipping line 72195: expected 2 fields, saw 3\\nSkipping line 76909: expected 2 fields, saw 3\\nSkipping line 76927: expected 2 fields, saw 4\\nSkipping line 92472: expected 2 fields, saw 3\\nSkipping line 96700: expected 2 fields, saw 3\\nSkipping line 96707: expected 2 fields, saw 3\\nSkipping line 100384: expected 2 fields, saw 3\\nSkipping line 140303: expected 2 fields, saw 3\\nSkipping line 146417: expected 2 fields, saw 3\\nSkipping line 154427: expected 2 fields, saw 3\\nSkipping line 155951: expected 2 fields, saw 3\\nSkipping line 155953: expected 2 fields, saw 3\\nSkipping line 177277: expected 2 fields, saw 3\\nSkipping line 177578: expected 2 fields, saw 3\\nSkipping line 179352: expected 2 fields, saw 4\\nSkipping line 179354: expected 2 fields, saw 4\\nSkipping line 179356: expected 2 fields, saw 4\\nSkipping line 186157: expected 2 fields, saw 3\\nSkipping line 193507: expected 2 fields, saw 3\\nSkipping line 193519: expected 2 fields, saw 3\\nSkipping line 195828: expected 2 fields, saw 3\\nSkipping line 196197: expected 2 fields, saw 3\\nSkipping line 205011: expected 2 fields, saw 3\\nSkipping line 205309: expected 2 fields, saw 4\\nSkipping line 205670: expected 2 fields, saw 3\\nSkipping line 206246: expected 2 fields, saw 3\\nSkipping line 211830: expected 2 fields, saw 3\\nSkipping line 219524: expected 2 fields, saw 3\\nSkipping line 219532: expected 2 fields, saw 3\\nSkipping line 224015: expected 2 fields, saw 3\\nSkipping line 224031: expected 2 fields, saw 3\\nSkipping line 224036: expected 2 fields, saw 3\\nSkipping line 227803: expected 2 fields, saw 3\\nSkipping line 231060: expected 2 fields, saw 3\\nSkipping line 231206: expected 2 fields, saw 3\\nSkipping line 231214: expected 2 fields, saw 3\\nSkipping line 231222: expected 2 fields, saw 3\\nSkipping line 232290: expected 2 fields, saw 4\\nSkipping line 240258: expected 2 fields, saw 3\\nSkipping line 240290: expected 2 fields, saw 3\\nSkipping line 241655: expected 2 fields, saw 3\\nSkipping line 244459: expected 2 fields, saw 3\\nSkipping line 249256: expected 2 fields, saw 3\\nSkipping line 249259: expected 2 fields, saw 3\\nSkipping line 249349: expected 2 fields, saw 3\\nSkipping line 259861: expected 2 fields, saw 3\\n'\n",
            "b'Skipping line 274539: expected 2 fields, saw 3\\nSkipping line 275512: expected 2 fields, saw 3\\nSkipping line 282815: expected 2 fields, saw 4\\nSkipping line 286163: expected 2 fields, saw 3\\nSkipping line 290846: expected 2 fields, saw 3\\nSkipping line 293361: expected 2 fields, saw 3\\nSkipping line 293856: expected 2 fields, saw 3\\nSkipping line 293887: expected 2 fields, saw 3\\nSkipping line 306860: expected 2 fields, saw 3\\nSkipping line 329034: expected 2 fields, saw 3\\nSkipping line 333545: expected 2 fields, saw 3\\nSkipping line 337478: expected 2 fields, saw 3\\nSkipping line 353593: expected 2 fields, saw 3\\nSkipping line 357143: expected 2 fields, saw 3\\nSkipping line 358686: expected 2 fields, saw 3\\nSkipping line 363660: expected 2 fields, saw 3\\nSkipping line 364224: expected 2 fields, saw 3\\nSkipping line 379093: expected 2 fields, saw 3\\nSkipping line 379968: expected 2 fields, saw 3\\nSkipping line 384893: expected 2 fields, saw 3\\nSkipping line 392561: expected 2 fields, saw 3\\nSkipping line 393514: expected 2 fields, saw 3\\nSkipping line 393523: expected 2 fields, saw 3\\nSkipping line 403613: expected 2 fields, saw 3\\nSkipping line 409516: expected 2 fields, saw 3\\nSkipping line 409598: expected 2 fields, saw 3\\nSkipping line 416203: expected 2 fields, saw 3\\nSkipping line 426220: expected 2 fields, saw 3\\nSkipping line 426233: expected 2 fields, saw 3\\nSkipping line 426255: expected 2 fields, saw 3\\nSkipping line 426272: expected 2 fields, saw 3\\nSkipping line 426297: expected 2 fields, saw 3\\nSkipping line 426324: expected 2 fields, saw 3\\nSkipping line 426348: expected 2 fields, saw 3\\nSkipping line 434811: expected 2 fields, saw 3\\nSkipping line 436051: expected 2 fields, saw 3\\nSkipping line 436753: expected 2 fields, saw 3\\nSkipping line 443182: expected 2 fields, saw 3\\nSkipping line 446824: expected 2 fields, saw 3\\nSkipping line 452126: expected 2 fields, saw 3\\nSkipping line 454168: expected 2 fields, saw 3\\nSkipping line 469624: expected 2 fields, saw 3\\nSkipping line 471140: expected 2 fields, saw 3\\nSkipping line 480538: expected 2 fields, saw 3\\nSkipping line 488824: expected 2 fields, saw 3\\nSkipping line 489574: expected 2 fields, saw 3\\nSkipping line 502517: expected 2 fields, saw 3\\nSkipping line 504920: expected 2 fields, saw 3\\nSkipping line 515694: expected 2 fields, saw 3\\nSkipping line 515937: expected 2 fields, saw 3\\nSkipping line 525155: expected 2 fields, saw 3\\nSkipping line 528663: expected 2 fields, saw 3\\n'\n",
            "b'Skipping line 544628: expected 2 fields, saw 3\\nSkipping line 555437: expected 2 fields, saw 3\\nSkipping line 560736: expected 2 fields, saw 3\\nSkipping line 560988: expected 2 fields, saw 3\\nSkipping line 561273: expected 2 fields, saw 3\\nSkipping line 568575: expected 2 fields, saw 3\\nSkipping line 573277: expected 2 fields, saw 4\\nSkipping line 607469: expected 2 fields, saw 3\\nSkipping line 607564: expected 2 fields, saw 3\\nSkipping line 607647: expected 2 fields, saw 3\\nSkipping line 607671: expected 2 fields, saw 3\\nSkipping line 617444: expected 2 fields, saw 3\\nSkipping line 643170: expected 2 fields, saw 3\\nSkipping line 673095: expected 2 fields, saw 3\\nSkipping line 673426: expected 2 fields, saw 3\\nSkipping line 673462: expected 2 fields, saw 3\\nSkipping line 679167: expected 2 fields, saw 3\\nSkipping line 682272: expected 2 fields, saw 3\\nSkipping line 689332: expected 2 fields, saw 3\\nSkipping line 691529: expected 2 fields, saw 3\\nSkipping line 700865: expected 2 fields, saw 3\\nSkipping line 701025: expected 2 fields, saw 3\\nSkipping line 701096: expected 2 fields, saw 3\\nSkipping line 705084: expected 2 fields, saw 3\\nSkipping line 705705: expected 2 fields, saw 3\\nSkipping line 709780: expected 2 fields, saw 3\\nSkipping line 716184: expected 2 fields, saw 3\\nSkipping line 718301: expected 2 fields, saw 3\\nSkipping line 722498: expected 2 fields, saw 3\\nSkipping line 728927: expected 2 fields, saw 3\\nSkipping line 737352: expected 2 fields, saw 3\\nSkipping line 742331: expected 2 fields, saw 3\\nSkipping line 742354: expected 2 fields, saw 3\\nSkipping line 750091: expected 2 fields, saw 4\\nSkipping line 750337: expected 2 fields, saw 3\\nSkipping line 752174: expected 2 fields, saw 3\\nSkipping line 760831: expected 2 fields, saw 3\\nSkipping line 789666: expected 2 fields, saw 3\\nSkipping line 792899: expected 2 fields, saw 3\\nSkipping line 794173: expected 2 fields, saw 3\\nSkipping line 795678: expected 2 fields, saw 3\\n'\n",
            "b'Skipping line 828676: expected 2 fields, saw 3\\nSkipping line 836581: expected 2 fields, saw 3\\nSkipping line 836806: expected 2 fields, saw 3\\nSkipping line 858270: expected 2 fields, saw 3\\nSkipping line 875572: expected 2 fields, saw 3\\nSkipping line 882770: expected 2 fields, saw 3\\nSkipping line 886980: expected 2 fields, saw 3\\nSkipping line 903605: expected 2 fields, saw 3\\nSkipping line 910508: expected 2 fields, saw 3\\nSkipping line 911242: expected 2 fields, saw 3\\nSkipping line 912874: expected 2 fields, saw 3\\nSkipping line 938571: expected 2 fields, saw 3\\nSkipping line 953424: expected 2 fields, saw 3\\nSkipping line 954726: expected 2 fields, saw 3\\nSkipping line 954994: expected 2 fields, saw 3\\nSkipping line 964437: expected 2 fields, saw 3\\nSkipping line 965610: expected 2 fields, saw 3\\nSkipping line 965726: expected 2 fields, saw 3\\nSkipping line 970722: expected 2 fields, saw 3\\nSkipping line 974452: expected 2 fields, saw 3\\nSkipping line 989090: expected 2 fields, saw 3\\nSkipping line 992447: expected 2 fields, saw 3\\nSkipping line 994363: expected 2 fields, saw 3\\nSkipping line 994662: expected 2 fields, saw 3\\nSkipping line 1003807: expected 2 fields, saw 3\\nSkipping line 1003828: expected 2 fields, saw 3\\nSkipping line 1011028: expected 2 fields, saw 3\\nSkipping line 1012701: expected 2 fields, saw 3\\nSkipping line 1014167: expected 2 fields, saw 3\\nSkipping line 1017838: expected 2 fields, saw 4\\nSkipping line 1030973: expected 2 fields, saw 3\\nSkipping line 1039279: expected 2 fields, saw 4\\nSkipping line 1041287: expected 2 fields, saw 4\\nSkipping line 1041792: expected 2 fields, saw 3\\nSkipping line 1057680: expected 2 fields, saw 3\\nSkipping line 1072370: expected 2 fields, saw 3\\nSkipping line 1081083: expected 2 fields, saw 3\\n'\n",
            "b'Skipping line 1093112: expected 2 fields, saw 3\\nSkipping line 1117596: expected 2 fields, saw 3\\nSkipping line 1119413: expected 2 fields, saw 3\\nSkipping line 1124091: expected 2 fields, saw 3\\nSkipping line 1127149: expected 2 fields, saw 3\\nSkipping line 1127693: expected 2 fields, saw 3\\nSkipping line 1138737: expected 2 fields, saw 3\\nSkipping line 1146270: expected 2 fields, saw 3\\nSkipping line 1146287: expected 2 fields, saw 3\\nSkipping line 1147892: expected 2 fields, saw 3\\nSkipping line 1159419: expected 2 fields, saw 3\\nSkipping line 1169276: expected 2 fields, saw 3\\nSkipping line 1169343: expected 2 fields, saw 3\\nSkipping line 1179203: expected 2 fields, saw 3\\nSkipping line 1179804: expected 2 fields, saw 3\\nSkipping line 1193927: expected 2 fields, saw 3\\nSkipping line 1199316: expected 2 fields, saw 3\\nSkipping line 1202532: expected 2 fields, saw 3\\nSkipping line 1203397: expected 2 fields, saw 3\\nSkipping line 1217797: expected 2 fields, saw 3\\nSkipping line 1218229: expected 2 fields, saw 3\\nSkipping line 1218519: expected 2 fields, saw 3\\nSkipping line 1220554: expected 2 fields, saw 4\\nSkipping line 1220557: expected 2 fields, saw 3\\nSkipping line 1220644: expected 2 fields, saw 3\\nSkipping line 1220647: expected 2 fields, saw 3\\nSkipping line 1220654: expected 2 fields, saw 3\\nSkipping line 1220664: expected 2 fields, saw 3\\nSkipping line 1222530: expected 2 fields, saw 3\\nSkipping line 1223408: expected 2 fields, saw 3\\nSkipping line 1228120: expected 2 fields, saw 3\\nSkipping line 1231710: expected 2 fields, saw 3\\nSkipping line 1232374: expected 2 fields, saw 3\\nSkipping line 1233083: expected 2 fields, saw 3\\nSkipping line 1240404: expected 2 fields, saw 3\\nSkipping line 1241470: expected 2 fields, saw 3\\nSkipping line 1242537: expected 2 fields, saw 3\\nSkipping line 1242887: expected 2 fields, saw 3\\nSkipping line 1247192: expected 2 fields, saw 3\\nSkipping line 1247558: expected 2 fields, saw 3\\nSkipping line 1248866: expected 2 fields, saw 3\\nSkipping line 1250143: expected 2 fields, saw 3\\nSkipping line 1251710: expected 2 fields, saw 3\\nSkipping line 1252350: expected 2 fields, saw 3\\nSkipping line 1252360: expected 2 fields, saw 3\\nSkipping line 1253520: expected 2 fields, saw 3\\nSkipping line 1258315: expected 2 fields, saw 3\\nSkipping line 1262392: expected 2 fields, saw 3\\nSkipping line 1264212: expected 2 fields, saw 3\\nSkipping line 1288724: expected 2 fields, saw 3\\nSkipping line 1297008: expected 2 fields, saw 3\\nSkipping line 1297587: expected 2 fields, saw 3\\nSkipping line 1303415: expected 2 fields, saw 4\\nSkipping line 1321736: expected 2 fields, saw 3\\nSkipping line 1349056: expected 2 fields, saw 3\\nSkipping line 1352840: expected 2 fields, saw 3\\nSkipping line 1356076: expected 2 fields, saw 3\\nSkipping line 1358890: expected 2 fields, saw 3\\nSkipping line 1359084: expected 2 fields, saw 3\\n'\n",
            "b'Skipping line 1370288: expected 2 fields, saw 3\\nSkipping line 1381155: expected 2 fields, saw 3\\nSkipping line 1399063: expected 2 fields, saw 3\\nSkipping line 1399140: expected 2 fields, saw 3\\nSkipping line 1414166: expected 2 fields, saw 3\\nSkipping line 1420817: expected 2 fields, saw 3\\n'\n"
          ]
        },
        {
          "output_type": "error",
          "ename": "ParserError",
          "evalue": "ignored",
          "traceback": [
            "\u001b[0;31m---------------------------------------------------------------------------\u001b[0m",
            "\u001b[0;31mParserError\u001b[0m                               Traceback (most recent call last)",
            "\u001b[0;32m<ipython-input-36-3c6e88fe11f3>\u001b[0m in \u001b[0;36m<module>\u001b[0;34m()\u001b[0m\n\u001b[0;32m----> 1\u001b[0;31m \u001b[0ma3\u001b[0m \u001b[0;34m=\u001b[0m \u001b[0mpd\u001b[0m\u001b[0;34m.\u001b[0m\u001b[0mread_csv\u001b[0m\u001b[0;34m(\u001b[0m\u001b[0;34m\"Persian-NER-part3.txt\"\u001b[0m\u001b[0;34m,\u001b[0m \u001b[0mheader\u001b[0m\u001b[0;34m=\u001b[0m\u001b[0;32mNone\u001b[0m\u001b[0;34m,\u001b[0m \u001b[0mdelimiter\u001b[0m\u001b[0;34m=\u001b[0m\u001b[0;34mr\"\\s+\"\u001b[0m\u001b[0;34m,\u001b[0m \u001b[0merror_bad_lines\u001b[0m\u001b[0;34m=\u001b[0m\u001b[0;32mFalse\u001b[0m\u001b[0;34m,\u001b[0m \u001b[0mwarn_bad_lines\u001b[0m\u001b[0;34m=\u001b[0m\u001b[0;32mTrue\u001b[0m\u001b[0;34m)\u001b[0m\u001b[0;34m\u001b[0m\u001b[0;34m\u001b[0m\u001b[0m\n\u001b[0m",
            "\u001b[0;32m/usr/local/lib/python3.7/dist-packages/pandas/util/_decorators.py\u001b[0m in \u001b[0;36mwrapper\u001b[0;34m(*args, **kwargs)\u001b[0m\n\u001b[1;32m    309\u001b[0m                     \u001b[0mstacklevel\u001b[0m\u001b[0;34m=\u001b[0m\u001b[0mstacklevel\u001b[0m\u001b[0;34m,\u001b[0m\u001b[0;34m\u001b[0m\u001b[0;34m\u001b[0m\u001b[0m\n\u001b[1;32m    310\u001b[0m                 )\n\u001b[0;32m--> 311\u001b[0;31m             \u001b[0;32mreturn\u001b[0m \u001b[0mfunc\u001b[0m\u001b[0;34m(\u001b[0m\u001b[0;34m*\u001b[0m\u001b[0margs\u001b[0m\u001b[0;34m,\u001b[0m \u001b[0;34m**\u001b[0m\u001b[0mkwargs\u001b[0m\u001b[0;34m)\u001b[0m\u001b[0;34m\u001b[0m\u001b[0;34m\u001b[0m\u001b[0m\n\u001b[0m\u001b[1;32m    312\u001b[0m \u001b[0;34m\u001b[0m\u001b[0m\n\u001b[1;32m    313\u001b[0m         \u001b[0;32mreturn\u001b[0m \u001b[0mwrapper\u001b[0m\u001b[0;34m\u001b[0m\u001b[0;34m\u001b[0m\u001b[0m\n",
            "\u001b[0;32m/usr/local/lib/python3.7/dist-packages/pandas/io/parsers/readers.py\u001b[0m in \u001b[0;36mread_csv\u001b[0;34m(filepath_or_buffer, sep, delimiter, header, names, index_col, usecols, squeeze, prefix, mangle_dupe_cols, dtype, engine, converters, true_values, false_values, skipinitialspace, skiprows, skipfooter, nrows, na_values, keep_default_na, na_filter, verbose, skip_blank_lines, parse_dates, infer_datetime_format, keep_date_col, date_parser, dayfirst, cache_dates, iterator, chunksize, compression, thousands, decimal, lineterminator, quotechar, quoting, doublequote, escapechar, comment, encoding, encoding_errors, dialect, error_bad_lines, warn_bad_lines, on_bad_lines, delim_whitespace, low_memory, memory_map, float_precision, storage_options)\u001b[0m\n\u001b[1;32m    584\u001b[0m     \u001b[0mkwds\u001b[0m\u001b[0;34m.\u001b[0m\u001b[0mupdate\u001b[0m\u001b[0;34m(\u001b[0m\u001b[0mkwds_defaults\u001b[0m\u001b[0;34m)\u001b[0m\u001b[0;34m\u001b[0m\u001b[0;34m\u001b[0m\u001b[0m\n\u001b[1;32m    585\u001b[0m \u001b[0;34m\u001b[0m\u001b[0m\n\u001b[0;32m--> 586\u001b[0;31m     \u001b[0;32mreturn\u001b[0m \u001b[0m_read\u001b[0m\u001b[0;34m(\u001b[0m\u001b[0mfilepath_or_buffer\u001b[0m\u001b[0;34m,\u001b[0m \u001b[0mkwds\u001b[0m\u001b[0;34m)\u001b[0m\u001b[0;34m\u001b[0m\u001b[0;34m\u001b[0m\u001b[0m\n\u001b[0m\u001b[1;32m    587\u001b[0m \u001b[0;34m\u001b[0m\u001b[0m\n\u001b[1;32m    588\u001b[0m \u001b[0;34m\u001b[0m\u001b[0m\n",
            "\u001b[0;32m/usr/local/lib/python3.7/dist-packages/pandas/io/parsers/readers.py\u001b[0m in \u001b[0;36m_read\u001b[0;34m(filepath_or_buffer, kwds)\u001b[0m\n\u001b[1;32m    486\u001b[0m \u001b[0;34m\u001b[0m\u001b[0m\n\u001b[1;32m    487\u001b[0m     \u001b[0;32mwith\u001b[0m \u001b[0mparser\u001b[0m\u001b[0;34m:\u001b[0m\u001b[0;34m\u001b[0m\u001b[0;34m\u001b[0m\u001b[0m\n\u001b[0;32m--> 488\u001b[0;31m         \u001b[0;32mreturn\u001b[0m \u001b[0mparser\u001b[0m\u001b[0;34m.\u001b[0m\u001b[0mread\u001b[0m\u001b[0;34m(\u001b[0m\u001b[0mnrows\u001b[0m\u001b[0;34m)\u001b[0m\u001b[0;34m\u001b[0m\u001b[0;34m\u001b[0m\u001b[0m\n\u001b[0m\u001b[1;32m    489\u001b[0m \u001b[0;34m\u001b[0m\u001b[0m\n\u001b[1;32m    490\u001b[0m \u001b[0;34m\u001b[0m\u001b[0m\n",
            "\u001b[0;32m/usr/local/lib/python3.7/dist-packages/pandas/io/parsers/readers.py\u001b[0m in \u001b[0;36mread\u001b[0;34m(self, nrows)\u001b[0m\n\u001b[1;32m   1045\u001b[0m     \u001b[0;32mdef\u001b[0m \u001b[0mread\u001b[0m\u001b[0;34m(\u001b[0m\u001b[0mself\u001b[0m\u001b[0;34m,\u001b[0m \u001b[0mnrows\u001b[0m\u001b[0;34m=\u001b[0m\u001b[0;32mNone\u001b[0m\u001b[0;34m)\u001b[0m\u001b[0;34m:\u001b[0m\u001b[0;34m\u001b[0m\u001b[0;34m\u001b[0m\u001b[0m\n\u001b[1;32m   1046\u001b[0m         \u001b[0mnrows\u001b[0m \u001b[0;34m=\u001b[0m \u001b[0mvalidate_integer\u001b[0m\u001b[0;34m(\u001b[0m\u001b[0;34m\"nrows\"\u001b[0m\u001b[0;34m,\u001b[0m \u001b[0mnrows\u001b[0m\u001b[0;34m)\u001b[0m\u001b[0;34m\u001b[0m\u001b[0;34m\u001b[0m\u001b[0m\n\u001b[0;32m-> 1047\u001b[0;31m         \u001b[0mindex\u001b[0m\u001b[0;34m,\u001b[0m \u001b[0mcolumns\u001b[0m\u001b[0;34m,\u001b[0m \u001b[0mcol_dict\u001b[0m \u001b[0;34m=\u001b[0m \u001b[0mself\u001b[0m\u001b[0;34m.\u001b[0m\u001b[0m_engine\u001b[0m\u001b[0;34m.\u001b[0m\u001b[0mread\u001b[0m\u001b[0;34m(\u001b[0m\u001b[0mnrows\u001b[0m\u001b[0;34m)\u001b[0m\u001b[0;34m\u001b[0m\u001b[0;34m\u001b[0m\u001b[0m\n\u001b[0m\u001b[1;32m   1048\u001b[0m \u001b[0;34m\u001b[0m\u001b[0m\n\u001b[1;32m   1049\u001b[0m         \u001b[0;32mif\u001b[0m \u001b[0mindex\u001b[0m \u001b[0;32mis\u001b[0m \u001b[0;32mNone\u001b[0m\u001b[0;34m:\u001b[0m\u001b[0;34m\u001b[0m\u001b[0;34m\u001b[0m\u001b[0m\n",
            "\u001b[0;32m/usr/local/lib/python3.7/dist-packages/pandas/io/parsers/c_parser_wrapper.py\u001b[0m in \u001b[0;36mread\u001b[0;34m(self, nrows)\u001b[0m\n\u001b[1;32m    222\u001b[0m         \u001b[0;32mtry\u001b[0m\u001b[0;34m:\u001b[0m\u001b[0;34m\u001b[0m\u001b[0;34m\u001b[0m\u001b[0m\n\u001b[1;32m    223\u001b[0m             \u001b[0;32mif\u001b[0m \u001b[0mself\u001b[0m\u001b[0;34m.\u001b[0m\u001b[0mlow_memory\u001b[0m\u001b[0;34m:\u001b[0m\u001b[0;34m\u001b[0m\u001b[0;34m\u001b[0m\u001b[0m\n\u001b[0;32m--> 224\u001b[0;31m                 \u001b[0mchunks\u001b[0m \u001b[0;34m=\u001b[0m \u001b[0mself\u001b[0m\u001b[0;34m.\u001b[0m\u001b[0m_reader\u001b[0m\u001b[0;34m.\u001b[0m\u001b[0mread_low_memory\u001b[0m\u001b[0;34m(\u001b[0m\u001b[0mnrows\u001b[0m\u001b[0;34m)\u001b[0m\u001b[0;34m\u001b[0m\u001b[0;34m\u001b[0m\u001b[0m\n\u001b[0m\u001b[1;32m    225\u001b[0m                 \u001b[0;31m# destructive to chunks\u001b[0m\u001b[0;34m\u001b[0m\u001b[0;34m\u001b[0m\u001b[0;34m\u001b[0m\u001b[0m\n\u001b[1;32m    226\u001b[0m                 \u001b[0mdata\u001b[0m \u001b[0;34m=\u001b[0m \u001b[0m_concatenate_chunks\u001b[0m\u001b[0;34m(\u001b[0m\u001b[0mchunks\u001b[0m\u001b[0;34m)\u001b[0m\u001b[0;34m\u001b[0m\u001b[0;34m\u001b[0m\u001b[0m\n",
            "\u001b[0;32m/usr/local/lib/python3.7/dist-packages/pandas/_libs/parsers.pyx\u001b[0m in \u001b[0;36mpandas._libs.parsers.TextReader.read_low_memory\u001b[0;34m()\u001b[0m\n",
            "\u001b[0;32m/usr/local/lib/python3.7/dist-packages/pandas/_libs/parsers.pyx\u001b[0m in \u001b[0;36mpandas._libs.parsers.TextReader._read_rows\u001b[0;34m()\u001b[0m\n",
            "\u001b[0;32m/usr/local/lib/python3.7/dist-packages/pandas/_libs/parsers.pyx\u001b[0m in \u001b[0;36mpandas._libs.parsers.TextReader._tokenize_rows\u001b[0;34m()\u001b[0m\n",
            "\u001b[0;32m/usr/local/lib/python3.7/dist-packages/pandas/_libs/parsers.pyx\u001b[0m in \u001b[0;36mpandas._libs.parsers.raise_parser_error\u001b[0;34m()\u001b[0m\n",
            "\u001b[0;31mParserError\u001b[0m: Error tokenizing data. C error: EOF inside string starting at row 1422958"
          ]
        }
      ]
    },
    {
      "cell_type": "code",
      "source": [
        "a1 = pd.read_csv(\"Persian-NER-part1.txt\", header=None, delimiter=r\"\\s+\", error_bad_lines=False, warn_bad_lines=True)"
      ],
      "metadata": {
        "colab": {
          "base_uri": "https://localhost:8080/",
          "height": 469
        },
        "id": "6Qwigx3SYauB",
        "outputId": "3e0dcbbc-e53f-4675-cf0e-f6f8c4f21f6c"
      },
      "execution_count": null,
      "outputs": [
        {
          "output_type": "stream",
          "name": "stderr",
          "text": [
            "/usr/local/lib/python3.7/dist-packages/IPython/core/interactiveshell.py:2882: FutureWarning: The warn_bad_lines argument has been deprecated and will be removed in a future version.\n",
            "\n",
            "\n",
            "  exec(code_obj, self.user_global_ns, self.user_ns)\n",
            "/usr/local/lib/python3.7/dist-packages/IPython/core/interactiveshell.py:2882: FutureWarning: The error_bad_lines argument has been deprecated and will be removed in a future version.\n",
            "\n",
            "\n",
            "  exec(code_obj, self.user_global_ns, self.user_ns)\n",
            "b'Skipping line 2138: expected 2 fields, saw 3\\nSkipping line 2494: expected 2 fields, saw 3\\nSkipping line 25023: expected 2 fields, saw 3\\nSkipping line 27666: expected 2 fields, saw 3\\nSkipping line 32611: expected 2 fields, saw 3\\nSkipping line 34666: expected 2 fields, saw 3\\nSkipping line 38343: expected 2 fields, saw 3\\nSkipping line 38407: expected 2 fields, saw 3\\nSkipping line 67426: expected 2 fields, saw 3\\nSkipping line 68058: expected 2 fields, saw 3\\nSkipping line 72344: expected 2 fields, saw 3\\nSkipping line 99380: expected 2 fields, saw 3\\nSkipping line 106708: expected 2 fields, saw 3\\nSkipping line 122867: expected 2 fields, saw 3\\nSkipping line 135521: expected 2 fields, saw 3\\nSkipping line 135812: expected 2 fields, saw 3\\nSkipping line 149926: expected 2 fields, saw 3\\nSkipping line 149948: expected 2 fields, saw 3\\nSkipping line 167669: expected 2 fields, saw 3\\nSkipping line 167908: expected 2 fields, saw 3\\nSkipping line 168395: expected 2 fields, saw 3\\nSkipping line 173857: expected 2 fields, saw 3\\nSkipping line 173958: expected 2 fields, saw 3\\nSkipping line 186366: expected 2 fields, saw 3\\nSkipping line 186370: expected 2 fields, saw 3\\nSkipping line 187257: expected 2 fields, saw 3\\nSkipping line 206857: expected 2 fields, saw 3\\nSkipping line 209729: expected 2 fields, saw 3\\nSkipping line 222021: expected 2 fields, saw 3\\nSkipping line 222036: expected 2 fields, saw 3\\nSkipping line 222038: expected 2 fields, saw 3\\nSkipping line 231107: expected 2 fields, saw 3\\nSkipping line 233201: expected 2 fields, saw 3\\nSkipping line 242697: expected 2 fields, saw 3\\nSkipping line 252593: expected 2 fields, saw 3\\nSkipping line 252599: expected 2 fields, saw 3\\nSkipping line 261069: expected 2 fields, saw 3\\nSkipping line 261561: expected 2 fields, saw 3\\nSkipping line 261582: expected 2 fields, saw 3\\nSkipping line 261873: expected 2 fields, saw 3\\nSkipping line 263764: expected 2 fields, saw 3\\nSkipping line 268578: expected 2 fields, saw 3\\n'\n",
            "b'Skipping line 289828: expected 2 fields, saw 3\\nSkipping line 289834: expected 2 fields, saw 3\\nSkipping line 289961: expected 2 fields, saw 3\\nSkipping line 289995: expected 2 fields, saw 3\\nSkipping line 290001: expected 2 fields, saw 3\\nSkipping line 290108: expected 2 fields, saw 3\\nSkipping line 290114: expected 2 fields, saw 3\\nSkipping line 290322: expected 2 fields, saw 3\\nSkipping line 290328: expected 2 fields, saw 3\\nSkipping line 290460: expected 2 fields, saw 3\\nSkipping line 290466: expected 2 fields, saw 3\\nSkipping line 290545: expected 2 fields, saw 3\\nSkipping line 290619: expected 2 fields, saw 3\\nSkipping line 290625: expected 2 fields, saw 3\\nSkipping line 290776: expected 2 fields, saw 3\\nSkipping line 290782: expected 2 fields, saw 3\\nSkipping line 290895: expected 2 fields, saw 3\\nSkipping line 290901: expected 2 fields, saw 3\\nSkipping line 291003: expected 2 fields, saw 3\\nSkipping line 291009: expected 2 fields, saw 3\\nSkipping line 291097: expected 2 fields, saw 3\\nSkipping line 291131: expected 2 fields, saw 3\\nSkipping line 291137: expected 2 fields, saw 3\\nSkipping line 291257: expected 2 fields, saw 3\\nSkipping line 291263: expected 2 fields, saw 3\\nSkipping line 291394: expected 2 fields, saw 3\\nSkipping line 291400: expected 2 fields, saw 3\\nSkipping line 291538: expected 2 fields, saw 3\\nSkipping line 291572: expected 2 fields, saw 3\\nSkipping line 291578: expected 2 fields, saw 3\\nSkipping line 291680: expected 2 fields, saw 3\\nSkipping line 291686: expected 2 fields, saw 3\\nSkipping line 291754: expected 2 fields, saw 3\\nSkipping line 291788: expected 2 fields, saw 3\\nSkipping line 291794: expected 2 fields, saw 3\\nSkipping line 291923: expected 2 fields, saw 3\\nSkipping line 291929: expected 2 fields, saw 3\\nSkipping line 292062: expected 2 fields, saw 3\\nSkipping line 292096: expected 2 fields, saw 3\\nSkipping line 292102: expected 2 fields, saw 3\\nSkipping line 292180: expected 2 fields, saw 3\\nSkipping line 292186: expected 2 fields, saw 3\\nSkipping line 292368: expected 2 fields, saw 3\\nSkipping line 292402: expected 2 fields, saw 3\\nSkipping line 292408: expected 2 fields, saw 3\\nSkipping line 292982: expected 2 fields, saw 3\\nSkipping line 292988: expected 2 fields, saw 3\\nSkipping line 293268: expected 2 fields, saw 3\\nSkipping line 293274: expected 2 fields, saw 3\\nSkipping line 296171: expected 2 fields, saw 3\\nSkipping line 296537: expected 2 fields, saw 3\\nSkipping line 296543: expected 2 fields, saw 3\\nSkipping line 296693: expected 2 fields, saw 3\\nSkipping line 296699: expected 2 fields, saw 3\\nSkipping line 303743: expected 2 fields, saw 3\\nSkipping line 303749: expected 2 fields, saw 3\\nSkipping line 303963: expected 2 fields, saw 3\\nSkipping line 303997: expected 2 fields, saw 3\\nSkipping line 304003: expected 2 fields, saw 3\\nSkipping line 313891: expected 2 fields, saw 3\\nSkipping line 313897: expected 2 fields, saw 3\\nSkipping line 314634: expected 2 fields, saw 3\\nSkipping line 314640: expected 2 fields, saw 3\\nSkipping line 314978: expected 2 fields, saw 3\\nSkipping line 314984: expected 2 fields, saw 3\\nSkipping line 321520: expected 2 fields, saw 3\\nSkipping line 326199: expected 2 fields, saw 3\\nSkipping line 326205: expected 2 fields, saw 3\\nSkipping line 326373: expected 2 fields, saw 3\\nSkipping line 326379: expected 2 fields, saw 3\\nSkipping line 329390: expected 2 fields, saw 3\\nSkipping line 329917: expected 2 fields, saw 3\\nSkipping line 329923: expected 2 fields, saw 3\\nSkipping line 330087: expected 2 fields, saw 3\\nSkipping line 330121: expected 2 fields, saw 3\\nSkipping line 330127: expected 2 fields, saw 3\\nSkipping line 341874: expected 2 fields, saw 4\\nSkipping line 345245: expected 2 fields, saw 3\\nSkipping line 345251: expected 2 fields, saw 3\\nSkipping line 350301: expected 2 fields, saw 4\\nSkipping line 352934: expected 2 fields, saw 3\\nSkipping line 384572: expected 2 fields, saw 3\\nSkipping line 384578: expected 2 fields, saw 3\\nSkipping line 386847: expected 2 fields, saw 3\\nSkipping line 389528: expected 2 fields, saw 3\\nSkipping line 396908: expected 2 fields, saw 3\\nSkipping line 397246: expected 2 fields, saw 3\\nSkipping line 402275: expected 2 fields, saw 3\\nSkipping line 433838: expected 2 fields, saw 3\\nSkipping line 434076: expected 2 fields, saw 3\\nSkipping line 457114: expected 2 fields, saw 3\\nSkipping line 457117: expected 2 fields, saw 3\\nSkipping line 457571: expected 2 fields, saw 3\\nSkipping line 457738: expected 2 fields, saw 4\\nSkipping line 458362: expected 2 fields, saw 3\\nSkipping line 463017: expected 2 fields, saw 3\\nSkipping line 480456: expected 2 fields, saw 3\\nSkipping line 484097: expected 2 fields, saw 3\\nSkipping line 498248: expected 2 fields, saw 4\\nSkipping line 508179: expected 2 fields, saw 5\\nSkipping line 509600: expected 2 fields, saw 3\\nSkipping line 518507: expected 2 fields, saw 3\\nSkipping line 518513: expected 2 fields, saw 3\\nSkipping line 518834: expected 2 fields, saw 3\\nSkipping line 518840: expected 2 fields, saw 3\\nSkipping line 519136: expected 2 fields, saw 3\\nSkipping line 519142: expected 2 fields, saw 3\\nSkipping line 519294: expected 2 fields, saw 3\\nSkipping line 519300: expected 2 fields, saw 3\\nSkipping line 521577: expected 2 fields, saw 3\\nSkipping line 521589: expected 2 fields, saw 3\\nSkipping line 527072: expected 2 fields, saw 3\\nSkipping line 529435: expected 2 fields, saw 3\\nSkipping line 529441: expected 2 fields, saw 3\\nSkipping line 532271: expected 2 fields, saw 3\\nSkipping line 532842: expected 2 fields, saw 3\\nSkipping line 532848: expected 2 fields, saw 3\\nSkipping line 533000: expected 2 fields, saw 3\\nSkipping line 533006: expected 2 fields, saw 3\\nSkipping line 533202: expected 2 fields, saw 3\\n'\n",
            "b'Skipping line 550792: expected 2 fields, saw 3\\nSkipping line 550798: expected 2 fields, saw 3\\nSkipping line 551189: expected 2 fields, saw 3\\nSkipping line 551195: expected 2 fields, saw 3\\nSkipping line 551263: expected 2 fields, saw 3\\nSkipping line 551300: expected 2 fields, saw 3\\nSkipping line 565595: expected 2 fields, saw 3\\nSkipping line 565601: expected 2 fields, saw 3\\nSkipping line 570782: expected 2 fields, saw 3\\nSkipping line 584508: expected 2 fields, saw 3\\nSkipping line 588334: expected 2 fields, saw 3\\nSkipping line 590593: expected 2 fields, saw 3\\nSkipping line 590599: expected 2 fields, saw 3\\nSkipping line 590749: expected 2 fields, saw 3\\nSkipping line 590814: expected 2 fields, saw 3\\nSkipping line 593352: expected 2 fields, saw 3\\nSkipping line 593358: expected 2 fields, saw 3\\nSkipping line 593582: expected 2 fields, saw 3\\nSkipping line 593889: expected 2 fields, saw 3\\nSkipping line 593895: expected 2 fields, saw 3\\nSkipping line 594099: expected 2 fields, saw 3\\nSkipping line 594105: expected 2 fields, saw 3\\nSkipping line 602205: expected 2 fields, saw 3\\nSkipping line 606588: expected 2 fields, saw 3\\nSkipping line 614068: expected 2 fields, saw 3\\nSkipping line 615321: expected 2 fields, saw 3\\nSkipping line 620701: expected 2 fields, saw 3\\nSkipping line 628926: expected 2 fields, saw 3\\nSkipping line 630292: expected 2 fields, saw 3\\nSkipping line 630298: expected 2 fields, saw 3\\nSkipping line 630499: expected 2 fields, saw 3\\nSkipping line 630502: expected 2 fields, saw 3\\nSkipping line 630597: expected 2 fields, saw 3\\nSkipping line 630651: expected 2 fields, saw 3\\nSkipping line 630654: expected 2 fields, saw 3\\nSkipping line 632683: expected 2 fields, saw 3\\nSkipping line 633891: expected 2 fields, saw 3\\nSkipping line 633897: expected 2 fields, saw 3\\nSkipping line 635248: expected 2 fields, saw 3\\nSkipping line 635254: expected 2 fields, saw 3\\nSkipping line 635476: expected 2 fields, saw 3\\nSkipping line 635510: expected 2 fields, saw 3\\nSkipping line 635516: expected 2 fields, saw 3\\nSkipping line 640456: expected 2 fields, saw 3\\nSkipping line 640462: expected 2 fields, saw 3\\nSkipping line 640683: expected 2 fields, saw 3\\nSkipping line 640689: expected 2 fields, saw 3\\nSkipping line 640849: expected 2 fields, saw 3\\nSkipping line 640855: expected 2 fields, saw 3\\nSkipping line 641041: expected 2 fields, saw 3\\nSkipping line 641047: expected 2 fields, saw 3\\nSkipping line 641358: expected 2 fields, saw 3\\nSkipping line 642716: expected 2 fields, saw 3\\nSkipping line 646252: expected 2 fields, saw 3\\nSkipping line 647520: expected 2 fields, saw 3\\nSkipping line 649722: expected 2 fields, saw 3\\nSkipping line 649835: expected 2 fields, saw 3\\nSkipping line 649841: expected 2 fields, saw 3\\nSkipping line 649958: expected 2 fields, saw 3\\nSkipping line 650091: expected 2 fields, saw 3\\nSkipping line 650097: expected 2 fields, saw 3\\nSkipping line 654015: expected 2 fields, saw 3\\nSkipping line 654021: expected 2 fields, saw 3\\nSkipping line 654205: expected 2 fields, saw 3\\nSkipping line 654367: expected 2 fields, saw 3\\nSkipping line 654373: expected 2 fields, saw 3\\nSkipping line 654655: expected 2 fields, saw 3\\nSkipping line 654661: expected 2 fields, saw 3\\nSkipping line 654989: expected 2 fields, saw 3\\nSkipping line 654995: expected 2 fields, saw 3\\nSkipping line 655258: expected 2 fields, saw 3\\nSkipping line 655264: expected 2 fields, saw 3\\nSkipping line 656416: expected 2 fields, saw 3\\nSkipping line 656422: expected 2 fields, saw 3\\nSkipping line 656702: expected 2 fields, saw 3\\nSkipping line 656708: expected 2 fields, saw 3\\nSkipping line 658141: expected 2 fields, saw 3\\nSkipping line 662692: expected 2 fields, saw 4\\nSkipping line 664708: expected 2 fields, saw 3\\nSkipping line 675201: expected 2 fields, saw 3\\nSkipping line 677090: expected 2 fields, saw 3\\nSkipping line 677409: expected 2 fields, saw 3\\nSkipping line 694118: expected 2 fields, saw 3\\nSkipping line 718860: expected 2 fields, saw 3\\nSkipping line 720395: expected 2 fields, saw 3\\nSkipping line 727268: expected 2 fields, saw 3\\nSkipping line 727274: expected 2 fields, saw 3\\nSkipping line 727383: expected 2 fields, saw 3\\nSkipping line 727389: expected 2 fields, saw 3\\nSkipping line 727491: expected 2 fields, saw 3\\nSkipping line 727497: expected 2 fields, saw 3\\nSkipping line 727552: expected 2 fields, saw 3\\nSkipping line 727558: expected 2 fields, saw 3\\nSkipping line 731429: expected 2 fields, saw 3\\nSkipping line 734385: expected 2 fields, saw 3\\nSkipping line 734391: expected 2 fields, saw 3\\nSkipping line 741495: expected 2 fields, saw 3\\nSkipping line 741501: expected 2 fields, saw 3\\nSkipping line 741656: expected 2 fields, saw 3\\nSkipping line 741662: expected 2 fields, saw 3\\nSkipping line 742127: expected 2 fields, saw 3\\nSkipping line 742216: expected 2 fields, saw 3\\nSkipping line 753298: expected 2 fields, saw 3\\nSkipping line 755141: expected 2 fields, saw 3\\nSkipping line 755543: expected 2 fields, saw 4\\nSkipping line 756047: expected 2 fields, saw 3\\nSkipping line 765739: expected 2 fields, saw 3\\nSkipping line 773875: expected 2 fields, saw 3\\nSkipping line 773881: expected 2 fields, saw 3\\nSkipping line 774120: expected 2 fields, saw 3\\nSkipping line 774126: expected 2 fields, saw 3\\nSkipping line 786306: expected 2 fields, saw 3\\nSkipping line 789603: expected 2 fields, saw 3\\nSkipping line 792268: expected 2 fields, saw 3\\nSkipping line 792288: expected 2 fields, saw 3\\nSkipping line 792322: expected 2 fields, saw 3\\nSkipping line 792325: expected 2 fields, saw 3\\nSkipping line 792342: expected 2 fields, saw 3\\nSkipping line 792348: expected 2 fields, saw 3\\nSkipping line 809037: expected 2 fields, saw 3\\nSkipping line 809067: expected 2 fields, saw 3\\n'\n",
            "b'Skipping line 817749: expected 2 fields, saw 3\\nSkipping line 823532: expected 2 fields, saw 3\\nSkipping line 849388: expected 2 fields, saw 4\\nSkipping line 853002: expected 2 fields, saw 3\\nSkipping line 863024: expected 2 fields, saw 3\\nSkipping line 876723: expected 2 fields, saw 3\\nSkipping line 883762: expected 2 fields, saw 4\\nSkipping line 911506: expected 2 fields, saw 3\\nSkipping line 914690: expected 2 fields, saw 3\\nSkipping line 943409: expected 2 fields, saw 3\\nSkipping line 950694: expected 2 fields, saw 4\\nSkipping line 950895: expected 2 fields, saw 3\\nSkipping line 955477: expected 2 fields, saw 3\\nSkipping line 955480: expected 2 fields, saw 4\\nSkipping line 975250: expected 2 fields, saw 4\\nSkipping line 976069: expected 2 fields, saw 3\\nSkipping line 993301: expected 2 fields, saw 3\\nSkipping line 1001423: expected 2 fields, saw 3\\nSkipping line 1062908: expected 2 fields, saw 3\\nSkipping line 1066819: expected 2 fields, saw 3\\nSkipping line 1070203: expected 2 fields, saw 3\\nSkipping line 1080460: expected 2 fields, saw 3\\nSkipping line 1080842: expected 2 fields, saw 3\\nSkipping line 1080848: expected 2 fields, saw 3\\nSkipping line 1083863: expected 2 fields, saw 3\\nSkipping line 1088122: expected 2 fields, saw 6\\n'\n",
            "b'Skipping line 1090668: expected 2 fields, saw 3\\nSkipping line 1092091: expected 2 fields, saw 3\\nSkipping line 1098687: expected 2 fields, saw 3\\nSkipping line 1099164: expected 2 fields, saw 3\\nSkipping line 1114777: expected 2 fields, saw 3\\nSkipping line 1114796: expected 2 fields, saw 3\\nSkipping line 1114802: expected 2 fields, saw 3\\nSkipping line 1117048: expected 2 fields, saw 3\\nSkipping line 1120003: expected 2 fields, saw 3\\nSkipping line 1125104: expected 2 fields, saw 3\\nSkipping line 1130383: expected 2 fields, saw 3\\nSkipping line 1133444: expected 2 fields, saw 3\\nSkipping line 1143994: expected 2 fields, saw 3\\nSkipping line 1144000: expected 2 fields, saw 3\\nSkipping line 1150947: expected 2 fields, saw 3\\nSkipping line 1158458: expected 2 fields, saw 3\\nSkipping line 1173295: expected 2 fields, saw 3\\nSkipping line 1180026: expected 2 fields, saw 3\\nSkipping line 1188231: expected 2 fields, saw 3\\nSkipping line 1188237: expected 2 fields, saw 3\\nSkipping line 1188746: expected 2 fields, saw 3\\nSkipping line 1188752: expected 2 fields, saw 3\\nSkipping line 1202223: expected 2 fields, saw 3\\nSkipping line 1215642: expected 2 fields, saw 3\\nSkipping line 1223886: expected 2 fields, saw 3\\nSkipping line 1225857: expected 2 fields, saw 3\\nSkipping line 1225863: expected 2 fields, saw 3\\nSkipping line 1235438: expected 2 fields, saw 3\\nSkipping line 1237842: expected 2 fields, saw 3\\nSkipping line 1239737: expected 2 fields, saw 3\\nSkipping line 1239739: expected 2 fields, saw 3\\nSkipping line 1242036: expected 2 fields, saw 3\\nSkipping line 1254090: expected 2 fields, saw 3\\nSkipping line 1260720: expected 2 fields, saw 3\\nSkipping line 1288467: expected 2 fields, saw 4\\nSkipping line 1293580: expected 2 fields, saw 3\\nSkipping line 1313100: expected 2 fields, saw 3\\nSkipping line 1316706: expected 2 fields, saw 3\\nSkipping line 1316724: expected 2 fields, saw 3\\nSkipping line 1316752: expected 2 fields, saw 3\\nSkipping line 1316766: expected 2 fields, saw 3\\nSkipping line 1316781: expected 2 fields, saw 3\\nSkipping line 1316996: expected 2 fields, saw 3\\nSkipping line 1317020: expected 2 fields, saw 3\\nSkipping line 1317060: expected 2 fields, saw 3\\nSkipping line 1317108: expected 2 fields, saw 3\\nSkipping line 1317121: expected 2 fields, saw 3\\nSkipping line 1317158: expected 2 fields, saw 3\\nSkipping line 1318122: expected 2 fields, saw 3\\n'\n"
          ]
        },
        {
          "output_type": "error",
          "ename": "ParserError",
          "evalue": "ignored",
          "traceback": [
            "\u001b[0;31m---------------------------------------------------------------------------\u001b[0m",
            "\u001b[0;31mParserError\u001b[0m                               Traceback (most recent call last)",
            "\u001b[0;32m<ipython-input-37-8facc76c99ac>\u001b[0m in \u001b[0;36m<module>\u001b[0;34m()\u001b[0m\n\u001b[0;32m----> 1\u001b[0;31m \u001b[0ma1\u001b[0m \u001b[0;34m=\u001b[0m \u001b[0mpd\u001b[0m\u001b[0;34m.\u001b[0m\u001b[0mread_csv\u001b[0m\u001b[0;34m(\u001b[0m\u001b[0;34m\"Persian-NER-part1.txt\"\u001b[0m\u001b[0;34m,\u001b[0m \u001b[0mheader\u001b[0m\u001b[0;34m=\u001b[0m\u001b[0;32mNone\u001b[0m\u001b[0;34m,\u001b[0m \u001b[0mdelimiter\u001b[0m\u001b[0;34m=\u001b[0m\u001b[0;34mr\"\\s+\"\u001b[0m\u001b[0;34m,\u001b[0m \u001b[0merror_bad_lines\u001b[0m\u001b[0;34m=\u001b[0m\u001b[0;32mFalse\u001b[0m\u001b[0;34m,\u001b[0m \u001b[0mwarn_bad_lines\u001b[0m\u001b[0;34m=\u001b[0m\u001b[0;32mTrue\u001b[0m\u001b[0;34m)\u001b[0m\u001b[0;34m\u001b[0m\u001b[0;34m\u001b[0m\u001b[0m\n\u001b[0m",
            "\u001b[0;32m/usr/local/lib/python3.7/dist-packages/pandas/util/_decorators.py\u001b[0m in \u001b[0;36mwrapper\u001b[0;34m(*args, **kwargs)\u001b[0m\n\u001b[1;32m    309\u001b[0m                     \u001b[0mstacklevel\u001b[0m\u001b[0;34m=\u001b[0m\u001b[0mstacklevel\u001b[0m\u001b[0;34m,\u001b[0m\u001b[0;34m\u001b[0m\u001b[0;34m\u001b[0m\u001b[0m\n\u001b[1;32m    310\u001b[0m                 )\n\u001b[0;32m--> 311\u001b[0;31m             \u001b[0;32mreturn\u001b[0m \u001b[0mfunc\u001b[0m\u001b[0;34m(\u001b[0m\u001b[0;34m*\u001b[0m\u001b[0margs\u001b[0m\u001b[0;34m,\u001b[0m \u001b[0;34m**\u001b[0m\u001b[0mkwargs\u001b[0m\u001b[0;34m)\u001b[0m\u001b[0;34m\u001b[0m\u001b[0;34m\u001b[0m\u001b[0m\n\u001b[0m\u001b[1;32m    312\u001b[0m \u001b[0;34m\u001b[0m\u001b[0m\n\u001b[1;32m    313\u001b[0m         \u001b[0;32mreturn\u001b[0m \u001b[0mwrapper\u001b[0m\u001b[0;34m\u001b[0m\u001b[0;34m\u001b[0m\u001b[0m\n",
            "\u001b[0;32m/usr/local/lib/python3.7/dist-packages/pandas/io/parsers/readers.py\u001b[0m in \u001b[0;36mread_csv\u001b[0;34m(filepath_or_buffer, sep, delimiter, header, names, index_col, usecols, squeeze, prefix, mangle_dupe_cols, dtype, engine, converters, true_values, false_values, skipinitialspace, skiprows, skipfooter, nrows, na_values, keep_default_na, na_filter, verbose, skip_blank_lines, parse_dates, infer_datetime_format, keep_date_col, date_parser, dayfirst, cache_dates, iterator, chunksize, compression, thousands, decimal, lineterminator, quotechar, quoting, doublequote, escapechar, comment, encoding, encoding_errors, dialect, error_bad_lines, warn_bad_lines, on_bad_lines, delim_whitespace, low_memory, memory_map, float_precision, storage_options)\u001b[0m\n\u001b[1;32m    584\u001b[0m     \u001b[0mkwds\u001b[0m\u001b[0;34m.\u001b[0m\u001b[0mupdate\u001b[0m\u001b[0;34m(\u001b[0m\u001b[0mkwds_defaults\u001b[0m\u001b[0;34m)\u001b[0m\u001b[0;34m\u001b[0m\u001b[0;34m\u001b[0m\u001b[0m\n\u001b[1;32m    585\u001b[0m \u001b[0;34m\u001b[0m\u001b[0m\n\u001b[0;32m--> 586\u001b[0;31m     \u001b[0;32mreturn\u001b[0m \u001b[0m_read\u001b[0m\u001b[0;34m(\u001b[0m\u001b[0mfilepath_or_buffer\u001b[0m\u001b[0;34m,\u001b[0m \u001b[0mkwds\u001b[0m\u001b[0;34m)\u001b[0m\u001b[0;34m\u001b[0m\u001b[0;34m\u001b[0m\u001b[0m\n\u001b[0m\u001b[1;32m    587\u001b[0m \u001b[0;34m\u001b[0m\u001b[0m\n\u001b[1;32m    588\u001b[0m \u001b[0;34m\u001b[0m\u001b[0m\n",
            "\u001b[0;32m/usr/local/lib/python3.7/dist-packages/pandas/io/parsers/readers.py\u001b[0m in \u001b[0;36m_read\u001b[0;34m(filepath_or_buffer, kwds)\u001b[0m\n\u001b[1;32m    486\u001b[0m \u001b[0;34m\u001b[0m\u001b[0m\n\u001b[1;32m    487\u001b[0m     \u001b[0;32mwith\u001b[0m \u001b[0mparser\u001b[0m\u001b[0;34m:\u001b[0m\u001b[0;34m\u001b[0m\u001b[0;34m\u001b[0m\u001b[0m\n\u001b[0;32m--> 488\u001b[0;31m         \u001b[0;32mreturn\u001b[0m \u001b[0mparser\u001b[0m\u001b[0;34m.\u001b[0m\u001b[0mread\u001b[0m\u001b[0;34m(\u001b[0m\u001b[0mnrows\u001b[0m\u001b[0;34m)\u001b[0m\u001b[0;34m\u001b[0m\u001b[0;34m\u001b[0m\u001b[0m\n\u001b[0m\u001b[1;32m    489\u001b[0m \u001b[0;34m\u001b[0m\u001b[0m\n\u001b[1;32m    490\u001b[0m \u001b[0;34m\u001b[0m\u001b[0m\n",
            "\u001b[0;32m/usr/local/lib/python3.7/dist-packages/pandas/io/parsers/readers.py\u001b[0m in \u001b[0;36mread\u001b[0;34m(self, nrows)\u001b[0m\n\u001b[1;32m   1045\u001b[0m     \u001b[0;32mdef\u001b[0m \u001b[0mread\u001b[0m\u001b[0;34m(\u001b[0m\u001b[0mself\u001b[0m\u001b[0;34m,\u001b[0m \u001b[0mnrows\u001b[0m\u001b[0;34m=\u001b[0m\u001b[0;32mNone\u001b[0m\u001b[0;34m)\u001b[0m\u001b[0;34m:\u001b[0m\u001b[0;34m\u001b[0m\u001b[0;34m\u001b[0m\u001b[0m\n\u001b[1;32m   1046\u001b[0m         \u001b[0mnrows\u001b[0m \u001b[0;34m=\u001b[0m \u001b[0mvalidate_integer\u001b[0m\u001b[0;34m(\u001b[0m\u001b[0;34m\"nrows\"\u001b[0m\u001b[0;34m,\u001b[0m \u001b[0mnrows\u001b[0m\u001b[0;34m)\u001b[0m\u001b[0;34m\u001b[0m\u001b[0;34m\u001b[0m\u001b[0m\n\u001b[0;32m-> 1047\u001b[0;31m         \u001b[0mindex\u001b[0m\u001b[0;34m,\u001b[0m \u001b[0mcolumns\u001b[0m\u001b[0;34m,\u001b[0m \u001b[0mcol_dict\u001b[0m \u001b[0;34m=\u001b[0m \u001b[0mself\u001b[0m\u001b[0;34m.\u001b[0m\u001b[0m_engine\u001b[0m\u001b[0;34m.\u001b[0m\u001b[0mread\u001b[0m\u001b[0;34m(\u001b[0m\u001b[0mnrows\u001b[0m\u001b[0;34m)\u001b[0m\u001b[0;34m\u001b[0m\u001b[0;34m\u001b[0m\u001b[0m\n\u001b[0m\u001b[1;32m   1048\u001b[0m \u001b[0;34m\u001b[0m\u001b[0m\n\u001b[1;32m   1049\u001b[0m         \u001b[0;32mif\u001b[0m \u001b[0mindex\u001b[0m \u001b[0;32mis\u001b[0m \u001b[0;32mNone\u001b[0m\u001b[0;34m:\u001b[0m\u001b[0;34m\u001b[0m\u001b[0;34m\u001b[0m\u001b[0m\n",
            "\u001b[0;32m/usr/local/lib/python3.7/dist-packages/pandas/io/parsers/c_parser_wrapper.py\u001b[0m in \u001b[0;36mread\u001b[0;34m(self, nrows)\u001b[0m\n\u001b[1;32m    222\u001b[0m         \u001b[0;32mtry\u001b[0m\u001b[0;34m:\u001b[0m\u001b[0;34m\u001b[0m\u001b[0;34m\u001b[0m\u001b[0m\n\u001b[1;32m    223\u001b[0m             \u001b[0;32mif\u001b[0m \u001b[0mself\u001b[0m\u001b[0;34m.\u001b[0m\u001b[0mlow_memory\u001b[0m\u001b[0;34m:\u001b[0m\u001b[0;34m\u001b[0m\u001b[0;34m\u001b[0m\u001b[0m\n\u001b[0;32m--> 224\u001b[0;31m                 \u001b[0mchunks\u001b[0m \u001b[0;34m=\u001b[0m \u001b[0mself\u001b[0m\u001b[0;34m.\u001b[0m\u001b[0m_reader\u001b[0m\u001b[0;34m.\u001b[0m\u001b[0mread_low_memory\u001b[0m\u001b[0;34m(\u001b[0m\u001b[0mnrows\u001b[0m\u001b[0;34m)\u001b[0m\u001b[0;34m\u001b[0m\u001b[0;34m\u001b[0m\u001b[0m\n\u001b[0m\u001b[1;32m    225\u001b[0m                 \u001b[0;31m# destructive to chunks\u001b[0m\u001b[0;34m\u001b[0m\u001b[0;34m\u001b[0m\u001b[0;34m\u001b[0m\u001b[0m\n\u001b[1;32m    226\u001b[0m                 \u001b[0mdata\u001b[0m \u001b[0;34m=\u001b[0m \u001b[0m_concatenate_chunks\u001b[0m\u001b[0;34m(\u001b[0m\u001b[0mchunks\u001b[0m\u001b[0;34m)\u001b[0m\u001b[0;34m\u001b[0m\u001b[0;34m\u001b[0m\u001b[0m\n",
            "\u001b[0;32m/usr/local/lib/python3.7/dist-packages/pandas/_libs/parsers.pyx\u001b[0m in \u001b[0;36mpandas._libs.parsers.TextReader.read_low_memory\u001b[0;34m()\u001b[0m\n",
            "\u001b[0;32m/usr/local/lib/python3.7/dist-packages/pandas/_libs/parsers.pyx\u001b[0m in \u001b[0;36mpandas._libs.parsers.TextReader._read_rows\u001b[0;34m()\u001b[0m\n",
            "\u001b[0;32m/usr/local/lib/python3.7/dist-packages/pandas/_libs/parsers.pyx\u001b[0m in \u001b[0;36mpandas._libs.parsers.TextReader._tokenize_rows\u001b[0;34m()\u001b[0m\n",
            "\u001b[0;32m/usr/local/lib/python3.7/dist-packages/pandas/_libs/parsers.pyx\u001b[0m in \u001b[0;36mpandas._libs.parsers.raise_parser_error\u001b[0;34m()\u001b[0m\n",
            "\u001b[0;31mParserError\u001b[0m: Error tokenizing data. C error: Calling read(nbytes) on source failed. Try engine='python'."
          ]
        }
      ]
    },
    {
      "cell_type": "code",
      "source": [
        "col = ['word', 'NE']\n",
        "a.columns = col"
      ],
      "metadata": {
        "id": "VbD9hCp_UxYf"
      },
      "execution_count": null,
      "outputs": []
    },
    {
      "cell_type": "code",
      "source": [
        "a['NE'].value_counts()"
      ],
      "metadata": {
        "colab": {
          "base_uri": "https://localhost:8080/"
        },
        "id": "a-XEOaJJWbzb",
        "outputId": "f2bb1768-2947-4e97-ac4a-4ec92525d6dc"
      },
      "execution_count": null,
      "outputs": [
        {
          "output_type": "execute_result",
          "data": {
            "text/plain": [
              "O        1371007\n",
              "I-DAT      64923\n",
              "B-DAT      38403\n",
              "B-LOC      28100\n",
              "I-PER      24162\n",
              "B-PER      23423\n",
              "I-ORG      18852\n",
              "I-LOC      17741\n",
              "B-ORG      14937\n",
              "I-EVE       4961\n",
              "B-EVE       3557\n",
              "Name: NE, dtype: int64"
            ]
          },
          "metadata": {},
          "execution_count": 35
        }
      ]
    },
    {
      "cell_type": "code",
      "source": [
        "csv = pd.read_csv(\"Persian-NER-part2.txt\", header=None, delimiter=r\"\\s+\", names=list('abc'), error_bad_lines=False, warn_bad_lines=True, encoding_errors = 'ignore')"
      ],
      "metadata": {
        "id": "H3xDT6BgXwyI",
        "colab": {
          "base_uri": "https://localhost:8080/",
          "height": 400
        },
        "outputId": "bbab3fec-6da6-42da-cd65-87f0346fad81"
      },
      "execution_count": null,
      "outputs": [
        {
          "output_type": "stream",
          "name": "stderr",
          "text": [
            "/usr/local/lib/python3.7/dist-packages/IPython/core/interactiveshell.py:2882: FutureWarning: The warn_bad_lines argument has been deprecated and will be removed in a future version.\n",
            "\n",
            "\n",
            "  exec(code_obj, self.user_global_ns, self.user_ns)\n",
            "/usr/local/lib/python3.7/dist-packages/IPython/core/interactiveshell.py:2882: FutureWarning: The error_bad_lines argument has been deprecated and will be removed in a future version.\n",
            "\n",
            "\n",
            "  exec(code_obj, self.user_global_ns, self.user_ns)\n"
          ]
        },
        {
          "output_type": "error",
          "ename": "ParserError",
          "evalue": "ignored",
          "traceback": [
            "\u001b[0;31m---------------------------------------------------------------------------\u001b[0m",
            "\u001b[0;31mParserError\u001b[0m                               Traceback (most recent call last)",
            "\u001b[0;32m<ipython-input-19-9aad438a0024>\u001b[0m in \u001b[0;36m<module>\u001b[0;34m()\u001b[0m\n\u001b[0;32m----> 1\u001b[0;31m \u001b[0mcsv\u001b[0m \u001b[0;34m=\u001b[0m \u001b[0mpd\u001b[0m\u001b[0;34m.\u001b[0m\u001b[0mread_csv\u001b[0m\u001b[0;34m(\u001b[0m\u001b[0;34m\"Persian-NER-part2.txt\"\u001b[0m\u001b[0;34m,\u001b[0m \u001b[0mheader\u001b[0m\u001b[0;34m=\u001b[0m\u001b[0;32mNone\u001b[0m\u001b[0;34m,\u001b[0m \u001b[0mdelimiter\u001b[0m\u001b[0;34m=\u001b[0m\u001b[0;34mr\"\\s+\"\u001b[0m\u001b[0;34m,\u001b[0m \u001b[0mnames\u001b[0m\u001b[0;34m=\u001b[0m\u001b[0mlist\u001b[0m\u001b[0;34m(\u001b[0m\u001b[0;34m'abc'\u001b[0m\u001b[0;34m)\u001b[0m\u001b[0;34m,\u001b[0m \u001b[0merror_bad_lines\u001b[0m\u001b[0;34m=\u001b[0m\u001b[0;32mFalse\u001b[0m\u001b[0;34m,\u001b[0m \u001b[0mwarn_bad_lines\u001b[0m\u001b[0;34m=\u001b[0m\u001b[0;32mTrue\u001b[0m\u001b[0;34m,\u001b[0m \u001b[0mencoding_errors\u001b[0m \u001b[0;34m=\u001b[0m \u001b[0;34m'ignore'\u001b[0m\u001b[0;34m)\u001b[0m\u001b[0;34m\u001b[0m\u001b[0;34m\u001b[0m\u001b[0m\n\u001b[0m",
            "\u001b[0;32m/usr/local/lib/python3.7/dist-packages/pandas/util/_decorators.py\u001b[0m in \u001b[0;36mwrapper\u001b[0;34m(*args, **kwargs)\u001b[0m\n\u001b[1;32m    309\u001b[0m                     \u001b[0mstacklevel\u001b[0m\u001b[0;34m=\u001b[0m\u001b[0mstacklevel\u001b[0m\u001b[0;34m,\u001b[0m\u001b[0;34m\u001b[0m\u001b[0;34m\u001b[0m\u001b[0m\n\u001b[1;32m    310\u001b[0m                 )\n\u001b[0;32m--> 311\u001b[0;31m             \u001b[0;32mreturn\u001b[0m \u001b[0mfunc\u001b[0m\u001b[0;34m(\u001b[0m\u001b[0;34m*\u001b[0m\u001b[0margs\u001b[0m\u001b[0;34m,\u001b[0m \u001b[0;34m**\u001b[0m\u001b[0mkwargs\u001b[0m\u001b[0;34m)\u001b[0m\u001b[0;34m\u001b[0m\u001b[0;34m\u001b[0m\u001b[0m\n\u001b[0m\u001b[1;32m    312\u001b[0m \u001b[0;34m\u001b[0m\u001b[0m\n\u001b[1;32m    313\u001b[0m         \u001b[0;32mreturn\u001b[0m \u001b[0mwrapper\u001b[0m\u001b[0;34m\u001b[0m\u001b[0;34m\u001b[0m\u001b[0m\n",
            "\u001b[0;32m/usr/local/lib/python3.7/dist-packages/pandas/io/parsers/readers.py\u001b[0m in \u001b[0;36mread_csv\u001b[0;34m(filepath_or_buffer, sep, delimiter, header, names, index_col, usecols, squeeze, prefix, mangle_dupe_cols, dtype, engine, converters, true_values, false_values, skipinitialspace, skiprows, skipfooter, nrows, na_values, keep_default_na, na_filter, verbose, skip_blank_lines, parse_dates, infer_datetime_format, keep_date_col, date_parser, dayfirst, cache_dates, iterator, chunksize, compression, thousands, decimal, lineterminator, quotechar, quoting, doublequote, escapechar, comment, encoding, encoding_errors, dialect, error_bad_lines, warn_bad_lines, on_bad_lines, delim_whitespace, low_memory, memory_map, float_precision, storage_options)\u001b[0m\n\u001b[1;32m    584\u001b[0m     \u001b[0mkwds\u001b[0m\u001b[0;34m.\u001b[0m\u001b[0mupdate\u001b[0m\u001b[0;34m(\u001b[0m\u001b[0mkwds_defaults\u001b[0m\u001b[0;34m)\u001b[0m\u001b[0;34m\u001b[0m\u001b[0;34m\u001b[0m\u001b[0m\n\u001b[1;32m    585\u001b[0m \u001b[0;34m\u001b[0m\u001b[0m\n\u001b[0;32m--> 586\u001b[0;31m     \u001b[0;32mreturn\u001b[0m \u001b[0m_read\u001b[0m\u001b[0;34m(\u001b[0m\u001b[0mfilepath_or_buffer\u001b[0m\u001b[0;34m,\u001b[0m \u001b[0mkwds\u001b[0m\u001b[0;34m)\u001b[0m\u001b[0;34m\u001b[0m\u001b[0;34m\u001b[0m\u001b[0m\n\u001b[0m\u001b[1;32m    587\u001b[0m \u001b[0;34m\u001b[0m\u001b[0m\n\u001b[1;32m    588\u001b[0m \u001b[0;34m\u001b[0m\u001b[0m\n",
            "\u001b[0;32m/usr/local/lib/python3.7/dist-packages/pandas/io/parsers/readers.py\u001b[0m in \u001b[0;36m_read\u001b[0;34m(filepath_or_buffer, kwds)\u001b[0m\n\u001b[1;32m    486\u001b[0m \u001b[0;34m\u001b[0m\u001b[0m\n\u001b[1;32m    487\u001b[0m     \u001b[0;32mwith\u001b[0m \u001b[0mparser\u001b[0m\u001b[0;34m:\u001b[0m\u001b[0;34m\u001b[0m\u001b[0;34m\u001b[0m\u001b[0m\n\u001b[0;32m--> 488\u001b[0;31m         \u001b[0;32mreturn\u001b[0m \u001b[0mparser\u001b[0m\u001b[0;34m.\u001b[0m\u001b[0mread\u001b[0m\u001b[0;34m(\u001b[0m\u001b[0mnrows\u001b[0m\u001b[0;34m)\u001b[0m\u001b[0;34m\u001b[0m\u001b[0;34m\u001b[0m\u001b[0m\n\u001b[0m\u001b[1;32m    489\u001b[0m \u001b[0;34m\u001b[0m\u001b[0m\n\u001b[1;32m    490\u001b[0m \u001b[0;34m\u001b[0m\u001b[0m\n",
            "\u001b[0;32m/usr/local/lib/python3.7/dist-packages/pandas/io/parsers/readers.py\u001b[0m in \u001b[0;36mread\u001b[0;34m(self, nrows)\u001b[0m\n\u001b[1;32m   1045\u001b[0m     \u001b[0;32mdef\u001b[0m \u001b[0mread\u001b[0m\u001b[0;34m(\u001b[0m\u001b[0mself\u001b[0m\u001b[0;34m,\u001b[0m \u001b[0mnrows\u001b[0m\u001b[0;34m=\u001b[0m\u001b[0;32mNone\u001b[0m\u001b[0;34m)\u001b[0m\u001b[0;34m:\u001b[0m\u001b[0;34m\u001b[0m\u001b[0;34m\u001b[0m\u001b[0m\n\u001b[1;32m   1046\u001b[0m         \u001b[0mnrows\u001b[0m \u001b[0;34m=\u001b[0m \u001b[0mvalidate_integer\u001b[0m\u001b[0;34m(\u001b[0m\u001b[0;34m\"nrows\"\u001b[0m\u001b[0;34m,\u001b[0m \u001b[0mnrows\u001b[0m\u001b[0;34m)\u001b[0m\u001b[0;34m\u001b[0m\u001b[0;34m\u001b[0m\u001b[0m\n\u001b[0;32m-> 1047\u001b[0;31m         \u001b[0mindex\u001b[0m\u001b[0;34m,\u001b[0m \u001b[0mcolumns\u001b[0m\u001b[0;34m,\u001b[0m \u001b[0mcol_dict\u001b[0m \u001b[0;34m=\u001b[0m \u001b[0mself\u001b[0m\u001b[0;34m.\u001b[0m\u001b[0m_engine\u001b[0m\u001b[0;34m.\u001b[0m\u001b[0mread\u001b[0m\u001b[0;34m(\u001b[0m\u001b[0mnrows\u001b[0m\u001b[0;34m)\u001b[0m\u001b[0;34m\u001b[0m\u001b[0;34m\u001b[0m\u001b[0m\n\u001b[0m\u001b[1;32m   1048\u001b[0m \u001b[0;34m\u001b[0m\u001b[0m\n\u001b[1;32m   1049\u001b[0m         \u001b[0;32mif\u001b[0m \u001b[0mindex\u001b[0m \u001b[0;32mis\u001b[0m \u001b[0;32mNone\u001b[0m\u001b[0;34m:\u001b[0m\u001b[0;34m\u001b[0m\u001b[0;34m\u001b[0m\u001b[0m\n",
            "\u001b[0;32m/usr/local/lib/python3.7/dist-packages/pandas/io/parsers/c_parser_wrapper.py\u001b[0m in \u001b[0;36mread\u001b[0;34m(self, nrows)\u001b[0m\n\u001b[1;32m    222\u001b[0m         \u001b[0;32mtry\u001b[0m\u001b[0;34m:\u001b[0m\u001b[0;34m\u001b[0m\u001b[0;34m\u001b[0m\u001b[0m\n\u001b[1;32m    223\u001b[0m             \u001b[0;32mif\u001b[0m \u001b[0mself\u001b[0m\u001b[0;34m.\u001b[0m\u001b[0mlow_memory\u001b[0m\u001b[0;34m:\u001b[0m\u001b[0;34m\u001b[0m\u001b[0;34m\u001b[0m\u001b[0m\n\u001b[0;32m--> 224\u001b[0;31m                 \u001b[0mchunks\u001b[0m \u001b[0;34m=\u001b[0m \u001b[0mself\u001b[0m\u001b[0;34m.\u001b[0m\u001b[0m_reader\u001b[0m\u001b[0;34m.\u001b[0m\u001b[0mread_low_memory\u001b[0m\u001b[0;34m(\u001b[0m\u001b[0mnrows\u001b[0m\u001b[0;34m)\u001b[0m\u001b[0;34m\u001b[0m\u001b[0;34m\u001b[0m\u001b[0m\n\u001b[0m\u001b[1;32m    225\u001b[0m                 \u001b[0;31m# destructive to chunks\u001b[0m\u001b[0;34m\u001b[0m\u001b[0;34m\u001b[0m\u001b[0;34m\u001b[0m\u001b[0m\n\u001b[1;32m    226\u001b[0m                 \u001b[0mdata\u001b[0m \u001b[0;34m=\u001b[0m \u001b[0m_concatenate_chunks\u001b[0m\u001b[0;34m(\u001b[0m\u001b[0mchunks\u001b[0m\u001b[0;34m)\u001b[0m\u001b[0;34m\u001b[0m\u001b[0;34m\u001b[0m\u001b[0m\n",
            "\u001b[0;32m/usr/local/lib/python3.7/dist-packages/pandas/_libs/parsers.pyx\u001b[0m in \u001b[0;36mpandas._libs.parsers.TextReader.read_low_memory\u001b[0;34m()\u001b[0m\n",
            "\u001b[0;32m/usr/local/lib/python3.7/dist-packages/pandas/_libs/parsers.pyx\u001b[0m in \u001b[0;36mpandas._libs.parsers.TextReader._read_rows\u001b[0;34m()\u001b[0m\n",
            "\u001b[0;32m/usr/local/lib/python3.7/dist-packages/pandas/_libs/parsers.pyx\u001b[0m in \u001b[0;36mpandas._libs.parsers.TextReader._tokenize_rows\u001b[0;34m()\u001b[0m\n",
            "\u001b[0;32m/usr/local/lib/python3.7/dist-packages/pandas/_libs/parsers.pyx\u001b[0m in \u001b[0;36mpandas._libs.parsers.raise_parser_error\u001b[0;34m()\u001b[0m\n",
            "\u001b[0;31mParserError\u001b[0m: Error tokenizing data. C error: EOF inside string starting at row 2824157"
          ]
        }
      ]
    },
    {
      "cell_type": "code",
      "source": [
        "pd.__version__"
      ],
      "metadata": {
        "colab": {
          "base_uri": "https://localhost:8080/",
          "height": 36
        },
        "id": "2GzChPxf_hoO",
        "outputId": "a417f22e-6228-4d8d-8a66-e0240ddd8060"
      },
      "execution_count": null,
      "outputs": [
        {
          "output_type": "execute_result",
          "data": {
            "text/plain": [
              "'1.3.5'"
            ],
            "application/vnd.google.colaboratory.intrinsic+json": {
              "type": "string"
            }
          },
          "metadata": {},
          "execution_count": 20
        }
      ]
    },
    {
      "cell_type": "code",
      "source": [
        "csv1 = pd.read_csv(\"/content/drive/MyDrive/NerDatas/Persian-NER-part1.txt\", header=None, delimiter=\"~\", error_bad_lines=False, warn_bad_lines=True, encoding_errors = 'ignore', low_memory=False)"
      ],
      "metadata": {
        "id": "T7WCGMY6K4jY",
        "colab": {
          "base_uri": "https://localhost:8080/"
        },
        "outputId": "a327464c-8032-4203-87e2-ba8f1f605344"
      },
      "execution_count": 28,
      "outputs": [
        {
          "output_type": "stream",
          "name": "stderr",
          "text": [
            "/usr/local/lib/python3.7/dist-packages/IPython/core/interactiveshell.py:2882: FutureWarning: The warn_bad_lines argument has been deprecated and will be removed in a future version.\n",
            "\n",
            "\n",
            "  exec(code_obj, self.user_global_ns, self.user_ns)\n",
            "/usr/local/lib/python3.7/dist-packages/IPython/core/interactiveshell.py:2882: FutureWarning: The error_bad_lines argument has been deprecated and will be removed in a future version.\n",
            "\n",
            "\n",
            "  exec(code_obj, self.user_global_ns, self.user_ns)\n",
            "b'Skipping line 1239077: expected 1 fields, saw 2\\nSkipping line 2668203: expected 1 fields, saw 2\\n'\n"
          ]
        }
      ]
    },
    {
      "cell_type": "code",
      "source": [
        "csv1"
      ],
      "metadata": {
        "colab": {
          "base_uri": "https://localhost:8080/",
          "height": 424
        },
        "id": "VzpaHapQfPgW",
        "outputId": "6fa2bf7d-99cb-4c51-b060-71bb8def6b88"
      },
      "execution_count": 27,
      "outputs": [
        {
          "output_type": "execute_result",
          "data": {
            "text/plain": [
              "                     a    b\n",
              "0        ویکی‌پدیای\\tO  NaN\n",
              "1           انگلیسی\\tO  NaN\n",
              "2            در\\tB-DAT  NaN\n",
              "3         تاریخ\\tI-DAT  NaN\n",
              "4            ۱۵\\tI-DAT  NaN\n",
              "...                ...  ...\n",
              "2613292           و\\tO  NaN\n",
              "2613293      خودروی\\tO  NaN\n",
              "2613294     محورجلو\\tO  NaN\n",
              "2613295     می‌باشد\\tO  NaN\n",
              "2613296           .\\tO  NaN\n",
              "\n",
              "[2613297 rows x 2 columns]"
            ],
            "text/html": [
              "\n",
              "  <div id=\"df-f2966495-908c-4fb7-93e5-8d9f2be3e730\">\n",
              "    <div class=\"colab-df-container\">\n",
              "      <div>\n",
              "<style scoped>\n",
              "    .dataframe tbody tr th:only-of-type {\n",
              "        vertical-align: middle;\n",
              "    }\n",
              "\n",
              "    .dataframe tbody tr th {\n",
              "        vertical-align: top;\n",
              "    }\n",
              "\n",
              "    .dataframe thead th {\n",
              "        text-align: right;\n",
              "    }\n",
              "</style>\n",
              "<table border=\"1\" class=\"dataframe\">\n",
              "  <thead>\n",
              "    <tr style=\"text-align: right;\">\n",
              "      <th></th>\n",
              "      <th>a</th>\n",
              "      <th>b</th>\n",
              "    </tr>\n",
              "  </thead>\n",
              "  <tbody>\n",
              "    <tr>\n",
              "      <th>0</th>\n",
              "      <td>ویکی‌پدیای\\tO</td>\n",
              "      <td>NaN</td>\n",
              "    </tr>\n",
              "    <tr>\n",
              "      <th>1</th>\n",
              "      <td>انگلیسی\\tO</td>\n",
              "      <td>NaN</td>\n",
              "    </tr>\n",
              "    <tr>\n",
              "      <th>2</th>\n",
              "      <td>در\\tB-DAT</td>\n",
              "      <td>NaN</td>\n",
              "    </tr>\n",
              "    <tr>\n",
              "      <th>3</th>\n",
              "      <td>تاریخ\\tI-DAT</td>\n",
              "      <td>NaN</td>\n",
              "    </tr>\n",
              "    <tr>\n",
              "      <th>4</th>\n",
              "      <td>۱۵\\tI-DAT</td>\n",
              "      <td>NaN</td>\n",
              "    </tr>\n",
              "    <tr>\n",
              "      <th>...</th>\n",
              "      <td>...</td>\n",
              "      <td>...</td>\n",
              "    </tr>\n",
              "    <tr>\n",
              "      <th>2613292</th>\n",
              "      <td>و\\tO</td>\n",
              "      <td>NaN</td>\n",
              "    </tr>\n",
              "    <tr>\n",
              "      <th>2613293</th>\n",
              "      <td>خودروی\\tO</td>\n",
              "      <td>NaN</td>\n",
              "    </tr>\n",
              "    <tr>\n",
              "      <th>2613294</th>\n",
              "      <td>محورجلو\\tO</td>\n",
              "      <td>NaN</td>\n",
              "    </tr>\n",
              "    <tr>\n",
              "      <th>2613295</th>\n",
              "      <td>می‌باشد\\tO</td>\n",
              "      <td>NaN</td>\n",
              "    </tr>\n",
              "    <tr>\n",
              "      <th>2613296</th>\n",
              "      <td>.\\tO</td>\n",
              "      <td>NaN</td>\n",
              "    </tr>\n",
              "  </tbody>\n",
              "</table>\n",
              "<p>2613297 rows × 2 columns</p>\n",
              "</div>\n",
              "      <button class=\"colab-df-convert\" onclick=\"convertToInteractive('df-f2966495-908c-4fb7-93e5-8d9f2be3e730')\"\n",
              "              title=\"Convert this dataframe to an interactive table.\"\n",
              "              style=\"display:none;\">\n",
              "        \n",
              "  <svg xmlns=\"http://www.w3.org/2000/svg\" height=\"24px\"viewBox=\"0 0 24 24\"\n",
              "       width=\"24px\">\n",
              "    <path d=\"M0 0h24v24H0V0z\" fill=\"none\"/>\n",
              "    <path d=\"M18.56 5.44l.94 2.06.94-2.06 2.06-.94-2.06-.94-.94-2.06-.94 2.06-2.06.94zm-11 1L8.5 8.5l.94-2.06 2.06-.94-2.06-.94L8.5 2.5l-.94 2.06-2.06.94zm10 10l.94 2.06.94-2.06 2.06-.94-2.06-.94-.94-2.06-.94 2.06-2.06.94z\"/><path d=\"M17.41 7.96l-1.37-1.37c-.4-.4-.92-.59-1.43-.59-.52 0-1.04.2-1.43.59L10.3 9.45l-7.72 7.72c-.78.78-.78 2.05 0 2.83L4 21.41c.39.39.9.59 1.41.59.51 0 1.02-.2 1.41-.59l7.78-7.78 2.81-2.81c.8-.78.8-2.07 0-2.86zM5.41 20L4 18.59l7.72-7.72 1.47 1.35L5.41 20z\"/>\n",
              "  </svg>\n",
              "      </button>\n",
              "      \n",
              "  <style>\n",
              "    .colab-df-container {\n",
              "      display:flex;\n",
              "      flex-wrap:wrap;\n",
              "      gap: 12px;\n",
              "    }\n",
              "\n",
              "    .colab-df-convert {\n",
              "      background-color: #E8F0FE;\n",
              "      border: none;\n",
              "      border-radius: 50%;\n",
              "      cursor: pointer;\n",
              "      display: none;\n",
              "      fill: #1967D2;\n",
              "      height: 32px;\n",
              "      padding: 0 0 0 0;\n",
              "      width: 32px;\n",
              "    }\n",
              "\n",
              "    .colab-df-convert:hover {\n",
              "      background-color: #E2EBFA;\n",
              "      box-shadow: 0px 1px 2px rgba(60, 64, 67, 0.3), 0px 1px 3px 1px rgba(60, 64, 67, 0.15);\n",
              "      fill: #174EA6;\n",
              "    }\n",
              "\n",
              "    [theme=dark] .colab-df-convert {\n",
              "      background-color: #3B4455;\n",
              "      fill: #D2E3FC;\n",
              "    }\n",
              "\n",
              "    [theme=dark] .colab-df-convert:hover {\n",
              "      background-color: #434B5C;\n",
              "      box-shadow: 0px 1px 3px 1px rgba(0, 0, 0, 0.15);\n",
              "      filter: drop-shadow(0px 1px 2px rgba(0, 0, 0, 0.3));\n",
              "      fill: #FFFFFF;\n",
              "    }\n",
              "  </style>\n",
              "\n",
              "      <script>\n",
              "        const buttonEl =\n",
              "          document.querySelector('#df-f2966495-908c-4fb7-93e5-8d9f2be3e730 button.colab-df-convert');\n",
              "        buttonEl.style.display =\n",
              "          google.colab.kernel.accessAllowed ? 'block' : 'none';\n",
              "\n",
              "        async function convertToInteractive(key) {\n",
              "          const element = document.querySelector('#df-f2966495-908c-4fb7-93e5-8d9f2be3e730');\n",
              "          const dataTable =\n",
              "            await google.colab.kernel.invokeFunction('convertToInteractive',\n",
              "                                                     [key], {});\n",
              "          if (!dataTable) return;\n",
              "\n",
              "          const docLinkHtml = 'Like what you see? Visit the ' +\n",
              "            '<a target=\"_blank\" href=https://colab.research.google.com/notebooks/data_table.ipynb>data table notebook</a>'\n",
              "            + ' to learn more about interactive tables.';\n",
              "          element.innerHTML = '';\n",
              "          dataTable['output_type'] = 'display_data';\n",
              "          await google.colab.output.renderOutput(dataTable, element);\n",
              "          const docLink = document.createElement('div');\n",
              "          docLink.innerHTML = docLinkHtml;\n",
              "          element.appendChild(docLink);\n",
              "        }\n",
              "      </script>\n",
              "    </div>\n",
              "  </div>\n",
              "  "
            ]
          },
          "metadata": {},
          "execution_count": 27
        }
      ]
    },
    {
      "cell_type": "code",
      "source": [
        ""
      ],
      "metadata": {
        "id": "fj4FhAgJfQhx"
      },
      "execution_count": null,
      "outputs": []
    }
  ]
}