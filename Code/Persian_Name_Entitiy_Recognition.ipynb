{
  "cells": [
    {
      "cell_type": "code",
      "execution_count": null,
      "metadata": {
        "colab": {
          "base_uri": "https://localhost:8080/"
        },
        "id": "7lzyzrLG65CO",
        "outputId": "a2b0fef7-4618-4d7c-e01c-7fc266bdc689"
      },
      "outputs": [
        {
          "name": "stdout",
          "output_type": "stream",
          "text": [
            "Looking in indexes: https://pypi.org/simple, https://us-python.pkg.dev/colab-wheels/public/simple/\n",
            "Collecting hazm\n",
            "  Downloading hazm-0.7.0-py3-none-any.whl (316 kB)\n",
            "\u001b[K     |████████████████████████████████| 316 kB 6.5 MB/s \n",
            "\u001b[?25hCollecting nltk==3.3\n",
            "  Downloading nltk-3.3.0.zip (1.4 MB)\n",
            "\u001b[K     |████████████████████████████████| 1.4 MB 35.6 MB/s \n",
            "\u001b[?25hCollecting libwapiti>=0.2.1\n",
            "  Downloading libwapiti-0.2.1.tar.gz (233 kB)\n",
            "\u001b[K     |████████████████████████████████| 233 kB 38.4 MB/s \n",
            "\u001b[?25hRequirement already satisfied: six in /usr/local/lib/python3.7/dist-packages (from nltk==3.3->hazm) (1.15.0)\n",
            "Building wheels for collected packages: nltk, libwapiti\n",
            "  Building wheel for nltk (setup.py) ... \u001b[?25l\u001b[?25hdone\n",
            "  Created wheel for nltk: filename=nltk-3.3-py3-none-any.whl size=1394486 sha256=61051d2b265e70dcad549e2679d32c455499318a9d68c50ad3fa18ec2a2b764c\n",
            "  Stored in directory: /root/.cache/pip/wheels/9b/fd/0c/d92302c876e5de87ebd7fc0979d82edb93e2d8d768bf71fac4\n",
            "  Building wheel for libwapiti (setup.py) ... \u001b[?25l\u001b[?25hdone\n",
            "  Created wheel for libwapiti: filename=libwapiti-0.2.1-cp37-cp37m-linux_x86_64.whl size=154003 sha256=5d713aca9c6d578d5be81815fa39ff30c18a5f4a2e06b46fa0a4ecdc082dbbc9\n",
            "  Stored in directory: /root/.cache/pip/wheels/ab/b2/5b/0fe4b8f5c0e65341e8ea7bb3f4a6ebabfe8b1ac31322392dbf\n",
            "Successfully built nltk libwapiti\n",
            "Installing collected packages: nltk, libwapiti, hazm\n",
            "  Attempting uninstall: nltk\n",
            "    Found existing installation: nltk 3.7\n",
            "    Uninstalling nltk-3.7:\n",
            "      Successfully uninstalled nltk-3.7\n",
            "Successfully installed hazm-0.7.0 libwapiti-0.2.1 nltk-3.3\n"
          ]
        }
      ],
      "source": [
        "!pip install hazm\n",
        "#!pip install transformers"
      ]
    },
    {
      "cell_type": "code",
      "execution_count": null,
      "metadata": {
        "id": "WUgVbSZO6MxX",
        "colab": {
          "base_uri": "https://localhost:8080/",
          "height": 373
        },
        "outputId": "35911112-069d-424f-802b-281c008e6fe6"
      },
      "outputs": [
        {
          "output_type": "error",
          "ename": "ImportError",
          "evalue": "ignored",
          "traceback": [
            "\u001b[0;31m---------------------------------------------------------------------------\u001b[0m",
            "\u001b[0;31mImportError\u001b[0m                               Traceback (most recent call last)",
            "\u001b[0;32m<ipython-input-15-8c2440cc7dc2>\u001b[0m in \u001b[0;36m<module>\u001b[0;34m\u001b[0m\n\u001b[1;32m      6\u001b[0m \u001b[0;32mfrom\u001b[0m \u001b[0mkeras\u001b[0m\u001b[0;34m.\u001b[0m\u001b[0mlayers\u001b[0m \u001b[0;32mimport\u001b[0m \u001b[0mDense\u001b[0m\u001b[0;34m,\u001b[0m \u001b[0mInput\u001b[0m\u001b[0;34m,\u001b[0m \u001b[0mLSTM\u001b[0m\u001b[0;34m,\u001b[0m \u001b[0mEmbedding\u001b[0m\u001b[0;34m,\u001b[0m \u001b[0mDropout\u001b[0m\u001b[0;34m,\u001b[0m \u001b[0mActivation\u001b[0m\u001b[0;34m\u001b[0m\u001b[0;34m\u001b[0m\u001b[0m\n\u001b[1;32m      7\u001b[0m \u001b[0;32mfrom\u001b[0m \u001b[0mkeras\u001b[0m\u001b[0;34m.\u001b[0m\u001b[0mlayers\u001b[0m \u001b[0;32mimport\u001b[0m \u001b[0mBidirectional\u001b[0m\u001b[0;34m,\u001b[0m \u001b[0mGlobalMaxPool1D\u001b[0m\u001b[0;34m,\u001b[0m\u001b[0mBidirectional\u001b[0m\u001b[0;34m\u001b[0m\u001b[0;34m\u001b[0m\u001b[0m\n\u001b[0;32m----> 8\u001b[0;31m \u001b[0;32mfrom\u001b[0m \u001b[0mkeras\u001b[0m\u001b[0;34m.\u001b[0m\u001b[0mpreprocessing\u001b[0m\u001b[0;34m.\u001b[0m\u001b[0msequence\u001b[0m \u001b[0;32mimport\u001b[0m \u001b[0mpad_sequences\u001b[0m\u001b[0;34m\u001b[0m\u001b[0;34m\u001b[0m\u001b[0m\n\u001b[0m\u001b[1;32m      9\u001b[0m \u001b[0;32mimport\u001b[0m \u001b[0mtensorflow\u001b[0m \u001b[0;32mas\u001b[0m \u001b[0mtf\u001b[0m\u001b[0;34m\u001b[0m\u001b[0;34m\u001b[0m\u001b[0m\n\u001b[1;32m     10\u001b[0m \u001b[0;31m#from __future__ import unicode_literals\u001b[0m\u001b[0;34m\u001b[0m\u001b[0;34m\u001b[0m\u001b[0;34m\u001b[0m\u001b[0m\n",
            "\u001b[0;31mImportError\u001b[0m: cannot import name 'pad_sequences' from 'keras.preprocessing.sequence' (/usr/local/lib/python3.7/dist-packages/keras/preprocessing/sequence.py)",
            "",
            "\u001b[0;31m---------------------------------------------------------------------------\u001b[0;32m\nNOTE: If your import is failing due to a missing package, you can\nmanually install dependencies using either !pip or !apt.\n\nTo view examples of installing some common dependencies, click the\n\"Open Examples\" button below.\n\u001b[0;31m---------------------------------------------------------------------------\u001b[0m\n"
          ],
          "errorDetails": {
            "actions": [
              {
                "action": "open_url",
                "actionText": "Open Examples",
                "url": "/notebooks/snippets/importing_libraries.ipynb"
              }
            ]
          }
        }
      ],
      "source": [
        "import pandas as pd\n",
        "import numpy as np\n",
        "import matplotlib.pyplot as plt\n",
        "from sklearn.utils import shuffle\n",
        "from keras.preprocessing.text import Tokenizer\n",
        "from keras.layers import Dense, Input, LSTM, Embedding, Dropout, Activation\n",
        "from keras.layers import Bidirectional, GlobalMaxPool1D,Bidirectional\n",
        "#from keras.preprocessing.sequence import pad_sequences\n",
        "import tensorflow as tf\n",
        "#from __future__ import unicode_literals\n",
        "#from hazm import *\n",
        "import gc"
      ]
    },
    {
      "cell_type": "code",
      "execution_count": null,
      "metadata": {
        "colab": {
          "base_uri": "https://localhost:8080/"
        },
        "id": "6SMraayul-R6",
        "outputId": "4c3cc329-0edb-4fc7-eb73-7d0235b81e45"
      },
      "outputs": [
        {
          "output_type": "stream",
          "name": "stdout",
          "text": [
            "Drive already mounted at /content/drive; to attempt to forcibly remount, call drive.mount(\"/content/drive\", force_remount=True).\n"
          ]
        }
      ],
      "source": [
        "from google.colab import drive\n",
        "drive.mount('/content/drive')"
      ]
    },
    {
      "cell_type": "markdown",
      "metadata": {
        "id": "6E44zCT7mKuW"
      },
      "source": [
        "## Input datasets\n",
        "I read from 5 datasets and combine them toghether\n",
        "\n",
        "because of the datasets fault, I can't separate them in file reading time, so I read it as a 1 column"
      ]
    },
    {
      "cell_type": "code",
      "execution_count": null,
      "metadata": {
        "id": "ofvH3s2FlaNB"
      },
      "outputs": [],
      "source": [
        "csv1 = pd.read_csv(\"/content/drive/MyDrive/NerDatas/Persian-NER-part1.txt\", header=None, delimiter=\"~\", names = ['All'], encoding_errors = 'ignore', low_memory=False)\n",
        "csv2 = pd.read_csv(\"/content/drive/MyDrive/NerDatas/Persian-NER-part2.txt\", header=None, delimiter=\"~\", names = ['All'], encoding_errors = 'ignore', low_memory=False)\n",
        "csv3 = pd.read_csv(\"/content/drive/MyDrive/NerDatas/Persian-NER-part3.txt\", header=None, delimiter=\"~\", names = ['All'], encoding_errors = 'ignore', low_memory=False)\n",
        "csv4 = pd.read_csv(\"/content/drive/MyDrive/NerDatas/Persian-NER-part4.txt\", header=None, delimiter=\"~\", names = ['All'], encoding_errors = 'ignore', low_memory=False)\n",
        "#csv5 = pd.read_csv(\"/content/drive/MyDrive/NerDatas/Persian-NER-part5.txt\", header=None, delimiter=\"~\", names = ['All'], encoding_errors = 'ignore', low_memory=False)     #changable"
      ]
    },
    {
      "cell_type": "code",
      "execution_count": null,
      "metadata": {
        "colab": {
          "base_uri": "https://localhost:8080/",
          "height": 424
        },
        "id": "L20Nd3DEw7yR",
        "outputId": "79d58f02-8d9d-4e0f-ee55-0234eff2a7b7"
      },
      "outputs": [
        {
          "data": {
            "text/html": [
              "\n",
              "  <div id=\"df-3ecaaf8a-9fe5-4f34-9914-4227bc9d2468\">\n",
              "    <div class=\"colab-df-container\">\n",
              "      <div>\n",
              "<style scoped>\n",
              "    .dataframe tbody tr th:only-of-type {\n",
              "        vertical-align: middle;\n",
              "    }\n",
              "\n",
              "    .dataframe tbody tr th {\n",
              "        vertical-align: top;\n",
              "    }\n",
              "\n",
              "    .dataframe thead th {\n",
              "        text-align: right;\n",
              "    }\n",
              "</style>\n",
              "<table border=\"1\" class=\"dataframe\">\n",
              "  <thead>\n",
              "    <tr style=\"text-align: right;\">\n",
              "      <th></th>\n",
              "      <th>All</th>\n",
              "    </tr>\n",
              "  </thead>\n",
              "  <tbody>\n",
              "    <tr>\n",
              "      <th>0</th>\n",
              "      <td>ویکی‌پدیای\\tO</td>\n",
              "    </tr>\n",
              "    <tr>\n",
              "      <th>1</th>\n",
              "      <td>انگلیسی\\tO</td>\n",
              "    </tr>\n",
              "    <tr>\n",
              "      <th>2</th>\n",
              "      <td>در\\tB-DAT</td>\n",
              "    </tr>\n",
              "    <tr>\n",
              "      <th>3</th>\n",
              "      <td>تاریخ\\tI-DAT</td>\n",
              "    </tr>\n",
              "    <tr>\n",
              "      <th>4</th>\n",
              "      <td>۱۵\\tI-DAT</td>\n",
              "    </tr>\n",
              "    <tr>\n",
              "      <th>...</th>\n",
              "      <td>...</td>\n",
              "    </tr>\n",
              "    <tr>\n",
              "      <th>10527407</th>\n",
              "      <td>روی\\tO</td>\n",
              "    </tr>\n",
              "    <tr>\n",
              "      <th>10527408</th>\n",
              "      <td>میز\\tO</td>\n",
              "    </tr>\n",
              "    <tr>\n",
              "      <th>10527409</th>\n",
              "      <td>گزارشگران\\tO</td>\n",
              "    </tr>\n",
              "    <tr>\n",
              "      <th>10527410</th>\n",
              "      <td>کوبیدند\\tO</td>\n",
              "    </tr>\n",
              "    <tr>\n",
              "      <th>10527411</th>\n",
              "      <td>.\\tO</td>\n",
              "    </tr>\n",
              "  </tbody>\n",
              "</table>\n",
              "<p>10527412 rows × 1 columns</p>\n",
              "</div>\n",
              "      <button class=\"colab-df-convert\" onclick=\"convertToInteractive('df-3ecaaf8a-9fe5-4f34-9914-4227bc9d2468')\"\n",
              "              title=\"Convert this dataframe to an interactive table.\"\n",
              "              style=\"display:none;\">\n",
              "        \n",
              "  <svg xmlns=\"http://www.w3.org/2000/svg\" height=\"24px\"viewBox=\"0 0 24 24\"\n",
              "       width=\"24px\">\n",
              "    <path d=\"M0 0h24v24H0V0z\" fill=\"none\"/>\n",
              "    <path d=\"M18.56 5.44l.94 2.06.94-2.06 2.06-.94-2.06-.94-.94-2.06-.94 2.06-2.06.94zm-11 1L8.5 8.5l.94-2.06 2.06-.94-2.06-.94L8.5 2.5l-.94 2.06-2.06.94zm10 10l.94 2.06.94-2.06 2.06-.94-2.06-.94-.94-2.06-.94 2.06-2.06.94z\"/><path d=\"M17.41 7.96l-1.37-1.37c-.4-.4-.92-.59-1.43-.59-.52 0-1.04.2-1.43.59L10.3 9.45l-7.72 7.72c-.78.78-.78 2.05 0 2.83L4 21.41c.39.39.9.59 1.41.59.51 0 1.02-.2 1.41-.59l7.78-7.78 2.81-2.81c.8-.78.8-2.07 0-2.86zM5.41 20L4 18.59l7.72-7.72 1.47 1.35L5.41 20z\"/>\n",
              "  </svg>\n",
              "      </button>\n",
              "      \n",
              "  <style>\n",
              "    .colab-df-container {\n",
              "      display:flex;\n",
              "      flex-wrap:wrap;\n",
              "      gap: 12px;\n",
              "    }\n",
              "\n",
              "    .colab-df-convert {\n",
              "      background-color: #E8F0FE;\n",
              "      border: none;\n",
              "      border-radius: 50%;\n",
              "      cursor: pointer;\n",
              "      display: none;\n",
              "      fill: #1967D2;\n",
              "      height: 32px;\n",
              "      padding: 0 0 0 0;\n",
              "      width: 32px;\n",
              "    }\n",
              "\n",
              "    .colab-df-convert:hover {\n",
              "      background-color: #E2EBFA;\n",
              "      box-shadow: 0px 1px 2px rgba(60, 64, 67, 0.3), 0px 1px 3px 1px rgba(60, 64, 67, 0.15);\n",
              "      fill: #174EA6;\n",
              "    }\n",
              "\n",
              "    [theme=dark] .colab-df-convert {\n",
              "      background-color: #3B4455;\n",
              "      fill: #D2E3FC;\n",
              "    }\n",
              "\n",
              "    [theme=dark] .colab-df-convert:hover {\n",
              "      background-color: #434B5C;\n",
              "      box-shadow: 0px 1px 3px 1px rgba(0, 0, 0, 0.15);\n",
              "      filter: drop-shadow(0px 1px 2px rgba(0, 0, 0, 0.3));\n",
              "      fill: #FFFFFF;\n",
              "    }\n",
              "  </style>\n",
              "\n",
              "      <script>\n",
              "        const buttonEl =\n",
              "          document.querySelector('#df-3ecaaf8a-9fe5-4f34-9914-4227bc9d2468 button.colab-df-convert');\n",
              "        buttonEl.style.display =\n",
              "          google.colab.kernel.accessAllowed ? 'block' : 'none';\n",
              "\n",
              "        async function convertToInteractive(key) {\n",
              "          const element = document.querySelector('#df-3ecaaf8a-9fe5-4f34-9914-4227bc9d2468');\n",
              "          const dataTable =\n",
              "            await google.colab.kernel.invokeFunction('convertToInteractive',\n",
              "                                                     [key], {});\n",
              "          if (!dataTable) return;\n",
              "\n",
              "          const docLinkHtml = 'Like what you see? Visit the ' +\n",
              "            '<a target=\"_blank\" href=https://colab.research.google.com/notebooks/data_table.ipynb>data table notebook</a>'\n",
              "            + ' to learn more about interactive tables.';\n",
              "          element.innerHTML = '';\n",
              "          dataTable['output_type'] = 'display_data';\n",
              "          await google.colab.output.renderOutput(dataTable, element);\n",
              "          const docLink = document.createElement('div');\n",
              "          docLink.innerHTML = docLinkHtml;\n",
              "          element.appendChild(docLink);\n",
              "        }\n",
              "      </script>\n",
              "    </div>\n",
              "  </div>\n",
              "  "
            ],
            "text/plain": [
              "                    All\n",
              "0         ویکی‌پدیای\\tO\n",
              "1            انگلیسی\\tO\n",
              "2             در\\tB-DAT\n",
              "3          تاریخ\\tI-DAT\n",
              "4             ۱۵\\tI-DAT\n",
              "...                 ...\n",
              "10527407         روی\\tO\n",
              "10527408         میز\\tO\n",
              "10527409   گزارشگران\\tO\n",
              "10527410     کوبیدند\\tO\n",
              "10527411           .\\tO\n",
              "\n",
              "[10527412 rows x 1 columns]"
            ]
          },
          "execution_count": 5,
          "metadata": {},
          "output_type": "execute_result"
        }
      ],
      "source": [
        "mainCsv = pd.DataFrame(columns=['All'])\n",
        "mainCsv = mainCsv.append(csv1, ignore_index=True)\n",
        "mainCsv = mainCsv.append(csv2, ignore_index=True)\n",
        "mainCsv = mainCsv.append(csv3, ignore_index=True)\n",
        "mainCsv = mainCsv.append(csv4, ignore_index=True)\n",
        "#data = data.append(csv5, ignore_index=True)   #changeable\n",
        "mainCsv"
      ]
    },
    {
      "cell_type": "code",
      "execution_count": null,
      "metadata": {
        "colab": {
          "base_uri": "https://localhost:8080/",
          "height": 424
        },
        "id": "e0Nr1Ko10F4Y",
        "outputId": "0dcfbc4e-5870-4437-810c-b650a18bbb77"
      },
      "outputs": [
        {
          "data": {
            "text/html": [
              "\n",
              "  <div id=\"df-9ac08a33-4a08-45d6-807c-df3cd3663851\">\n",
              "    <div class=\"colab-df-container\">\n",
              "      <div>\n",
              "<style scoped>\n",
              "    .dataframe tbody tr th:only-of-type {\n",
              "        vertical-align: middle;\n",
              "    }\n",
              "\n",
              "    .dataframe tbody tr th {\n",
              "        vertical-align: top;\n",
              "    }\n",
              "\n",
              "    .dataframe thead th {\n",
              "        text-align: right;\n",
              "    }\n",
              "</style>\n",
              "<table border=\"1\" class=\"dataframe\">\n",
              "  <thead>\n",
              "    <tr style=\"text-align: right;\">\n",
              "      <th></th>\n",
              "      <th>Token</th>\n",
              "      <th>NameEntity</th>\n",
              "    </tr>\n",
              "  </thead>\n",
              "  <tbody>\n",
              "    <tr>\n",
              "      <th>0</th>\n",
              "      <td>ویکی‌پدیای</td>\n",
              "      <td>O</td>\n",
              "    </tr>\n",
              "    <tr>\n",
              "      <th>1</th>\n",
              "      <td>انگلیسی</td>\n",
              "      <td>O</td>\n",
              "    </tr>\n",
              "    <tr>\n",
              "      <th>2</th>\n",
              "      <td>در</td>\n",
              "      <td>B-DAT</td>\n",
              "    </tr>\n",
              "    <tr>\n",
              "      <th>3</th>\n",
              "      <td>تاریخ</td>\n",
              "      <td>I-DAT</td>\n",
              "    </tr>\n",
              "    <tr>\n",
              "      <th>4</th>\n",
              "      <td>۱۵</td>\n",
              "      <td>I-DAT</td>\n",
              "    </tr>\n",
              "    <tr>\n",
              "      <th>...</th>\n",
              "      <td>...</td>\n",
              "      <td>...</td>\n",
              "    </tr>\n",
              "    <tr>\n",
              "      <th>10527407</th>\n",
              "      <td>روی</td>\n",
              "      <td>O</td>\n",
              "    </tr>\n",
              "    <tr>\n",
              "      <th>10527408</th>\n",
              "      <td>میز</td>\n",
              "      <td>O</td>\n",
              "    </tr>\n",
              "    <tr>\n",
              "      <th>10527409</th>\n",
              "      <td>گزارشگران</td>\n",
              "      <td>O</td>\n",
              "    </tr>\n",
              "    <tr>\n",
              "      <th>10527410</th>\n",
              "      <td>کوبیدند</td>\n",
              "      <td>O</td>\n",
              "    </tr>\n",
              "    <tr>\n",
              "      <th>10527411</th>\n",
              "      <td>.</td>\n",
              "      <td>O</td>\n",
              "    </tr>\n",
              "  </tbody>\n",
              "</table>\n",
              "<p>10527412 rows × 2 columns</p>\n",
              "</div>\n",
              "      <button class=\"colab-df-convert\" onclick=\"convertToInteractive('df-9ac08a33-4a08-45d6-807c-df3cd3663851')\"\n",
              "              title=\"Convert this dataframe to an interactive table.\"\n",
              "              style=\"display:none;\">\n",
              "        \n",
              "  <svg xmlns=\"http://www.w3.org/2000/svg\" height=\"24px\"viewBox=\"0 0 24 24\"\n",
              "       width=\"24px\">\n",
              "    <path d=\"M0 0h24v24H0V0z\" fill=\"none\"/>\n",
              "    <path d=\"M18.56 5.44l.94 2.06.94-2.06 2.06-.94-2.06-.94-.94-2.06-.94 2.06-2.06.94zm-11 1L8.5 8.5l.94-2.06 2.06-.94-2.06-.94L8.5 2.5l-.94 2.06-2.06.94zm10 10l.94 2.06.94-2.06 2.06-.94-2.06-.94-.94-2.06-.94 2.06-2.06.94z\"/><path d=\"M17.41 7.96l-1.37-1.37c-.4-.4-.92-.59-1.43-.59-.52 0-1.04.2-1.43.59L10.3 9.45l-7.72 7.72c-.78.78-.78 2.05 0 2.83L4 21.41c.39.39.9.59 1.41.59.51 0 1.02-.2 1.41-.59l7.78-7.78 2.81-2.81c.8-.78.8-2.07 0-2.86zM5.41 20L4 18.59l7.72-7.72 1.47 1.35L5.41 20z\"/>\n",
              "  </svg>\n",
              "      </button>\n",
              "      \n",
              "  <style>\n",
              "    .colab-df-container {\n",
              "      display:flex;\n",
              "      flex-wrap:wrap;\n",
              "      gap: 12px;\n",
              "    }\n",
              "\n",
              "    .colab-df-convert {\n",
              "      background-color: #E8F0FE;\n",
              "      border: none;\n",
              "      border-radius: 50%;\n",
              "      cursor: pointer;\n",
              "      display: none;\n",
              "      fill: #1967D2;\n",
              "      height: 32px;\n",
              "      padding: 0 0 0 0;\n",
              "      width: 32px;\n",
              "    }\n",
              "\n",
              "    .colab-df-convert:hover {\n",
              "      background-color: #E2EBFA;\n",
              "      box-shadow: 0px 1px 2px rgba(60, 64, 67, 0.3), 0px 1px 3px 1px rgba(60, 64, 67, 0.15);\n",
              "      fill: #174EA6;\n",
              "    }\n",
              "\n",
              "    [theme=dark] .colab-df-convert {\n",
              "      background-color: #3B4455;\n",
              "      fill: #D2E3FC;\n",
              "    }\n",
              "\n",
              "    [theme=dark] .colab-df-convert:hover {\n",
              "      background-color: #434B5C;\n",
              "      box-shadow: 0px 1px 3px 1px rgba(0, 0, 0, 0.15);\n",
              "      filter: drop-shadow(0px 1px 2px rgba(0, 0, 0, 0.3));\n",
              "      fill: #FFFFFF;\n",
              "    }\n",
              "  </style>\n",
              "\n",
              "      <script>\n",
              "        const buttonEl =\n",
              "          document.querySelector('#df-9ac08a33-4a08-45d6-807c-df3cd3663851 button.colab-df-convert');\n",
              "        buttonEl.style.display =\n",
              "          google.colab.kernel.accessAllowed ? 'block' : 'none';\n",
              "\n",
              "        async function convertToInteractive(key) {\n",
              "          const element = document.querySelector('#df-9ac08a33-4a08-45d6-807c-df3cd3663851');\n",
              "          const dataTable =\n",
              "            await google.colab.kernel.invokeFunction('convertToInteractive',\n",
              "                                                     [key], {});\n",
              "          if (!dataTable) return;\n",
              "\n",
              "          const docLinkHtml = 'Like what you see? Visit the ' +\n",
              "            '<a target=\"_blank\" href=https://colab.research.google.com/notebooks/data_table.ipynb>data table notebook</a>'\n",
              "            + ' to learn more about interactive tables.';\n",
              "          element.innerHTML = '';\n",
              "          dataTable['output_type'] = 'display_data';\n",
              "          await google.colab.output.renderOutput(dataTable, element);\n",
              "          const docLink = document.createElement('div');\n",
              "          docLink.innerHTML = docLinkHtml;\n",
              "          element.appendChild(docLink);\n",
              "        }\n",
              "      </script>\n",
              "    </div>\n",
              "  </div>\n",
              "  "
            ],
            "text/plain": [
              "               Token NameEntity\n",
              "0         ویکی‌پدیای          O\n",
              "1            انگلیسی          O\n",
              "2                 در      B-DAT\n",
              "3              تاریخ      I-DAT\n",
              "4                 ۱۵      I-DAT\n",
              "...              ...        ...\n",
              "10527407         روی          O\n",
              "10527408         میز          O\n",
              "10527409   گزارشگران          O\n",
              "10527410     کوبیدند          O\n",
              "10527411           .          O\n",
              "\n",
              "[10527412 rows x 2 columns]"
            ]
          },
          "execution_count": 6,
          "metadata": {},
          "output_type": "execute_result"
        }
      ],
      "source": [
        "tmp = mainCsv['All'].str.rsplit(\"\\t\", 1)\n",
        "dataWord = pd.DataFrame(list(tmp), columns = ['Token', 'NameEntity'])\n",
        "dataWord"
      ]
    },
    {
      "cell_type": "code",
      "execution_count": null,
      "metadata": {
        "colab": {
          "base_uri": "https://localhost:8080/",
          "height": 321
        },
        "id": "MhwyJAf41NMj",
        "outputId": "e8303fee-4cd5-4aa1-8a70-a286cfb65409"
      },
      "outputs": [
        {
          "data": {
            "text/plain": [
              "(-1.1033137785109566,\n",
              " 1.102811138826456,\n",
              " -1.1050851919181333,\n",
              " 1.1002421713451351)"
            ]
          },
          "execution_count": 33,
          "metadata": {},
          "output_type": "execute_result"
        },
        {
          "data": {
            "image/png": "[encoded data removed]",
            "text/plain": [
              "<Figure size 432x288 with 1 Axes>"
            ]
          },
          "metadata": {},
          "output_type": "display_data"
        }
      ],
      "source": [
        "x = dataWord['NameEntity'].value_counts()[1:-1]\n",
        "x = shuffle(x)\n",
        "fig1, ax1 = plt.subplots()\n",
        "ax1.pie(x.values, labels=x.keys(), autopct='%1.1f%%',shadow=True, startangle=90)\n",
        "ax1.axis('equal') "
      ]
    },
    {
      "cell_type": "code",
      "execution_count": null,
      "metadata": {
        "colab": {
          "base_uri": "https://localhost:8080/"
        },
        "id": "p2iNUxtd0GFz",
        "outputId": "9260cc61-c59b-442b-96fb-2f96ffcee00d"
      },
      "outputs": [
        {
          "data": {
            "text/plain": [
              "O        8728635\n",
              "I-DAT     383590\n",
              "B-DAT     294479\n",
              "B-LOC     252790\n",
              "I-PER     178051\n",
              "I-ORG     174526\n",
              "B-PER     164234\n",
              "I-LOC     158827\n",
              "B-ORG     113397\n",
              "I-EVE      51561\n",
              "B-EVE      27310\n",
              "Name: NameEntity, dtype: int64"
            ]
          },
          "execution_count": 8,
          "metadata": {},
          "output_type": "execute_result"
        }
      ],
      "source": [
        "dataWord['NameEntity'].value_counts()"
      ]
    },
    {
      "cell_type": "code",
      "execution_count": null,
      "metadata": {
        "colab": {
          "base_uri": "https://localhost:8080/"
        },
        "id": "FO1v7QOtRZXt",
        "outputId": "2ecad95f-204d-4b20-8a8f-97c333ed9ef4"
      },
      "outputs": [
        {
          "data": {
            "text/plain": [
              "Int64Index([ 1193638,  2569124,  2613297,  5508457,  7587616,  8104097,\n",
              "             8265958,  8566774,  8709133,  8753008,  8968246, 10258056],\n",
              "           dtype='int64')"
            ]
          },
          "execution_count": 9,
          "metadata": {},
          "output_type": "execute_result"
        }
      ],
      "source": [
        "nanIndices = dataWord['NameEntity'][dataWord['NameEntity'].isnull().values].index\n",
        "nanIndices"
      ]
    },
    {
      "cell_type": "code",
      "execution_count": null,
      "metadata": {
        "colab": {
          "base_uri": "https://localhost:8080/",
          "height": 426
        },
        "id": "n15vM0L4RpdZ",
        "outputId": "a84a1c9f-dc89-4eb7-87c8-a7c6399c59c5"
      },
      "outputs": [
        {
          "data": {
            "text/html": [
              "\n",
              "  <div id=\"df-3aa25467-2ae2-4292-bd32-1847dd80d88d\">\n",
              "    <div class=\"colab-df-container\">\n",
              "      <div>\n",
              "<style scoped>\n",
              "    .dataframe tbody tr th:only-of-type {\n",
              "        vertical-align: middle;\n",
              "    }\n",
              "\n",
              "    .dataframe tbody tr th {\n",
              "        vertical-align: top;\n",
              "    }\n",
              "\n",
              "    .dataframe thead th {\n",
              "        text-align: right;\n",
              "    }\n",
              "</style>\n",
              "<table border=\"1\" class=\"dataframe\">\n",
              "  <thead>\n",
              "    <tr style=\"text-align: right;\">\n",
              "      <th></th>\n",
              "      <th>Token</th>\n",
              "      <th>NameEntity</th>\n",
              "    </tr>\n",
              "  </thead>\n",
              "  <tbody>\n",
              "    <tr>\n",
              "      <th>1193638</th>\n",
              "      <td>http://turnbull.mcs.st-and.ac.uk/</td>\n",
              "      <td>None</td>\n",
              "    </tr>\n",
              "    <tr>\n",
              "      <th>2569124</th>\n",
              "      <td>http://kiau.ac.ir/</td>\n",
              "      <td>None</td>\n",
              "    </tr>\n",
              "    <tr>\n",
              "      <th>2613297</th>\n",
              "      <td>2</td>\n",
              "      <td>None</td>\n",
              "    </tr>\n",
              "    <tr>\n",
              "      <th>5508457</th>\n",
              "      <td>http://sharif.edu/</td>\n",
              "      <td>None</td>\n",
              "    </tr>\n",
              "    <tr>\n",
              "      <th>7587616</th>\n",
              "      <td>members.tripod.com/</td>\n",
              "      <td>None</td>\n",
              "    </tr>\n",
              "    <tr>\n",
              "      <th>8104097</th>\n",
              "      <td>http://www.rph.wa.gov.au/</td>\n",
              "      <td>None</td>\n",
              "    </tr>\n",
              "    <tr>\n",
              "      <th>8265958</th>\n",
              "      <td>http://sharif.edu/</td>\n",
              "      <td>None</td>\n",
              "    </tr>\n",
              "    <tr>\n",
              "      <th>8566774</th>\n",
              "      <td>http://web.eecs.umich.edu/</td>\n",
              "      <td>None</td>\n",
              "    </tr>\n",
              "    <tr>\n",
              "      <th>8709133</th>\n",
              "      <td>http://lisa.cs.duke.edu/</td>\n",
              "      <td>None</td>\n",
              "    </tr>\n",
              "    <tr>\n",
              "      <th>8753008</th>\n",
              "      <td>http://freepages.genealogy.rootsweb.ancestry.com/</td>\n",
              "      <td>None</td>\n",
              "    </tr>\n",
              "    <tr>\n",
              "      <th>8968246</th>\n",
              "      <td>http://www.mckusick.com/</td>\n",
              "      <td>None</td>\n",
              "    </tr>\n",
              "    <tr>\n",
              "      <th>10258056</th>\n",
              "      <td>www.cs.uvm.edu/</td>\n",
              "      <td>None</td>\n",
              "    </tr>\n",
              "  </tbody>\n",
              "</table>\n",
              "</div>\n",
              "      <button class=\"colab-df-convert\" onclick=\"convertToInteractive('df-3aa25467-2ae2-4292-bd32-1847dd80d88d')\"\n",
              "              title=\"Convert this dataframe to an interactive table.\"\n",
              "              style=\"display:none;\">\n",
              "        \n",
              "  <svg xmlns=\"http://www.w3.org/2000/svg\" height=\"24px\"viewBox=\"0 0 24 24\"\n",
              "       width=\"24px\">\n",
              "    <path d=\"M0 0h24v24H0V0z\" fill=\"none\"/>\n",
              "    <path d=\"M18.56 5.44l.94 2.06.94-2.06 2.06-.94-2.06-.94-.94-2.06-.94 2.06-2.06.94zm-11 1L8.5 8.5l.94-2.06 2.06-.94-2.06-.94L8.5 2.5l-.94 2.06-2.06.94zm10 10l.94 2.06.94-2.06 2.06-.94-2.06-.94-.94-2.06-.94 2.06-2.06.94z\"/><path d=\"M17.41 7.96l-1.37-1.37c-.4-.4-.92-.59-1.43-.59-.52 0-1.04.2-1.43.59L10.3 9.45l-7.72 7.72c-.78.78-.78 2.05 0 2.83L4 21.41c.39.39.9.59 1.41.59.51 0 1.02-.2 1.41-.59l7.78-7.78 2.81-2.81c.8-.78.8-2.07 0-2.86zM5.41 20L4 18.59l7.72-7.72 1.47 1.35L5.41 20z\"/>\n",
              "  </svg>\n",
              "      </button>\n",
              "      \n",
              "  <style>\n",
              "    .colab-df-container {\n",
              "      display:flex;\n",
              "      flex-wrap:wrap;\n",
              "      gap: 12px;\n",
              "    }\n",
              "\n",
              "    .colab-df-convert {\n",
              "      background-color: #E8F0FE;\n",
              "      border: none;\n",
              "      border-radius: 50%;\n",
              "      cursor: pointer;\n",
              "      display: none;\n",
              "      fill: #1967D2;\n",
              "      height: 32px;\n",
              "      padding: 0 0 0 0;\n",
              "      width: 32px;\n",
              "    }\n",
              "\n",
              "    .colab-df-convert:hover {\n",
              "      background-color: #E2EBFA;\n",
              "      box-shadow: 0px 1px 2px rgba(60, 64, 67, 0.3), 0px 1px 3px 1px rgba(60, 64, 67, 0.15);\n",
              "      fill: #174EA6;\n",
              "    }\n",
              "\n",
              "    [theme=dark] .colab-df-convert {\n",
              "      background-color: #3B4455;\n",
              "      fill: #D2E3FC;\n",
              "    }\n",
              "\n",
              "    [theme=dark] .colab-df-convert:hover {\n",
              "      background-color: #434B5C;\n",
              "      box-shadow: 0px 1px 3px 1px rgba(0, 0, 0, 0.15);\n",
              "      filter: drop-shadow(0px 1px 2px rgba(0, 0, 0, 0.3));\n",
              "      fill: #FFFFFF;\n",
              "    }\n",
              "  </style>\n",
              "\n",
              "      <script>\n",
              "        const buttonEl =\n",
              "          document.querySelector('#df-3aa25467-2ae2-4292-bd32-1847dd80d88d button.colab-df-convert');\n",
              "        buttonEl.style.display =\n",
              "          google.colab.kernel.accessAllowed ? 'block' : 'none';\n",
              "\n",
              "        async function convertToInteractive(key) {\n",
              "          const element = document.querySelector('#df-3aa25467-2ae2-4292-bd32-1847dd80d88d');\n",
              "          const dataTable =\n",
              "            await google.colab.kernel.invokeFunction('convertToInteractive',\n",
              "                                                     [key], {});\n",
              "          if (!dataTable) return;\n",
              "\n",
              "          const docLinkHtml = 'Like what you see? Visit the ' +\n",
              "            '<a target=\"_blank\" href=https://colab.research.google.com/notebooks/data_table.ipynb>data table notebook</a>'\n",
              "            + ' to learn more about interactive tables.';\n",
              "          element.innerHTML = '';\n",
              "          dataTable['output_type'] = 'display_data';\n",
              "          await google.colab.output.renderOutput(dataTable, element);\n",
              "          const docLink = document.createElement('div');\n",
              "          docLink.innerHTML = docLinkHtml;\n",
              "          element.appendChild(docLink);\n",
              "        }\n",
              "      </script>\n",
              "    </div>\n",
              "  </div>\n",
              "  "
            ],
            "text/plain": [
              "                                                      Token NameEntity\n",
              "1193638                   http://turnbull.mcs.st-and.ac.uk/       None\n",
              "2569124                                  http://kiau.ac.ir/       None\n",
              "2613297                                                   2       None\n",
              "5508457                                  http://sharif.edu/       None\n",
              "7587616                                 members.tripod.com/       None\n",
              "8104097                           http://www.rph.wa.gov.au/       None\n",
              "8265958                                  http://sharif.edu/       None\n",
              "8566774                          http://web.eecs.umich.edu/       None\n",
              "8709133                            http://lisa.cs.duke.edu/       None\n",
              "8753008   http://freepages.genealogy.rootsweb.ancestry.com/       None\n",
              "8968246                            http://www.mckusick.com/       None\n",
              "10258056                                    www.cs.uvm.edu/       None"
            ]
          },
          "execution_count": 10,
          "metadata": {},
          "output_type": "execute_result"
        }
      ],
      "source": [
        "dataWord.iloc[nanIndices]"
      ]
    },
    {
      "cell_type": "code",
      "execution_count": null,
      "metadata": {
        "id": "ij8IMAqJRpw5"
      },
      "outputs": [],
      "source": [
        "dataWord = dataWord.dropna()\n",
        "dataWord = dataWord.reset_index(drop = True)"
      ]
    },
    {
      "cell_type": "code",
      "execution_count": null,
      "metadata": {
        "id": "n5_rbAozRp11"
      },
      "outputs": [],
      "source": [
        "def makeSentences(dotIndices, data):\n",
        "  columns = ['Text', 'Label']\n",
        "  df= []\n",
        "  begin = 0\n",
        "  for i in range(len(dotIndices)):\n",
        "    tmp = data.iloc[begin:dotIndices[i]]\n",
        "    begin = dotIndices[i] + 1\n",
        "    _list=[]\n",
        "    _list.append(' '.join(list(tmp['Token'])))\n",
        "    _list.append(' '.join(list(tmp['NameEntity'])))\n",
        "    df.append(_list)\n",
        "  df= pd.DataFrame(df,columns=list(columns))\n",
        "  return df"
      ]
    },
    {
      "cell_type": "code",
      "execution_count": null,
      "metadata": {
        "id": "Dqp8lI2O9Ube"
      },
      "outputs": [],
      "source": [
        "def bad_token_indices(tokens): #inja / ro ham gozashti khaaaaak \n",
        "  bads = []\n",
        "  badChars = ['(', ')', ' ', '[', ']', '{', '}', ';', ':', '،', '-', '>', '<', '?', '!', '=', '\\'', '\\\"', '@', '#']\n",
        "  for i in range(len(tokens)):\n",
        "    for badChar in badChars:\n",
        "      if(badChar in tokens.iloc[i] and '.' not in tokens.iloc[i]):\n",
        "        bads.append(i)\n",
        "        break\n",
        "  return bads"
      ]
    },
    {
      "cell_type": "code",
      "execution_count": null,
      "metadata": {
        "id": "ECos-29gFPG9"
      },
      "outputs": [],
      "source": [
        "badTokenIndices = bad_token_indices(dataWord['Token'])"
      ]
    },
    {
      "cell_type": "code",
      "execution_count": null,
      "metadata": {
        "id": "ytg0tgzz9Wvj"
      },
      "outputs": [],
      "source": [
        "np.save('/content/drive/MyDrive/NerDatas/innerInputs/badTokenIndices.np', np.array(badTokenIndices))"
      ]
    },
    {
      "cell_type": "code",
      "execution_count": null,
      "metadata": {
        "id": "LKhgZNwm-zRW"
      },
      "outputs": [],
      "source": [
        "badTokenIndices = np.load('/content/drive/MyDrive/NerDatas/innerInputs/badTokenIndices.np.npy')"
      ]
    },
    {
      "cell_type": "code",
      "execution_count": null,
      "metadata": {
        "id": "lIb04cTwGXB_"
      },
      "outputs": [],
      "source": [
        "dataWord.drop(labels = badTokenIndices, axis = 0, inplace=True)"
      ]
    },
    {
      "cell_type": "code",
      "execution_count": null,
      "metadata": {
        "id": "CmPa2MzbK6JR"
      },
      "outputs": [],
      "source": [
        "dataWord = dataWord.reset_index(drop = True)"
      ]
    },
    {
      "cell_type": "code",
      "execution_count": null,
      "metadata": {
        "id": "5H-6lUKfr3mN"
      },
      "outputs": [],
      "source": [
        "def calc_average_list  "
      ]
    },
    {
      "cell_type": "code",
      "execution_count": null,
      "metadata": {
        "id": "inmlLxCoLQNV"
      },
      "outputs": [],
      "source": [
        "def label_to_one_hot(value):\n",
        "  list_classes = ['O', 'B-DAT', 'I-DAT', 'B-LOC', 'I-LOC', 'B-PER', 'I-PER', 'B-ORG', 'I-ORG', 'B-EVE', 'I-EVE']\n",
        "  if value == list_classes[0]:\n",
        "    return [1, 0, 0, 0, 0, 0, 0, 0, 0, 0, 0]\n",
        "  if value == list_classes[1]:\n",
        "    return [0, 1, 0, 0, 0, 0, 0, 0, 0, 0, 0]\n",
        "  if value == list_classes[2]:\n",
        "    return [0, 0, 1, 0, 0, 0, 0, 0, 0, 0, 0]\n",
        "  if value == list_classes[3]:\n",
        "    return [0, 0, 0, 1, 0, 0, 0, 0, 0, 0, 0]\n",
        "  if value == list_classes[4]:\n",
        "    return [0, 0, 0, 0, 1, 0, 0, 0, 0, 0, 0]\n",
        "  if value == list_classes[5]:\n",
        "    return [0, 0, 0, 0, 0, 1, 0, 0, 0, 0, 0]\n",
        "  if value == list_classes[6]:\n",
        "    return [0, 0, 0, 0, 0, 0, 1, 0, 0, 0, 0]\n",
        "  if value == list_classes[7]:\n",
        "    return [0, 0, 0, 0, 0, 0, 0, 1, 0, 0, 0]\n",
        "  if value == list_classes[8]:\n",
        "    return [0, 0, 0, 0, 0, 0, 0, 0, 1, 0, 0]\n",
        "  if value == list_classes[9]:\n",
        "    return [0, 0, 0, 0, 0, 0, 0, 0, 0, 1, 0]\n",
        "  if value == list_classes[10]:\n",
        "    return [0, 0, 0, 0, 0, 0, 0, 0, 0, 0, 1]"
      ]
    },
    {
      "cell_type": "code",
      "execution_count": null,
      "metadata": {
        "id": "PGN-LgfM-gFk"
      },
      "outputs": [],
      "source": [
        "def removeBadSentences(X, Y):\n",
        "  newX = []\n",
        "  newY = []\n",
        "  indices = []\n",
        "  ind = -1\n",
        "\n",
        "  for x, y in zip(X, Y):\n",
        "    ind += 1\n",
        "    if len(x) == len(y):\n",
        "      indices.append(ind)\n",
        "      newX.append(x)\n",
        "      newY.append(y)\n",
        "\n",
        "  return newX, newY, indices"
      ]
    },
    {
      "cell_type": "code",
      "execution_count": null,
      "metadata": {
        "id": "l9l40dTCBQbC"
      },
      "outputs": [],
      "source": [
        "def badPercentage(x, y):\n",
        "  ind = -1\n",
        "  notEquallen = 0\n",
        "\n",
        "  for a,b in zip(x, y):\n",
        "    ind += 1\n",
        "    if len(a) != len(b):\n",
        "      notEquallen += 1\n",
        "\n",
        "  return notEquallen / len(list_tokenized_train)"
      ]
    },
    {
      "cell_type": "code",
      "execution_count": null,
      "metadata": {
        "id": "KGMKmTbh9J2R"
      },
      "outputs": [],
      "source": [
        ""
      ]
    },
    {
      "cell_type": "code",
      "execution_count": null,
      "metadata": {
        "id": "bE1WXCPMQv95"
      },
      "outputs": [],
      "source": [
        "dotIndices = list(dataWord['Token'][dataWord['Token'] == '.'].index)\n",
        "dataSentences = makeSentences(dotIndices, dataWord)"
      ]
    },
    {
      "cell_type": "code",
      "execution_count": null,
      "metadata": {
        "colab": {
          "base_uri": "https://localhost:8080/",
          "height": 424
        },
        "id": "uM5QotTpY06r",
        "outputId": "3846d91d-90d6-4376-d315-2a5e8697555a"
      },
      "outputs": [
        {
          "data": {
            "text/html": [
              "\n",
              "  <div id=\"df-73822b33-730e-4f2f-8032-41c04393e02c\">\n",
              "    <div class=\"colab-df-container\">\n",
              "      <div>\n",
              "<style scoped>\n",
              "    .dataframe tbody tr th:only-of-type {\n",
              "        vertical-align: middle;\n",
              "    }\n",
              "\n",
              "    .dataframe tbody tr th {\n",
              "        vertical-align: top;\n",
              "    }\n",
              "\n",
              "    .dataframe thead th {\n",
              "        text-align: right;\n",
              "    }\n",
              "</style>\n",
              "<table border=\"1\" class=\"dataframe\">\n",
              "  <thead>\n",
              "    <tr style=\"text-align: right;\">\n",
              "      <th></th>\n",
              "      <th>Text</th>\n",
              "      <th>Label</th>\n",
              "    </tr>\n",
              "  </thead>\n",
              "  <tbody>\n",
              "    <tr>\n",
              "      <th>0</th>\n",
              "      <td>ویکی‌پدیای انگلیسی در تاریخ ۱۵ ژانویه ۲۰۰۱ میل...</td>\n",
              "      <td>O O B-DAT I-DAT I-DAT I-DAT I-DAT B-DAT B-DAT ...</td>\n",
              "    </tr>\n",
              "    <tr>\n",
              "      <th>1</th>\n",
              "      <td>بنیان‌گذاران آن جیمی ولز و لری سنگر هستند</td>\n",
              "      <td>O O B-PER I-PER O B-PER I-PER O</td>\n",
              "    </tr>\n",
              "    <tr>\n",
              "      <th>2</th>\n",
              "      <td>هم‌اکنون بنیاد غیرانتفاعی بنیاد ویکی‌مدیا پروژ...</td>\n",
              "      <td>O O O B-ORG I-ORG O O O O O</td>\n",
              "    </tr>\n",
              "    <tr>\n",
              "      <th>3</th>\n",
              "      <td>کارساز وب اصلی این وبگاه در شهر تامپا ی فلورید...</td>\n",
              "      <td>O O O O O O O B-LOC O B-LOC O</td>\n",
              "    </tr>\n",
              "    <tr>\n",
              "      <th>4</th>\n",
              "      <td>همچنین میزبان‌های اضافی دیگری هم در شهرهای آمس...</td>\n",
              "      <td>O O O O O O O B-LOC O B-LOC O O O O O</td>\n",
              "    </tr>\n",
              "    <tr>\n",
              "      <th>...</th>\n",
              "      <td>...</td>\n",
              "      <td>...</td>\n",
              "    </tr>\n",
              "    <tr>\n",
              "      <th>400326</th>\n",
              "      <td>۲۰۱۳ درگذشت و آندرتیکر و کین برای او مراسم یاد...</td>\n",
              "      <td>O O O B-ORG I-ORG I-ORG O O O O O</td>\n",
              "    </tr>\n",
              "    <tr>\n",
              "      <th>400327</th>\n",
              "      <td>در تاریخ ۲۳ ژوئیه ۲۰۱۲ در‌حین اجرای شوی WWE را...</td>\n",
              "      <td>B-DAT I-DAT B-DAT I-DAT I-DAT O O O O O O O O ...</td>\n",
              "    </tr>\n",
              "    <tr>\n",
              "      <th>400328</th>\n",
              "      <td>در سال بعد ۲۰۱۳ کمی قبل از رستلمنیا ۲۹ پول بیر...</td>\n",
              "      <td>B-DAT B-DAT I-DAT O O O O B-EVE I-EVE O O O O ...</td>\n",
              "    </tr>\n",
              "    <tr>\n",
              "      <th>400329</th>\n",
              "      <td>در رستلمنیا ۲۹ یک مسابقه بین آندرتیکر و CM پان...</td>\n",
              "      <td>O B-EVE I-EVE O O O O O O O O O O O O O O O O ...</td>\n",
              "    </tr>\n",
              "    <tr>\n",
              "      <th>400330</th>\n",
              "      <td>اما پس از مسابقه گروه شیلد آندرتیکر را روی میز...</td>\n",
              "      <td>O O O O B-ORG I-ORG O O O O O O</td>\n",
              "    </tr>\n",
              "  </tbody>\n",
              "</table>\n",
              "<p>400331 rows × 2 columns</p>\n",
              "</div>\n",
              "      <button class=\"colab-df-convert\" onclick=\"convertToInteractive('df-73822b33-730e-4f2f-8032-41c04393e02c')\"\n",
              "              title=\"Convert this dataframe to an interactive table.\"\n",
              "              style=\"display:none;\">\n",
              "        \n",
              "  <svg xmlns=\"http://www.w3.org/2000/svg\" height=\"24px\"viewBox=\"0 0 24 24\"\n",
              "       width=\"24px\">\n",
              "    <path d=\"M0 0h24v24H0V0z\" fill=\"none\"/>\n",
              "    <path d=\"M18.56 5.44l.94 2.06.94-2.06 2.06-.94-2.06-.94-.94-2.06-.94 2.06-2.06.94zm-11 1L8.5 8.5l.94-2.06 2.06-.94-2.06-.94L8.5 2.5l-.94 2.06-2.06.94zm10 10l.94 2.06.94-2.06 2.06-.94-2.06-.94-.94-2.06-.94 2.06-2.06.94z\"/><path d=\"M17.41 7.96l-1.37-1.37c-.4-.4-.92-.59-1.43-.59-.52 0-1.04.2-1.43.59L10.3 9.45l-7.72 7.72c-.78.78-.78 2.05 0 2.83L4 21.41c.39.39.9.59 1.41.59.51 0 1.02-.2 1.41-.59l7.78-7.78 2.81-2.81c.8-.78.8-2.07 0-2.86zM5.41 20L4 18.59l7.72-7.72 1.47 1.35L5.41 20z\"/>\n",
              "  </svg>\n",
              "      </button>\n",
              "      \n",
              "  <style>\n",
              "    .colab-df-container {\n",
              "      display:flex;\n",
              "      flex-wrap:wrap;\n",
              "      gap: 12px;\n",
              "    }\n",
              "\n",
              "    .colab-df-convert {\n",
              "      background-color: #E8F0FE;\n",
              "      border: none;\n",
              "      border-radius: 50%;\n",
              "      cursor: pointer;\n",
              "      display: none;\n",
              "      fill: #1967D2;\n",
              "      height: 32px;\n",
              "      padding: 0 0 0 0;\n",
              "      width: 32px;\n",
              "    }\n",
              "\n",
              "    .colab-df-convert:hover {\n",
              "      background-color: #E2EBFA;\n",
              "      box-shadow: 0px 1px 2px rgba(60, 64, 67, 0.3), 0px 1px 3px 1px rgba(60, 64, 67, 0.15);\n",
              "      fill: #174EA6;\n",
              "    }\n",
              "\n",
              "    [theme=dark] .colab-df-convert {\n",
              "      background-color: #3B4455;\n",
              "      fill: #D2E3FC;\n",
              "    }\n",
              "\n",
              "    [theme=dark] .colab-df-convert:hover {\n",
              "      background-color: #434B5C;\n",
              "      box-shadow: 0px 1px 3px 1px rgba(0, 0, 0, 0.15);\n",
              "      filter: drop-shadow(0px 1px 2px rgba(0, 0, 0, 0.3));\n",
              "      fill: #FFFFFF;\n",
              "    }\n",
              "  </style>\n",
              "\n",
              "      <script>\n",
              "        const buttonEl =\n",
              "          document.querySelector('#df-73822b33-730e-4f2f-8032-41c04393e02c button.colab-df-convert');\n",
              "        buttonEl.style.display =\n",
              "          google.colab.kernel.accessAllowed ? 'block' : 'none';\n",
              "\n",
              "        async function convertToInteractive(key) {\n",
              "          const element = document.querySelector('#df-73822b33-730e-4f2f-8032-41c04393e02c');\n",
              "          const dataTable =\n",
              "            await google.colab.kernel.invokeFunction('convertToInteractive',\n",
              "                                                     [key], {});\n",
              "          if (!dataTable) return;\n",
              "\n",
              "          const docLinkHtml = 'Like what you see? Visit the ' +\n",
              "            '<a target=\"_blank\" href=https://colab.research.google.com/notebooks/data_table.ipynb>data table notebook</a>'\n",
              "            + ' to learn more about interactive tables.';\n",
              "          element.innerHTML = '';\n",
              "          dataTable['output_type'] = 'display_data';\n",
              "          await google.colab.output.renderOutput(dataTable, element);\n",
              "          const docLink = document.createElement('div');\n",
              "          docLink.innerHTML = docLinkHtml;\n",
              "          element.appendChild(docLink);\n",
              "        }\n",
              "      </script>\n",
              "    </div>\n",
              "  </div>\n",
              "  "
            ],
            "text/plain": [
              "                                                     Text  \\\n",
              "0       ویکی‌پدیای انگلیسی در تاریخ ۱۵ ژانویه ۲۰۰۱ میل...   \n",
              "1               بنیان‌گذاران آن جیمی ولز و لری سنگر هستند   \n",
              "2       هم‌اکنون بنیاد غیرانتفاعی بنیاد ویکی‌مدیا پروژ...   \n",
              "3       کارساز وب اصلی این وبگاه در شهر تامپا ی فلورید...   \n",
              "4       همچنین میزبان‌های اضافی دیگری هم در شهرهای آمس...   \n",
              "...                                                   ...   \n",
              "400326  ۲۰۱۳ درگذشت و آندرتیکر و کین برای او مراسم یاد...   \n",
              "400327  در تاریخ ۲۳ ژوئیه ۲۰۱۲ در‌حین اجرای شوی WWE را...   \n",
              "400328  در سال بعد ۲۰۱۳ کمی قبل از رستلمنیا ۲۹ پول بیر...   \n",
              "400329  در رستلمنیا ۲۹ یک مسابقه بین آندرتیکر و CM پان...   \n",
              "400330  اما پس از مسابقه گروه شیلد آندرتیکر را روی میز...   \n",
              "\n",
              "                                                    Label  \n",
              "0       O O B-DAT I-DAT I-DAT I-DAT I-DAT B-DAT B-DAT ...  \n",
              "1                         O O B-PER I-PER O B-PER I-PER O  \n",
              "2                             O O O B-ORG I-ORG O O O O O  \n",
              "3                           O O O O O O O B-LOC O B-LOC O  \n",
              "4                   O O O O O O O B-LOC O B-LOC O O O O O  \n",
              "...                                                   ...  \n",
              "400326                  O O O B-ORG I-ORG I-ORG O O O O O  \n",
              "400327  B-DAT I-DAT B-DAT I-DAT I-DAT O O O O O O O O ...  \n",
              "400328  B-DAT B-DAT I-DAT O O O O B-EVE I-EVE O O O O ...  \n",
              "400329  O B-EVE I-EVE O O O O O O O O O O O O O O O O ...  \n",
              "400330                    O O O O B-ORG I-ORG O O O O O O  \n",
              "\n",
              "[400331 rows x 2 columns]"
            ]
          },
          "execution_count": 27,
          "metadata": {},
          "output_type": "execute_result"
        }
      ],
      "source": [
        "dataSentences"
      ]
    },
    {
      "cell_type": "markdown",
      "metadata": {
        "id": "0cAxAw4VNbFd"
      },
      "source": [
        "## Split data into X and y"
      ]
    },
    {
      "cell_type": "code",
      "execution_count": null,
      "metadata": {
        "id": "8RM1P3zURp8_"
      },
      "outputs": [],
      "source": [
        "yLabel = dataSentences['Label']\n",
        "sentences = dataSentences['Text']"
      ]
    },
    {
      "cell_type": "markdown",
      "metadata": {
        "id": "awfBkucY-LGR"
      },
      "source": [
        "## Tokenization"
      ]
    },
    {
      "cell_type": "code",
      "execution_count": null,
      "metadata": {
        "id": "HJq4GGarPCGH"
      },
      "outputs": [],
      "source": [
        "max_features = 750025   # changeable\n",
        "tokenizer = Tokenizer(num_words=max_features)\n",
        "tokenizer.fit_on_texts(list(sentences))\n",
        "list_tokenized_train = tokenizer.texts_to_sequences(sentences)\n",
        "\n",
        "y = [[label_to_one_hot(c) for c in ey.split(' ')] for ey in yLabel]"
      ]
    },
    {
      "cell_type": "code",
      "execution_count": null,
      "metadata": {
        "colab": {
          "base_uri": "https://localhost:8080/",
          "height": 265
        },
        "id": "aR6_vH_kM6hs",
        "outputId": "3406162a-bb75-40fd-d106-c7e805c03a45"
      },
      "outputs": [
        {
          "data": {
            "image/png": "[encoded data removed]",
            "text/plain": [
              "<Figure size 432x288 with 1 Axes>"
            ]
          },
          "metadata": {},
          "output_type": "display_data"
        }
      ],
      "source": [
        "senLens = [len(sen) for sen in list_tokenized_train]\n",
        "plt.hist(senLens, bins = np.arange(0,120,5))\n",
        "plt.show()"
      ]
    },
    {
      "cell_type": "markdown",
      "metadata": {
        "id": "r7Eg-wJBAxsP"
      },
      "source": [
        "## Find bad Sentences and remove them "
      ]
    },
    {
      "cell_type": "code",
      "execution_count": null,
      "metadata": {
        "colab": {
          "base_uri": "https://localhost:8080/"
        },
        "id": "1AQDdf4-NcMi",
        "outputId": "ec9ace2e-f594-4414-cd2c-658d60cbdd3d"
      },
      "outputs": [
        {
          "data": {
            "text/plain": [
              "0.0"
            ]
          },
          "execution_count": 42,
          "metadata": {},
          "output_type": "execute_result"
        }
      ],
      "source": [
        "badPercentage(list_tokenized_train, y)"
      ]
    },
    {
      "cell_type": "code",
      "execution_count": null,
      "metadata": {
        "id": "tL22lWe4NcO8"
      },
      "outputs": [],
      "source": [
        "list_tokenized_train, y, goodIndices = removeBadSentences(list_tokenized_train, y)"
      ]
    },
    {
      "cell_type": "code",
      "execution_count": null,
      "metadata": {
        "colab": {
          "base_uri": "https://localhost:8080/"
        },
        "id": "4jDzC7oqNcRd",
        "outputId": "542687fc-4cb1-4fbe-f8e0-06df19488df1"
      },
      "outputs": [
        {
          "data": {
            "text/plain": [
              "0.0"
            ]
          },
          "execution_count": 15,
          "metadata": {},
          "output_type": "execute_result"
        }
      ],
      "source": [
        "badPercentage(list_tokenized_train, y)"
      ]
    },
    {
      "cell_type": "code",
      "execution_count": null,
      "metadata": {
        "id": "foBnkHfSNcWN"
      },
      "outputs": [],
      "source": [
        "dataWord = dataWord.iloc[goodIndices]              #run once...\n",
        "dataSentenses = dataSentenses.iloc[goodIndices]"
      ]
    },
    {
      "cell_type": "code",
      "execution_count": null,
      "metadata": {
        "id": "-tnInV66k1Il"
      },
      "outputs": [],
      "source": [
        "dataSentenses = dataSentenses.reset_index(drop = True)"
      ]
    },
    {
      "cell_type": "code",
      "execution_count": null,
      "metadata": {
        "id": "g5HmBWEkWbfp"
      },
      "outputs": [],
      "source": [
        "sentences = sentences.iloc[goodIndices]            #run once...\n"
      ]
    },
    {
      "cell_type": "code",
      "execution_count": null,
      "metadata": {
        "id": "9KYBFF59YGFS"
      },
      "outputs": [],
      "source": [
        "dataSentences = dataSentences.iloc[goodIndices]     #run once..."
      ]
    },
    {
      "cell_type": "code",
      "execution_count": null,
      "metadata": {
        "id": "SKJ_gvFJYGHg"
      },
      "outputs": [],
      "source": [
        "dataSentences = dataSentences.reset_index(drop = True)  #run once..."
      ]
    },
    {
      "cell_type": "code",
      "execution_count": null,
      "metadata": {
        "id": "6S0sXh_QYc3h"
      },
      "outputs": [],
      "source": [
        "dataSentences"
      ]
    },
    {
      "cell_type": "code",
      "execution_count": null,
      "metadata": {
        "colab": {
          "base_uri": "https://localhost:8080/"
        },
        "id": "M5czoMbWXvYu",
        "outputId": "89dd2d80-246b-40c2-9334-e47fde2b46a8"
      },
      "outputs": [
        {
          "data": {
            "text/plain": [
              "390935"
            ]
          },
          "execution_count": 84,
          "metadata": {},
          "output_type": "execute_result"
        }
      ],
      "source": [
        "len(sentences)"
      ]
    },
    {
      "cell_type": "code",
      "execution_count": null,
      "metadata": {
        "colab": {
          "base_uri": "https://localhost:8080/"
        },
        "id": "WLPh-YplSe3B",
        "outputId": "b7489037-f3fe-4eba-c1b0-bda2b303f0ff"
      },
      "outputs": [
        {
          "data": {
            "text/plain": [
              "390935"
            ]
          },
          "execution_count": 56,
          "metadata": {},
          "output_type": "execute_result"
        }
      ],
      "source": [
        "senLens = [len(sen) for sen in list_tokenized_train]\n",
        "len(senLens)"
      ]
    },
    {
      "cell_type": "code",
      "execution_count": null,
      "metadata": {
        "colab": {
          "base_uri": "https://localhost:8080/"
        },
        "id": "qE9aGX5V8isc",
        "outputId": "844c7d45-3795-4e17-8039-f71a286cded3"
      },
      "outputs": [
        {
          "data": {
            "text/plain": [
              "400331"
            ]
          },
          "execution_count": 73,
          "metadata": {},
          "output_type": "execute_result"
        }
      ],
      "source": [
        ""
      ]
    },
    {
      "cell_type": "code",
      "execution_count": null,
      "metadata": {
        "colab": {
          "base_uri": "https://localhost:8080/",
          "height": 424
        },
        "id": "TEIIX-TF40ec",
        "outputId": "f0383884-34d1-424b-b068-2042e8533f7c"
      },
      "outputs": [
        {
          "data": {
            "text/html": [
              "\n",
              "  <div id=\"df-9527a97e-6d04-412d-81cc-84321ddf58ab\">\n",
              "    <div class=\"colab-df-container\">\n",
              "      <div>\n",
              "<style scoped>\n",
              "    .dataframe tbody tr th:only-of-type {\n",
              "        vertical-align: middle;\n",
              "    }\n",
              "\n",
              "    .dataframe tbody tr th {\n",
              "        vertical-align: top;\n",
              "    }\n",
              "\n",
              "    .dataframe thead th {\n",
              "        text-align: right;\n",
              "    }\n",
              "</style>\n",
              "<table border=\"1\" class=\"dataframe\">\n",
              "  <thead>\n",
              "    <tr style=\"text-align: right;\">\n",
              "      <th></th>\n",
              "      <th>Lens</th>\n",
              "      <th>O_Count</th>\n",
              "    </tr>\n",
              "  </thead>\n",
              "  <tbody>\n",
              "    <tr>\n",
              "      <th>0</th>\n",
              "      <td>20</td>\n",
              "      <td>11</td>\n",
              "    </tr>\n",
              "    <tr>\n",
              "      <th>1</th>\n",
              "      <td>8</td>\n",
              "      <td>4</td>\n",
              "    </tr>\n",
              "    <tr>\n",
              "      <th>2</th>\n",
              "      <td>10</td>\n",
              "      <td>10</td>\n",
              "    </tr>\n",
              "    <tr>\n",
              "      <th>3</th>\n",
              "      <td>11</td>\n",
              "      <td>11</td>\n",
              "    </tr>\n",
              "    <tr>\n",
              "      <th>4</th>\n",
              "      <td>15</td>\n",
              "      <td>15</td>\n",
              "    </tr>\n",
              "    <tr>\n",
              "      <th>...</th>\n",
              "      <td>...</td>\n",
              "      <td>...</td>\n",
              "    </tr>\n",
              "    <tr>\n",
              "      <th>390930</th>\n",
              "      <td>11</td>\n",
              "      <td>11</td>\n",
              "    </tr>\n",
              "    <tr>\n",
              "      <th>390931</th>\n",
              "      <td>45</td>\n",
              "      <td>40</td>\n",
              "    </tr>\n",
              "    <tr>\n",
              "      <th>390932</th>\n",
              "      <td>30</td>\n",
              "      <td>25</td>\n",
              "    </tr>\n",
              "    <tr>\n",
              "      <th>390933</th>\n",
              "      <td>28</td>\n",
              "      <td>25</td>\n",
              "    </tr>\n",
              "    <tr>\n",
              "      <th>390934</th>\n",
              "      <td>12</td>\n",
              "      <td>12</td>\n",
              "    </tr>\n",
              "  </tbody>\n",
              "</table>\n",
              "<p>390935 rows × 2 columns</p>\n",
              "</div>\n",
              "      <button class=\"colab-df-convert\" onclick=\"convertToInteractive('df-9527a97e-6d04-412d-81cc-84321ddf58ab')\"\n",
              "              title=\"Convert this dataframe to an interactive table.\"\n",
              "              style=\"display:none;\">\n",
              "        \n",
              "  <svg xmlns=\"http://www.w3.org/2000/svg\" height=\"24px\"viewBox=\"0 0 24 24\"\n",
              "       width=\"24px\">\n",
              "    <path d=\"M0 0h24v24H0V0z\" fill=\"none\"/>\n",
              "    <path d=\"M18.56 5.44l.94 2.06.94-2.06 2.06-.94-2.06-.94-.94-2.06-.94 2.06-2.06.94zm-11 1L8.5 8.5l.94-2.06 2.06-.94-2.06-.94L8.5 2.5l-.94 2.06-2.06.94zm10 10l.94 2.06.94-2.06 2.06-.94-2.06-.94-.94-2.06-.94 2.06-2.06.94z\"/><path d=\"M17.41 7.96l-1.37-1.37c-.4-.4-.92-.59-1.43-.59-.52 0-1.04.2-1.43.59L10.3 9.45l-7.72 7.72c-.78.78-.78 2.05 0 2.83L4 21.41c.39.39.9.59 1.41.59.51 0 1.02-.2 1.41-.59l7.78-7.78 2.81-2.81c.8-.78.8-2.07 0-2.86zM5.41 20L4 18.59l7.72-7.72 1.47 1.35L5.41 20z\"/>\n",
              "  </svg>\n",
              "      </button>\n",
              "      \n",
              "  <style>\n",
              "    .colab-df-container {\n",
              "      display:flex;\n",
              "      flex-wrap:wrap;\n",
              "      gap: 12px;\n",
              "    }\n",
              "\n",
              "    .colab-df-convert {\n",
              "      background-color: #E8F0FE;\n",
              "      border: none;\n",
              "      border-radius: 50%;\n",
              "      cursor: pointer;\n",
              "      display: none;\n",
              "      fill: #1967D2;\n",
              "      height: 32px;\n",
              "      padding: 0 0 0 0;\n",
              "      width: 32px;\n",
              "    }\n",
              "\n",
              "    .colab-df-convert:hover {\n",
              "      background-color: #E2EBFA;\n",
              "      box-shadow: 0px 1px 2px rgba(60, 64, 67, 0.3), 0px 1px 3px 1px rgba(60, 64, 67, 0.15);\n",
              "      fill: #174EA6;\n",
              "    }\n",
              "\n",
              "    [theme=dark] .colab-df-convert {\n",
              "      background-color: #3B4455;\n",
              "      fill: #D2E3FC;\n",
              "    }\n",
              "\n",
              "    [theme=dark] .colab-df-convert:hover {\n",
              "      background-color: #434B5C;\n",
              "      box-shadow: 0px 1px 3px 1px rgba(0, 0, 0, 0.15);\n",
              "      filter: drop-shadow(0px 1px 2px rgba(0, 0, 0, 0.3));\n",
              "      fill: #FFFFFF;\n",
              "    }\n",
              "  </style>\n",
              "\n",
              "      <script>\n",
              "        const buttonEl =\n",
              "          document.querySelector('#df-9527a97e-6d04-412d-81cc-84321ddf58ab button.colab-df-convert');\n",
              "        buttonEl.style.display =\n",
              "          google.colab.kernel.accessAllowed ? 'block' : 'none';\n",
              "\n",
              "        async function convertToInteractive(key) {\n",
              "          const element = document.querySelector('#df-9527a97e-6d04-412d-81cc-84321ddf58ab');\n",
              "          const dataTable =\n",
              "            await google.colab.kernel.invokeFunction('convertToInteractive',\n",
              "                                                     [key], {});\n",
              "          if (!dataTable) return;\n",
              "\n",
              "          const docLinkHtml = 'Like what you see? Visit the ' +\n",
              "            '<a target=\"_blank\" href=https://colab.research.google.com/notebooks/data_table.ipynb>data table notebook</a>'\n",
              "            + ' to learn more about interactive tables.';\n",
              "          element.innerHTML = '';\n",
              "          dataTable['output_type'] = 'display_data';\n",
              "          await google.colab.output.renderOutput(dataTable, element);\n",
              "          const docLink = document.createElement('div');\n",
              "          docLink.innerHTML = docLinkHtml;\n",
              "          element.appendChild(docLink);\n",
              "        }\n",
              "      </script>\n",
              "    </div>\n",
              "  </div>\n",
              "  "
            ],
            "text/plain": [
              "        Lens  O_Count\n",
              "0         20       11\n",
              "1          8        4\n",
              "2         10       10\n",
              "3         11       11\n",
              "4         15       15\n",
              "...      ...      ...\n",
              "390930    11       11\n",
              "390931    45       40\n",
              "390932    30       25\n",
              "390933    28       25\n",
              "390934    12       12\n",
              "\n",
              "[390935 rows x 2 columns]"
            ]
          },
          "execution_count": 94,
          "metadata": {},
          "output_type": "execute_result"
        }
      ],
      "source": [
        "senInfo = pd.DataFrame()\n",
        "senInfo['Lens'] = senLens\n",
        "senInfo['O_Count'] = list(dataSentences['Label'].str.count('O'))\n",
        "senInfo"
      ]
    },
    {
      "cell_type": "code",
      "execution_count": null,
      "metadata": {
        "colab": {
          "base_uri": "https://localhost:8080/",
          "height": 424
        },
        "id": "_TccXpqm6ObP",
        "outputId": "40373de7-f33c-44de-c6c1-ca3bb6da9084"
      },
      "outputs": [
        {
          "data": {
            "text/html": [
              "\n",
              "  <div id=\"df-7fcddba7-e1ce-42e8-a8d6-20dece36e5d8\">\n",
              "    <div class=\"colab-df-container\">\n",
              "      <div>\n",
              "<style scoped>\n",
              "    .dataframe tbody tr th:only-of-type {\n",
              "        vertical-align: middle;\n",
              "    }\n",
              "\n",
              "    .dataframe tbody tr th {\n",
              "        vertical-align: top;\n",
              "    }\n",
              "\n",
              "    .dataframe thead th {\n",
              "        text-align: right;\n",
              "    }\n",
              "</style>\n",
              "<table border=\"1\" class=\"dataframe\">\n",
              "  <thead>\n",
              "    <tr style=\"text-align: right;\">\n",
              "      <th></th>\n",
              "      <th>Lens</th>\n",
              "      <th>O_Count</th>\n",
              "      <th>NE_Count</th>\n",
              "    </tr>\n",
              "  </thead>\n",
              "  <tbody>\n",
              "    <tr>\n",
              "      <th>0</th>\n",
              "      <td>20</td>\n",
              "      <td>11</td>\n",
              "      <td>9</td>\n",
              "    </tr>\n",
              "    <tr>\n",
              "      <th>1</th>\n",
              "      <td>8</td>\n",
              "      <td>4</td>\n",
              "      <td>4</td>\n",
              "    </tr>\n",
              "    <tr>\n",
              "      <th>2</th>\n",
              "      <td>10</td>\n",
              "      <td>10</td>\n",
              "      <td>0</td>\n",
              "    </tr>\n",
              "    <tr>\n",
              "      <th>3</th>\n",
              "      <td>11</td>\n",
              "      <td>11</td>\n",
              "      <td>0</td>\n",
              "    </tr>\n",
              "    <tr>\n",
              "      <th>4</th>\n",
              "      <td>15</td>\n",
              "      <td>15</td>\n",
              "      <td>0</td>\n",
              "    </tr>\n",
              "    <tr>\n",
              "      <th>...</th>\n",
              "      <td>...</td>\n",
              "      <td>...</td>\n",
              "      <td>...</td>\n",
              "    </tr>\n",
              "    <tr>\n",
              "      <th>390930</th>\n",
              "      <td>11</td>\n",
              "      <td>11</td>\n",
              "      <td>0</td>\n",
              "    </tr>\n",
              "    <tr>\n",
              "      <th>390931</th>\n",
              "      <td>45</td>\n",
              "      <td>40</td>\n",
              "      <td>5</td>\n",
              "    </tr>\n",
              "    <tr>\n",
              "      <th>390932</th>\n",
              "      <td>30</td>\n",
              "      <td>25</td>\n",
              "      <td>5</td>\n",
              "    </tr>\n",
              "    <tr>\n",
              "      <th>390933</th>\n",
              "      <td>28</td>\n",
              "      <td>25</td>\n",
              "      <td>3</td>\n",
              "    </tr>\n",
              "    <tr>\n",
              "      <th>390934</th>\n",
              "      <td>12</td>\n",
              "      <td>12</td>\n",
              "      <td>0</td>\n",
              "    </tr>\n",
              "  </tbody>\n",
              "</table>\n",
              "<p>390935 rows × 3 columns</p>\n",
              "</div>\n",
              "      <button class=\"colab-df-convert\" onclick=\"convertToInteractive('df-7fcddba7-e1ce-42e8-a8d6-20dece36e5d8')\"\n",
              "              title=\"Convert this dataframe to an interactive table.\"\n",
              "              style=\"display:none;\">\n",
              "        \n",
              "  <svg xmlns=\"http://www.w3.org/2000/svg\" height=\"24px\"viewBox=\"0 0 24 24\"\n",
              "       width=\"24px\">\n",
              "    <path d=\"M0 0h24v24H0V0z\" fill=\"none\"/>\n",
              "    <path d=\"M18.56 5.44l.94 2.06.94-2.06 2.06-.94-2.06-.94-.94-2.06-.94 2.06-2.06.94zm-11 1L8.5 8.5l.94-2.06 2.06-.94-2.06-.94L8.5 2.5l-.94 2.06-2.06.94zm10 10l.94 2.06.94-2.06 2.06-.94-2.06-.94-.94-2.06-.94 2.06-2.06.94z\"/><path d=\"M17.41 7.96l-1.37-1.37c-.4-.4-.92-.59-1.43-.59-.52 0-1.04.2-1.43.59L10.3 9.45l-7.72 7.72c-.78.78-.78 2.05 0 2.83L4 21.41c.39.39.9.59 1.41.59.51 0 1.02-.2 1.41-.59l7.78-7.78 2.81-2.81c.8-.78.8-2.07 0-2.86zM5.41 20L4 18.59l7.72-7.72 1.47 1.35L5.41 20z\"/>\n",
              "  </svg>\n",
              "      </button>\n",
              "      \n",
              "  <style>\n",
              "    .colab-df-container {\n",
              "      display:flex;\n",
              "      flex-wrap:wrap;\n",
              "      gap: 12px;\n",
              "    }\n",
              "\n",
              "    .colab-df-convert {\n",
              "      background-color: #E8F0FE;\n",
              "      border: none;\n",
              "      border-radius: 50%;\n",
              "      cursor: pointer;\n",
              "      display: none;\n",
              "      fill: #1967D2;\n",
              "      height: 32px;\n",
              "      padding: 0 0 0 0;\n",
              "      width: 32px;\n",
              "    }\n",
              "\n",
              "    .colab-df-convert:hover {\n",
              "      background-color: #E2EBFA;\n",
              "      box-shadow: 0px 1px 2px rgba(60, 64, 67, 0.3), 0px 1px 3px 1px rgba(60, 64, 67, 0.15);\n",
              "      fill: #174EA6;\n",
              "    }\n",
              "\n",
              "    [theme=dark] .colab-df-convert {\n",
              "      background-color: #3B4455;\n",
              "      fill: #D2E3FC;\n",
              "    }\n",
              "\n",
              "    [theme=dark] .colab-df-convert:hover {\n",
              "      background-color: #434B5C;\n",
              "      box-shadow: 0px 1px 3px 1px rgba(0, 0, 0, 0.15);\n",
              "      filter: drop-shadow(0px 1px 2px rgba(0, 0, 0, 0.3));\n",
              "      fill: #FFFFFF;\n",
              "    }\n",
              "  </style>\n",
              "\n",
              "      <script>\n",
              "        const buttonEl =\n",
              "          document.querySelector('#df-7fcddba7-e1ce-42e8-a8d6-20dece36e5d8 button.colab-df-convert');\n",
              "        buttonEl.style.display =\n",
              "          google.colab.kernel.accessAllowed ? 'block' : 'none';\n",
              "\n",
              "        async function convertToInteractive(key) {\n",
              "          const element = document.querySelector('#df-7fcddba7-e1ce-42e8-a8d6-20dece36e5d8');\n",
              "          const dataTable =\n",
              "            await google.colab.kernel.invokeFunction('convertToInteractive',\n",
              "                                                     [key], {});\n",
              "          if (!dataTable) return;\n",
              "\n",
              "          const docLinkHtml = 'Like what you see? Visit the ' +\n",
              "            '<a target=\"_blank\" href=https://colab.research.google.com/notebooks/data_table.ipynb>data table notebook</a>'\n",
              "            + ' to learn more about interactive tables.';\n",
              "          element.innerHTML = '';\n",
              "          dataTable['output_type'] = 'display_data';\n",
              "          await google.colab.output.renderOutput(dataTable, element);\n",
              "          const docLink = document.createElement('div');\n",
              "          docLink.innerHTML = docLinkHtml;\n",
              "          element.appendChild(docLink);\n",
              "        }\n",
              "      </script>\n",
              "    </div>\n",
              "  </div>\n",
              "  "
            ],
            "text/plain": [
              "        Lens  O_Count  NE_Count\n",
              "0         20       11         9\n",
              "1          8        4         4\n",
              "2         10       10         0\n",
              "3         11       11         0\n",
              "4         15       15         0\n",
              "...      ...      ...       ...\n",
              "390930    11       11         0\n",
              "390931    45       40         5\n",
              "390932    30       25         5\n",
              "390933    28       25         3\n",
              "390934    12       12         0\n",
              "\n",
              "[390935 rows x 3 columns]"
            ]
          },
          "execution_count": 97,
          "metadata": {},
          "output_type": "execute_result"
        }
      ],
      "source": [
        "senInfo['NE_Count'] = senInfo['Lens'] - senInfo['O_Count']\n",
        "senInfo"
      ]
    },
    {
      "cell_type": "code",
      "execution_count": null,
      "metadata": {
        "colab": {
          "base_uri": "https://localhost:8080/",
          "height": 300
        },
        "id": "HvsRZEzV3TJv",
        "outputId": "419d4de3-f6b4-48b5-cde0-ed570b43a4c5"
      },
      "outputs": [
        {
          "data": {
            "text/html": [
              "\n",
              "  <div id=\"df-63728435-d096-44ce-8d72-e0fc0a931d6c\">\n",
              "    <div class=\"colab-df-container\">\n",
              "      <div>\n",
              "<style scoped>\n",
              "    .dataframe tbody tr th:only-of-type {\n",
              "        vertical-align: middle;\n",
              "    }\n",
              "\n",
              "    .dataframe tbody tr th {\n",
              "        vertical-align: top;\n",
              "    }\n",
              "\n",
              "    .dataframe thead th {\n",
              "        text-align: right;\n",
              "    }\n",
              "</style>\n",
              "<table border=\"1\" class=\"dataframe\">\n",
              "  <thead>\n",
              "    <tr style=\"text-align: right;\">\n",
              "      <th></th>\n",
              "      <th>Lens</th>\n",
              "      <th>O_Count</th>\n",
              "      <th>NE_Count</th>\n",
              "      <th>NE/Len</th>\n",
              "    </tr>\n",
              "  </thead>\n",
              "  <tbody>\n",
              "    <tr>\n",
              "      <th>count</th>\n",
              "      <td>390935.000000</td>\n",
              "      <td>390935.000000</td>\n",
              "      <td>390935.000000</td>\n",
              "      <td>390935.000000</td>\n",
              "    </tr>\n",
              "    <tr>\n",
              "      <th>mean</th>\n",
              "      <td>24.030673</td>\n",
              "      <td>21.317314</td>\n",
              "      <td>2.713359</td>\n",
              "      <td>12.791833</td>\n",
              "    </tr>\n",
              "    <tr>\n",
              "      <th>std</th>\n",
              "      <td>14.578518</td>\n",
              "      <td>14.009967</td>\n",
              "      <td>3.024846</td>\n",
              "      <td>13.908008</td>\n",
              "    </tr>\n",
              "    <tr>\n",
              "      <th>min</th>\n",
              "      <td>1.000000</td>\n",
              "      <td>0.000000</td>\n",
              "      <td>0.000000</td>\n",
              "      <td>0.000000</td>\n",
              "    </tr>\n",
              "    <tr>\n",
              "      <th>25%</th>\n",
              "      <td>14.000000</td>\n",
              "      <td>12.000000</td>\n",
              "      <td>0.000000</td>\n",
              "      <td>0.000000</td>\n",
              "    </tr>\n",
              "    <tr>\n",
              "      <th>50%</th>\n",
              "      <td>21.000000</td>\n",
              "      <td>18.000000</td>\n",
              "      <td>2.000000</td>\n",
              "      <td>9.756098</td>\n",
              "    </tr>\n",
              "    <tr>\n",
              "      <th>75%</th>\n",
              "      <td>30.000000</td>\n",
              "      <td>27.000000</td>\n",
              "      <td>4.000000</td>\n",
              "      <td>20.000000</td>\n",
              "    </tr>\n",
              "    <tr>\n",
              "      <th>max</th>\n",
              "      <td>788.000000</td>\n",
              "      <td>727.000000</td>\n",
              "      <td>127.000000</td>\n",
              "      <td>100.000000</td>\n",
              "    </tr>\n",
              "  </tbody>\n",
              "</table>\n",
              "</div>\n",
              "      <button class=\"colab-df-convert\" onclick=\"convertToInteractive('df-63728435-d096-44ce-8d72-e0fc0a931d6c')\"\n",
              "              title=\"Convert this dataframe to an interactive table.\"\n",
              "              style=\"display:none;\">\n",
              "        \n",
              "  <svg xmlns=\"http://www.w3.org/2000/svg\" height=\"24px\"viewBox=\"0 0 24 24\"\n",
              "       width=\"24px\">\n",
              "    <path d=\"M0 0h24v24H0V0z\" fill=\"none\"/>\n",
              "    <path d=\"M18.56 5.44l.94 2.06.94-2.06 2.06-.94-2.06-.94-.94-2.06-.94 2.06-2.06.94zm-11 1L8.5 8.5l.94-2.06 2.06-.94-2.06-.94L8.5 2.5l-.94 2.06-2.06.94zm10 10l.94 2.06.94-2.06 2.06-.94-2.06-.94-.94-2.06-.94 2.06-2.06.94z\"/><path d=\"M17.41 7.96l-1.37-1.37c-.4-.4-.92-.59-1.43-.59-.52 0-1.04.2-1.43.59L10.3 9.45l-7.72 7.72c-.78.78-.78 2.05 0 2.83L4 21.41c.39.39.9.59 1.41.59.51 0 1.02-.2 1.41-.59l7.78-7.78 2.81-2.81c.8-.78.8-2.07 0-2.86zM5.41 20L4 18.59l7.72-7.72 1.47 1.35L5.41 20z\"/>\n",
              "  </svg>\n",
              "      </button>\n",
              "      \n",
              "  <style>\n",
              "    .colab-df-container {\n",
              "      display:flex;\n",
              "      flex-wrap:wrap;\n",
              "      gap: 12px;\n",
              "    }\n",
              "\n",
              "    .colab-df-convert {\n",
              "      background-color: #E8F0FE;\n",
              "      border: none;\n",
              "      border-radius: 50%;\n",
              "      cursor: pointer;\n",
              "      display: none;\n",
              "      fill: #1967D2;\n",
              "      height: 32px;\n",
              "      padding: 0 0 0 0;\n",
              "      width: 32px;\n",
              "    }\n",
              "\n",
              "    .colab-df-convert:hover {\n",
              "      background-color: #E2EBFA;\n",
              "      box-shadow: 0px 1px 2px rgba(60, 64, 67, 0.3), 0px 1px 3px 1px rgba(60, 64, 67, 0.15);\n",
              "      fill: #174EA6;\n",
              "    }\n",
              "\n",
              "    [theme=dark] .colab-df-convert {\n",
              "      background-color: #3B4455;\n",
              "      fill: #D2E3FC;\n",
              "    }\n",
              "\n",
              "    [theme=dark] .colab-df-convert:hover {\n",
              "      background-color: #434B5C;\n",
              "      box-shadow: 0px 1px 3px 1px rgba(0, 0, 0, 0.15);\n",
              "      filter: drop-shadow(0px 1px 2px rgba(0, 0, 0, 0.3));\n",
              "      fill: #FFFFFF;\n",
              "    }\n",
              "  </style>\n",
              "\n",
              "      <script>\n",
              "        const buttonEl =\n",
              "          document.querySelector('#df-63728435-d096-44ce-8d72-e0fc0a931d6c button.colab-df-convert');\n",
              "        buttonEl.style.display =\n",
              "          google.colab.kernel.accessAllowed ? 'block' : 'none';\n",
              "\n",
              "        async function convertToInteractive(key) {\n",
              "          const element = document.querySelector('#df-63728435-d096-44ce-8d72-e0fc0a931d6c');\n",
              "          const dataTable =\n",
              "            await google.colab.kernel.invokeFunction('convertToInteractive',\n",
              "                                                     [key], {});\n",
              "          if (!dataTable) return;\n",
              "\n",
              "          const docLinkHtml = 'Like what you see? Visit the ' +\n",
              "            '<a target=\"_blank\" href=https://colab.research.google.com/notebooks/data_table.ipynb>data table notebook</a>'\n",
              "            + ' to learn more about interactive tables.';\n",
              "          element.innerHTML = '';\n",
              "          dataTable['output_type'] = 'display_data';\n",
              "          await google.colab.output.renderOutput(dataTable, element);\n",
              "          const docLink = document.createElement('div');\n",
              "          docLink.innerHTML = docLinkHtml;\n",
              "          element.appendChild(docLink);\n",
              "        }\n",
              "      </script>\n",
              "    </div>\n",
              "  </div>\n",
              "  "
            ],
            "text/plain": [
              "                Lens        O_Count       NE_Count         NE/Len\n",
              "count  390935.000000  390935.000000  390935.000000  390935.000000\n",
              "mean       24.030673      21.317314       2.713359      12.791833\n",
              "std        14.578518      14.009967       3.024846      13.908008\n",
              "min         1.000000       0.000000       0.000000       0.000000\n",
              "25%        14.000000      12.000000       0.000000       0.000000\n",
              "50%        21.000000      18.000000       2.000000       9.756098\n",
              "75%        30.000000      27.000000       4.000000      20.000000\n",
              "max       788.000000     727.000000     127.000000     100.000000"
            ]
          },
          "execution_count": 107,
          "metadata": {},
          "output_type": "execute_result"
        }
      ],
      "source": [
        "senInfo.describe()"
      ]
    },
    {
      "cell_type": "code",
      "execution_count": null,
      "metadata": {
        "id": "ABXDrAwr5nP3"
      },
      "outputs": [],
      "source": [
        "senInfo['NE/Len'] = senInfo['NE_Count'] / (senInfo['Lens']) * 100"
      ]
    },
    {
      "cell_type": "code",
      "execution_count": null,
      "metadata": {
        "id": "si3DAwl9kRJ_"
      },
      "outputs": [],
      "source": [
        "def balanced_sen(NE_divide_Len, NE_Count, percent = 8, least_count = 3):\n",
        "  balancedIndices = []\n",
        "  ind = -1\n",
        "  for neC, neD in zip(NE_divide_Len, NE_Count):\n",
        "    ind += 1\n",
        "    if neC >= percent or neD > least_count:\n",
        "      balancedIndices.append(ind)\n",
        "  return balancedIndices"
      ]
    },
    {
      "cell_type": "code",
      "execution_count": null,
      "metadata": {
        "id": "dU8LiTR_mUyB"
      },
      "outputs": [],
      "source": [
        "balanced_indices = balanced_sen(senInfo['NE/Len'], senInfo['NE_Count'])"
      ]
    },
    {
      "cell_type": "code",
      "execution_count": null,
      "metadata": {
        "colab": {
          "base_uri": "https://localhost:8080/",
          "height": 672
        },
        "id": "2e85FphvnZ4D",
        "outputId": "6fd14fb3-2a0a-4c4f-d485-5c4396342027"
      },
      "outputs": [
        {
          "data": {
            "text/html": [
              "\n",
              "  <div id=\"df-f632207e-029e-48bf-99c8-dd0bdd358dd7\">\n",
              "    <div class=\"colab-df-container\">\n",
              "      <div>\n",
              "<style scoped>\n",
              "    .dataframe tbody tr th:only-of-type {\n",
              "        vertical-align: middle;\n",
              "    }\n",
              "\n",
              "    .dataframe tbody tr th {\n",
              "        vertical-align: top;\n",
              "    }\n",
              "\n",
              "    .dataframe thead th {\n",
              "        text-align: right;\n",
              "    }\n",
              "</style>\n",
              "<table border=\"1\" class=\"dataframe\">\n",
              "  <thead>\n",
              "    <tr style=\"text-align: right;\">\n",
              "      <th></th>\n",
              "      <th>Lens</th>\n",
              "      <th>O_Count</th>\n",
              "      <th>NE_Count</th>\n",
              "      <th>NE/Len</th>\n",
              "    </tr>\n",
              "  </thead>\n",
              "  <tbody>\n",
              "    <tr>\n",
              "      <th>0</th>\n",
              "      <td>20</td>\n",
              "      <td>11</td>\n",
              "      <td>9</td>\n",
              "      <td>45.000000</td>\n",
              "    </tr>\n",
              "    <tr>\n",
              "      <th>1</th>\n",
              "      <td>8</td>\n",
              "      <td>4</td>\n",
              "      <td>4</td>\n",
              "      <td>50.000000</td>\n",
              "    </tr>\n",
              "    <tr>\n",
              "      <th>5</th>\n",
              "      <td>28</td>\n",
              "      <td>24</td>\n",
              "      <td>4</td>\n",
              "      <td>14.285714</td>\n",
              "    </tr>\n",
              "    <tr>\n",
              "      <th>6</th>\n",
              "      <td>29</td>\n",
              "      <td>24</td>\n",
              "      <td>5</td>\n",
              "      <td>17.241379</td>\n",
              "    </tr>\n",
              "    <tr>\n",
              "      <th>8</th>\n",
              "      <td>22</td>\n",
              "      <td>13</td>\n",
              "      <td>9</td>\n",
              "      <td>40.909091</td>\n",
              "    </tr>\n",
              "    <tr>\n",
              "      <th>...</th>\n",
              "      <td>...</td>\n",
              "      <td>...</td>\n",
              "      <td>...</td>\n",
              "      <td>...</td>\n",
              "    </tr>\n",
              "    <tr>\n",
              "      <th>390928</th>\n",
              "      <td>20</td>\n",
              "      <td>12</td>\n",
              "      <td>8</td>\n",
              "      <td>40.000000</td>\n",
              "    </tr>\n",
              "    <tr>\n",
              "      <th>390929</th>\n",
              "      <td>35</td>\n",
              "      <td>30</td>\n",
              "      <td>5</td>\n",
              "      <td>14.285714</td>\n",
              "    </tr>\n",
              "    <tr>\n",
              "      <th>390931</th>\n",
              "      <td>45</td>\n",
              "      <td>40</td>\n",
              "      <td>5</td>\n",
              "      <td>11.111111</td>\n",
              "    </tr>\n",
              "    <tr>\n",
              "      <th>390932</th>\n",
              "      <td>30</td>\n",
              "      <td>25</td>\n",
              "      <td>5</td>\n",
              "      <td>16.666667</td>\n",
              "    </tr>\n",
              "    <tr>\n",
              "      <th>390933</th>\n",
              "      <td>28</td>\n",
              "      <td>25</td>\n",
              "      <td>3</td>\n",
              "      <td>10.714286</td>\n",
              "    </tr>\n",
              "  </tbody>\n",
              "</table>\n",
              "<p>216520 rows × 4 columns</p>\n",
              "</div>\n",
              "      <button class=\"colab-df-convert\" onclick=\"convertToInteractive('df-f632207e-029e-48bf-99c8-dd0bdd358dd7')\"\n",
              "              title=\"Convert this dataframe to an interactive table.\"\n",
              "              style=\"display:none;\">\n",
              "        \n",
              "  <svg xmlns=\"http://www.w3.org/2000/svg\" height=\"24px\"viewBox=\"0 0 24 24\"\n",
              "       width=\"24px\">\n",
              "    <path d=\"M0 0h24v24H0V0z\" fill=\"none\"/>\n",
              "    <path d=\"M18.56 5.44l.94 2.06.94-2.06 2.06-.94-2.06-.94-.94-2.06-.94 2.06-2.06.94zm-11 1L8.5 8.5l.94-2.06 2.06-.94-2.06-.94L8.5 2.5l-.94 2.06-2.06.94zm10 10l.94 2.06.94-2.06 2.06-.94-2.06-.94-.94-2.06-.94 2.06-2.06.94z\"/><path d=\"M17.41 7.96l-1.37-1.37c-.4-.4-.92-.59-1.43-.59-.52 0-1.04.2-1.43.59L10.3 9.45l-7.72 7.72c-.78.78-.78 2.05 0 2.83L4 21.41c.39.39.9.59 1.41.59.51 0 1.02-.2 1.41-.59l7.78-7.78 2.81-2.81c.8-.78.8-2.07 0-2.86zM5.41 20L4 18.59l7.72-7.72 1.47 1.35L5.41 20z\"/>\n",
              "  </svg>\n",
              "      </button>\n",
              "      \n",
              "  <style>\n",
              "    .colab-df-container {\n",
              "      display:flex;\n",
              "      flex-wrap:wrap;\n",
              "      gap: 12px;\n",
              "    }\n",
              "\n",
              "    .colab-df-convert {\n",
              "      background-color: #E8F0FE;\n",
              "      border: none;\n",
              "      border-radius: 50%;\n",
              "      cursor: pointer;\n",
              "      display: none;\n",
              "      fill: #1967D2;\n",
              "      height: 32px;\n",
              "      padding: 0 0 0 0;\n",
              "      width: 32px;\n",
              "    }\n",
              "\n",
              "    .colab-df-convert:hover {\n",
              "      background-color: #E2EBFA;\n",
              "      box-shadow: 0px 1px 2px rgba(60, 64, 67, 0.3), 0px 1px 3px 1px rgba(60, 64, 67, 0.15);\n",
              "      fill: #174EA6;\n",
              "    }\n",
              "\n",
              "    [theme=dark] .colab-df-convert {\n",
              "      background-color: #3B4455;\n",
              "      fill: #D2E3FC;\n",
              "    }\n",
              "\n",
              "    [theme=dark] .colab-df-convert:hover {\n",
              "      background-color: #434B5C;\n",
              "      box-shadow: 0px 1px 3px 1px rgba(0, 0, 0, 0.15);\n",
              "      filter: drop-shadow(0px 1px 2px rgba(0, 0, 0, 0.3));\n",
              "      fill: #FFFFFF;\n",
              "    }\n",
              "  </style>\n",
              "\n",
              "      <script>\n",
              "        const buttonEl =\n",
              "          document.querySelector('#df-f632207e-029e-48bf-99c8-dd0bdd358dd7 button.colab-df-convert');\n",
              "        buttonEl.style.display =\n",
              "          google.colab.kernel.accessAllowed ? 'block' : 'none';\n",
              "\n",
              "        async function convertToInteractive(key) {\n",
              "          const element = document.querySelector('#df-f632207e-029e-48bf-99c8-dd0bdd358dd7');\n",
              "          const dataTable =\n",
              "            await google.colab.kernel.invokeFunction('convertToInteractive',\n",
              "                                                     [key], {});\n",
              "          if (!dataTable) return;\n",
              "\n",
              "          const docLinkHtml = 'Like what you see? Visit the ' +\n",
              "            '<a target=\"_blank\" href=https://colab.research.google.com/notebooks/data_table.ipynb>data table notebook</a>'\n",
              "            + ' to learn more about interactive tables.';\n",
              "          element.innerHTML = '';\n",
              "          dataTable['output_type'] = 'display_data';\n",
              "          await google.colab.output.renderOutput(dataTable, element);\n",
              "          const docLink = document.createElement('div');\n",
              "          docLink.innerHTML = docLinkHtml;\n",
              "          element.appendChild(docLink);\n",
              "        }\n",
              "      </script>\n",
              "    </div>\n",
              "  </div>\n",
              "  "
            ],
            "text/plain": [
              "        Lens  O_Count  NE_Count     NE/Len\n",
              "0         20       11         9  45.000000\n",
              "1          8        4         4  50.000000\n",
              "5         28       24         4  14.285714\n",
              "6         29       24         5  17.241379\n",
              "8         22       13         9  40.909091\n",
              "...      ...      ...       ...        ...\n",
              "390928    20       12         8  40.000000\n",
              "390929    35       30         5  14.285714\n",
              "390931    45       40         5  11.111111\n",
              "390932    30       25         5  16.666667\n",
              "390933    28       25         3  10.714286\n",
              "\n",
              "[216520 rows x 4 columns]"
            ]
          },
          "execution_count": 122,
          "metadata": {},
          "output_type": "execute_result"
        },
        {
          "name": "stdout",
          "output_type": "stream",
          "text": [
            "Warning: total number of rows (216520) exceeds max_rows (20000). Limiting to first (20000) rows.\n"
          ]
        }
      ],
      "source": [
        "senInfo.iloc[balanced_indices]"
      ]
    },
    {
      "cell_type": "code",
      "execution_count": null,
      "metadata": {
        "colab": {
          "base_uri": "https://localhost:8080/",
          "height": 424
        },
        "id": "EXTEWLnKpQyl",
        "outputId": "92e985f5-c12b-42f2-f6a4-78f909fb7bb2"
      },
      "outputs": [
        {
          "data": {
            "text/html": [
              "\n",
              "  <div id=\"df-f2eda22e-113a-46d4-b8a0-4cdca07aac73\">\n",
              "    <div class=\"colab-df-container\">\n",
              "      <div>\n",
              "<style scoped>\n",
              "    .dataframe tbody tr th:only-of-type {\n",
              "        vertical-align: middle;\n",
              "    }\n",
              "\n",
              "    .dataframe tbody tr th {\n",
              "        vertical-align: top;\n",
              "    }\n",
              "\n",
              "    .dataframe thead th {\n",
              "        text-align: right;\n",
              "    }\n",
              "</style>\n",
              "<table border=\"1\" class=\"dataframe\">\n",
              "  <thead>\n",
              "    <tr style=\"text-align: right;\">\n",
              "      <th></th>\n",
              "      <th>Text</th>\n",
              "      <th>Label</th>\n",
              "    </tr>\n",
              "  </thead>\n",
              "  <tbody>\n",
              "    <tr>\n",
              "      <th>0</th>\n",
              "      <td>ویکی‌پدیای انگلیسی در تاریخ ۱۵ ژانویه ۲۰۰۱ میل...</td>\n",
              "      <td>O O B-DAT I-DAT I-DAT I-DAT I-DAT B-DAT B-DAT ...</td>\n",
              "    </tr>\n",
              "    <tr>\n",
              "      <th>1</th>\n",
              "      <td>بنیان‌گذاران آن جیمی ولز و لری سنگر هستند</td>\n",
              "      <td>O O B-PER I-PER O B-PER I-PER O</td>\n",
              "    </tr>\n",
              "    <tr>\n",
              "      <th>2</th>\n",
              "      <td>هم‌اکنون بنیاد غیرانتفاعی بنیاد ویکی‌مدیا پروژ...</td>\n",
              "      <td>O O O B-ORG I-ORG O O O O O</td>\n",
              "    </tr>\n",
              "    <tr>\n",
              "      <th>3</th>\n",
              "      <td>کارساز وب اصلی این وبگاه در شهر تامپا ی فلورید...</td>\n",
              "      <td>O O O O O O O B-LOC O B-LOC O</td>\n",
              "    </tr>\n",
              "    <tr>\n",
              "      <th>4</th>\n",
              "      <td>همچنین میزبان‌های اضافی دیگری هم در شهرهای آمس...</td>\n",
              "      <td>O O O O O O O B-LOC O B-LOC O O O O O</td>\n",
              "    </tr>\n",
              "    <tr>\n",
              "      <th>...</th>\n",
              "      <td>...</td>\n",
              "      <td>...</td>\n",
              "    </tr>\n",
              "    <tr>\n",
              "      <th>390930</th>\n",
              "      <td>۲۰۱۳ درگذشت و آندرتیکر و کین برای او مراسم یاد...</td>\n",
              "      <td>O O O B-ORG I-ORG I-ORG O O O O O</td>\n",
              "    </tr>\n",
              "    <tr>\n",
              "      <th>390931</th>\n",
              "      <td>در تاریخ ۲۳ ژوئیه ۲۰۱۲ در‌حین اجرای شوی WWE را...</td>\n",
              "      <td>B-DAT I-DAT B-DAT I-DAT I-DAT O O O O O O O O ...</td>\n",
              "    </tr>\n",
              "    <tr>\n",
              "      <th>390932</th>\n",
              "      <td>در سال بعد ۲۰۱۳ کمی قبل از رستلمنیا ۲۹ پول بیر...</td>\n",
              "      <td>B-DAT B-DAT I-DAT O O O O B-EVE I-EVE O O O O ...</td>\n",
              "    </tr>\n",
              "    <tr>\n",
              "      <th>390933</th>\n",
              "      <td>در رستلمنیا ۲۹ یک مسابقه بین آندرتیکر و CM پان...</td>\n",
              "      <td>O B-EVE I-EVE O O O O O O O O O O O O O O O O ...</td>\n",
              "    </tr>\n",
              "    <tr>\n",
              "      <th>390934</th>\n",
              "      <td>اما پس از مسابقه گروه شیلد آندرتیکر را روی میز...</td>\n",
              "      <td>O O O O B-ORG I-ORG O O O O O O</td>\n",
              "    </tr>\n",
              "  </tbody>\n",
              "</table>\n",
              "<p>390935 rows × 2 columns</p>\n",
              "</div>\n",
              "      <button class=\"colab-df-convert\" onclick=\"convertToInteractive('df-f2eda22e-113a-46d4-b8a0-4cdca07aac73')\"\n",
              "              title=\"Convert this dataframe to an interactive table.\"\n",
              "              style=\"display:none;\">\n",
              "        \n",
              "  <svg xmlns=\"http://www.w3.org/2000/svg\" height=\"24px\"viewBox=\"0 0 24 24\"\n",
              "       width=\"24px\">\n",
              "    <path d=\"M0 0h24v24H0V0z\" fill=\"none\"/>\n",
              "    <path d=\"M18.56 5.44l.94 2.06.94-2.06 2.06-.94-2.06-.94-.94-2.06-.94 2.06-2.06.94zm-11 1L8.5 8.5l.94-2.06 2.06-.94-2.06-.94L8.5 2.5l-.94 2.06-2.06.94zm10 10l.94 2.06.94-2.06 2.06-.94-2.06-.94-.94-2.06-.94 2.06-2.06.94z\"/><path d=\"M17.41 7.96l-1.37-1.37c-.4-.4-.92-.59-1.43-.59-.52 0-1.04.2-1.43.59L10.3 9.45l-7.72 7.72c-.78.78-.78 2.05 0 2.83L4 21.41c.39.39.9.59 1.41.59.51 0 1.02-.2 1.41-.59l7.78-7.78 2.81-2.81c.8-.78.8-2.07 0-2.86zM5.41 20L4 18.59l7.72-7.72 1.47 1.35L5.41 20z\"/>\n",
              "  </svg>\n",
              "      </button>\n",
              "      \n",
              "  <style>\n",
              "    .colab-df-container {\n",
              "      display:flex;\n",
              "      flex-wrap:wrap;\n",
              "      gap: 12px;\n",
              "    }\n",
              "\n",
              "    .colab-df-convert {\n",
              "      background-color: #E8F0FE;\n",
              "      border: none;\n",
              "      border-radius: 50%;\n",
              "      cursor: pointer;\n",
              "      display: none;\n",
              "      fill: #1967D2;\n",
              "      height: 32px;\n",
              "      padding: 0 0 0 0;\n",
              "      width: 32px;\n",
              "    }\n",
              "\n",
              "    .colab-df-convert:hover {\n",
              "      background-color: #E2EBFA;\n",
              "      box-shadow: 0px 1px 2px rgba(60, 64, 67, 0.3), 0px 1px 3px 1px rgba(60, 64, 67, 0.15);\n",
              "      fill: #174EA6;\n",
              "    }\n",
              "\n",
              "    [theme=dark] .colab-df-convert {\n",
              "      background-color: #3B4455;\n",
              "      fill: #D2E3FC;\n",
              "    }\n",
              "\n",
              "    [theme=dark] .colab-df-convert:hover {\n",
              "      background-color: #434B5C;\n",
              "      box-shadow: 0px 1px 3px 1px rgba(0, 0, 0, 0.15);\n",
              "      filter: drop-shadow(0px 1px 2px rgba(0, 0, 0, 0.3));\n",
              "      fill: #FFFFFF;\n",
              "    }\n",
              "  </style>\n",
              "\n",
              "      <script>\n",
              "        const buttonEl =\n",
              "          document.querySelector('#df-f2eda22e-113a-46d4-b8a0-4cdca07aac73 button.colab-df-convert');\n",
              "        buttonEl.style.display =\n",
              "          google.colab.kernel.accessAllowed ? 'block' : 'none';\n",
              "\n",
              "        async function convertToInteractive(key) {\n",
              "          const element = document.querySelector('#df-f2eda22e-113a-46d4-b8a0-4cdca07aac73');\n",
              "          const dataTable =\n",
              "            await google.colab.kernel.invokeFunction('convertToInteractive',\n",
              "                                                     [key], {});\n",
              "          if (!dataTable) return;\n",
              "\n",
              "          const docLinkHtml = 'Like what you see? Visit the ' +\n",
              "            '<a target=\"_blank\" href=https://colab.research.google.com/notebooks/data_table.ipynb>data table notebook</a>'\n",
              "            + ' to learn more about interactive tables.';\n",
              "          element.innerHTML = '';\n",
              "          dataTable['output_type'] = 'display_data';\n",
              "          await google.colab.output.renderOutput(dataTable, element);\n",
              "          const docLink = document.createElement('div');\n",
              "          docLink.innerHTML = docLinkHtml;\n",
              "          element.appendChild(docLink);\n",
              "        }\n",
              "      </script>\n",
              "    </div>\n",
              "  </div>\n",
              "  "
            ],
            "text/plain": [
              "                                                     Text  \\\n",
              "0       ویکی‌پدیای انگلیسی در تاریخ ۱۵ ژانویه ۲۰۰۱ میل...   \n",
              "1               بنیان‌گذاران آن جیمی ولز و لری سنگر هستند   \n",
              "2       هم‌اکنون بنیاد غیرانتفاعی بنیاد ویکی‌مدیا پروژ...   \n",
              "3       کارساز وب اصلی این وبگاه در شهر تامپا ی فلورید...   \n",
              "4       همچنین میزبان‌های اضافی دیگری هم در شهرهای آمس...   \n",
              "...                                                   ...   \n",
              "390930  ۲۰۱۳ درگذشت و آندرتیکر و کین برای او مراسم یاد...   \n",
              "390931  در تاریخ ۲۳ ژوئیه ۲۰۱۲ در‌حین اجرای شوی WWE را...   \n",
              "390932  در سال بعد ۲۰۱۳ کمی قبل از رستلمنیا ۲۹ پول بیر...   \n",
              "390933  در رستلمنیا ۲۹ یک مسابقه بین آندرتیکر و CM پان...   \n",
              "390934  اما پس از مسابقه گروه شیلد آندرتیکر را روی میز...   \n",
              "\n",
              "                                                    Label  \n",
              "0       O O B-DAT I-DAT I-DAT I-DAT I-DAT B-DAT B-DAT ...  \n",
              "1                         O O B-PER I-PER O B-PER I-PER O  \n",
              "2                             O O O B-ORG I-ORG O O O O O  \n",
              "3                           O O O O O O O B-LOC O B-LOC O  \n",
              "4                   O O O O O O O B-LOC O B-LOC O O O O O  \n",
              "...                                                   ...  \n",
              "390930                  O O O B-ORG I-ORG I-ORG O O O O O  \n",
              "390931  B-DAT I-DAT B-DAT I-DAT I-DAT O O O O O O O O ...  \n",
              "390932  B-DAT B-DAT I-DAT O O O O B-EVE I-EVE O O O O ...  \n",
              "390933  O B-EVE I-EVE O O O O O O O O O O O O O O O O ...  \n",
              "390934                    O O O O B-ORG I-ORG O O O O O O  \n",
              "\n",
              "[390935 rows x 2 columns]"
            ]
          },
          "execution_count": 123,
          "metadata": {},
          "output_type": "execute_result"
        }
      ],
      "source": [
        "dataSentences"
      ]
    },
    {
      "cell_type": "code",
      "execution_count": null,
      "metadata": {
        "id": "04I_3YcJo5Pi"
      },
      "outputs": [],
      "source": [
        "dataSentences = dataSentences.iloc[balanced_indices]\n",
        "dataSentences = dataSentences.reset_index(drop = True)"
      ]
    },
    {
      "cell_type": "code",
      "execution_count": null,
      "metadata": {
        "colab": {
          "base_uri": "https://localhost:8080/",
          "height": 424
        },
        "id": "WhU-6divpUZm",
        "outputId": "11a86631-3c46-4776-e01f-141c6a47af57"
      },
      "outputs": [
        {
          "data": {
            "text/html": [
              "\n",
              "  <div id=\"df-548ed6f7-f31f-4e2d-9822-68f2d6f0b335\">\n",
              "    <div class=\"colab-df-container\">\n",
              "      <div>\n",
              "<style scoped>\n",
              "    .dataframe tbody tr th:only-of-type {\n",
              "        vertical-align: middle;\n",
              "    }\n",
              "\n",
              "    .dataframe tbody tr th {\n",
              "        vertical-align: top;\n",
              "    }\n",
              "\n",
              "    .dataframe thead th {\n",
              "        text-align: right;\n",
              "    }\n",
              "</style>\n",
              "<table border=\"1\" class=\"dataframe\">\n",
              "  <thead>\n",
              "    <tr style=\"text-align: right;\">\n",
              "      <th></th>\n",
              "      <th>Text</th>\n",
              "      <th>Label</th>\n",
              "    </tr>\n",
              "  </thead>\n",
              "  <tbody>\n",
              "    <tr>\n",
              "      <th>0</th>\n",
              "      <td>ویکی‌پدیای انگلیسی در تاریخ ۱۵ ژانویه ۲۰۰۱ میل...</td>\n",
              "      <td>O O B-DAT I-DAT I-DAT I-DAT I-DAT B-DAT B-DAT ...</td>\n",
              "    </tr>\n",
              "    <tr>\n",
              "      <th>1</th>\n",
              "      <td>بنیان‌گذاران آن جیمی ولز و لری سنگر هستند</td>\n",
              "      <td>O O B-PER I-PER O B-PER I-PER O</td>\n",
              "    </tr>\n",
              "    <tr>\n",
              "      <th>2</th>\n",
              "      <td>ویکی‌پدیا از پایان آوریل ۲۰۰۷ تاکنون یکی از ۱۰...</td>\n",
              "      <td>O B-DAT I-DAT I-DAT I-DAT O O O O O O O O O O ...</td>\n",
              "    </tr>\n",
              "    <tr>\n",
              "      <th>3</th>\n",
              "      <td>در میان تمام زبان‌های ویکی‌پدیا تا دسامبر ۲۰۱۵...</td>\n",
              "      <td>O O O O O B-DAT I-DAT I-DAT B-DAT I-DAT O O O ...</td>\n",
              "    </tr>\n",
              "    <tr>\n",
              "      <th>4</th>\n",
              "      <td>نوپدیا در تاریخ ۹ مارس ۲۰۰۰ میلادی ۱۹ اسفند ۱۳...</td>\n",
              "      <td>O B-DAT I-DAT I-DAT I-DAT I-DAT B-DAT B-DAT I-...</td>\n",
              "    </tr>\n",
              "    <tr>\n",
              "      <th>...</th>\n",
              "      <td>...</td>\n",
              "      <td>...</td>\n",
              "    </tr>\n",
              "    <tr>\n",
              "      <th>216515</th>\n",
              "      <td>پس‌از‌آن دیگر آندرتیکر حضور نیافت تا سال بعد ک...</td>\n",
              "      <td>O O O O O B-DAT I-DAT I-DAT O O B-EVE I-EVE I-...</td>\n",
              "    </tr>\n",
              "    <tr>\n",
              "      <th>216516</th>\n",
              "      <td>حضور نیافت تا‌این‌که در سال ۲۰۱۲ برای حمایت دو...</td>\n",
              "      <td>O O O B-DAT B-DAT I-DAT O O O O O O B-PER I-PE...</td>\n",
              "    </tr>\n",
              "    <tr>\n",
              "      <th>216517</th>\n",
              "      <td>در تاریخ ۲۳ ژوئیه ۲۰۱۲ در‌حین اجرای شوی WWE را...</td>\n",
              "      <td>B-DAT I-DAT B-DAT I-DAT I-DAT O O O O O O O O ...</td>\n",
              "    </tr>\n",
              "    <tr>\n",
              "      <th>216518</th>\n",
              "      <td>در سال بعد ۲۰۱۳ کمی قبل از رستلمنیا ۲۹ پول بیر...</td>\n",
              "      <td>B-DAT B-DAT I-DAT O O O O B-EVE I-EVE O O O O ...</td>\n",
              "    </tr>\n",
              "    <tr>\n",
              "      <th>216519</th>\n",
              "      <td>در رستلمنیا ۲۹ یک مسابقه بین آندرتیکر و CM پان...</td>\n",
              "      <td>O B-EVE I-EVE O O O O O O O O O O O O O O O O ...</td>\n",
              "    </tr>\n",
              "  </tbody>\n",
              "</table>\n",
              "<p>216520 rows × 2 columns</p>\n",
              "</div>\n",
              "      <button class=\"colab-df-convert\" onclick=\"convertToInteractive('df-548ed6f7-f31f-4e2d-9822-68f2d6f0b335')\"\n",
              "              title=\"Convert this dataframe to an interactive table.\"\n",
              "              style=\"display:none;\">\n",
              "        \n",
              "  <svg xmlns=\"http://www.w3.org/2000/svg\" height=\"24px\"viewBox=\"0 0 24 24\"\n",
              "       width=\"24px\">\n",
              "    <path d=\"M0 0h24v24H0V0z\" fill=\"none\"/>\n",
              "    <path d=\"M18.56 5.44l.94 2.06.94-2.06 2.06-.94-2.06-.94-.94-2.06-.94 2.06-2.06.94zm-11 1L8.5 8.5l.94-2.06 2.06-.94-2.06-.94L8.5 2.5l-.94 2.06-2.06.94zm10 10l.94 2.06.94-2.06 2.06-.94-2.06-.94-.94-2.06-.94 2.06-2.06.94z\"/><path d=\"M17.41 7.96l-1.37-1.37c-.4-.4-.92-.59-1.43-.59-.52 0-1.04.2-1.43.59L10.3 9.45l-7.72 7.72c-.78.78-.78 2.05 0 2.83L4 21.41c.39.39.9.59 1.41.59.51 0 1.02-.2 1.41-.59l7.78-7.78 2.81-2.81c.8-.78.8-2.07 0-2.86zM5.41 20L4 18.59l7.72-7.72 1.47 1.35L5.41 20z\"/>\n",
              "  </svg>\n",
              "      </button>\n",
              "      \n",
              "  <style>\n",
              "    .colab-df-container {\n",
              "      display:flex;\n",
              "      flex-wrap:wrap;\n",
              "      gap: 12px;\n",
              "    }\n",
              "\n",
              "    .colab-df-convert {\n",
              "      background-color: #E8F0FE;\n",
              "      border: none;\n",
              "      border-radius: 50%;\n",
              "      cursor: pointer;\n",
              "      display: none;\n",
              "      fill: #1967D2;\n",
              "      height: 32px;\n",
              "      padding: 0 0 0 0;\n",
              "      width: 32px;\n",
              "    }\n",
              "\n",
              "    .colab-df-convert:hover {\n",
              "      background-color: #E2EBFA;\n",
              "      box-shadow: 0px 1px 2px rgba(60, 64, 67, 0.3), 0px 1px 3px 1px rgba(60, 64, 67, 0.15);\n",
              "      fill: #174EA6;\n",
              "    }\n",
              "\n",
              "    [theme=dark] .colab-df-convert {\n",
              "      background-color: #3B4455;\n",
              "      fill: #D2E3FC;\n",
              "    }\n",
              "\n",
              "    [theme=dark] .colab-df-convert:hover {\n",
              "      background-color: #434B5C;\n",
              "      box-shadow: 0px 1px 3px 1px rgba(0, 0, 0, 0.15);\n",
              "      filter: drop-shadow(0px 1px 2px rgba(0, 0, 0, 0.3));\n",
              "      fill: #FFFFFF;\n",
              "    }\n",
              "  </style>\n",
              "\n",
              "      <script>\n",
              "        const buttonEl =\n",
              "          document.querySelector('#df-548ed6f7-f31f-4e2d-9822-68f2d6f0b335 button.colab-df-convert');\n",
              "        buttonEl.style.display =\n",
              "          google.colab.kernel.accessAllowed ? 'block' : 'none';\n",
              "\n",
              "        async function convertToInteractive(key) {\n",
              "          const element = document.querySelector('#df-548ed6f7-f31f-4e2d-9822-68f2d6f0b335');\n",
              "          const dataTable =\n",
              "            await google.colab.kernel.invokeFunction('convertToInteractive',\n",
              "                                                     [key], {});\n",
              "          if (!dataTable) return;\n",
              "\n",
              "          const docLinkHtml = 'Like what you see? Visit the ' +\n",
              "            '<a target=\"_blank\" href=https://colab.research.google.com/notebooks/data_table.ipynb>data table notebook</a>'\n",
              "            + ' to learn more about interactive tables.';\n",
              "          element.innerHTML = '';\n",
              "          dataTable['output_type'] = 'display_data';\n",
              "          await google.colab.output.renderOutput(dataTable, element);\n",
              "          const docLink = document.createElement('div');\n",
              "          docLink.innerHTML = docLinkHtml;\n",
              "          element.appendChild(docLink);\n",
              "        }\n",
              "      </script>\n",
              "    </div>\n",
              "  </div>\n",
              "  "
            ],
            "text/plain": [
              "                                                     Text  \\\n",
              "0       ویکی‌پدیای انگلیسی در تاریخ ۱۵ ژانویه ۲۰۰۱ میل...   \n",
              "1               بنیان‌گذاران آن جیمی ولز و لری سنگر هستند   \n",
              "2       ویکی‌پدیا از پایان آوریل ۲۰۰۷ تاکنون یکی از ۱۰...   \n",
              "3       در میان تمام زبان‌های ویکی‌پدیا تا دسامبر ۲۰۱۵...   \n",
              "4       نوپدیا در تاریخ ۹ مارس ۲۰۰۰ میلادی ۱۹ اسفند ۱۳...   \n",
              "...                                                   ...   \n",
              "216515  پس‌از‌آن دیگر آندرتیکر حضور نیافت تا سال بعد ک...   \n",
              "216516  حضور نیافت تا‌این‌که در سال ۲۰۱۲ برای حمایت دو...   \n",
              "216517  در تاریخ ۲۳ ژوئیه ۲۰۱۲ در‌حین اجرای شوی WWE را...   \n",
              "216518  در سال بعد ۲۰۱۳ کمی قبل از رستلمنیا ۲۹ پول بیر...   \n",
              "216519  در رستلمنیا ۲۹ یک مسابقه بین آندرتیکر و CM پان...   \n",
              "\n",
              "                                                    Label  \n",
              "0       O O B-DAT I-DAT I-DAT I-DAT I-DAT B-DAT B-DAT ...  \n",
              "1                         O O B-PER I-PER O B-PER I-PER O  \n",
              "2       O B-DAT I-DAT I-DAT I-DAT O O O O O O O O O O ...  \n",
              "3       O O O O O B-DAT I-DAT I-DAT B-DAT I-DAT O O O ...  \n",
              "4       O B-DAT I-DAT I-DAT I-DAT I-DAT B-DAT B-DAT I-...  \n",
              "...                                                   ...  \n",
              "216515  O O O O O B-DAT I-DAT I-DAT O O B-EVE I-EVE I-...  \n",
              "216516  O O O B-DAT B-DAT I-DAT O O O O O O B-PER I-PE...  \n",
              "216517  B-DAT I-DAT B-DAT I-DAT I-DAT O O O O O O O O ...  \n",
              "216518  B-DAT B-DAT I-DAT O O O O B-EVE I-EVE O O O O ...  \n",
              "216519  O B-EVE I-EVE O O O O O O O O O O O O O O O O ...  \n",
              "\n",
              "[216520 rows x 2 columns]"
            ]
          },
          "execution_count": 125,
          "metadata": {},
          "output_type": "execute_result"
        }
      ],
      "source": [
        "dataSentences"
      ]
    },
    {
      "cell_type": "code",
      "execution_count": null,
      "metadata": {
        "colab": {
          "base_uri": "https://localhost:8080/",
          "height": 672
        },
        "id": "ugNdlls65nSk",
        "outputId": "817383f0-fbe0-452c-b7e8-77d061654f81"
      },
      "outputs": [
        {
          "data": {
            "text/html": [
              "\n",
              "  <div id=\"df-be593934-cfb5-404e-9a2c-f7fa495c4ab6\">\n",
              "    <div class=\"colab-df-container\">\n",
              "      <div>\n",
              "<style scoped>\n",
              "    .dataframe tbody tr th:only-of-type {\n",
              "        vertical-align: middle;\n",
              "    }\n",
              "\n",
              "    .dataframe tbody tr th {\n",
              "        vertical-align: top;\n",
              "    }\n",
              "\n",
              "    .dataframe thead th {\n",
              "        text-align: right;\n",
              "    }\n",
              "</style>\n",
              "<table border=\"1\" class=\"dataframe\">\n",
              "  <thead>\n",
              "    <tr style=\"text-align: right;\">\n",
              "      <th></th>\n",
              "      <th>Lens</th>\n",
              "      <th>O_Count</th>\n",
              "      <th>NE_Count</th>\n",
              "      <th>NE/Len</th>\n",
              "    </tr>\n",
              "  </thead>\n",
              "  <tbody>\n",
              "    <tr>\n",
              "      <th>0</th>\n",
              "      <td>20</td>\n",
              "      <td>11</td>\n",
              "      <td>9</td>\n",
              "      <td>45.000000</td>\n",
              "    </tr>\n",
              "    <tr>\n",
              "      <th>1</th>\n",
              "      <td>8</td>\n",
              "      <td>4</td>\n",
              "      <td>4</td>\n",
              "      <td>50.000000</td>\n",
              "    </tr>\n",
              "    <tr>\n",
              "      <th>2</th>\n",
              "      <td>10</td>\n",
              "      <td>10</td>\n",
              "      <td>0</td>\n",
              "      <td>0.000000</td>\n",
              "    </tr>\n",
              "    <tr>\n",
              "      <th>3</th>\n",
              "      <td>11</td>\n",
              "      <td>11</td>\n",
              "      <td>0</td>\n",
              "      <td>0.000000</td>\n",
              "    </tr>\n",
              "    <tr>\n",
              "      <th>4</th>\n",
              "      <td>15</td>\n",
              "      <td>15</td>\n",
              "      <td>0</td>\n",
              "      <td>0.000000</td>\n",
              "    </tr>\n",
              "    <tr>\n",
              "      <th>...</th>\n",
              "      <td>...</td>\n",
              "      <td>...</td>\n",
              "      <td>...</td>\n",
              "      <td>...</td>\n",
              "    </tr>\n",
              "    <tr>\n",
              "      <th>390930</th>\n",
              "      <td>11</td>\n",
              "      <td>11</td>\n",
              "      <td>0</td>\n",
              "      <td>0.000000</td>\n",
              "    </tr>\n",
              "    <tr>\n",
              "      <th>390931</th>\n",
              "      <td>45</td>\n",
              "      <td>40</td>\n",
              "      <td>5</td>\n",
              "      <td>11.111111</td>\n",
              "    </tr>\n",
              "    <tr>\n",
              "      <th>390932</th>\n",
              "      <td>30</td>\n",
              "      <td>25</td>\n",
              "      <td>5</td>\n",
              "      <td>16.666667</td>\n",
              "    </tr>\n",
              "    <tr>\n",
              "      <th>390933</th>\n",
              "      <td>28</td>\n",
              "      <td>25</td>\n",
              "      <td>3</td>\n",
              "      <td>10.714286</td>\n",
              "    </tr>\n",
              "    <tr>\n",
              "      <th>390934</th>\n",
              "      <td>12</td>\n",
              "      <td>12</td>\n",
              "      <td>0</td>\n",
              "      <td>0.000000</td>\n",
              "    </tr>\n",
              "  </tbody>\n",
              "</table>\n",
              "<p>390935 rows × 4 columns</p>\n",
              "</div>\n",
              "      <button class=\"colab-df-convert\" onclick=\"convertToInteractive('df-be593934-cfb5-404e-9a2c-f7fa495c4ab6')\"\n",
              "              title=\"Convert this dataframe to an interactive table.\"\n",
              "              style=\"display:none;\">\n",
              "        \n",
              "  <svg xmlns=\"http://www.w3.org/2000/svg\" height=\"24px\"viewBox=\"0 0 24 24\"\n",
              "       width=\"24px\">\n",
              "    <path d=\"M0 0h24v24H0V0z\" fill=\"none\"/>\n",
              "    <path d=\"M18.56 5.44l.94 2.06.94-2.06 2.06-.94-2.06-.94-.94-2.06-.94 2.06-2.06.94zm-11 1L8.5 8.5l.94-2.06 2.06-.94-2.06-.94L8.5 2.5l-.94 2.06-2.06.94zm10 10l.94 2.06.94-2.06 2.06-.94-2.06-.94-.94-2.06-.94 2.06-2.06.94z\"/><path d=\"M17.41 7.96l-1.37-1.37c-.4-.4-.92-.59-1.43-.59-.52 0-1.04.2-1.43.59L10.3 9.45l-7.72 7.72c-.78.78-.78 2.05 0 2.83L4 21.41c.39.39.9.59 1.41.59.51 0 1.02-.2 1.41-.59l7.78-7.78 2.81-2.81c.8-.78.8-2.07 0-2.86zM5.41 20L4 18.59l7.72-7.72 1.47 1.35L5.41 20z\"/>\n",
              "  </svg>\n",
              "      </button>\n",
              "      \n",
              "  <style>\n",
              "    .colab-df-container {\n",
              "      display:flex;\n",
              "      flex-wrap:wrap;\n",
              "      gap: 12px;\n",
              "    }\n",
              "\n",
              "    .colab-df-convert {\n",
              "      background-color: #E8F0FE;\n",
              "      border: none;\n",
              "      border-radius: 50%;\n",
              "      cursor: pointer;\n",
              "      display: none;\n",
              "      fill: #1967D2;\n",
              "      height: 32px;\n",
              "      padding: 0 0 0 0;\n",
              "      width: 32px;\n",
              "    }\n",
              "\n",
              "    .colab-df-convert:hover {\n",
              "      background-color: #E2EBFA;\n",
              "      box-shadow: 0px 1px 2px rgba(60, 64, 67, 0.3), 0px 1px 3px 1px rgba(60, 64, 67, 0.15);\n",
              "      fill: #174EA6;\n",
              "    }\n",
              "\n",
              "    [theme=dark] .colab-df-convert {\n",
              "      background-color: #3B4455;\n",
              "      fill: #D2E3FC;\n",
              "    }\n",
              "\n",
              "    [theme=dark] .colab-df-convert:hover {\n",
              "      background-color: #434B5C;\n",
              "      box-shadow: 0px 1px 3px 1px rgba(0, 0, 0, 0.15);\n",
              "      filter: drop-shadow(0px 1px 2px rgba(0, 0, 0, 0.3));\n",
              "      fill: #FFFFFF;\n",
              "    }\n",
              "  </style>\n",
              "\n",
              "      <script>\n",
              "        const buttonEl =\n",
              "          document.querySelector('#df-be593934-cfb5-404e-9a2c-f7fa495c4ab6 button.colab-df-convert');\n",
              "        buttonEl.style.display =\n",
              "          google.colab.kernel.accessAllowed ? 'block' : 'none';\n",
              "\n",
              "        async function convertToInteractive(key) {\n",
              "          const element = document.querySelector('#df-be593934-cfb5-404e-9a2c-f7fa495c4ab6');\n",
              "          const dataTable =\n",
              "            await google.colab.kernel.invokeFunction('convertToInteractive',\n",
              "                                                     [key], {});\n",
              "          if (!dataTable) return;\n",
              "\n",
              "          const docLinkHtml = 'Like what you see? Visit the ' +\n",
              "            '<a target=\"_blank\" href=https://colab.research.google.com/notebooks/data_table.ipynb>data table notebook</a>'\n",
              "            + ' to learn more about interactive tables.';\n",
              "          element.innerHTML = '';\n",
              "          dataTable['output_type'] = 'display_data';\n",
              "          await google.colab.output.renderOutput(dataTable, element);\n",
              "          const docLink = document.createElement('div');\n",
              "          docLink.innerHTML = docLinkHtml;\n",
              "          element.appendChild(docLink);\n",
              "        }\n",
              "      </script>\n",
              "    </div>\n",
              "  </div>\n",
              "  "
            ],
            "text/plain": [
              "        Lens  O_Count  NE_Count     NE/Len\n",
              "0         20       11         9  45.000000\n",
              "1          8        4         4  50.000000\n",
              "2         10       10         0   0.000000\n",
              "3         11       11         0   0.000000\n",
              "4         15       15         0   0.000000\n",
              "...      ...      ...       ...        ...\n",
              "390930    11       11         0   0.000000\n",
              "390931    45       40         5  11.111111\n",
              "390932    30       25         5  16.666667\n",
              "390933    28       25         3  10.714286\n",
              "390934    12       12         0   0.000000\n",
              "\n",
              "[390935 rows x 4 columns]"
            ]
          },
          "execution_count": 113,
          "metadata": {},
          "output_type": "execute_result"
        },
        {
          "name": "stdout",
          "output_type": "stream",
          "text": [
            "Warning: total number of rows (390935) exceeds max_rows (20000). Limiting to first (20000) rows.\n"
          ]
        }
      ],
      "source": [
        "senInfo"
      ]
    },
    {
      "cell_type": "code",
      "execution_count": null,
      "metadata": {
        "colab": {
          "base_uri": "https://localhost:8080/",
          "height": 227
        },
        "id": "AWE9PiAP5nWY",
        "outputId": "cc13ba20-0055-4b3d-abbf-fa24caad8de3"
      },
      "outputs": [
        {
          "data": {
            "image/png": "[encoded data removed]",
            "text/plain": [
              "<Figure size 216x216 with 1 Axes>"
            ]
          },
          "metadata": {},
          "output_type": "display_data"
        }
      ],
      "source": [
        "import matplotlib.pyplot as plt\n",
        "fig = plt.figure(figsize =(3, 3))\n",
        "plt.boxplot(senInfo['NE_Count'])\n",
        "plt.title('Name Entity count')\n",
        "plt.show()"
      ]
    },
    {
      "cell_type": "code",
      "execution_count": null,
      "metadata": {
        "id": "DHYmpH_V1Joj"
      },
      "outputs": [],
      "source": [
        "dataSentences.to_csv('/content/drive/MyDrive/NerDatas/innerInputs/dataSentences')"
      ]
    },
    {
      "cell_type": "code",
      "execution_count": null,
      "metadata": {
        "id": "NK0FL7PfU8WO"
      },
      "outputs": [],
      "source": [
        "dataSentences = pd.read_csv('/content/drive/MyDrive/NerDatas/innerInputs/dataSentences2')"
      ]
    },
    {
      "cell_type": "code",
      "execution_count": null,
      "metadata": {
        "id": "AqLR6hP5U8Yo"
      },
      "outputs": [],
      "source": [
        "dataSentences.to_csv('/content/drive/MyDrive/NerDatas/innerInputs/dataSentences2')"
      ]
    },
    {
      "cell_type": "code",
      "execution_count": null,
      "metadata": {
        "id": "oCTxTFS4p9Jx"
      },
      "outputs": [],
      "source": [
        "dataSentences = dataSentences[['Text', 'Label']]"
      ]
    },
    {
      "cell_type": "code",
      "execution_count": null,
      "metadata": {
        "colab": {
          "base_uri": "https://localhost:8080/",
          "height": 424
        },
        "id": "M7tkFy_gqr2y",
        "outputId": "38617628-a551-497d-9de6-90982437c801"
      },
      "outputs": [
        {
          "data": {
            "text/html": [
              "\n",
              "  <div id=\"df-968bc261-3aa9-45b2-9231-c8e8478c9779\">\n",
              "    <div class=\"colab-df-container\">\n",
              "      <div>\n",
              "<style scoped>\n",
              "    .dataframe tbody tr th:only-of-type {\n",
              "        vertical-align: middle;\n",
              "    }\n",
              "\n",
              "    .dataframe tbody tr th {\n",
              "        vertical-align: top;\n",
              "    }\n",
              "\n",
              "    .dataframe thead th {\n",
              "        text-align: right;\n",
              "    }\n",
              "</style>\n",
              "<table border=\"1\" class=\"dataframe\">\n",
              "  <thead>\n",
              "    <tr style=\"text-align: right;\">\n",
              "      <th></th>\n",
              "      <th>Text</th>\n",
              "      <th>Label</th>\n",
              "    </tr>\n",
              "  </thead>\n",
              "  <tbody>\n",
              "    <tr>\n",
              "      <th>0</th>\n",
              "      <td>ویکی‌پدیای انگلیسی در تاریخ ۱۵ ژانویه ۲۰۰۱ میل...</td>\n",
              "      <td>O O B-DAT I-DAT I-DAT I-DAT I-DAT B-DAT B-DAT ...</td>\n",
              "    </tr>\n",
              "    <tr>\n",
              "      <th>1</th>\n",
              "      <td>بنیان‌گذاران آن جیمی ولز و لری سنگر هستند</td>\n",
              "      <td>O O B-PER I-PER O B-PER I-PER O</td>\n",
              "    </tr>\n",
              "    <tr>\n",
              "      <th>2</th>\n",
              "      <td>ویکی‌پدیا از پایان آوریل ۲۰۰۷ تاکنون یکی از ۱۰...</td>\n",
              "      <td>O B-DAT I-DAT I-DAT I-DAT O O O O O O O O O O ...</td>\n",
              "    </tr>\n",
              "    <tr>\n",
              "      <th>3</th>\n",
              "      <td>در میان تمام زبان‌های ویکی‌پدیا تا دسامبر ۲۰۱۵...</td>\n",
              "      <td>O O O O O B-DAT I-DAT I-DAT B-DAT I-DAT O O O ...</td>\n",
              "    </tr>\n",
              "    <tr>\n",
              "      <th>4</th>\n",
              "      <td>نوپدیا در تاریخ ۹ مارس ۲۰۰۰ میلادی ۱۹ اسفند ۱۳...</td>\n",
              "      <td>O B-DAT I-DAT I-DAT I-DAT I-DAT B-DAT B-DAT I-...</td>\n",
              "    </tr>\n",
              "    <tr>\n",
              "      <th>...</th>\n",
              "      <td>...</td>\n",
              "      <td>...</td>\n",
              "    </tr>\n",
              "    <tr>\n",
              "      <th>216515</th>\n",
              "      <td>پس‌از‌آن دیگر آندرتیکر حضور نیافت تا سال بعد ک...</td>\n",
              "      <td>O O O O O B-DAT I-DAT I-DAT O O B-EVE I-EVE I-...</td>\n",
              "    </tr>\n",
              "    <tr>\n",
              "      <th>216516</th>\n",
              "      <td>حضور نیافت تا‌این‌که در سال ۲۰۱۲ برای حمایت دو...</td>\n",
              "      <td>O O O B-DAT B-DAT I-DAT O O O O O O B-PER I-PE...</td>\n",
              "    </tr>\n",
              "    <tr>\n",
              "      <th>216517</th>\n",
              "      <td>در تاریخ ۲۳ ژوئیه ۲۰۱۲ در‌حین اجرای شوی WWE را...</td>\n",
              "      <td>B-DAT I-DAT B-DAT I-DAT I-DAT O O O O O O O O ...</td>\n",
              "    </tr>\n",
              "    <tr>\n",
              "      <th>216518</th>\n",
              "      <td>در سال بعد ۲۰۱۳ کمی قبل از رستلمنیا ۲۹ پول بیر...</td>\n",
              "      <td>B-DAT B-DAT I-DAT O O O O B-EVE I-EVE O O O O ...</td>\n",
              "    </tr>\n",
              "    <tr>\n",
              "      <th>216519</th>\n",
              "      <td>در رستلمنیا ۲۹ یک مسابقه بین آندرتیکر و CM پان...</td>\n",
              "      <td>O B-EVE I-EVE O O O O O O O O O O O O O O O O ...</td>\n",
              "    </tr>\n",
              "  </tbody>\n",
              "</table>\n",
              "<p>216520 rows × 2 columns</p>\n",
              "</div>\n",
              "      <button class=\"colab-df-convert\" onclick=\"convertToInteractive('df-968bc261-3aa9-45b2-9231-c8e8478c9779')\"\n",
              "              title=\"Convert this dataframe to an interactive table.\"\n",
              "              style=\"display:none;\">\n",
              "        \n",
              "  <svg xmlns=\"http://www.w3.org/2000/svg\" height=\"24px\"viewBox=\"0 0 24 24\"\n",
              "       width=\"24px\">\n",
              "    <path d=\"M0 0h24v24H0V0z\" fill=\"none\"/>\n",
              "    <path d=\"M18.56 5.44l.94 2.06.94-2.06 2.06-.94-2.06-.94-.94-2.06-.94 2.06-2.06.94zm-11 1L8.5 8.5l.94-2.06 2.06-.94-2.06-.94L8.5 2.5l-.94 2.06-2.06.94zm10 10l.94 2.06.94-2.06 2.06-.94-2.06-.94-.94-2.06-.94 2.06-2.06.94z\"/><path d=\"M17.41 7.96l-1.37-1.37c-.4-.4-.92-.59-1.43-.59-.52 0-1.04.2-1.43.59L10.3 9.45l-7.72 7.72c-.78.78-.78 2.05 0 2.83L4 21.41c.39.39.9.59 1.41.59.51 0 1.02-.2 1.41-.59l7.78-7.78 2.81-2.81c.8-.78.8-2.07 0-2.86zM5.41 20L4 18.59l7.72-7.72 1.47 1.35L5.41 20z\"/>\n",
              "  </svg>\n",
              "      </button>\n",
              "      \n",
              "  <style>\n",
              "    .colab-df-container {\n",
              "      display:flex;\n",
              "      flex-wrap:wrap;\n",
              "      gap: 12px;\n",
              "    }\n",
              "\n",
              "    .colab-df-convert {\n",
              "      background-color: #E8F0FE;\n",
              "      border: none;\n",
              "      border-radius: 50%;\n",
              "      cursor: pointer;\n",
              "      display: none;\n",
              "      fill: #1967D2;\n",
              "      height: 32px;\n",
              "      padding: 0 0 0 0;\n",
              "      width: 32px;\n",
              "    }\n",
              "\n",
              "    .colab-df-convert:hover {\n",
              "      background-color: #E2EBFA;\n",
              "      box-shadow: 0px 1px 2px rgba(60, 64, 67, 0.3), 0px 1px 3px 1px rgba(60, 64, 67, 0.15);\n",
              "      fill: #174EA6;\n",
              "    }\n",
              "\n",
              "    [theme=dark] .colab-df-convert {\n",
              "      background-color: #3B4455;\n",
              "      fill: #D2E3FC;\n",
              "    }\n",
              "\n",
              "    [theme=dark] .colab-df-convert:hover {\n",
              "      background-color: #434B5C;\n",
              "      box-shadow: 0px 1px 3px 1px rgba(0, 0, 0, 0.15);\n",
              "      filter: drop-shadow(0px 1px 2px rgba(0, 0, 0, 0.3));\n",
              "      fill: #FFFFFF;\n",
              "    }\n",
              "  </style>\n",
              "\n",
              "      <script>\n",
              "        const buttonEl =\n",
              "          document.querySelector('#df-968bc261-3aa9-45b2-9231-c8e8478c9779 button.colab-df-convert');\n",
              "        buttonEl.style.display =\n",
              "          google.colab.kernel.accessAllowed ? 'block' : 'none';\n",
              "\n",
              "        async function convertToInteractive(key) {\n",
              "          const element = document.querySelector('#df-968bc261-3aa9-45b2-9231-c8e8478c9779');\n",
              "          const dataTable =\n",
              "            await google.colab.kernel.invokeFunction('convertToInteractive',\n",
              "                                                     [key], {});\n",
              "          if (!dataTable) return;\n",
              "\n",
              "          const docLinkHtml = 'Like what you see? Visit the ' +\n",
              "            '<a target=\"_blank\" href=https://colab.research.google.com/notebooks/data_table.ipynb>data table notebook</a>'\n",
              "            + ' to learn more about interactive tables.';\n",
              "          element.innerHTML = '';\n",
              "          dataTable['output_type'] = 'display_data';\n",
              "          await google.colab.output.renderOutput(dataTable, element);\n",
              "          const docLink = document.createElement('div');\n",
              "          docLink.innerHTML = docLinkHtml;\n",
              "          element.appendChild(docLink);\n",
              "        }\n",
              "      </script>\n",
              "    </div>\n",
              "  </div>\n",
              "  "
            ],
            "text/plain": [
              "                                                     Text  \\\n",
              "0       ویکی‌پدیای انگلیسی در تاریخ ۱۵ ژانویه ۲۰۰۱ میل...   \n",
              "1               بنیان‌گذاران آن جیمی ولز و لری سنگر هستند   \n",
              "2       ویکی‌پدیا از پایان آوریل ۲۰۰۷ تاکنون یکی از ۱۰...   \n",
              "3       در میان تمام زبان‌های ویکی‌پدیا تا دسامبر ۲۰۱۵...   \n",
              "4       نوپدیا در تاریخ ۹ مارس ۲۰۰۰ میلادی ۱۹ اسفند ۱۳...   \n",
              "...                                                   ...   \n",
              "216515  پس‌از‌آن دیگر آندرتیکر حضور نیافت تا سال بعد ک...   \n",
              "216516  حضور نیافت تا‌این‌که در سال ۲۰۱۲ برای حمایت دو...   \n",
              "216517  در تاریخ ۲۳ ژوئیه ۲۰۱۲ در‌حین اجرای شوی WWE را...   \n",
              "216518  در سال بعد ۲۰۱۳ کمی قبل از رستلمنیا ۲۹ پول بیر...   \n",
              "216519  در رستلمنیا ۲۹ یک مسابقه بین آندرتیکر و CM پان...   \n",
              "\n",
              "                                                    Label  \n",
              "0       O O B-DAT I-DAT I-DAT I-DAT I-DAT B-DAT B-DAT ...  \n",
              "1                         O O B-PER I-PER O B-PER I-PER O  \n",
              "2       O B-DAT I-DAT I-DAT I-DAT O O O O O O O O O O ...  \n",
              "3       O O O O O B-DAT I-DAT I-DAT B-DAT I-DAT O O O ...  \n",
              "4       O B-DAT I-DAT I-DAT I-DAT I-DAT B-DAT B-DAT I-...  \n",
              "...                                                   ...  \n",
              "216515  O O O O O B-DAT I-DAT I-DAT O O B-EVE I-EVE I-...  \n",
              "216516  O O O B-DAT B-DAT I-DAT O O O O O O B-PER I-PE...  \n",
              "216517  B-DAT I-DAT B-DAT I-DAT I-DAT O O O O O O O O ...  \n",
              "216518  B-DAT B-DAT I-DAT O O O O B-EVE I-EVE O O O O ...  \n",
              "216519  O B-EVE I-EVE O O O O O O O O O O O O O O O O ...  \n",
              "\n",
              "[216520 rows x 2 columns]"
            ]
          },
          "execution_count": 7,
          "metadata": {},
          "output_type": "execute_result"
        }
      ],
      "source": [
        "dataSentences"
      ]
    },
    {
      "cell_type": "code",
      "execution_count": null,
      "metadata": {
        "colab": {
          "base_uri": "https://localhost:8080/",
          "height": 424
        },
        "id": "Rg9PwUAyqr99",
        "outputId": "b64119d2-09f7-4af5-f343-b5bc6b100ee8"
      },
      "outputs": [
        {
          "output_type": "execute_result",
          "data": {
            "text/plain": [
              "        Lens   O  B-DAT  I-DAT  B-LOC  I-LOC  B-PER  I-PER  B-ORG  I-ORG  \\\n",
              "0         20  11      3      6      0      0      0      0      0      0   \n",
              "1          8   4      0      0      0      0      2      2      0      0   \n",
              "2         28  24      1      3      0      0      0      0      0      0   \n",
              "3         29  24      2      3      0      0      0      0      0      0   \n",
              "4         22  13      3      6      0      0      0      0      1      0   \n",
              "...      ...  ..    ...    ...    ...    ...    ...    ...    ...    ...   \n",
              "216515    20  12      1      2      0      0      0      0      0      0   \n",
              "216516    35  30      2      1      0      0      1      1      0      0   \n",
              "216517    45  40      2      3      0      0      0      0      0      0   \n",
              "216518    30  25      2      1      0      0      0      0      0      0   \n",
              "216519    28  25      1      0      0      0      0      0      0      0   \n",
              "\n",
              "        B-EVE  I-EVE  NE_Count     NE/Len  \n",
              "0           0      0         9  45.000000  \n",
              "1           0      0         4  50.000000  \n",
              "2           0      0         4  14.285714  \n",
              "3           0      0         5  17.241379  \n",
              "4           0      0         9  40.909091  \n",
              "...       ...    ...       ...        ...  \n",
              "216515      1      4         8  40.000000  \n",
              "216516      0      0         5  14.285714  \n",
              "216517      0      0         5  11.111111  \n",
              "216518      1      1         5  16.666667  \n",
              "216519      1      1         3  10.714286  \n",
              "\n",
              "[216520 rows x 14 columns]"
            ],
            "text/html": [
              "\n",
              "  <div id=\"df-b142aa03-1cf0-4e8b-8c52-6bd0271276b3\">\n",
              "    <div class=\"colab-df-container\">\n",
              "      <div>\n",
              "<style scoped>\n",
              "    .dataframe tbody tr th:only-of-type {\n",
              "        vertical-align: middle;\n",
              "    }\n",
              "\n",
              "    .dataframe tbody tr th {\n",
              "        vertical-align: top;\n",
              "    }\n",
              "\n",
              "    .dataframe thead th {\n",
              "        text-align: right;\n",
              "    }\n",
              "</style>\n",
              "<table border=\"1\" class=\"dataframe\">\n",
              "  <thead>\n",
              "    <tr style=\"text-align: right;\">\n",
              "      <th></th>\n",
              "      <th>Lens</th>\n",
              "      <th>O</th>\n",
              "      <th>B-DAT</th>\n",
              "      <th>I-DAT</th>\n",
              "      <th>B-LOC</th>\n",
              "      <th>I-LOC</th>\n",
              "      <th>B-PER</th>\n",
              "      <th>I-PER</th>\n",
              "      <th>B-ORG</th>\n",
              "      <th>I-ORG</th>\n",
              "      <th>B-EVE</th>\n",
              "      <th>I-EVE</th>\n",
              "      <th>NE_Count</th>\n",
              "      <th>NE/Len</th>\n",
              "    </tr>\n",
              "  </thead>\n",
              "  <tbody>\n",
              "    <tr>\n",
              "      <th>0</th>\n",
              "      <td>20</td>\n",
              "      <td>11</td>\n",
              "      <td>3</td>\n",
              "      <td>6</td>\n",
              "      <td>0</td>\n",
              "      <td>0</td>\n",
              "      <td>0</td>\n",
              "      <td>0</td>\n",
              "      <td>0</td>\n",
              "      <td>0</td>\n",
              "      <td>0</td>\n",
              "      <td>0</td>\n",
              "      <td>9</td>\n",
              "      <td>45.000000</td>\n",
              "    </tr>\n",
              "    <tr>\n",
              "      <th>1</th>\n",
              "      <td>8</td>\n",
              "      <td>4</td>\n",
              "      <td>0</td>\n",
              "      <td>0</td>\n",
              "      <td>0</td>\n",
              "      <td>0</td>\n",
              "      <td>2</td>\n",
              "      <td>2</td>\n",
              "      <td>0</td>\n",
              "      <td>0</td>\n",
              "      <td>0</td>\n",
              "      <td>0</td>\n",
              "      <td>4</td>\n",
              "      <td>50.000000</td>\n",
              "    </tr>\n",
              "    <tr>\n",
              "      <th>2</th>\n",
              "      <td>28</td>\n",
              "      <td>24</td>\n",
              "      <td>1</td>\n",
              "      <td>3</td>\n",
              "      <td>0</td>\n",
              "      <td>0</td>\n",
              "      <td>0</td>\n",
              "      <td>0</td>\n",
              "      <td>0</td>\n",
              "      <td>0</td>\n",
              "      <td>0</td>\n",
              "      <td>0</td>\n",
              "      <td>4</td>\n",
              "      <td>14.285714</td>\n",
              "    </tr>\n",
              "    <tr>\n",
              "      <th>3</th>\n",
              "      <td>29</td>\n",
              "      <td>24</td>\n",
              "      <td>2</td>\n",
              "      <td>3</td>\n",
              "      <td>0</td>\n",
              "      <td>0</td>\n",
              "      <td>0</td>\n",
              "      <td>0</td>\n",
              "      <td>0</td>\n",
              "      <td>0</td>\n",
              "      <td>0</td>\n",
              "      <td>0</td>\n",
              "      <td>5</td>\n",
              "      <td>17.241379</td>\n",
              "    </tr>\n",
              "    <tr>\n",
              "      <th>4</th>\n",
              "      <td>22</td>\n",
              "      <td>13</td>\n",
              "      <td>3</td>\n",
              "      <td>6</td>\n",
              "      <td>0</td>\n",
              "      <td>0</td>\n",
              "      <td>0</td>\n",
              "      <td>0</td>\n",
              "      <td>1</td>\n",
              "      <td>0</td>\n",
              "      <td>0</td>\n",
              "      <td>0</td>\n",
              "      <td>9</td>\n",
              "      <td>40.909091</td>\n",
              "    </tr>\n",
              "    <tr>\n",
              "      <th>...</th>\n",
              "      <td>...</td>\n",
              "      <td>...</td>\n",
              "      <td>...</td>\n",
              "      <td>...</td>\n",
              "      <td>...</td>\n",
              "      <td>...</td>\n",
              "      <td>...</td>\n",
              "      <td>...</td>\n",
              "      <td>...</td>\n",
              "      <td>...</td>\n",
              "      <td>...</td>\n",
              "      <td>...</td>\n",
              "      <td>...</td>\n",
              "      <td>...</td>\n",
              "    </tr>\n",
              "    <tr>\n",
              "      <th>216515</th>\n",
              "      <td>20</td>\n",
              "      <td>12</td>\n",
              "      <td>1</td>\n",
              "      <td>2</td>\n",
              "      <td>0</td>\n",
              "      <td>0</td>\n",
              "      <td>0</td>\n",
              "      <td>0</td>\n",
              "      <td>0</td>\n",
              "      <td>0</td>\n",
              "      <td>1</td>\n",
              "      <td>4</td>\n",
              "      <td>8</td>\n",
              "      <td>40.000000</td>\n",
              "    </tr>\n",
              "    <tr>\n",
              "      <th>216516</th>\n",
              "      <td>35</td>\n",
              "      <td>30</td>\n",
              "      <td>2</td>\n",
              "      <td>1</td>\n",
              "      <td>0</td>\n",
              "      <td>0</td>\n",
              "      <td>1</td>\n",
              "      <td>1</td>\n",
              "      <td>0</td>\n",
              "      <td>0</td>\n",
              "      <td>0</td>\n",
              "      <td>0</td>\n",
              "      <td>5</td>\n",
              "      <td>14.285714</td>\n",
              "    </tr>\n",
              "    <tr>\n",
              "      <th>216517</th>\n",
              "      <td>45</td>\n",
              "      <td>40</td>\n",
              "      <td>2</td>\n",
              "      <td>3</td>\n",
              "      <td>0</td>\n",
              "      <td>0</td>\n",
              "      <td>0</td>\n",
              "      <td>0</td>\n",
              "      <td>0</td>\n",
              "      <td>0</td>\n",
              "      <td>0</td>\n",
              "      <td>0</td>\n",
              "      <td>5</td>\n",
              "      <td>11.111111</td>\n",
              "    </tr>\n",
              "    <tr>\n",
              "      <th>216518</th>\n",
              "      <td>30</td>\n",
              "      <td>25</td>\n",
              "      <td>2</td>\n",
              "      <td>1</td>\n",
              "      <td>0</td>\n",
              "      <td>0</td>\n",
              "      <td>0</td>\n",
              "      <td>0</td>\n",
              "      <td>0</td>\n",
              "      <td>0</td>\n",
              "      <td>1</td>\n",
              "      <td>1</td>\n",
              "      <td>5</td>\n",
              "      <td>16.666667</td>\n",
              "    </tr>\n",
              "    <tr>\n",
              "      <th>216519</th>\n",
              "      <td>28</td>\n",
              "      <td>25</td>\n",
              "      <td>1</td>\n",
              "      <td>0</td>\n",
              "      <td>0</td>\n",
              "      <td>0</td>\n",
              "      <td>0</td>\n",
              "      <td>0</td>\n",
              "      <td>0</td>\n",
              "      <td>0</td>\n",
              "      <td>1</td>\n",
              "      <td>1</td>\n",
              "      <td>3</td>\n",
              "      <td>10.714286</td>\n",
              "    </tr>\n",
              "  </tbody>\n",
              "</table>\n",
              "<p>216520 rows × 14 columns</p>\n",
              "</div>\n",
              "      <button class=\"colab-df-convert\" onclick=\"convertToInteractive('df-b142aa03-1cf0-4e8b-8c52-6bd0271276b3')\"\n",
              "              title=\"Convert this dataframe to an interactive table.\"\n",
              "              style=\"display:none;\">\n",
              "        \n",
              "  <svg xmlns=\"http://www.w3.org/2000/svg\" height=\"24px\"viewBox=\"0 0 24 24\"\n",
              "       width=\"24px\">\n",
              "    <path d=\"M0 0h24v24H0V0z\" fill=\"none\"/>\n",
              "    <path d=\"M18.56 5.44l.94 2.06.94-2.06 2.06-.94-2.06-.94-.94-2.06-.94 2.06-2.06.94zm-11 1L8.5 8.5l.94-2.06 2.06-.94-2.06-.94L8.5 2.5l-.94 2.06-2.06.94zm10 10l.94 2.06.94-2.06 2.06-.94-2.06-.94-.94-2.06-.94 2.06-2.06.94z\"/><path d=\"M17.41 7.96l-1.37-1.37c-.4-.4-.92-.59-1.43-.59-.52 0-1.04.2-1.43.59L10.3 9.45l-7.72 7.72c-.78.78-.78 2.05 0 2.83L4 21.41c.39.39.9.59 1.41.59.51 0 1.02-.2 1.41-.59l7.78-7.78 2.81-2.81c.8-.78.8-2.07 0-2.86zM5.41 20L4 18.59l7.72-7.72 1.47 1.35L5.41 20z\"/>\n",
              "  </svg>\n",
              "      </button>\n",
              "      \n",
              "  <style>\n",
              "    .colab-df-container {\n",
              "      display:flex;\n",
              "      flex-wrap:wrap;\n",
              "      gap: 12px;\n",
              "    }\n",
              "\n",
              "    .colab-df-convert {\n",
              "      background-color: #E8F0FE;\n",
              "      border: none;\n",
              "      border-radius: 50%;\n",
              "      cursor: pointer;\n",
              "      display: none;\n",
              "      fill: #1967D2;\n",
              "      height: 32px;\n",
              "      padding: 0 0 0 0;\n",
              "      width: 32px;\n",
              "    }\n",
              "\n",
              "    .colab-df-convert:hover {\n",
              "      background-color: #E2EBFA;\n",
              "      box-shadow: 0px 1px 2px rgba(60, 64, 67, 0.3), 0px 1px 3px 1px rgba(60, 64, 67, 0.15);\n",
              "      fill: #174EA6;\n",
              "    }\n",
              "\n",
              "    [theme=dark] .colab-df-convert {\n",
              "      background-color: #3B4455;\n",
              "      fill: #D2E3FC;\n",
              "    }\n",
              "\n",
              "    [theme=dark] .colab-df-convert:hover {\n",
              "      background-color: #434B5C;\n",
              "      box-shadow: 0px 1px 3px 1px rgba(0, 0, 0, 0.15);\n",
              "      filter: drop-shadow(0px 1px 2px rgba(0, 0, 0, 0.3));\n",
              "      fill: #FFFFFF;\n",
              "    }\n",
              "  </style>\n",
              "\n",
              "      <script>\n",
              "        const buttonEl =\n",
              "          document.querySelector('#df-b142aa03-1cf0-4e8b-8c52-6bd0271276b3 button.colab-df-convert');\n",
              "        buttonEl.style.display =\n",
              "          google.colab.kernel.accessAllowed ? 'block' : 'none';\n",
              "\n",
              "        async function convertToInteractive(key) {\n",
              "          const element = document.querySelector('#df-b142aa03-1cf0-4e8b-8c52-6bd0271276b3');\n",
              "          const dataTable =\n",
              "            await google.colab.kernel.invokeFunction('convertToInteractive',\n",
              "                                                     [key], {});\n",
              "          if (!dataTable) return;\n",
              "\n",
              "          const docLinkHtml = 'Like what you see? Visit the ' +\n",
              "            '<a target=\"_blank\" href=https://colab.research.google.com/notebooks/data_table.ipynb>data table notebook</a>'\n",
              "            + ' to learn more about interactive tables.';\n",
              "          element.innerHTML = '';\n",
              "          dataTable['output_type'] = 'display_data';\n",
              "          await google.colab.output.renderOutput(dataTable, element);\n",
              "          const docLink = document.createElement('div');\n",
              "          docLink.innerHTML = docLinkHtml;\n",
              "          element.appendChild(docLink);\n",
              "        }\n",
              "      </script>\n",
              "    </div>\n",
              "  </div>\n",
              "  "
            ]
          },
          "metadata": {},
          "execution_count": 10
        }
      ],
      "source": [
        "senLens = [len(sen.split(' ')) for sen in yLabel]\n",
        "senInfo = pd.DataFrame()\n",
        "list_classes = ['O', 'B-DAT', 'I-DAT', 'B-LOC', 'I-LOC', 'B-PER', 'I-PER', 'B-ORG', 'I-ORG', 'B-EVE', 'I-EVE']\n",
        "senInfo['Lens'] = senLens\n",
        "for i in list_classes:\n",
        "  senInfo[i] = list(dataSentences['Label'].str.count(i))\n",
        "\n",
        "senInfo['NE_Count'] = senInfo['Lens'] - senInfo['O']\n",
        "senInfo['NE/Len'] = senInfo['NE_Count'] / (senInfo['Lens']) * 100\n",
        "senInfo"
      ]
    },
    {
      "cell_type": "code",
      "execution_count": null,
      "metadata": {
        "colab": {
          "base_uri": "https://localhost:8080/",
          "height": 738
        },
        "id": "uRn5KyC6Vir4",
        "outputId": "12675fca-1c06-4532-c8b0-f18c204e6e35"
      },
      "outputs": [
        {
          "name": "stdout",
          "output_type": "stream",
          "text": [
            "               0\n",
            "O      4102390.0\n",
            "B-DAT   259059.0\n",
            "I-DAT   354510.0\n",
            "B-LOC   102441.0\n",
            "I-LOC    53568.0\n",
            "B-PER   139865.0\n",
            "I-PER   158205.0\n",
            "B-ORG    52070.0\n",
            "I-ORG    79865.0\n",
            "B-EVE    24544.0\n",
            "I-EVE    47911.0\n",
            "O        76.331658\n",
            "B-DAT     4.820215\n",
            "I-DAT     6.596237\n",
            "B-LOC     1.906082\n",
            "I-LOC     0.996720\n",
            "B-PER     2.602416\n",
            "I-PER     2.943662\n",
            "B-ORG     0.968847\n",
            "I-ORG     1.486019\n",
            "B-EVE     0.456681\n",
            "I-EVE     0.891462\n",
            "dtype: float64\n"
          ]
        },
        {
          "data": {
            "text/plain": [
              "(-1.1061173500515553,\n",
              " 1.1113942826951024,\n",
              " -1.122230227963182,\n",
              " 1.1010585884961508)"
            ]
          },
          "execution_count": 91,
          "metadata": {},
          "output_type": "execute_result"
        },
        {
          "data": {
            "image/png": "[encoded data removed]",
            "text/plain": [
              "<Figure size 432x288 with 1 Axes>"
            ]
          },
          "metadata": {},
          "output_type": "display_data"
        }
      ],
      "source": [
        "ne_Count = senInfo.sum(axis = 0)\n",
        "ne_Count = ne_Count[1:12]\n",
        "print(pd.DataFrame(ne_Count))\n",
        "print(ne_Count / sum(ne_Count.values)*100)\n",
        "ne_Count = ne_Count[1:12]\n",
        "ne_Count = shuffle(ne_Count)\n",
        "fig1, ax1 = plt.subplots()\n",
        "ax1.pie(ne_Count.values, labels=ne_Count.keys(), autopct='%1.1f%%',shadow=True, startangle=90)\n",
        "ax1.axis('equal') "
      ]
    },
    {
      "cell_type": "code",
      "execution_count": null,
      "metadata": {
        "colab": {
          "background_save": true
        },
        "id": "ZbajHLnJqsAe",
        "outputId": "03c622fb-46d4-44ae-9d6b-f364ce2247cc"
      },
      "outputs": [
        {
          "data": {
            "text/plain": [
              "array([2.43760345e-07, 3.86012453e-06, 2.82079490e-06, 9.76171650e-06,\n",
              "       1.86678614e-05, 7.14975155e-06, 6.32091274e-06, 1.92049165e-05,\n",
              "       1.25211294e-05, 4.07431551e-05, 2.08720336e-05])"
            ]
          },
          "execution_count": 65,
          "metadata": {},
          "output_type": "execute_result"
        }
      ],
      "source": [
        "weightClass = senInfo.sum(axis = 0)\n",
        "weightClass = weightClass[1:12]\n",
        "weightClass = 1 / weightClass\n",
        "weightClass.values"
      ]
    },
    {
      "cell_type": "code",
      "execution_count": null,
      "metadata": {
        "colab": {
          "base_uri": "https://localhost:8080/",
          "height": 265
        },
        "id": "EDc8Efs2qsDE",
        "outputId": "77da7be8-6a09-432f-c86a-7ca18a6653eb"
      },
      "outputs": [
        {
          "data": {
            "image/png": "[encoded data removed]",
            "text/plain": [
              "<Figure size 432x288 with 1 Axes>"
            ]
          },
          "metadata": {},
          "output_type": "display_data"
        }
      ],
      "source": [
        "plt.hist(senLens, bins = np.arange(0,120,3), color = 'green')\n",
        "plt.show()"
      ]
    },
    {
      "cell_type": "markdown",
      "metadata": {
        "id": "hK2H4mZuqDKT"
      },
      "source": [
        "## Tokenizationnnnn"
      ]
    },
    {
      "cell_type": "code",
      "execution_count": null,
      "metadata": {
        "id": "fDRwfbd1qH0T"
      },
      "outputs": [],
      "source": [
        "yLabel = dataSentences['Label']\n",
        "sentences = dataSentences['Text']"
      ]
    },
    {
      "cell_type": "code",
      "execution_count": null,
      "metadata": {
        "id": "_tG6HESkp9R2"
      },
      "outputs": [],
      "source": [
        "max_features = 450025   # changeable\n",
        "tokenizer = Tokenizer(num_words=max_features)\n",
        "tokenizer.fit_on_texts(list(sentences))\n",
        "list_tokenized_train = tokenizer.texts_to_sequences(sentences)\n",
        "\n",
        "y = [[label_to_one_hot(c) for c in ey.split(' ')] for ey in yLabel]"
      ]
    },
    {
      "cell_type": "markdown",
      "metadata": {
        "id": "-DTDY6H1mTnn"
      },
      "source": [
        "## Padding"
      ]
    },
    {
      "cell_type": "code",
      "execution_count": null,
      "metadata": {
        "colab": {
          "base_uri": "https://localhost:8080/"
        },
        "id": "IUHr_QF1mSsU",
        "outputId": "d8fb530b-4b9f-4f43-9135-75db56c66171"
      },
      "outputs": [
        {
          "output_type": "stream",
          "name": "stdout",
          "text": [
            "50\n",
            "50\n"
          ]
        }
      ],
      "source": [
        "from keras_preprocessing.sequence import pad_sequences\n",
        "maxlen = 50\n",
        "X_t = pad_sequences(list_tokenized_train, maxlen=maxlen)\n",
        "y_t = pad_sequences(y, maxlen=maxlen)\n",
        "print(len(X_t[0]))\n",
        "print(len(y_t[0]))"
      ]
    },
    {
      "cell_type": "code",
      "execution_count": null,
      "metadata": {
        "colab": {
          "base_uri": "https://localhost:8080/"
        },
        "id": "vCL14qeaB3QD",
        "outputId": "da50ef11-8906-43f4-d7d3-ec2691dee095"
      },
      "outputs": [
        {
          "data": {
            "text/plain": [
              "array([   0,    0,    0,    0,    0,    0,    0,    0,    0,    0,    0,\n",
              "          0,    0,    0,    0,    0,    0,    0,    0,    0,    0,    0,\n",
              "          0,    0,    0,    0,    0,    0,    0,    0,    0,    0,    0,\n",
              "          0,    0,    0,    0,    0,    0,    0,    0,    0,    0,    0,\n",
              "          0,    0,    0,    0,    0,    0,    0,    0, 6089,   18, 3692,\n",
              "       2952,    2, 5169, 7303,  269], dtype=int32)"
            ]
          },
          "execution_count": 9,
          "metadata": {},
          "output_type": "execute_result"
        }
      ],
      "source": [
        "X_t[1]"
      ]
    },
    {
      "cell_type": "code",
      "execution_count": null,
      "metadata": {
        "id": "cO55LXGLB3Wz"
      },
      "outputs": [],
      "source": [
        ""
      ]
    },
    {
      "cell_type": "markdown",
      "metadata": {
        "id": "lc8mcXlBDklT"
      },
      "source": [
        "## Embedding"
      ]
    },
    {
      "cell_type": "code",
      "execution_count": null,
      "metadata": {
        "id": "Xv8GF_-fDArA"
      },
      "outputs": [],
      "source": [
        "def loadEmbeddingMatrix(typeToLoad):\n",
        "    if(typeToLoad==\"fasttext\"):\n",
        "        EMBEDDING_FILE='/content/drive/MyDrive/NerDatas/cc.fa.300.vec'\n",
        "        embed_size = 300\n",
        "\n",
        "    if(typeToLoad==\"glove\" or typeToLoad==\"fasttext\" ):\n",
        "        embeddings_index = dict()\n",
        "            #Transfer the embedding weights into a dictionary by iterating through every line of the file.\n",
        "        with open(EMBEDDING_FILE,'r', encoding='utf8')as f:\n",
        "            for line in f:\n",
        "                try:\n",
        "                    values = line.split()\n",
        "\n",
        "                    if len(values)==301:\n",
        "                        word = values[0]    \n",
        "                        coefs = np.asarray(values[1:], dtype='float32')\n",
        "                        embeddings_index[word] = coefs\n",
        "                    elif len(values)==302:\n",
        "          #print(len(value))\n",
        "                        word = values[0]+'\\u200c'+values[1]   \n",
        "                        coefs = np.asarray(values[2:], dtype='float32')\n",
        "                        embeddings_index[word] = coefs\n",
        "                    elif len(values)==303:\n",
        "                        word = values[0]+'\\u200c'+values[1]+'\\u200c'+values[2]  \n",
        "                        coefs = np.asarray(values[3:], dtype='float32')\n",
        "                        embeddings_index[word] = coefs\n",
        "                except Exception as inst:\n",
        "                        print(inst)\n",
        "    else:\n",
        "            embeddings_index = dict()\n",
        "            for word in word2vecDict.wv.vocab:\n",
        "                embeddings_index[word] = word2vecDict.word_vec(word)\n",
        "            #print('Loaded %s word vectors.' % len(embeddings_index))\n",
        "                        \n",
        "    gc.collect()\n",
        "        #We get the mean and standard deviation of the embedding weights so that we could maintain the \n",
        "        #same statistics for the rest of our own random generated weights. \n",
        "    all_embs = np.stack(list(embeddings_index.values()))\n",
        "    emb_mean,emb_std = all_embs.mean(), all_embs.std()\n",
        "        \n",
        "    nb_words = len(tokenizer.word_index)\n",
        "        #We are going to set the embedding size to the pretrained dimension as we are replicating it.\n",
        "        #the size will be Number of Words in Vocab X Embedding Size\n",
        "    embedding_matrix = np.random.normal(emb_mean, emb_std, (nb_words, embed_size))\n",
        "    gc.collect()\n",
        "\n",
        "        #With the newly created embedding matrix, we'll fill it up with the words that we have in both \n",
        "        #our own dictionary and loaded pretrained embedding. \n",
        "    embeddedCount = 0\n",
        "    for word, i in tokenizer.word_index.items():\n",
        "            i-=1\n",
        "            #then we see if this word is in glove's dictionary, if yes, get the corresponding weights\n",
        "            embedding_vector = embeddings_index.get(word)\n",
        "            #and store inside the embedding matrix that we will train later on.\n",
        "            if embedding_vector is not None: \n",
        "                embedding_matrix[i] = embedding_vector\n",
        "                embeddedCount+=1\n",
        "    print('total embedded:',embeddedCount,'common words')\n",
        "        \n",
        "    del(embeddings_index)\n",
        "    gc.collect()\n",
        "        \n",
        "        #finally, return the embedding matrix\n",
        "    return embedding_matrix"
      ]
    },
    {
      "cell_type": "code",
      "execution_count": null,
      "metadata": {
        "colab": {
          "base_uri": "https://localhost:8080/"
        },
        "id": "uvoV9xB8DAtt",
        "outputId": "c691e85c-2458-4a4e-cd30-9a856b96143b"
      },
      "outputs": [
        {
          "name": "stdout",
          "output_type": "stream",
          "text": [
            "total embedded: 118485 common words\n"
          ]
        }
      ],
      "source": [
        "embedding_matrix = loadEmbeddingMatrix('fasttext') #we use the lower line instead of runing several times "
      ]
    },
    {
      "cell_type": "code",
      "execution_count": null,
      "metadata": {
        "id": "raTkWwyctjV4"
      },
      "outputs": [],
      "source": [
        "np.save('/content/drive/MyDrive/NerDatas/Embedding/embedding_matrix.csv3.npy', embedding_matrix)"
      ]
    },
    {
      "cell_type": "code",
      "execution_count": null,
      "metadata": {
        "id": "BtT0_K533zcL"
      },
      "outputs": [],
      "source": [
        "embedding_matrix = np.load('/content/drive/MyDrive/NerDatas/Embedding/embedding_matrix.csv3.npy')"
      ]
    },
    {
      "cell_type": "code",
      "execution_count": null,
      "metadata": {
        "id": "idKiYbnLRqLv"
      },
      "outputs": [],
      "source": [
        "#embedding_matrix = np.load('/content/drive/MyDrive/NerDatas/Embedding/embedding_matrix.csv.npy')"
      ]
    },
    {
      "cell_type": "markdown",
      "metadata": {
        "id": "-bqDzrMCmts8"
      },
      "source": [
        "## "
      ]
    },
    {
      "cell_type": "code",
      "execution_count": null,
      "metadata": {
        "id": "jaSEcrAPbJf1"
      },
      "outputs": [],
      "source": [
        "! pip install git+https://www.github.com/keras-team/keras-contrib.git "
      ]
    },
    {
      "cell_type": "markdown",
      "metadata": {
        "id": "i-MQOQIVYJa1"
      },
      "source": [
        "## Split to train and test"
      ]
    },
    {
      "cell_type": "code",
      "execution_count": null,
      "metadata": {
        "id": "Ksb1dppNfzOe"
      },
      "outputs": [],
      "source": [
        "np.save('/content/drive/MyDrive/NerDatas/innerInputs/X_t.txt', X_t)\n",
        "np.save('/content/drive/MyDrive/NerDatas/innerInputs/y_t.txt', y_t)"
      ]
    },
    {
      "cell_type": "code",
      "execution_count": null,
      "metadata": {
        "id": "T_7D3ujmg5OV"
      },
      "outputs": [],
      "source": [
        "X_t = np.load('/content/drive/MyDrive/NerDatas/innerInputs/X_t.txt.npy')\n",
        "y_t = np.load('/content/drive/MyDrive/NerDatas/innerInputs/y_t.txt.npy')"
      ]
    },
    {
      "cell_type": "code",
      "execution_count": null,
      "metadata": {
        "id": "7SrZu4k1iwsP"
      },
      "outputs": [],
      "source": [
        "from sklearn.model_selection import train_test_split\n",
        "X_train, X_test, y_train, y_test = train_test_split(X_t, y_t, test_size=0.06, random_state=8)"
      ]
    },
    {
      "cell_type": "code",
      "execution_count": null,
      "metadata": {
        "colab": {
          "base_uri": "https://localhost:8080/"
        },
        "id": "_-44l2cUy3BV",
        "outputId": "f7a1a5ea-1dd8-464b-c8d1-fc1b0363950d"
      },
      "outputs": [
        {
          "output_type": "stream",
          "name": "stdout",
          "text": [
            "Looking in indexes: https://pypi.org/simple, https://us-python.pkg.dev/colab-wheels/public/simple/\n",
            "Collecting tensorflow_addons\n",
            "  Downloading tensorflow_addons-0.17.1-cp37-cp37m-manylinux_2_17_x86_64.manylinux2014_x86_64.whl (1.1 MB)\n",
            "\u001b[K     |████████████████████████████████| 1.1 MB 36.2 MB/s \n",
            "\u001b[?25hRequirement already satisfied: typeguard>=2.7 in /usr/local/lib/python3.7/dist-packages (from tensorflow_addons) (2.7.1)\n",
            "Requirement already satisfied: packaging in /usr/local/lib/python3.7/dist-packages (from tensorflow_addons) (21.3)\n",
            "Requirement already satisfied: pyparsing!=3.0.5,>=2.0.2 in /usr/local/lib/python3.7/dist-packages (from packaging->tensorflow_addons) (3.0.9)\n",
            "Installing collected packages: tensorflow-addons\n",
            "Successfully installed tensorflow-addons-0.17.1\n"
          ]
        }
      ],
      "source": [
        "pip install tensorflow_addons\n",
        "import tensorflow_addons as tfa"
      ]
    },
    {
      "cell_type": "code",
      "source": [
        "import tensorflow_addons as tfa"
      ],
      "metadata": {
        "id": "TnCFE3a0E2q_"
      },
      "execution_count": null,
      "outputs": []
    },
    {
      "cell_type": "code",
      "execution_count": null,
      "metadata": {
        "colab": {
          "base_uri": "https://localhost:8080/",
          "height": 450
        },
        "id": "NRpQuRLdhCBb",
        "outputId": "8667ba72-ce7a-4e2a-b6ab-6a2561fa0f75"
      },
      "outputs": [
        {
          "output_type": "stream",
          "name": "stderr",
          "text": [
            "WARNING:tensorflow:Layer lstm_4 will not use cuDNN kernels since it doesn't meet the criteria. It will use a generic GPU kernel as fallback when running on GPU.\n",
            "WARNING:tensorflow:Layer lstm_4 will not use cuDNN kernels since it doesn't meet the criteria. It will use a generic GPU kernel as fallback when running on GPU.\n",
            "WARNING:tensorflow:Layer lstm_4 will not use cuDNN kernels since it doesn't meet the criteria. It will use a generic GPU kernel as fallback when running on GPU.\n",
            "WARNING:tensorflow:Layer lstm_5 will not use cuDNN kernels since it doesn't meet the criteria. It will use a generic GPU kernel as fallback when running on GPU.\n"
          ]
        },
        {
          "output_type": "error",
          "ename": "ValueError",
          "evalue": "ignored",
          "traceback": [
            "\u001b[0;31m---------------------------------------------------------------------------\u001b[0m",
            "\u001b[0;31mValueError\u001b[0m                                Traceback (most recent call last)",
            "\u001b[0;32m<ipython-input-55-d2d7afc3c284>\u001b[0m in \u001b[0;36m<module>\u001b[0;34m\u001b[0m\n\u001b[1;32m     26\u001b[0m \u001b[0;34m\u001b[0m\u001b[0m\n\u001b[1;32m     27\u001b[0m \u001b[0;34m\u001b[0m\u001b[0m\n\u001b[0;32m---> 28\u001b[0;31m \u001b[0mmodel\u001b[0m\u001b[0;34m.\u001b[0m\u001b[0madd\u001b[0m\u001b[0;34m(\u001b[0m\u001b[0mtfa\u001b[0m\u001b[0;34m.\u001b[0m\u001b[0mlayers\u001b[0m\u001b[0;34m.\u001b[0m\u001b[0mCRF\u001b[0m\u001b[0;34m(\u001b[0m\u001b[0;36m11\u001b[0m\u001b[0;34m)\u001b[0m\u001b[0;34m)\u001b[0m\u001b[0;34m\u001b[0m\u001b[0;34m\u001b[0m\u001b[0m\n\u001b[0m\u001b[1;32m     29\u001b[0m \u001b[0;31m#model.add(tf.keras.layers.Reshape((-1, 11)))\u001b[0m\u001b[0;34m\u001b[0m\u001b[0;34m\u001b[0m\u001b[0;34m\u001b[0m\u001b[0m\n\u001b[1;32m     30\u001b[0m \u001b[0;31m# Add timeDistributed Layer\u001b[0m\u001b[0;34m\u001b[0m\u001b[0;34m\u001b[0m\u001b[0;34m\u001b[0m\u001b[0m\n",
            "\u001b[0;32m/usr/local/lib/python3.7/dist-packages/tensorflow/python/training/tracking/base.py\u001b[0m in \u001b[0;36m_method_wrapper\u001b[0;34m(self, *args, **kwargs)\u001b[0m\n\u001b[1;32m    585\u001b[0m     \u001b[0mself\u001b[0m\u001b[0;34m.\u001b[0m\u001b[0m_self_setattr_tracking\u001b[0m \u001b[0;34m=\u001b[0m \u001b[0;32mFalse\u001b[0m  \u001b[0;31m# pylint: disable=protected-access\u001b[0m\u001b[0;34m\u001b[0m\u001b[0;34m\u001b[0m\u001b[0m\n\u001b[1;32m    586\u001b[0m     \u001b[0;32mtry\u001b[0m\u001b[0;34m:\u001b[0m\u001b[0;34m\u001b[0m\u001b[0;34m\u001b[0m\u001b[0m\n\u001b[0;32m--> 587\u001b[0;31m       \u001b[0mresult\u001b[0m \u001b[0;34m=\u001b[0m \u001b[0mmethod\u001b[0m\u001b[0;34m(\u001b[0m\u001b[0mself\u001b[0m\u001b[0;34m,\u001b[0m \u001b[0;34m*\u001b[0m\u001b[0margs\u001b[0m\u001b[0;34m,\u001b[0m \u001b[0;34m**\u001b[0m\u001b[0mkwargs\u001b[0m\u001b[0;34m)\u001b[0m\u001b[0;34m\u001b[0m\u001b[0;34m\u001b[0m\u001b[0m\n\u001b[0m\u001b[1;32m    588\u001b[0m     \u001b[0;32mfinally\u001b[0m\u001b[0;34m:\u001b[0m\u001b[0;34m\u001b[0m\u001b[0;34m\u001b[0m\u001b[0m\n\u001b[1;32m    589\u001b[0m       \u001b[0mself\u001b[0m\u001b[0;34m.\u001b[0m\u001b[0m_self_setattr_tracking\u001b[0m \u001b[0;34m=\u001b[0m \u001b[0mprevious_value\u001b[0m  \u001b[0;31m# pylint: disable=protected-access\u001b[0m\u001b[0;34m\u001b[0m\u001b[0;34m\u001b[0m\u001b[0m\n",
            "\u001b[0;32m/usr/local/lib/python3.7/dist-packages/keras/utils/traceback_utils.py\u001b[0m in \u001b[0;36merror_handler\u001b[0;34m(*args, **kwargs)\u001b[0m\n\u001b[1;32m     65\u001b[0m     \u001b[0;32mexcept\u001b[0m \u001b[0mException\u001b[0m \u001b[0;32mas\u001b[0m \u001b[0me\u001b[0m\u001b[0;34m:\u001b[0m  \u001b[0;31m# pylint: disable=broad-except\u001b[0m\u001b[0;34m\u001b[0m\u001b[0;34m\u001b[0m\u001b[0m\n\u001b[1;32m     66\u001b[0m       \u001b[0mfiltered_tb\u001b[0m \u001b[0;34m=\u001b[0m \u001b[0m_process_traceback_frames\u001b[0m\u001b[0;34m(\u001b[0m\u001b[0me\u001b[0m\u001b[0;34m.\u001b[0m\u001b[0m__traceback__\u001b[0m\u001b[0;34m)\u001b[0m\u001b[0;34m\u001b[0m\u001b[0;34m\u001b[0m\u001b[0m\n\u001b[0;32m---> 67\u001b[0;31m       \u001b[0;32mraise\u001b[0m \u001b[0me\u001b[0m\u001b[0;34m.\u001b[0m\u001b[0mwith_traceback\u001b[0m\u001b[0;34m(\u001b[0m\u001b[0mfiltered_tb\u001b[0m\u001b[0;34m)\u001b[0m \u001b[0;32mfrom\u001b[0m \u001b[0;32mNone\u001b[0m\u001b[0;34m\u001b[0m\u001b[0;34m\u001b[0m\u001b[0m\n\u001b[0m\u001b[1;32m     68\u001b[0m     \u001b[0;32mfinally\u001b[0m\u001b[0;34m:\u001b[0m\u001b[0;34m\u001b[0m\u001b[0;34m\u001b[0m\u001b[0m\n\u001b[1;32m     69\u001b[0m       \u001b[0;32mdel\u001b[0m \u001b[0mfiltered_tb\u001b[0m\u001b[0;34m\u001b[0m\u001b[0;34m\u001b[0m\u001b[0m\n",
            "\u001b[0;32m/usr/local/lib/python3.7/dist-packages/keras/engine/sequential.py\u001b[0m in \u001b[0;36madd\u001b[0;34m(self, layer)\u001b[0m\n\u001b[1;32m    220\u001b[0m       \u001b[0moutput_tensor\u001b[0m \u001b[0;34m=\u001b[0m \u001b[0mlayer\u001b[0m\u001b[0;34m(\u001b[0m\u001b[0mself\u001b[0m\u001b[0;34m.\u001b[0m\u001b[0moutputs\u001b[0m\u001b[0;34m[\u001b[0m\u001b[0;36m0\u001b[0m\u001b[0;34m]\u001b[0m\u001b[0;34m)\u001b[0m\u001b[0;34m\u001b[0m\u001b[0;34m\u001b[0m\u001b[0m\n\u001b[1;32m    221\u001b[0m       \u001b[0;32mif\u001b[0m \u001b[0mlen\u001b[0m\u001b[0;34m(\u001b[0m\u001b[0mtf\u001b[0m\u001b[0;34m.\u001b[0m\u001b[0mnest\u001b[0m\u001b[0;34m.\u001b[0m\u001b[0mflatten\u001b[0m\u001b[0;34m(\u001b[0m\u001b[0moutput_tensor\u001b[0m\u001b[0;34m)\u001b[0m\u001b[0;34m)\u001b[0m \u001b[0;34m!=\u001b[0m \u001b[0;36m1\u001b[0m\u001b[0;34m:\u001b[0m\u001b[0;34m\u001b[0m\u001b[0;34m\u001b[0m\u001b[0m\n\u001b[0;32m--> 222\u001b[0;31m         \u001b[0;32mraise\u001b[0m \u001b[0mValueError\u001b[0m\u001b[0;34m(\u001b[0m\u001b[0mSINGLE_LAYER_OUTPUT_ERROR_MSG\u001b[0m\u001b[0;34m)\u001b[0m\u001b[0;34m\u001b[0m\u001b[0;34m\u001b[0m\u001b[0m\n\u001b[0m\u001b[1;32m    223\u001b[0m       \u001b[0mself\u001b[0m\u001b[0;34m.\u001b[0m\u001b[0moutputs\u001b[0m \u001b[0;34m=\u001b[0m \u001b[0;34m[\u001b[0m\u001b[0moutput_tensor\u001b[0m\u001b[0;34m]\u001b[0m\u001b[0;34m\u001b[0m\u001b[0;34m\u001b[0m\u001b[0m\n\u001b[1;32m    224\u001b[0m       \u001b[0mself\u001b[0m\u001b[0;34m.\u001b[0m\u001b[0mbuilt\u001b[0m \u001b[0;34m=\u001b[0m \u001b[0;32mTrue\u001b[0m\u001b[0;34m\u001b[0m\u001b[0;34m\u001b[0m\u001b[0m\n",
            "\u001b[0;31mValueError\u001b[0m: All layers in a Sequential model should have a single output tensor. For multi-output layers, use the functional API."
          ]
        }
      ],
      "source": [
        "import numpy as np\n",
        "import tensorflow\n",
        "from tensorflow.keras import Sequential, Model, Input\n",
        "from tensorflow.keras.layers import LSTM, Embedding, Dense, TimeDistributed, Dropout, Bidirectional\n",
        "from tensorflow.keras.utils import plot_model\n",
        "#from tensorflow.keras.layers import CRF\n",
        "import tensorflow as tf\n",
        "\n",
        "# weightClass = senInfo.sum(axis = 0)\n",
        "# weightClass = weightClass[1:12]\n",
        "# weightClass = 1 / weightClass\n",
        "# weightClass = dict(zip(range(12), weightClass.values))\n",
        "\n",
        "output_dim = 180\n",
        "n_tags = 11\n",
        "model = Sequential()\n",
        "\n",
        "#model.add(Embedding(input_dim=len(token2idx) + 1, output_dim=output_dim, input_length=int(mean_sentence_length) + 20))\n",
        "model.add(Embedding(len(tokenizer.word_index), embedding_matrix.shape[1],\n",
        "                    weights=[embedding_matrix], trainable=False, mask_zero=True))\n",
        "# Add bidirectional LSTM\n",
        "model.add(Bidirectional(LSTM(units=output_dim, return_sequences=True, dropout=0.1, recurrent_dropout=0.1), merge_mode = 'concat'))\n",
        "\n",
        "# Add LSTM\n",
        "model.add(LSTM(units=output_dim, return_sequences=True, dropout=0.2, recurrent_dropout=0.2))\n",
        "\n",
        "\n",
        "model.add(tfa.layers.CRF(11))\n",
        "#model.add(tf.keras.layers.Reshape((-1, 11)))\n",
        "# Add timeDistributed Layer\n",
        "#model.add(TimeDistributed(Dense(n_tags, activation=\"relu\")))\n",
        "#model.add(Dense(11, activation='softmax'))\n",
        "#model.add(tfa.layers.CRF(11))\n",
        "\n",
        "#Optimiser \n",
        "#adam = k.optimizers.Adam(lr=0.0005, beta_1=0.9, beta_2=0.999)\n",
        "\n",
        "# Compile model\n",
        "model.compile(loss='categorical_crossentropy',\n",
        "                  optimizer=tf.keras.optimizers.Adam(\n",
        "    learning_rate=0.01,\n",
        "    beta_1=0.9,\n",
        "    beta_2=0.999,\n",
        "    epsilon=1e-07,\n",
        "    amsgrad=False,\n",
        "    name='Adam'\n",
        "),\n",
        "metrics=['accuracy', tf.keras.metrics.Precision(), tf.keras.metrics.Recall()])\n",
        "\n",
        "model.summary()"
      ]
    },
    {
      "cell_type": "code",
      "execution_count": null,
      "metadata": {
        "colab": {
          "base_uri": "https://localhost:8080/"
        },
        "id": "XPzCEMiF3AMA",
        "outputId": "1e6c29b2-767b-4937-dc4a-6e8583a06ebf"
      },
      "outputs": [
        {
          "output_type": "stream",
          "name": "stdout",
          "text": [
            "Epoch 1/10\n",
            "764/764 [==============================] - ETA: 0s - loss: 0.2113 - accuracy: 0.8561 - precision_1: 0.8734 - recall_1: 0.8378\n",
            "Epoch 1: val_accuracy improved from -inf to 0.89473, saving model to /content/drive/MyDrive/NerDatas/check_point/modelCheckpoint_fromNewSource2.model\n",
            "764/764 [==============================] - 539s 704ms/step - loss: 0.2113 - accuracy: 0.8561 - precision_1: 0.8734 - recall_1: 0.8378 - val_loss: 0.1360 - val_accuracy: 0.8947 - val_precision_1: 0.9083 - val_recall_1: 0.8821\n",
            "Epoch 2/10\n",
            "764/764 [==============================] - ETA: 0s - loss: 0.1277 - accuracy: 0.9009 - precision_1: 0.9126 - recall_1: 0.8898\n",
            "Epoch 2: val_accuracy improved from 0.89473 to 0.91105, saving model to /content/drive/MyDrive/NerDatas/check_point/modelCheckpoint_fromNewSource2.model\n",
            "764/764 [==============================] - 538s 704ms/step - loss: 0.1277 - accuracy: 0.9009 - precision_1: 0.9126 - recall_1: 0.8898 - val_loss: 0.1112 - val_accuracy: 0.9110 - val_precision_1: 0.9219 - val_recall_1: 0.9011\n",
            "Epoch 3/10\n",
            "764/764 [==============================] - ETA: 0s - loss: 0.1093 - accuracy: 0.9124 - precision_1: 0.9224 - recall_1: 0.9032\n",
            "Epoch 3: val_accuracy improved from 0.91105 to 0.91684, saving model to /content/drive/MyDrive/NerDatas/check_point/modelCheckpoint_fromNewSource2.model\n",
            "764/764 [==============================] - 529s 693ms/step - loss: 0.1093 - accuracy: 0.9124 - precision_1: 0.9224 - recall_1: 0.9032 - val_loss: 0.1014 - val_accuracy: 0.9168 - val_precision_1: 0.9253 - val_recall_1: 0.9094\n",
            "Epoch 4/10\n",
            "764/764 [==============================] - ETA: 0s - loss: 0.0994 - accuracy: 0.9191 - precision_1: 0.9281 - recall_1: 0.9109\n",
            "Epoch 4: val_accuracy improved from 0.91684 to 0.92113, saving model to /content/drive/MyDrive/NerDatas/check_point/modelCheckpoint_fromNewSource2.model\n",
            "764/764 [==============================] - 541s 709ms/step - loss: 0.0994 - accuracy: 0.9191 - precision_1: 0.9281 - recall_1: 0.9109 - val_loss: 0.0955 - val_accuracy: 0.9211 - val_precision_1: 0.9302 - val_recall_1: 0.9126\n",
            "Epoch 5/10\n",
            "764/764 [==============================] - ETA: 0s - loss: 0.0927 - accuracy: 0.9234 - precision_1: 0.9317 - recall_1: 0.9159\n",
            "Epoch 5: val_accuracy improved from 0.92113 to 0.92157, saving model to /content/drive/MyDrive/NerDatas/check_point/modelCheckpoint_fromNewSource2.model\n",
            "764/764 [==============================] - 540s 707ms/step - loss: 0.0927 - accuracy: 0.9234 - precision_1: 0.9317 - recall_1: 0.9159 - val_loss: 0.0940 - val_accuracy: 0.9216 - val_precision_1: 0.9291 - val_recall_1: 0.9149\n",
            "Epoch 6/10\n",
            "764/764 [==============================] - ETA: 0s - loss: 0.0877 - accuracy: 0.9267 - precision_1: 0.9344 - recall_1: 0.9199\n",
            "Epoch 6: val_accuracy improved from 0.92157 to 0.92344, saving model to /content/drive/MyDrive/NerDatas/check_point/modelCheckpoint_fromNewSource2.model\n",
            "764/764 [==============================] - 536s 702ms/step - loss: 0.0877 - accuracy: 0.9267 - precision_1: 0.9344 - recall_1: 0.9199 - val_loss: 0.0912 - val_accuracy: 0.9234 - val_precision_1: 0.9308 - val_recall_1: 0.9174\n",
            "Epoch 7/10\n",
            "764/764 [==============================] - ETA: 0s - loss: 0.0842 - accuracy: 0.9292 - precision_1: 0.9365 - recall_1: 0.9226\n",
            "Epoch 7: val_accuracy did not improve from 0.92344\n",
            "764/764 [==============================] - 521s 681ms/step - loss: 0.0842 - accuracy: 0.9292 - precision_1: 0.9365 - recall_1: 0.9226 - val_loss: 0.0908 - val_accuracy: 0.9234 - val_precision_1: 0.9305 - val_recall_1: 0.9173\n",
            "Epoch 8/10\n",
            "764/764 [==============================] - ETA: 0s - loss: 0.0813 - accuracy: 0.9313 - precision_1: 0.9381 - recall_1: 0.9251\n",
            "Epoch 8: val_accuracy improved from 0.92344 to 0.92436, saving model to /content/drive/MyDrive/NerDatas/check_point/modelCheckpoint_fromNewSource2.model\n",
            "764/764 [==============================] - 532s 696ms/step - loss: 0.0813 - accuracy: 0.9313 - precision_1: 0.9381 - recall_1: 0.9251 - val_loss: 0.0898 - val_accuracy: 0.9244 - val_precision_1: 0.9317 - val_recall_1: 0.9185\n",
            "Epoch 9/10\n",
            "764/764 [==============================] - ETA: 0s - loss: 0.0789 - accuracy: 0.9329 - precision_1: 0.9395 - recall_1: 0.9271\n",
            "Epoch 9: val_accuracy improved from 0.92436 to 0.92811, saving model to /content/drive/MyDrive/NerDatas/check_point/modelCheckpoint_fromNewSource2.model\n",
            "764/764 [==============================] - 539s 705ms/step - loss: 0.0789 - accuracy: 0.9329 - precision_1: 0.9395 - recall_1: 0.9271 - val_loss: 0.0876 - val_accuracy: 0.9281 - val_precision_1: 0.9338 - val_recall_1: 0.9234\n",
            "Epoch 10/10\n",
            "764/764 [==============================] - ETA: 0s - loss: 0.0773 - accuracy: 0.9340 - precision_1: 0.9404 - recall_1: 0.9283\n",
            "Epoch 10: val_accuracy did not improve from 0.92811\n",
            "764/764 [==============================] - 519s 679ms/step - loss: 0.0773 - accuracy: 0.9340 - precision_1: 0.9404 - recall_1: 0.9283 - val_loss: 0.0878 - val_accuracy: 0.9270 - val_precision_1: 0.9334 - val_recall_1: 0.9219\n"
          ]
        }
      ],
      "source": [
        "from keras.callbacks import ModelCheckpoint\n",
        "\n",
        "# weightClass = senInfo.sum(axis = 0)\n",
        "# weightClass = weightClass[1:12]\n",
        "# weightClass = 1 / weightClass\n",
        "# weightClass = dict(zip(range(12), weightClass.values))\n",
        "\n",
        "batch_size = 256\n",
        "epochs = 10\n",
        "\n",
        "filepath=\"/content/drive/MyDrive/NerDatas/check_point/modelCheckpoint_fromNewSource2.model\"\n",
        "checkpoint = ModelCheckpoint(filepath, monitor='val_precision_1', verbose=1, save_best_only=True, mode='max', )\n",
        "callbacks_list = [checkpoint]\n",
        "hist = model.fit(X_train, y_train, batch_size=batch_size, epochs=epochs, callbacks=callbacks_list, validation_split=0.04)"
      ]
    },
    {
      "cell_type": "code",
      "execution_count": null,
      "metadata": {
        "id": "wcLOHL9JgbQC"
      },
      "outputs": [],
      "source": [
        ""
      ]
    },
    {
      "cell_type": "code",
      "execution_count": null,
      "metadata": {
        "id": "JW9TPfUa_hAm"
      },
      "outputs": [],
      "source": [
        "from keras.layers import  TimeDistributed, Masking, Conv1D, MaxPooling1D, Flatten\n",
        "from keras_contrib.layers import CRF\n",
        "from keras_contrib.losses import crf_loss\n",
        "from keras_contrib.metrics import crf_viterbi_accuracy, crf_accuracy\n",
        "from keras.models import Sequential\n",
        "from keras.callbacks import ModelCheckpoint\n",
        "import tensorflow as tf\n",
        "from keras import backend as K\n",
        "\n",
        "\n",
        "model = Sequential()\n",
        "# model.add(Dense(shape=(maxlen,)))\n",
        "model.add(Embedding(len(tokenizer.word_index), embedding_matrix.shape[1],\n",
        "                    weights=[embedding_matrix],trainable=False ))\n",
        "model.add(Bidirectional(LSTM(200, return_sequences=True,\n",
        "                             name='lstm_layer1', dropout=0.1, recurrent_dropout=0.1)))\n",
        "model.add(Bidirectional(LSTM(300, return_sequences=True,\n",
        "                              name='lstm_layer2', dropout=0.1, recurrent_dropout=0.1)))\n",
        "model.add(Bidirectional(LSTM(300, return_sequences=True,\n",
        "                              name='lstm_layer3', dropout=0.1, recurrent_dropout=0.1)))\n",
        "model.add(Bidirectional(LSTM(200, return_sequences=True,\n",
        "                              name='lstm_layer4', dropout=0.1, recurrent_dropout=0.1)))\n",
        "model.add(Dense(11, activation='softmax'))\n",
        "\n",
        "model.compile(loss='categorical_crossentropy',\n",
        "                  optimizer='adam',\n",
        "                  metrics=['accuracy',tf.keras.metrics.Precision(), tf.keras.metrics.Recall()])\n",
        "model.summary()"
      ]
    },
    {
      "cell_type": "code",
      "execution_count": null,
      "metadata": {
        "id": "1fKjcIPJbJiN"
      },
      "outputs": [],
      "source": [
        "from keras.layers import  TimeDistributed, Masking, Conv1D, MaxPooling1D, Flatten\n",
        "from keras_contrib.layers import CRF\n",
        "from keras_contrib.losses import crf_loss\n",
        "from keras_contrib.metrics import crf_viterbi_accuracy, crf_accuracy\n",
        "from keras.models import Sequential\n",
        "from keras.callbacks import ModelCheckpoint\n",
        "import tensorflow as tf\n",
        "from keras import backend as K\n",
        "\n",
        "\n",
        "# weightClass = senInfo.sum(axis = 0)\n",
        "# weightClass = weightClass[1:12]\n",
        "# weightClass = 1 / weightClass\n",
        "# weightClass = dict(zip(range(12), weightClass.values))\n",
        "\n",
        "model = Sequential()\n",
        "# model.add(Dense(shape=(maxlen,)))\n",
        "model.add(Embedding(len(tokenizer.word_index), embedding_matrix.shape[1],\n",
        "                    weights=[embedding_matrix],trainable=False ))\n",
        "model.add(Bidirectional(LSTM(200, return_sequences=True,\n",
        "                             name='lstm_layer1', dropout=0.1, recurrent_dropout=0.1)))\n",
        "model.add(Bidirectional(LSTM(350, return_sequences=True,\n",
        "                              name='lstm_layer2', dropout=0.1, recurrent_dropout=0.1)))\n",
        "model.add(Bidirectional(LSTM(250, return_sequences=True,\n",
        "                              name='lstm_layer3', dropout=0.1, recurrent_dropout=0.1)))\n",
        "# model.add(Dense(11, activation='softmax'))\n",
        "model.add(CRF(11, sparse_target=True) )  # CRF layer\n",
        "\n",
        "# # model.add(CRF(11, sparse_target=True))\n",
        "\n",
        "# # model.compile(loss = crf_loss ,\n",
        "# #                   optimizer = 'adam',\n",
        "# #                   metrics=['accuracy',tf.keras.metrics.Precision(), tf.keras.metrics.Recall()]) #loss = weightedLoss(crf_loss, weightClass)\n",
        "model.summary()"
      ]
    },
    {
      "cell_type": "code",
      "execution_count": null,
      "metadata": {
        "id": "pMmYiwdO_3jR"
      },
      "outputs": [],
      "source": [
        "from keras.layers import  TimeDistributed, Masking, Conv1D, MaxPooling1D, Flatten\n",
        "from keras_contrib.layers import CRF\n",
        "from keras_contrib.losses import crf_loss\n",
        "from keras_contrib.metrics import crf_viterbi_accuracy, crf_accuracy\n",
        "from keras.models import Sequential\n",
        "\n",
        "model = Sequential()\n",
        "model.add(Embedding(len(tokenizer.word_index), embedding_matrix.shape[1],weights=[embedding_matrix],trainable=False))\n",
        "model.add(Bidirectional(LSTM(30, return_sequences=True,name='lstm')))\n",
        "model.add(Bidirectional(LSTM(30, return_sequences=True,name='lstm')))\n",
        "model.add(Conv1D(60, 1, activation='relu'))\n",
        "model.add(MaxPooling1D(1))\n",
        "model.add(Conv1D(60, 1, activation='relu'))\n",
        "model.add(MaxPooling1D(1))# global max pooling\n",
        "model.add(CRF(11, sparse_target=True))  # CRF layer,\n",
        "\n",
        "model.compile(optimizer=\"rmsprop\", loss=crf_loss, metrics=[crf_accuracy])\n",
        "\n",
        "model.summary()"
      ]
    },
    {
      "cell_type": "markdown",
      "metadata": {
        "id": "3MWQhZGhWX3x"
      },
      "source": [
        "## pretrained Models"
      ]
    },
    {
      "cell_type": "code",
      "execution_count": null,
      "metadata": {
        "id": "hJz_-KYLWXZN"
      },
      "outputs": [],
      "source": [
        "from transformers import AutoTokenizer\n",
        "from transformers import AutoModelForTokenClassification  # for pytorch\n",
        "from transformers import TFAutoModelForTokenClassification  # for tensorflow\n",
        "from transformers import pipeline\n",
        "\n",
        "\n",
        "model_name_or_path = \"HooshvareLab/distilbert-fa-zwnj-base-ner\" \n",
        "tokenizer = AutoTokenizer.from_pretrained(model_name_or_path)\n",
        "model = TFAutoModelForTokenClassification.from_pretrained(model_name_or_path, num_labels=11, ignore_mismatched_sizes=True)\n",
        "model.summary()"
      ]
    },
    {
      "cell_type": "code",
      "execution_count": null,
      "metadata": {
        "colab": {
          "base_uri": "https://localhost:8080/"
        },
        "id": "KpjQCIODzbos",
        "outputId": "59d06fcf-0964-4878-e350-605edb3ce46b"
      },
      "outputs": [
        {
          "data": {
            "text/plain": [
              "transformers.models.distilbert.modeling_tf_distilbert.TFDistilBertMainLayer"
            ]
          },
          "execution_count": 46,
          "metadata": {},
          "output_type": "execute_result"
        }
      ],
      "source": [
        "type(model.distilbert)"
      ]
    },
    {
      "cell_type": "code",
      "execution_count": null,
      "metadata": {
        "id": "esWEcDpReECC"
      },
      "outputs": [],
      "source": [
        "model.distilbert.trainable = False\n",
        "model.summary()"
      ]
    },
    {
      "cell_type": "code",
      "execution_count": null,
      "metadata": {
        "id": "ELCLWCZ3vsRj"
      },
      "outputs": [],
      "source": [
        ""
      ]
    },
    {
      "cell_type": "code",
      "execution_count": null,
      "metadata": {
        "id": "oWVqHYwMaI4t"
      },
      "outputs": [],
      "source": [
        "model.num_labels = 11\n",
        "model.config.num_labels = 11\n"
      ]
    },
    {
      "cell_type": "code",
      "execution_count": null,
      "metadata": {
        "id": "WJmI0NxpfvyD"
      },
      "outputs": [],
      "source": [
        "from transformers import AutoTokenizer, DataCollatorForTokenClassification, AutoModelForTokenClassification, TrainingArguments, Trainer\n",
        "training_args = TrainingArguments(\n",
        "    output_dir=\"./results\",\n",
        "    evaluation_strategy=\"epoch\",\n",
        "    learning_rate=2e-5,\n",
        "    per_device_train_batch_size=16,\n",
        "    per_device_eval_batch_size=16,\n",
        "    num_train_epochs=40,\n",
        "    weight_decay=0.01,\n",
        ")\n",
        "\n",
        "train_ds = dm.as_hf_dataset(tokenizer=tokenizer)"
      ]
    },
    {
      "cell_type": "code",
      "execution_count": null,
      "metadata": {
        "id": "TSya0xJwY389"
      },
      "outputs": [],
      "source": [
        "model.compile(loss=tf.keras.losses.CategoricalCrossentropy(from_logits=True),\n",
        "                  optimizer = 'adam',\n",
        "                  metrics=['accuracy', tf.keras.metrics.Precision(), tf.keras.metrics.Recall()])"
      ]
    },
    {
      "cell_type": "code",
      "execution_count": null,
      "metadata": {
        "id": "InWxtQqVbJks"
      },
      "outputs": [],
      "source": [
        "from keras.callbacks import ModelCheckpoint\n",
        "\n",
        "batch_size = 512\n",
        "epochs = 5\n",
        "\n",
        "filepath=\"/content/drive/MyDrive/NerDatas/check_point/pretrainedDistilBert.model\"\n",
        "checkpoint = ModelCheckpoint(filepath, monitor='val_accuracy', verbose=1, save_best_only=True, mode='max', )\n",
        "callbacks_list = [checkpoint]\n",
        "hist = model.fit(X_train, y_train, batch_size=batch_size, epochs=epochs, callbacks=callbacks_list, validation_split=0.1)"
      ]
    },
    {
      "cell_type": "code",
      "execution_count": null,
      "metadata": {
        "id": "o-qJmELEjAq2"
      },
      "outputs": [],
      "source": [
        "pred = model.predict(X_train[:16])['logits']"
      ]
    },
    {
      "cell_type": "code",
      "execution_count": null,
      "metadata": {
        "id": "ghvog8-UBWKk"
      },
      "outputs": [],
      "source": [
        "import numpy as np\n",
        "import tensorflow\n",
        "from tensorflow.keras import Sequential, Model, Input\n",
        "from tensorflow.keras.layers import LSTM, Embedding, Dense, TimeDistributed, Dropout, Bidirectional\n",
        "from tensorflow.keras.utils import plot_model\n",
        "from keras.models import load_model\n",
        "model1 = Sequential()\n",
        "model1 = load_model(\"/content/drive/MyDrive/NerDatas/check_point/check_point4.model\")"
      ]
    },
    {
      "cell_type": "code",
      "execution_count": null,
      "metadata": {
        "id": "ULsajVGOxK8c"
      },
      "outputs": [],
      "source": [
        "plot_model(model1)"
      ]
    },
    {
      "cell_type": "code",
      "execution_count": null,
      "metadata": {
        "id": "jc0tD1ukxK_W"
      },
      "outputs": [],
      "source": [
        ""
      ]
    },
    {
      "cell_type": "markdown",
      "metadata": {
        "id": "RycA7jzv_Vs1"
      },
      "source": [
        "## Load Model"
      ]
    },
    {
      "cell_type": "code",
      "execution_count": null,
      "metadata": {
        "colab": {
          "base_uri": "https://localhost:8080/"
        },
        "id": "xTITOQRk_axZ",
        "outputId": "7b25290b-0375-4803-ba6c-ebdaeb2939a5"
      },
      "outputs": [
        {
          "data": {
            "text/plain": [
              "<function keras.utils.vis_utils.plot_model(model, to_file='model.png', show_shapes=False, show_dtype=False, show_layer_names=True, rankdir='TB', expand_nested=False, dpi=96, layer_range=None, show_layer_activations=False)>"
            ]
          },
          "execution_count": 6,
          "metadata": {},
          "output_type": "execute_result"
        }
      ],
      "source": [
        "import numpy as np\n",
        "import tensorflow\n",
        "from tensorflow.keras import Sequential, Model, Input\n",
        "from tensorflow.keras.layers import LSTM, Embedding, Dense, TimeDistributed, Dropout, Bidirectional\n",
        "from tensorflow.keras.utils import plot_model\n",
        "from keras.models import load_model\n",
        "model = Sequential()\n",
        "model = load_model(\"/content/drive/MyDrive/NerDatas/check_point/modelCheckpoint_fromNewSource1.model\")\n"
      ]
    },
    {
      "cell_type": "code",
      "execution_count": null,
      "metadata": {
        "colab": {
          "base_uri": "https://localhost:8080/",
          "height": 466
        },
        "id": "PRDJFpVH_usA",
        "outputId": "1586d380-3b85-4e58-d4d8-6963d06e3def"
      },
      "outputs": [
        {
          "output_type": "execute_result",
          "data": {
            "image/png": "[encoded data removed]",
            "text/plain": [
              "<IPython.core.display.Image object>"
            ]
          },
          "metadata": {},
          "execution_count": 26
        }
      ],
      "source": [
        "plot_model(model)"
      ]
    },
    {
      "cell_type": "markdown",
      "metadata": {
        "id": "-0K0JP4a_NF1"
      },
      "source": [
        ""
      ]
    },
    {
      "cell_type": "markdown",
      "metadata": {
        "id": "oidHx9f5xx85"
      },
      "source": [
        "##Visualization"
      ]
    },
    {
      "cell_type": "code",
      "execution_count": null,
      "metadata": {
        "colab": {
          "base_uri": "https://localhost:8080/",
          "height": 581
        },
        "id": "2XQ_2rYFmOhX",
        "outputId": "e52e04cb-42a8-47a1-d160-376c18a4b6b4"
      },
      "outputs": [
        {
          "output_type": "display_data",
          "data": {
            "text/plain": [
              "<Figure size 432x288 with 1 Axes>"
            ],
            "image/png": "[encoded data removed]"
          },
          "metadata": {}
        },
        {
          "output_type": "display_data",
          "data": {
            "text/plain": [
              "<Figure size 432x288 with 1 Axes>"
            ],
            "image/png": "[encoded data removed]"
          },
          "metadata": {}
        }
      ],
      "source": [
        "# Visualize the Model\n",
        "plt.style.use(\"ggplot\")\n",
        "import matplotlib.pyplot as plt\n",
        "# Plot training & validation accuracy values\n",
        "plt.plot(hist.history['accuracy'])\n",
        "plt.plot(hist.history['val_accuracy'])\n",
        "plt.title('Model accuracy')\n",
        "plt.ylabel('Accuracy')\n",
        "plt.xlabel('Epoch')\n",
        "plt.legend(['Train', 'Test'], loc='upper left')\n",
        "plt.show()\n",
        "\n",
        "# Plot training & validation loss values\n",
        "plt.plot(hist.history['loss'])\n",
        "plt.plot(hist.history['val_loss'])\n",
        "plt.title('Model loss')\n",
        "plt.ylabel('Loss')\n",
        "plt.xlabel('Epoch')\n",
        "plt.legend(['Train', 'Test'], loc='upper left')\n",
        "plt.show()"
      ]
    },
    {
      "cell_type": "code",
      "execution_count": null,
      "metadata": {
        "id": "v-mwa1QGmOte",
        "colab": {
          "base_uri": "https://localhost:8080/"
        },
        "outputId": "d76ac641-f0ad-4938-eb3b-6f3cf1302af2"
      },
      "outputs": [
        {
          "output_type": "stream",
          "name": "stdout",
          "text": [
            "6361/6361 [==============================] - 303s 48ms/step\n"
          ]
        }
      ],
      "source": [
        "y_pred = model.predict(X_train)"
      ]
    },
    {
      "cell_type": "code",
      "execution_count": null,
      "metadata": {
        "colab": {
          "base_uri": "https://localhost:8080/"
        },
        "id": "XvgXx8SXEjs1",
        "outputId": "792cc88a-0d64-430c-d3e6-4ffc28671ae4"
      },
      "outputs": [
        {
          "output_type": "execute_result",
          "data": {
            "text/plain": [
              "((12992, 50, 11), (203528, 50, 11))"
            ]
          },
          "metadata": {},
          "execution_count": 29
        }
      ],
      "source": [
        "y_pred.shape, y_train.shape"
      ]
    },
    {
      "cell_type": "code",
      "execution_count": null,
      "metadata": {
        "colab": {
          "base_uri": "https://localhost:8080/"
        },
        "id": "94UmswD4uDlB",
        "outputId": "30fdfc41-371c-4054-8392-8277bff9d938"
      },
      "outputs": [
        {
          "data": {
            "text/plain": [
              "(11432520, 11432520, array([0., 0., 0., ..., 0., 0., 0.], dtype=float32))"
            ]
          },
          "execution_count": 23,
          "metadata": {},
          "output_type": "execute_result"
        }
      ],
      "source": [
        "len(y_pred.flatten()), len(y_test.flatten().astype('float32')), y_test.flatten().astype('float32')"
      ]
    },
    {
      "cell_type": "code",
      "execution_count": null,
      "metadata": {
        "colab": {
          "base_uri": "https://localhost:8080/"
        },
        "id": "jmKNq_lLmO0Q",
        "outputId": "3008bf25-dbf5-463a-edcf-c6d1c158e2e0"
      },
      "outputs": [
        {
          "data": {
            "text/plain": [
              "(array([0, 0, 0, 0, 0, 0, 0, 0, 0, 0, 0, 0, 0, 0, 0, 0, 0, 0, 0, 0, 0, 0,\n",
              "        0, 0, 0, 0, 0, 0, 0, 0, 0, 0, 0, 0, 0, 0, 0, 0, 0, 0, 0, 0, 0, 0,\n",
              "        0, 0, 0, 0, 0, 0, 0, 0, 1, 1, 2, 0, 0, 0, 0, 0]),\n",
              " array([0, 0, 0, 0, 0, 0, 0, 0, 0, 0, 0, 0, 0, 0, 0, 0, 0, 0, 0, 0, 0, 0,\n",
              "        0, 0, 0, 0, 0, 0, 0, 0, 0, 0, 0, 0, 0, 0, 0, 0, 0, 0, 0, 0, 0, 0,\n",
              "        0, 0, 3, 0, 0, 0, 0, 0, 1, 2, 2, 0, 0, 0, 0, 0]))"
            ]
          },
          "execution_count": 24,
          "metadata": {},
          "output_type": "execute_result"
        }
      ],
      "source": [
        "np.argmax(y_pred[116], axis = 1) ,np.argmax(y_test[116], axis = 1)"
      ]
    },
    {
      "cell_type": "code",
      "execution_count": null,
      "metadata": {
        "id": "d5CjvLQIbJm0"
      },
      "outputs": [],
      "source": [
        "\n",
        "y_predC = []\n",
        "y_testC = []\n",
        "for pred,test in zip(y_pred, y_train): #train\n",
        "  y_predC.append(np.argmax(pred, axis = 1))\n",
        "  y_testC.append(np.argmax(test, axis = 1))\n",
        "y_predC = np.array(y_predC)\n",
        "y_testC = np.array(y_testC)"
      ]
    },
    {
      "cell_type": "code",
      "execution_count": null,
      "metadata": {
        "colab": {
          "base_uri": "https://localhost:8080/",
          "height": 830
        },
        "id": "sh8Y0Pj3bJru",
        "outputId": "2543a58a-8118-4a4c-9ad9-88f2e173a4f6"
      },
      "outputs": [
        {
          "output_type": "execute_result",
          "data": {
            "text/plain": [
              "<matplotlib.axes._subplots.AxesSubplot at 0x7fce342e0350>"
            ]
          },
          "metadata": {},
          "execution_count": 47
        },
        {
          "output_type": "display_data",
          "data": {
            "text/plain": [
              "<Figure size 1440x1008 with 2 Axes>"
            ],
            "image/png": "[encoded data removed]"
          },
          "metadata": {}
        }
      ],
      "source": [
        "from sklearn.metrics import confusion_matrix\n",
        "from sklearn.metrics import multilabel_confusion_matrix\n",
        "import seaborn as sn\n",
        "target_names = ['O', 'B-DAT', 'I-DAT', 'B-LOC', 'I-LOC', 'B-PER', 'I-PER', 'B-ORG', 'I-ORG', 'B-EVE', 'I-EVE']\n",
        "cfnMatrix = confusion_matrix(y_testC.flatten(), y_predC.flatten())\n",
        "df_cm = pd.DataFrame(cfnMatrix, index = target_names,columns = target_names)\n",
        "plt.figure(figsize = (20,14))\n",
        "sn.heatmap(df_cm, annot=True, annot_kws={\"size\": 16}, cmap=\"Blues\", vmin=0, vmax=40000) #, vmin=0, vmax=2000"
      ]
    },
    {
      "cell_type": "code",
      "execution_count": null,
      "metadata": {
        "colab": {
          "base_uri": "https://localhost:8080/"
        },
        "id": "Ju17ew2izAkR",
        "outputId": "4c774ae3-370e-4551-f1ba-7f61ded3a347"
      },
      "outputs": [
        {
          "data": {
            "text/plain": [
              "array([[2.35496706e-04, 2.17884922e-02, 2.06396890e-02, 9.64760966e-02,\n",
              "        1.96713615e-01, 8.14228530e-02, 1.01957586e-01, 4.21039903e-01,\n",
              "        3.64261168e-01, 1.20698511e+00, 2.45757423e+02],\n",
              "       [0.00000000e+00, 4.83115126e-05, 3.53419332e-05, 7.39280434e-04,\n",
              "        1.40845070e-03, 1.09170306e-03, 1.54975530e-03, 7.25513906e-03,\n",
              "        6.79475164e-02, 1.47508988e+00, 4.59093319e+00],\n",
              "       [0.00000000e+00, 0.00000000e+00, 3.53419332e-05, 2.46426811e-04,\n",
              "        4.69483568e-04, 1.81950509e-04, 2.44698206e-04, 3.62756953e-03,\n",
              "        1.19493908e-01, 9.45557268e-01, 6.80381760e+00],\n",
              "       [8.52476765e-06, 6.28049664e-04, 5.65470931e-04, 6.03745688e-03,\n",
              "        1.52582160e-02, 6.73216885e-03, 9.62479608e-03, 5.03022975e-02,\n",
              "        5.93564511e-02, 1.54288649e+00, 1.10843054e+00],\n",
              "       [0.00000000e+00, 6.28049664e-04, 4.94787065e-04, 1.72498768e-03,\n",
              "        5.16431925e-03, 4.91266376e-03, 1.07667210e-02, 4.08706167e-02,\n",
              "        4.40487348e-02, 6.77452491e-01, 5.94114528e-01],\n",
              "       [1.06559596e-06, 3.86492101e-04, 3.18077399e-04, 1.60177427e-03,\n",
              "        3.99061033e-03, 2.09243086e-03, 1.95758564e-03, 7.01330109e-03,\n",
              "        8.84098719e-02, 1.59116590e+00, 1.90986214e+00],\n",
              "       [1.06559596e-06, 2.41557563e-04, 1.76709666e-04, 1.10892065e-03,\n",
              "        5.16431925e-03, 2.18340611e-03, 2.03915171e-03, 8.46432890e-03,\n",
              "        3.65510778e-02, 1.38469440e+00, 2.44008484e+00],\n",
              "       [3.19678787e-06, 1.44934538e-04, 4.59445132e-04, 1.84820108e-03,\n",
              "        3.99061033e-03, 2.09243086e-03, 2.12071778e-03, 2.66021765e-02,\n",
              "        3.73320837e-02, 5.67026194e-01, 6.84517497e-01],\n",
              "       [0.00000000e+00, 2.89869076e-04, 5.65470931e-04, 2.09462790e-03,\n",
              "        7.98122066e-03, 6.82314410e-03, 6.44371941e-03, 2.37001209e-02,\n",
              "        3.06154327e-02, 6.32254751e-01, 1.23276776e+00],\n",
              "       [1.06559596e-06, 4.83115126e-05, 7.06838664e-05, 4.92853622e-04,\n",
              "        1.40845070e-03, 1.72852984e-03, 1.63132137e-03, 7.25513906e-03,\n",
              "        2.73352077e-02, 2.32665639e-01, 3.27677625e-01],\n",
              "       [9.59036360e-06, 4.83115126e-04, 7.42180597e-04, 3.94282898e-03,\n",
              "        1.07981221e-02, 4.45778748e-03, 5.30179445e-03, 2.15235792e-02,\n",
              "        1.40581068e-02, 4.53518233e-01, 6.56945917e-01]])"
            ]
          },
          "execution_count": 29,
          "metadata": {},
          "output_type": "execute_result"
        }
      ],
      "source": [
        "np.sort(cfnMatrix) / np.sum(cfnMatrix, axis=1)"
      ]
    },
    {
      "cell_type": "code",
      "execution_count": null,
      "metadata": {
        "colab": {
          "base_uri": "https://localhost:8080/"
        },
        "id": "ztHI4_wrvXHU",
        "outputId": "fe4d7b65-d304-45b6-96f1-072b3cada52c"
      },
      "outputs": [
        {
          "output_type": "stream",
          "name": "stdout",
          "text": [
            "{0: 2.437603445796231e-07, 1: 3.860124527617261e-06, 2: 2.820794900002821e-06, 3: 9.7617165002294e-06, 4: 1.8667861409796893e-05, 5: 7.149751546133772e-06, 6: 6.320912739799627e-06, 7: 1.9204916458613406e-05, 8: 1.252112940587241e-05, 9: 4.074315514993481e-05, 10: 2.0872033562229967e-05}\n",
            "              precision    recall  f1-score   support\n",
            "\n",
            "           O       0.99      0.99      0.99   9014241\n",
            "       B-DAT       0.94      0.84      0.89    238040\n",
            "       I-DAT       0.89      0.96      0.92    325927\n",
            "       B-LOC       0.69      0.67      0.68     93423\n",
            "       I-LOC       0.73      0.75      0.74     48701\n",
            "       B-PER       0.86      0.84      0.85    126557\n",
            "       I-PER       0.84      0.91      0.87    143258\n",
            "       B-ORG       0.81      0.74      0.77     47035\n",
            "       I-ORG       0.80      0.86      0.83     72484\n",
            "       B-EVE       0.87      0.82      0.84     22557\n",
            "       I-EVE       0.82      0.86      0.84     44177\n",
            "\n",
            "    accuracy                           0.98  10176400\n",
            "   macro avg       0.84      0.84      0.84  10176400\n",
            "weighted avg       0.98      0.98      0.98  10176400\n",
            "\n"
          ]
        }
      ],
      "source": [
        "print(weightClass)\n",
        "from sklearn.metrics import classification_report\n",
        "target_names = ['O', 'B-DAT', 'I-DAT', 'B-LOC', 'I-LOC', 'B-PER', 'I-PER', 'B-ORG', 'I-ORG', 'B-EVE', 'I-EVE']\n",
        "print((classification_report(y_testC.flatten(), y_predC.flatten(), target_names=target_names)))"
      ]
    },
    {
      "cell_type": "code",
      "execution_count": null,
      "metadata": {
        "id": "RFCGV2k7Cy8r",
        "colab": {
          "base_uri": "https://localhost:8080/"
        },
        "outputId": "ca6bdff1-e483-4b68-d3b4-f2b8c1031f2d"
      },
      "outputs": [
        {
          "output_type": "execute_result",
          "data": {
            "text/plain": [
              "array([[0, 5, 6, ..., 0, 0, 0],\n",
              "       [0, 0, 0, ..., 0, 0, 0],\n",
              "       [0, 0, 0, ..., 0, 0, 0],\n",
              "       ...,\n",
              "       [0, 0, 0, ..., 0, 0, 0],\n",
              "       [0, 0, 0, ..., 0, 3, 0],\n",
              "       [0, 0, 0, ..., 0, 0, 0]])"
            ]
          },
          "metadata": {},
          "execution_count": 37
        }
      ],
      "source": [
        "y_testC "
      ]
    },
    {
      "cell_type": "code",
      "execution_count": null,
      "metadata": {
        "id": "_lkpOjuGCy-v",
        "colab": {
          "base_uri": "https://localhost:8080/"
        },
        "outputId": "98acbf82-059a-43bb-fd88-b281ddacea18"
      },
      "outputs": [
        {
          "output_type": "execute_result",
          "data": {
            "text/plain": [
              "array([[0, 5, 6, ..., 0, 0, 0],\n",
              "       [0, 0, 0, ..., 0, 0, 0],\n",
              "       [0, 0, 0, ..., 4, 0, 0],\n",
              "       ...,\n",
              "       [0, 0, 0, ..., 0, 0, 0],\n",
              "       [0, 0, 0, ..., 0, 3, 0],\n",
              "       [0, 0, 0, ..., 0, 0, 0]])"
            ]
          },
          "metadata": {},
          "execution_count": 38
        }
      ],
      "source": [
        "y_predC"
      ]
    },
    {
      "cell_type": "code",
      "execution_count": null,
      "metadata": {
        "id": "_WiTtqH7CzA7"
      },
      "outputs": [],
      "source": [
        ""
      ]
    },
    {
      "cell_type": "code",
      "execution_count": null,
      "metadata": {
        "id": "KcjWCBEXCzEK"
      },
      "outputs": [],
      "source": [
        ""
      ]
    },
    {
      "cell_type": "code",
      "execution_count": null,
      "metadata": {
        "id": "rBzFto31bJxt"
      },
      "outputs": [],
      "source": [
        ""
      ]
    },
    {
      "cell_type": "code",
      "execution_count": null,
      "metadata": {
        "id": "w0ptczYybJz0"
      },
      "outputs": [],
      "source": [
        ""
      ]
    },
    {
      "cell_type": "code",
      "execution_count": null,
      "metadata": {
        "id": "qWjWkLJ5bJ2Q"
      },
      "outputs": [],
      "source": [
        ""
      ]
    },
    {
      "cell_type": "code",
      "execution_count": null,
      "metadata": {
        "id": "DQ_JmhsZh3op"
      },
      "outputs": [],
      "source": [
        ""
      ]
    },
    {
      "cell_type": "code",
      "execution_count": null,
      "metadata": {
        "id": "yQO213B7C3Uw"
      },
      "outputs": [],
      "source": [
        ""
      ]
    },
    {
      "cell_type": "code",
      "execution_count": null,
      "metadata": {
        "id": "iUvnY1efC3er"
      },
      "outputs": [],
      "source": [
        ""
      ]
    },
    {
      "cell_type": "code",
      "execution_count": null,
      "metadata": {
        "id": "WYQHhFVEmttM"
      },
      "outputs": [],
      "source": [
        ""
      ]
    },
    {
      "cell_type": "code",
      "execution_count": null,
      "metadata": {
        "id": "pNr3baCCYMA7"
      },
      "outputs": [],
      "source": [
        ""
      ]
    },
    {
      "cell_type": "code",
      "execution_count": null,
      "metadata": {
        "id": "IMpQ_IS7YMFX"
      },
      "outputs": [],
      "source": [
        ""
      ]
    },
    {
      "cell_type": "code",
      "execution_count": null,
      "metadata": {
        "id": "oZtAkTMZC3hu"
      },
      "outputs": [],
      "source": [
        ""
      ]
    },
    {
      "cell_type": "code",
      "execution_count": null,
      "metadata": {
        "id": "syQROYHCiXoe"
      },
      "outputs": [],
      "source": [
        ""
      ]
    },
    {
      "cell_type": "markdown",
      "metadata": {
        "id": "tmzz81BXiXyL"
      },
      "source": [
        "## History\n"
      ]
    },
    {
      "cell_type": "code",
      "execution_count": null,
      "metadata": {
        "id": "v81QiTt_iZYp"
      },
      "outputs": [],
      "source": [
        "def weightedLoss(originalLossFunc, weightsList):\n",
        "\n",
        "    def lossFunc(true, pred):\n",
        "\n",
        "        axis = -1 #if channels last \n",
        "        #axis=  1 #if channels first\n",
        "\n",
        "\n",
        "        #argmax returns the index of the element with the greatest value\n",
        "        #done in the class axis, it returns the class index    \n",
        "        classSelectors = K.argmax(true, axis=axis) \n",
        "            #if your loss is sparse, use only true as classSelectors\n",
        "        print(type(classSelectors[0]))\n",
        "        #considering weights are ordered by class, for each class\n",
        "        #true(1) if the class index is equal to the weight index   \n",
        "        classSelectors = classSelectors.astype(np.int32)\n",
        "        classSelectors = [K.equal(i, classSelectors) for i in range(len(weightsList))]\n",
        "\n",
        "        #casting boolean to float for calculations  \n",
        "        #each tensor in the list contains 1 where ground true class is equal to its index \n",
        "        #if you sum all these, you will get a tensor full of ones. \n",
        "        classSelectors = [K.cast(x, K.floatx()) for x in classSelectors]\n",
        "\n",
        "        #for each of the selections above, multiply their respective weight\n",
        "        weights = [sel * w for sel,w in zip(classSelectors, weightsList)] \n",
        "\n",
        "        #sums all the selections\n",
        "        #result is a tensor with the respective weight for each element in predictions\n",
        "        weightMultiplier = weights[0]\n",
        "        for i in range(1, len(weights)):\n",
        "            weightMultiplier = weightMultiplier + weights[i]\n",
        "\n",
        "\n",
        "        #make sure your originalLossFunc only collapses the class axis\n",
        "        #you need the other axes intact to multiply the weights tensor\n",
        "        loss = originalLossFunc(true,pred) \n",
        "        loss = loss * weightMultiplier\n",
        "\n",
        "        return loss\n",
        "    return lossFunc"
      ]
    },
    {
      "cell_type": "code",
      "execution_count": null,
      "metadata": {
        "id": "kBNwstZnwddW"
      },
      "outputs": [],
      "source": [
        "from keras.layers import  TimeDistributed, Masking, Conv1D, MaxPooling1D, Flatten\n",
        "from keras_contrib.layers import CRF\n",
        "from keras_contrib.losses import crf_loss\n",
        "from keras_contrib.metrics import crf_viterbi_accuracy, crf_accuracy\n",
        "from keras.models import Sequential\n",
        "from keras.callbacks import ModelCheckpoint\n",
        "import tensorflow as tf\n",
        "from keras import backend as K\n",
        "\n",
        "\n",
        "# weightClass = senInfo.sum(axis = 0)\n",
        "# weightClass = weightClass[1:12]\n",
        "# weightClass = 1 / weightClass\n",
        "# weightClass = dict(zip(range(12), weightClass.values))\n",
        "\n",
        "model = Sequential()\n",
        "# model.add(Dense(shape=(maxlen,)))\n",
        "model.add(Embedding(len(tokenizer.word_index), embedding_matrix.shape[1],\n",
        "                    weights=[embedding_matrix],trainable=False ))\n",
        "model.add(Bidirectional(LSTM(200, return_sequences=True,\n",
        "                             name='lstm_layer1', dropout=0.1, recurrent_dropout=0.1)))\n",
        "model.add(Bidirectional(LSTM(350, return_sequences=True,\n",
        "                              name='lstm_layer2', dropout=0.1, recurrent_dropout=0.1)))\n",
        "model.add(Bidirectional(LSTM(250, return_sequences=True,\n",
        "                              name='lstm_layer3', dropout=0.1, recurrent_dropout=0.1)))\n",
        "# model.add(Dense(11, activation='softmax'))\n",
        "model.add(CRF(11, sparse_target=True) )  # CRF layer\n",
        "\n",
        "# # model.add(CRF(11, sparse_target=True))\n",
        "\n",
        "# # model.compile(loss = crf_loss ,\n",
        "# #                   optimizer = 'adam',\n",
        "# #                   metrics=['accuracy',tf.keras.metrics.Precision(), tf.keras.metrics.Recall()]) #loss = weightedLoss(crf_loss, weightClass)\n",
        "model.summary()\n"
      ]
    }
  ],
  "metadata": {
    "accelerator": "GPU",
    "colab": {
      "collapsed_sections": [],
      "name": "Persian-Name-Entitiy-Recognition.ipynb",
      "provenance": []
    },
    "gpuClass": "standard",
    "kernelspec": {
      "display_name": "Python 3",
      "name": "python3"
    },
    "language_info": {
      "name": "python"
    }
  },
  "nbformat": 4,
  "nbformat_minor": 0
}