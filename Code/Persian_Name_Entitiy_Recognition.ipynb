{
  "cells": [
    {
      "cell_type": "code",
      "execution_count": 1,
      "metadata": {
        "id": "7lzyzrLG65CO",
        "colab": {
          "base_uri": "https://localhost:8080/"
        },
        "outputId": "e60d2f76-d080-40bc-b3de-7c8928252bd0"
      },
      "outputs": [
        {
          "output_type": "stream",
          "name": "stdout",
          "text": [
            "Looking in indexes: https://pypi.org/simple, https://us-python.pkg.dev/colab-wheels/public/simple/\n",
            "Collecting hazm\n",
            "  Downloading hazm-0.7.0-py3-none-any.whl (316 kB)\n",
            "\u001b[K     |████████████████████████████████| 316 kB 4.6 MB/s \n",
            "\u001b[?25hCollecting nltk==3.3\n",
            "  Downloading nltk-3.3.0.zip (1.4 MB)\n",
            "\u001b[K     |████████████████████████████████| 1.4 MB 64.3 MB/s \n",
            "\u001b[?25hCollecting libwapiti>=0.2.1\n",
            "  Downloading libwapiti-0.2.1.tar.gz (233 kB)\n",
            "\u001b[K     |████████████████████████████████| 233 kB 69.8 MB/s \n",
            "\u001b[?25hRequirement already satisfied: six in /usr/local/lib/python3.7/dist-packages (from nltk==3.3->hazm) (1.15.0)\n",
            "Building wheels for collected packages: nltk, libwapiti\n",
            "  Building wheel for nltk (setup.py) ... \u001b[?25l\u001b[?25hdone\n",
            "  Created wheel for nltk: filename=nltk-3.3-py3-none-any.whl size=1394486 sha256=b299fb85d89ff83cbd523a5bb096a2c637c66863fc27eaa7a9084b50e523d459\n",
            "  Stored in directory: /root/.cache/pip/wheels/9b/fd/0c/d92302c876e5de87ebd7fc0979d82edb93e2d8d768bf71fac4\n",
            "  Building wheel for libwapiti (setup.py) ... \u001b[?25l\u001b[?25hdone\n",
            "  Created wheel for libwapiti: filename=libwapiti-0.2.1-cp37-cp37m-linux_x86_64.whl size=154545 sha256=dbb8c6c6d614a286f3bc890086eeac4a444c8de5a7513331d12486312defb0aa\n",
            "  Stored in directory: /root/.cache/pip/wheels/ab/b2/5b/0fe4b8f5c0e65341e8ea7bb3f4a6ebabfe8b1ac31322392dbf\n",
            "Successfully built nltk libwapiti\n",
            "Installing collected packages: nltk, libwapiti, hazm\n",
            "  Attempting uninstall: nltk\n",
            "    Found existing installation: nltk 3.7\n",
            "    Uninstalling nltk-3.7:\n",
            "      Successfully uninstalled nltk-3.7\n",
            "Successfully installed hazm-0.7.0 libwapiti-0.2.1 nltk-3.3\n"
          ]
        }
      ],
      "source": [
        "pip install hazm"
      ]
    },
    {
      "cell_type": "code",
      "source": [
        "import pandas as pd\n",
        "import numpy as np\n",
        "import matplotlib.pyplot as plt\n",
        "from sklearn.utils import shuffle\n",
        "from keras.preprocessing.text import Tokenizer\n",
        "from keras.layers import Dense, Input, LSTM, Embedding, Dropout, Activation\n",
        "from keras.layers import Bidirectional, GlobalMaxPool1D,Bidirectional\n",
        "from keras.preprocessing.sequence import pad_sequences\n",
        "from __future__ import unicode_literals\n",
        "from hazm import *\n",
        "import gc"
      ],
      "metadata": {
        "id": "WUgVbSZO6MxX"
      },
      "execution_count": 2,
      "outputs": []
    },
    {
      "cell_type": "code",
      "source": [
        "from google.colab import drive\n",
        "drive.mount('/content/drive')"
      ],
      "metadata": {
        "id": "6SMraayul-R6",
        "colab": {
          "base_uri": "https://localhost:8080/"
        },
        "outputId": "f31f0b66-70ff-4018-dd28-824e5aade3db"
      },
      "execution_count": 3,
      "outputs": [
        {
          "output_type": "stream",
          "name": "stdout",
          "text": [
            "Mounted at /content/drive\n"
          ]
        }
      ]
    },
    {
      "cell_type": "markdown",
      "metadata": {
        "id": "6E44zCT7mKuW"
      },
      "source": [
        "## Input datasets\n",
        "I read from 5 datasets and combine them toghether\n",
        "\n",
        "because of the datasets fault, I can't separate them in file reading time, so I read it as a 1 column"
      ]
    },
    {
      "cell_type": "code",
      "execution_count": 4,
      "metadata": {
        "id": "ofvH3s2FlaNB"
      },
      "outputs": [],
      "source": [
        "csv1 = pd.read_csv(\"/content/drive/MyDrive/NerDatas/Persian-NER-part1.txt\", header=None, delimiter=\"~\", names = ['All'], encoding_errors = 'ignore', low_memory=False)\n",
        "csv2 = pd.read_csv(\"/content/drive/MyDrive/NerDatas/Persian-NER-part2.txt\", header=None, delimiter=\"~\", names = ['All'], encoding_errors = 'ignore', low_memory=False)\n",
        "csv3 = pd.read_csv(\"/content/drive/MyDrive/NerDatas/Persian-NER-part3.txt\", header=None, delimiter=\"~\", names = ['All'], encoding_errors = 'ignore', low_memory=False)\n",
        "csv4 = pd.read_csv(\"/content/drive/MyDrive/NerDatas/Persian-NER-part4.txt\", header=None, delimiter=\"~\", names = ['All'], encoding_errors = 'ignore', low_memory=False)\n",
        "#csv5 = pd.read_csv(\"/content/drive/MyDrive/NerDatas/Persian-NER-part5.txt\", header=None, delimiter=\"~\", names = ['All'], encoding_errors = 'ignore', low_memory=False)     #changable"
      ]
    },
    {
      "cell_type": "code",
      "execution_count": 5,
      "metadata": {
        "colab": {
          "base_uri": "https://localhost:8080/",
          "height": 423
        },
        "id": "L20Nd3DEw7yR",
        "outputId": "e7148105-d0b0-43d3-8b49-f96c02d20358"
      },
      "outputs": [
        {
          "output_type": "execute_result",
          "data": {
            "text/plain": [
              "                    All\n",
              "0         ویکی‌پدیای\\tO\n",
              "1            انگلیسی\\tO\n",
              "2             در\\tB-DAT\n",
              "3          تاریخ\\tI-DAT\n",
              "4             ۱۵\\tI-DAT\n",
              "...                 ...\n",
              "10527407         روی\\tO\n",
              "10527408         میز\\tO\n",
              "10527409   گزارشگران\\tO\n",
              "10527410     کوبیدند\\tO\n",
              "10527411           .\\tO\n",
              "\n",
              "[10527412 rows x 1 columns]"
            ],
            "text/html": [
              "\n",
              "  <div id=\"df-b543343c-8251-462d-8a2d-d2d6cd86d88b\">\n",
              "    <div class=\"colab-df-container\">\n",
              "      <div>\n",
              "<style scoped>\n",
              "    .dataframe tbody tr th:only-of-type {\n",
              "        vertical-align: middle;\n",
              "    }\n",
              "\n",
              "    .dataframe tbody tr th {\n",
              "        vertical-align: top;\n",
              "    }\n",
              "\n",
              "    .dataframe thead th {\n",
              "        text-align: right;\n",
              "    }\n",
              "</style>\n",
              "<table border=\"1\" class=\"dataframe\">\n",
              "  <thead>\n",
              "    <tr style=\"text-align: right;\">\n",
              "      <th></th>\n",
              "      <th>All</th>\n",
              "    </tr>\n",
              "  </thead>\n",
              "  <tbody>\n",
              "    <tr>\n",
              "      <th>0</th>\n",
              "      <td>ویکی‌پدیای\\tO</td>\n",
              "    </tr>\n",
              "    <tr>\n",
              "      <th>1</th>\n",
              "      <td>انگلیسی\\tO</td>\n",
              "    </tr>\n",
              "    <tr>\n",
              "      <th>2</th>\n",
              "      <td>در\\tB-DAT</td>\n",
              "    </tr>\n",
              "    <tr>\n",
              "      <th>3</th>\n",
              "      <td>تاریخ\\tI-DAT</td>\n",
              "    </tr>\n",
              "    <tr>\n",
              "      <th>4</th>\n",
              "      <td>۱۵\\tI-DAT</td>\n",
              "    </tr>\n",
              "    <tr>\n",
              "      <th>...</th>\n",
              "      <td>...</td>\n",
              "    </tr>\n",
              "    <tr>\n",
              "      <th>10527407</th>\n",
              "      <td>روی\\tO</td>\n",
              "    </tr>\n",
              "    <tr>\n",
              "      <th>10527408</th>\n",
              "      <td>میز\\tO</td>\n",
              "    </tr>\n",
              "    <tr>\n",
              "      <th>10527409</th>\n",
              "      <td>گزارشگران\\tO</td>\n",
              "    </tr>\n",
              "    <tr>\n",
              "      <th>10527410</th>\n",
              "      <td>کوبیدند\\tO</td>\n",
              "    </tr>\n",
              "    <tr>\n",
              "      <th>10527411</th>\n",
              "      <td>.\\tO</td>\n",
              "    </tr>\n",
              "  </tbody>\n",
              "</table>\n",
              "<p>10527412 rows × 1 columns</p>\n",
              "</div>\n",
              "      <button class=\"colab-df-convert\" onclick=\"convertToInteractive('df-b543343c-8251-462d-8a2d-d2d6cd86d88b')\"\n",
              "              title=\"Convert this dataframe to an interactive table.\"\n",
              "              style=\"display:none;\">\n",
              "        \n",
              "  <svg xmlns=\"http://www.w3.org/2000/svg\" height=\"24px\"viewBox=\"0 0 24 24\"\n",
              "       width=\"24px\">\n",
              "    <path d=\"M0 0h24v24H0V0z\" fill=\"none\"/>\n",
              "    <path d=\"M18.56 5.44l.94 2.06.94-2.06 2.06-.94-2.06-.94-.94-2.06-.94 2.06-2.06.94zm-11 1L8.5 8.5l.94-2.06 2.06-.94-2.06-.94L8.5 2.5l-.94 2.06-2.06.94zm10 10l.94 2.06.94-2.06 2.06-.94-2.06-.94-.94-2.06-.94 2.06-2.06.94z\"/><path d=\"M17.41 7.96l-1.37-1.37c-.4-.4-.92-.59-1.43-.59-.52 0-1.04.2-1.43.59L10.3 9.45l-7.72 7.72c-.78.78-.78 2.05 0 2.83L4 21.41c.39.39.9.59 1.41.59.51 0 1.02-.2 1.41-.59l7.78-7.78 2.81-2.81c.8-.78.8-2.07 0-2.86zM5.41 20L4 18.59l7.72-7.72 1.47 1.35L5.41 20z\"/>\n",
              "  </svg>\n",
              "      </button>\n",
              "      \n",
              "  <style>\n",
              "    .colab-df-container {\n",
              "      display:flex;\n",
              "      flex-wrap:wrap;\n",
              "      gap: 12px;\n",
              "    }\n",
              "\n",
              "    .colab-df-convert {\n",
              "      background-color: #E8F0FE;\n",
              "      border: none;\n",
              "      border-radius: 50%;\n",
              "      cursor: pointer;\n",
              "      display: none;\n",
              "      fill: #1967D2;\n",
              "      height: 32px;\n",
              "      padding: 0 0 0 0;\n",
              "      width: 32px;\n",
              "    }\n",
              "\n",
              "    .colab-df-convert:hover {\n",
              "      background-color: #E2EBFA;\n",
              "      box-shadow: 0px 1px 2px rgba(60, 64, 67, 0.3), 0px 1px 3px 1px rgba(60, 64, 67, 0.15);\n",
              "      fill: #174EA6;\n",
              "    }\n",
              "\n",
              "    [theme=dark] .colab-df-convert {\n",
              "      background-color: #3B4455;\n",
              "      fill: #D2E3FC;\n",
              "    }\n",
              "\n",
              "    [theme=dark] .colab-df-convert:hover {\n",
              "      background-color: #434B5C;\n",
              "      box-shadow: 0px 1px 3px 1px rgba(0, 0, 0, 0.15);\n",
              "      filter: drop-shadow(0px 1px 2px rgba(0, 0, 0, 0.3));\n",
              "      fill: #FFFFFF;\n",
              "    }\n",
              "  </style>\n",
              "\n",
              "      <script>\n",
              "        const buttonEl =\n",
              "          document.querySelector('#df-b543343c-8251-462d-8a2d-d2d6cd86d88b button.colab-df-convert');\n",
              "        buttonEl.style.display =\n",
              "          google.colab.kernel.accessAllowed ? 'block' : 'none';\n",
              "\n",
              "        async function convertToInteractive(key) {\n",
              "          const element = document.querySelector('#df-b543343c-8251-462d-8a2d-d2d6cd86d88b');\n",
              "          const dataTable =\n",
              "            await google.colab.kernel.invokeFunction('convertToInteractive',\n",
              "                                                     [key], {});\n",
              "          if (!dataTable) return;\n",
              "\n",
              "          const docLinkHtml = 'Like what you see? Visit the ' +\n",
              "            '<a target=\"_blank\" href=https://colab.research.google.com/notebooks/data_table.ipynb>data table notebook</a>'\n",
              "            + ' to learn more about interactive tables.';\n",
              "          element.innerHTML = '';\n",
              "          dataTable['output_type'] = 'display_data';\n",
              "          await google.colab.output.renderOutput(dataTable, element);\n",
              "          const docLink = document.createElement('div');\n",
              "          docLink.innerHTML = docLinkHtml;\n",
              "          element.appendChild(docLink);\n",
              "        }\n",
              "      </script>\n",
              "    </div>\n",
              "  </div>\n",
              "  "
            ]
          },
          "metadata": {},
          "execution_count": 5
        }
      ],
      "source": [
        "mainCsv = pd.DataFrame(columns=['All'])\n",
        "mainCsv = mainCsv.append(csv1, ignore_index=True)\n",
        "mainCsv = mainCsv.append(csv2, ignore_index=True)\n",
        "mainCsv = mainCsv.append(csv3, ignore_index=True)\n",
        "mainCsv = mainCsv.append(csv4, ignore_index=True)\n",
        "#data = data.append(csv5, ignore_index=True)   #changeable\n",
        "mainCsv"
      ]
    },
    {
      "cell_type": "code",
      "execution_count": 6,
      "metadata": {
        "colab": {
          "base_uri": "https://localhost:8080/",
          "height": 423
        },
        "id": "e0Nr1Ko10F4Y",
        "outputId": "3ae258ad-03b6-4b49-98dd-21c5f9582d66"
      },
      "outputs": [
        {
          "output_type": "execute_result",
          "data": {
            "text/plain": [
              "               Token NameEntity\n",
              "0         ویکی‌پدیای          O\n",
              "1            انگلیسی          O\n",
              "2                 در      B-DAT\n",
              "3              تاریخ      I-DAT\n",
              "4                 ۱۵      I-DAT\n",
              "...              ...        ...\n",
              "10527407         روی          O\n",
              "10527408         میز          O\n",
              "10527409   گزارشگران          O\n",
              "10527410     کوبیدند          O\n",
              "10527411           .          O\n",
              "\n",
              "[10527412 rows x 2 columns]"
            ],
            "text/html": [
              "\n",
              "  <div id=\"df-2f8d567e-eafd-4265-bd46-8332f1c05777\">\n",
              "    <div class=\"colab-df-container\">\n",
              "      <div>\n",
              "<style scoped>\n",
              "    .dataframe tbody tr th:only-of-type {\n",
              "        vertical-align: middle;\n",
              "    }\n",
              "\n",
              "    .dataframe tbody tr th {\n",
              "        vertical-align: top;\n",
              "    }\n",
              "\n",
              "    .dataframe thead th {\n",
              "        text-align: right;\n",
              "    }\n",
              "</style>\n",
              "<table border=\"1\" class=\"dataframe\">\n",
              "  <thead>\n",
              "    <tr style=\"text-align: right;\">\n",
              "      <th></th>\n",
              "      <th>Token</th>\n",
              "      <th>NameEntity</th>\n",
              "    </tr>\n",
              "  </thead>\n",
              "  <tbody>\n",
              "    <tr>\n",
              "      <th>0</th>\n",
              "      <td>ویکی‌پدیای</td>\n",
              "      <td>O</td>\n",
              "    </tr>\n",
              "    <tr>\n",
              "      <th>1</th>\n",
              "      <td>انگلیسی</td>\n",
              "      <td>O</td>\n",
              "    </tr>\n",
              "    <tr>\n",
              "      <th>2</th>\n",
              "      <td>در</td>\n",
              "      <td>B-DAT</td>\n",
              "    </tr>\n",
              "    <tr>\n",
              "      <th>3</th>\n",
              "      <td>تاریخ</td>\n",
              "      <td>I-DAT</td>\n",
              "    </tr>\n",
              "    <tr>\n",
              "      <th>4</th>\n",
              "      <td>۱۵</td>\n",
              "      <td>I-DAT</td>\n",
              "    </tr>\n",
              "    <tr>\n",
              "      <th>...</th>\n",
              "      <td>...</td>\n",
              "      <td>...</td>\n",
              "    </tr>\n",
              "    <tr>\n",
              "      <th>10527407</th>\n",
              "      <td>روی</td>\n",
              "      <td>O</td>\n",
              "    </tr>\n",
              "    <tr>\n",
              "      <th>10527408</th>\n",
              "      <td>میز</td>\n",
              "      <td>O</td>\n",
              "    </tr>\n",
              "    <tr>\n",
              "      <th>10527409</th>\n",
              "      <td>گزارشگران</td>\n",
              "      <td>O</td>\n",
              "    </tr>\n",
              "    <tr>\n",
              "      <th>10527410</th>\n",
              "      <td>کوبیدند</td>\n",
              "      <td>O</td>\n",
              "    </tr>\n",
              "    <tr>\n",
              "      <th>10527411</th>\n",
              "      <td>.</td>\n",
              "      <td>O</td>\n",
              "    </tr>\n",
              "  </tbody>\n",
              "</table>\n",
              "<p>10527412 rows × 2 columns</p>\n",
              "</div>\n",
              "      <button class=\"colab-df-convert\" onclick=\"convertToInteractive('df-2f8d567e-eafd-4265-bd46-8332f1c05777')\"\n",
              "              title=\"Convert this dataframe to an interactive table.\"\n",
              "              style=\"display:none;\">\n",
              "        \n",
              "  <svg xmlns=\"http://www.w3.org/2000/svg\" height=\"24px\"viewBox=\"0 0 24 24\"\n",
              "       width=\"24px\">\n",
              "    <path d=\"M0 0h24v24H0V0z\" fill=\"none\"/>\n",
              "    <path d=\"M18.56 5.44l.94 2.06.94-2.06 2.06-.94-2.06-.94-.94-2.06-.94 2.06-2.06.94zm-11 1L8.5 8.5l.94-2.06 2.06-.94-2.06-.94L8.5 2.5l-.94 2.06-2.06.94zm10 10l.94 2.06.94-2.06 2.06-.94-2.06-.94-.94-2.06-.94 2.06-2.06.94z\"/><path d=\"M17.41 7.96l-1.37-1.37c-.4-.4-.92-.59-1.43-.59-.52 0-1.04.2-1.43.59L10.3 9.45l-7.72 7.72c-.78.78-.78 2.05 0 2.83L4 21.41c.39.39.9.59 1.41.59.51 0 1.02-.2 1.41-.59l7.78-7.78 2.81-2.81c.8-.78.8-2.07 0-2.86zM5.41 20L4 18.59l7.72-7.72 1.47 1.35L5.41 20z\"/>\n",
              "  </svg>\n",
              "      </button>\n",
              "      \n",
              "  <style>\n",
              "    .colab-df-container {\n",
              "      display:flex;\n",
              "      flex-wrap:wrap;\n",
              "      gap: 12px;\n",
              "    }\n",
              "\n",
              "    .colab-df-convert {\n",
              "      background-color: #E8F0FE;\n",
              "      border: none;\n",
              "      border-radius: 50%;\n",
              "      cursor: pointer;\n",
              "      display: none;\n",
              "      fill: #1967D2;\n",
              "      height: 32px;\n",
              "      padding: 0 0 0 0;\n",
              "      width: 32px;\n",
              "    }\n",
              "\n",
              "    .colab-df-convert:hover {\n",
              "      background-color: #E2EBFA;\n",
              "      box-shadow: 0px 1px 2px rgba(60, 64, 67, 0.3), 0px 1px 3px 1px rgba(60, 64, 67, 0.15);\n",
              "      fill: #174EA6;\n",
              "    }\n",
              "\n",
              "    [theme=dark] .colab-df-convert {\n",
              "      background-color: #3B4455;\n",
              "      fill: #D2E3FC;\n",
              "    }\n",
              "\n",
              "    [theme=dark] .colab-df-convert:hover {\n",
              "      background-color: #434B5C;\n",
              "      box-shadow: 0px 1px 3px 1px rgba(0, 0, 0, 0.15);\n",
              "      filter: drop-shadow(0px 1px 2px rgba(0, 0, 0, 0.3));\n",
              "      fill: #FFFFFF;\n",
              "    }\n",
              "  </style>\n",
              "\n",
              "      <script>\n",
              "        const buttonEl =\n",
              "          document.querySelector('#df-2f8d567e-eafd-4265-bd46-8332f1c05777 button.colab-df-convert');\n",
              "        buttonEl.style.display =\n",
              "          google.colab.kernel.accessAllowed ? 'block' : 'none';\n",
              "\n",
              "        async function convertToInteractive(key) {\n",
              "          const element = document.querySelector('#df-2f8d567e-eafd-4265-bd46-8332f1c05777');\n",
              "          const dataTable =\n",
              "            await google.colab.kernel.invokeFunction('convertToInteractive',\n",
              "                                                     [key], {});\n",
              "          if (!dataTable) return;\n",
              "\n",
              "          const docLinkHtml = 'Like what you see? Visit the ' +\n",
              "            '<a target=\"_blank\" href=https://colab.research.google.com/notebooks/data_table.ipynb>data table notebook</a>'\n",
              "            + ' to learn more about interactive tables.';\n",
              "          element.innerHTML = '';\n",
              "          dataTable['output_type'] = 'display_data';\n",
              "          await google.colab.output.renderOutput(dataTable, element);\n",
              "          const docLink = document.createElement('div');\n",
              "          docLink.innerHTML = docLinkHtml;\n",
              "          element.appendChild(docLink);\n",
              "        }\n",
              "      </script>\n",
              "    </div>\n",
              "  </div>\n",
              "  "
            ]
          },
          "metadata": {},
          "execution_count": 6
        }
      ],
      "source": [
        "tmp = mainCsv['All'].str.rsplit(\"\\t\", 1)\n",
        "dataWord = pd.DataFrame(list(tmp), columns = ['Token', 'NameEntity'])\n",
        "dataWord"
      ]
    },
    {
      "cell_type": "code",
      "execution_count": 7,
      "metadata": {
        "colab": {
          "base_uri": "https://localhost:8080/",
          "height": 322
        },
        "id": "MhwyJAf41NMj",
        "outputId": "3b866ff6-8f62-4c67-9362-1d256f355b6d"
      },
      "outputs": [
        {
          "output_type": "execute_result",
          "data": {
            "text/plain": [
              "(-1.1029845178052846,\n",
              " 1.1092858620764185,\n",
              " -1.1159082033648577,\n",
              " 1.1007575449007463)"
            ]
          },
          "metadata": {},
          "execution_count": 7
        },
        {
          "output_type": "display_data",
          "data": {
            "text/plain": [
              "<Figure size 432x288 with 1 Axes>"
            ],
            "image/png": "[encoded data removed]"
          },
          "metadata": {}
        }
      ],
      "source": [
        "x = dataWord['NameEntity'].value_counts()[1:-1]\n",
        "x = shuffle(x)\n",
        "fig1, ax1 = plt.subplots()\n",
        "ax1.pie(x.values, labels=x.keys(), autopct='%1.1f%%',shadow=True, startangle=90)\n",
        "ax1.axis('equal') "
      ]
    },
    {
      "cell_type": "code",
      "execution_count": 8,
      "metadata": {
        "colab": {
          "base_uri": "https://localhost:8080/"
        },
        "id": "p2iNUxtd0GFz",
        "outputId": "71a75f36-81a0-4a8b-d72a-c93d88d44058"
      },
      "outputs": [
        {
          "output_type": "execute_result",
          "data": {
            "text/plain": [
              "O        8728635\n",
              "I-DAT     383590\n",
              "B-DAT     294479\n",
              "B-LOC     252790\n",
              "I-PER     178051\n",
              "I-ORG     174526\n",
              "B-PER     164234\n",
              "I-LOC     158827\n",
              "B-ORG     113397\n",
              "I-EVE      51561\n",
              "B-EVE      27310\n",
              "Name: NameEntity, dtype: int64"
            ]
          },
          "metadata": {},
          "execution_count": 8
        }
      ],
      "source": [
        "dataWord['NameEntity'].value_counts()"
      ]
    },
    {
      "cell_type": "code",
      "execution_count": 9,
      "metadata": {
        "colab": {
          "base_uri": "https://localhost:8080/"
        },
        "id": "FO1v7QOtRZXt",
        "outputId": "3a44d547-2c5f-4c1a-ca11-58fbf3333fef"
      },
      "outputs": [
        {
          "output_type": "execute_result",
          "data": {
            "text/plain": [
              "Int64Index([ 1193638,  2569124,  2613297,  5508457,  7587616,  8104097,\n",
              "             8265958,  8566774,  8709133,  8753008,  8968246, 10258056],\n",
              "           dtype='int64')"
            ]
          },
          "metadata": {},
          "execution_count": 9
        }
      ],
      "source": [
        "nanIndices = dataWord['NameEntity'][dataWord['NameEntity'].isnull().values].index\n",
        "nanIndices"
      ]
    },
    {
      "cell_type": "code",
      "execution_count": 10,
      "metadata": {
        "colab": {
          "base_uri": "https://localhost:8080/",
          "height": 425
        },
        "id": "n15vM0L4RpdZ",
        "outputId": "8dfbb031-455d-4dc2-e32d-1107a5cdce0b"
      },
      "outputs": [
        {
          "output_type": "execute_result",
          "data": {
            "text/plain": [
              "                                                      Token NameEntity\n",
              "1193638                   http://turnbull.mcs.st-and.ac.uk/       None\n",
              "2569124                                  http://kiau.ac.ir/       None\n",
              "2613297                                                   2       None\n",
              "5508457                                  http://sharif.edu/       None\n",
              "7587616                                 members.tripod.com/       None\n",
              "8104097                           http://www.rph.wa.gov.au/       None\n",
              "8265958                                  http://sharif.edu/       None\n",
              "8566774                          http://web.eecs.umich.edu/       None\n",
              "8709133                            http://lisa.cs.duke.edu/       None\n",
              "8753008   http://freepages.genealogy.rootsweb.ancestry.com/       None\n",
              "8968246                            http://www.mckusick.com/       None\n",
              "10258056                                    www.cs.uvm.edu/       None"
            ],
            "text/html": [
              "\n",
              "  <div id=\"df-06594bb7-d357-4380-99c9-2d341c438b23\">\n",
              "    <div class=\"colab-df-container\">\n",
              "      <div>\n",
              "<style scoped>\n",
              "    .dataframe tbody tr th:only-of-type {\n",
              "        vertical-align: middle;\n",
              "    }\n",
              "\n",
              "    .dataframe tbody tr th {\n",
              "        vertical-align: top;\n",
              "    }\n",
              "\n",
              "    .dataframe thead th {\n",
              "        text-align: right;\n",
              "    }\n",
              "</style>\n",
              "<table border=\"1\" class=\"dataframe\">\n",
              "  <thead>\n",
              "    <tr style=\"text-align: right;\">\n",
              "      <th></th>\n",
              "      <th>Token</th>\n",
              "      <th>NameEntity</th>\n",
              "    </tr>\n",
              "  </thead>\n",
              "  <tbody>\n",
              "    <tr>\n",
              "      <th>1193638</th>\n",
              "      <td>http://turnbull.mcs.st-and.ac.uk/</td>\n",
              "      <td>None</td>\n",
              "    </tr>\n",
              "    <tr>\n",
              "      <th>2569124</th>\n",
              "      <td>http://kiau.ac.ir/</td>\n",
              "      <td>None</td>\n",
              "    </tr>\n",
              "    <tr>\n",
              "      <th>2613297</th>\n",
              "      <td>2</td>\n",
              "      <td>None</td>\n",
              "    </tr>\n",
              "    <tr>\n",
              "      <th>5508457</th>\n",
              "      <td>http://sharif.edu/</td>\n",
              "      <td>None</td>\n",
              "    </tr>\n",
              "    <tr>\n",
              "      <th>7587616</th>\n",
              "      <td>members.tripod.com/</td>\n",
              "      <td>None</td>\n",
              "    </tr>\n",
              "    <tr>\n",
              "      <th>8104097</th>\n",
              "      <td>http://www.rph.wa.gov.au/</td>\n",
              "      <td>None</td>\n",
              "    </tr>\n",
              "    <tr>\n",
              "      <th>8265958</th>\n",
              "      <td>http://sharif.edu/</td>\n",
              "      <td>None</td>\n",
              "    </tr>\n",
              "    <tr>\n",
              "      <th>8566774</th>\n",
              "      <td>http://web.eecs.umich.edu/</td>\n",
              "      <td>None</td>\n",
              "    </tr>\n",
              "    <tr>\n",
              "      <th>8709133</th>\n",
              "      <td>http://lisa.cs.duke.edu/</td>\n",
              "      <td>None</td>\n",
              "    </tr>\n",
              "    <tr>\n",
              "      <th>8753008</th>\n",
              "      <td>http://freepages.genealogy.rootsweb.ancestry.com/</td>\n",
              "      <td>None</td>\n",
              "    </tr>\n",
              "    <tr>\n",
              "      <th>8968246</th>\n",
              "      <td>http://www.mckusick.com/</td>\n",
              "      <td>None</td>\n",
              "    </tr>\n",
              "    <tr>\n",
              "      <th>10258056</th>\n",
              "      <td>www.cs.uvm.edu/</td>\n",
              "      <td>None</td>\n",
              "    </tr>\n",
              "  </tbody>\n",
              "</table>\n",
              "</div>\n",
              "      <button class=\"colab-df-convert\" onclick=\"convertToInteractive('df-06594bb7-d357-4380-99c9-2d341c438b23')\"\n",
              "              title=\"Convert this dataframe to an interactive table.\"\n",
              "              style=\"display:none;\">\n",
              "        \n",
              "  <svg xmlns=\"http://www.w3.org/2000/svg\" height=\"24px\"viewBox=\"0 0 24 24\"\n",
              "       width=\"24px\">\n",
              "    <path d=\"M0 0h24v24H0V0z\" fill=\"none\"/>\n",
              "    <path d=\"M18.56 5.44l.94 2.06.94-2.06 2.06-.94-2.06-.94-.94-2.06-.94 2.06-2.06.94zm-11 1L8.5 8.5l.94-2.06 2.06-.94-2.06-.94L8.5 2.5l-.94 2.06-2.06.94zm10 10l.94 2.06.94-2.06 2.06-.94-2.06-.94-.94-2.06-.94 2.06-2.06.94z\"/><path d=\"M17.41 7.96l-1.37-1.37c-.4-.4-.92-.59-1.43-.59-.52 0-1.04.2-1.43.59L10.3 9.45l-7.72 7.72c-.78.78-.78 2.05 0 2.83L4 21.41c.39.39.9.59 1.41.59.51 0 1.02-.2 1.41-.59l7.78-7.78 2.81-2.81c.8-.78.8-2.07 0-2.86zM5.41 20L4 18.59l7.72-7.72 1.47 1.35L5.41 20z\"/>\n",
              "  </svg>\n",
              "      </button>\n",
              "      \n",
              "  <style>\n",
              "    .colab-df-container {\n",
              "      display:flex;\n",
              "      flex-wrap:wrap;\n",
              "      gap: 12px;\n",
              "    }\n",
              "\n",
              "    .colab-df-convert {\n",
              "      background-color: #E8F0FE;\n",
              "      border: none;\n",
              "      border-radius: 50%;\n",
              "      cursor: pointer;\n",
              "      display: none;\n",
              "      fill: #1967D2;\n",
              "      height: 32px;\n",
              "      padding: 0 0 0 0;\n",
              "      width: 32px;\n",
              "    }\n",
              "\n",
              "    .colab-df-convert:hover {\n",
              "      background-color: #E2EBFA;\n",
              "      box-shadow: 0px 1px 2px rgba(60, 64, 67, 0.3), 0px 1px 3px 1px rgba(60, 64, 67, 0.15);\n",
              "      fill: #174EA6;\n",
              "    }\n",
              "\n",
              "    [theme=dark] .colab-df-convert {\n",
              "      background-color: #3B4455;\n",
              "      fill: #D2E3FC;\n",
              "    }\n",
              "\n",
              "    [theme=dark] .colab-df-convert:hover {\n",
              "      background-color: #434B5C;\n",
              "      box-shadow: 0px 1px 3px 1px rgba(0, 0, 0, 0.15);\n",
              "      filter: drop-shadow(0px 1px 2px rgba(0, 0, 0, 0.3));\n",
              "      fill: #FFFFFF;\n",
              "    }\n",
              "  </style>\n",
              "\n",
              "      <script>\n",
              "        const buttonEl =\n",
              "          document.querySelector('#df-06594bb7-d357-4380-99c9-2d341c438b23 button.colab-df-convert');\n",
              "        buttonEl.style.display =\n",
              "          google.colab.kernel.accessAllowed ? 'block' : 'none';\n",
              "\n",
              "        async function convertToInteractive(key) {\n",
              "          const element = document.querySelector('#df-06594bb7-d357-4380-99c9-2d341c438b23');\n",
              "          const dataTable =\n",
              "            await google.colab.kernel.invokeFunction('convertToInteractive',\n",
              "                                                     [key], {});\n",
              "          if (!dataTable) return;\n",
              "\n",
              "          const docLinkHtml = 'Like what you see? Visit the ' +\n",
              "            '<a target=\"_blank\" href=https://colab.research.google.com/notebooks/data_table.ipynb>data table notebook</a>'\n",
              "            + ' to learn more about interactive tables.';\n",
              "          element.innerHTML = '';\n",
              "          dataTable['output_type'] = 'display_data';\n",
              "          await google.colab.output.renderOutput(dataTable, element);\n",
              "          const docLink = document.createElement('div');\n",
              "          docLink.innerHTML = docLinkHtml;\n",
              "          element.appendChild(docLink);\n",
              "        }\n",
              "      </script>\n",
              "    </div>\n",
              "  </div>\n",
              "  "
            ]
          },
          "metadata": {},
          "execution_count": 10
        }
      ],
      "source": [
        "dataWord.iloc[nanIndices]"
      ]
    },
    {
      "cell_type": "code",
      "execution_count": 11,
      "metadata": {
        "id": "ij8IMAqJRpw5"
      },
      "outputs": [],
      "source": [
        "dataWord = dataWord.dropna()\n",
        "dataWord = dataWord.reset_index(drop = True)"
      ]
    },
    {
      "cell_type": "code",
      "execution_count": 12,
      "metadata": {
        "id": "n5_rbAozRp11"
      },
      "outputs": [],
      "source": [
        "def makeSentences(dotIndices, data):\n",
        "  columns = ['Text', 'Label']\n",
        "  df= []\n",
        "  begin = 0\n",
        "  for i in range(len(dotIndices)):\n",
        "    tmp = data.iloc[begin:dotIndices[i]]\n",
        "    begin = dotIndices[i] + 1\n",
        "    _list=[]\n",
        "    _list.append(' '.join(list(tmp['Token'])))\n",
        "    _list.append(' '.join(list(tmp['NameEntity'])))\n",
        "    df.append(_list)\n",
        "  df= pd.DataFrame(df,columns=list(columns))\n",
        "  return df"
      ]
    },
    {
      "cell_type": "code",
      "source": [
        "def bad_token_indices(tokens): #inja / ro ham gozashti khaaaaak \n",
        "  bads = []\n",
        "  badChars = ['(', ')', ' ', '[', ']', '{', '}', ';', ':', '،', '-', '>', '<', '?', '!', '=', '\\'', '\\\"', '@', '#']\n",
        "  for i in range(len(tokens)):\n",
        "    for badChar in badChars:\n",
        "      if(badChar in tokens.iloc[i]):\n",
        "        bads.append(i)\n",
        "        break\n",
        "  return bads"
      ],
      "metadata": {
        "id": "Dqp8lI2O9Ube"
      },
      "execution_count": 15,
      "outputs": []
    },
    {
      "cell_type": "code",
      "source": [
        "badTokenIndices = bad_token_indices(dataWord['Token'])"
      ],
      "metadata": {
        "id": "ECos-29gFPG9"
      },
      "execution_count": null,
      "outputs": []
    },
    {
      "cell_type": "code",
      "source": [
        "dataWord.drop(labels = badTokenIndices, axis = 0, inplace=True)"
      ],
      "metadata": {
        "id": "lIb04cTwGXB_"
      },
      "execution_count": null,
      "outputs": []
    },
    {
      "cell_type": "code",
      "source": [
        "dataWord = dataWord.reset_index(drop = True)"
      ],
      "metadata": {
        "id": "CmPa2MzbK6JR"
      },
      "execution_count": null,
      "outputs": []
    },
    {
      "cell_type": "code",
      "execution_count": null,
      "metadata": {
        "id": "inmlLxCoLQNV"
      },
      "outputs": [],
      "source": [
        "def label_to_one_hot(value):\n",
        "  list_classes = ['O', 'B-DAT', 'I-DAT', 'B-LOC', 'I-LOC', 'B-PER', 'I-PER', 'B-ORG', 'I-ORG', 'B-EVE', 'I-EVE']\n",
        "  if value == list_classes[0]:\n",
        "    return [1, 0, 0, 0, 0, 0, 0, 0, 0, 0, 0]\n",
        "  if value == list_classes[1]:\n",
        "    return [0, 1, 0, 0, 0, 0, 0, 0, 0, 0, 0]\n",
        "  if value == list_classes[2]:\n",
        "    return [0, 0, 1, 0, 0, 0, 0, 0, 0, 0, 0]\n",
        "  if value == list_classes[3]:\n",
        "    return [0, 0, 0, 1, 0, 0, 0, 0, 0, 0, 0]\n",
        "  if value == list_classes[4]:\n",
        "    return [0, 0, 0, 0, 1, 0, 0, 0, 0, 0, 0]\n",
        "  if value == list_classes[5]:\n",
        "    return [0, 0, 0, 0, 0, 1, 0, 0, 0, 0, 0]\n",
        "  if value == list_classes[6]:\n",
        "    return [0, 0, 0, 0, 0, 0, 1, 0, 0, 0, 0]\n",
        "  if value == list_classes[7]:\n",
        "    return [0, 0, 0, 0, 0, 0, 0, 1, 0, 0, 0]\n",
        "  if value == list_classes[8]:\n",
        "    return [0, 0, 0, 0, 0, 0, 0, 0, 1, 0, 0]\n",
        "  if value == list_classes[9]:\n",
        "    return [0, 0, 0, 0, 0, 0, 0, 0, 0, 1, 0]\n",
        "  if value == list_classes[10]:\n",
        "    return [0, 0, 0, 0, 0, 0, 0, 0, 0, 0, 1]"
      ]
    },
    {
      "cell_type": "code",
      "source": [
        "def removeBadSentences(X, Y):\n",
        "  newX = []\n",
        "  newY = []\n",
        "  indices = []\n",
        "  ind = -1\n",
        "\n",
        "  for x, y in zip(X, Y):\n",
        "    ind += 1\n",
        "    if len(x) == len(y):\n",
        "      indices.append(ind)\n",
        "      newX.append(x)\n",
        "      newY.append(y)\n",
        "\n",
        "  return newX, newY, indices"
      ],
      "metadata": {
        "id": "PGN-LgfM-gFk"
      },
      "execution_count": null,
      "outputs": []
    },
    {
      "cell_type": "code",
      "source": [
        "def badPercentage(x, y):\n",
        "  ind = -1\n",
        "  notEquallen = 0\n",
        "\n",
        "  for a,b in zip(x, y):\n",
        "    ind += 1\n",
        "    if len(a) != len(b):\n",
        "      notEquallen += 1\n",
        "\n",
        "  return notEquallen / len(list_tokenized_train)"
      ],
      "metadata": {
        "id": "l9l40dTCBQbC"
      },
      "execution_count": null,
      "outputs": []
    },
    {
      "cell_type": "code",
      "source": [
        ""
      ],
      "metadata": {
        "id": "KGMKmTbh9J2R"
      },
      "execution_count": null,
      "outputs": []
    },
    {
      "cell_type": "code",
      "execution_count": null,
      "metadata": {
        "id": "bE1WXCPMQv95"
      },
      "outputs": [],
      "source": [
        "dotIndices = list(dataWord['Token'][dataWord['Token'] == '.'].index)\n",
        "dataSentences = makeSentences(dotIndices, dataWord)"
      ]
    },
    {
      "cell_type": "code",
      "source": [
        "dataSentences"
      ],
      "metadata": {
        "colab": {
          "base_uri": "https://localhost:8080/",
          "height": 424
        },
        "id": "uM5QotTpY06r",
        "outputId": "ae6b42af-de53-49bc-d149-0a2a251807d3"
      },
      "execution_count": null,
      "outputs": [
        {
          "output_type": "execute_result",
          "data": {
            "text/plain": [
              "                                                     Text  \\\n",
              "0       ویکی‌پدیای انگلیسی در تاریخ ۱۵ ژانویه ۲۰۰۱ میل...   \n",
              "1               بنیان‌گذاران آن جیمی ولز و لری سنگر هستند   \n",
              "2       هم‌اکنون بنیاد غیرانتفاعی بنیاد ویکی‌مدیا پروژ...   \n",
              "3       کارساز وب اصلی این وبگاه در شهر تامپا ی فلورید...   \n",
              "4       همچنین میزبان‌های اضافی دیگری هم در شهرهای آمس...   \n",
              "...                                                   ...   \n",
              "400326  ۲۰۱۳ درگذشت و آندرتیکر و کین برای او مراسم یاد...   \n",
              "400327  در تاریخ ۲۳ ژوئیه ۲۰۱۲ در‌حین اجرای شوی WWE را...   \n",
              "400328  در سال بعد ۲۰۱۳ کمی قبل از رستلمنیا ۲۹ پول بیر...   \n",
              "400329  در رستلمنیا ۲۹ یک مسابقه بین آندرتیکر و CM پان...   \n",
              "400330  اما پس از مسابقه گروه شیلد آندرتیکر را روی میز...   \n",
              "\n",
              "                                                    Label  \n",
              "0       O O B-DAT I-DAT I-DAT I-DAT I-DAT B-DAT B-DAT ...  \n",
              "1                         O O B-PER I-PER O B-PER I-PER O  \n",
              "2                             O O O B-ORG I-ORG O O O O O  \n",
              "3                           O O O O O O O B-LOC O B-LOC O  \n",
              "4                   O O O O O O O B-LOC O B-LOC O O O O O  \n",
              "...                                                   ...  \n",
              "400326                  O O O B-ORG I-ORG I-ORG O O O O O  \n",
              "400327  B-DAT I-DAT B-DAT I-DAT I-DAT O O O O O O O O ...  \n",
              "400328  B-DAT B-DAT I-DAT O O O O B-EVE I-EVE O O O O ...  \n",
              "400329  O B-EVE I-EVE O O O O O O O O O O O O O O O O ...  \n",
              "400330                    O O O O B-ORG I-ORG O O O O O O  \n",
              "\n",
              "[400331 rows x 2 columns]"
            ],
            "text/html": [
              "\n",
              "  <div id=\"df-b6d48b0b-2b46-4f20-9ddd-d4e57a844c1b\">\n",
              "    <div class=\"colab-df-container\">\n",
              "      <div>\n",
              "<style scoped>\n",
              "    .dataframe tbody tr th:only-of-type {\n",
              "        vertical-align: middle;\n",
              "    }\n",
              "\n",
              "    .dataframe tbody tr th {\n",
              "        vertical-align: top;\n",
              "    }\n",
              "\n",
              "    .dataframe thead th {\n",
              "        text-align: right;\n",
              "    }\n",
              "</style>\n",
              "<table border=\"1\" class=\"dataframe\">\n",
              "  <thead>\n",
              "    <tr style=\"text-align: right;\">\n",
              "      <th></th>\n",
              "      <th>Text</th>\n",
              "      <th>Label</th>\n",
              "    </tr>\n",
              "  </thead>\n",
              "  <tbody>\n",
              "    <tr>\n",
              "      <th>0</th>\n",
              "      <td>ویکی‌پدیای انگلیسی در تاریخ ۱۵ ژانویه ۲۰۰۱ میل...</td>\n",
              "      <td>O O B-DAT I-DAT I-DAT I-DAT I-DAT B-DAT B-DAT ...</td>\n",
              "    </tr>\n",
              "    <tr>\n",
              "      <th>1</th>\n",
              "      <td>بنیان‌گذاران آن جیمی ولز و لری سنگر هستند</td>\n",
              "      <td>O O B-PER I-PER O B-PER I-PER O</td>\n",
              "    </tr>\n",
              "    <tr>\n",
              "      <th>2</th>\n",
              "      <td>هم‌اکنون بنیاد غیرانتفاعی بنیاد ویکی‌مدیا پروژ...</td>\n",
              "      <td>O O O B-ORG I-ORG O O O O O</td>\n",
              "    </tr>\n",
              "    <tr>\n",
              "      <th>3</th>\n",
              "      <td>کارساز وب اصلی این وبگاه در شهر تامپا ی فلورید...</td>\n",
              "      <td>O O O O O O O B-LOC O B-LOC O</td>\n",
              "    </tr>\n",
              "    <tr>\n",
              "      <th>4</th>\n",
              "      <td>همچنین میزبان‌های اضافی دیگری هم در شهرهای آمس...</td>\n",
              "      <td>O O O O O O O B-LOC O B-LOC O O O O O</td>\n",
              "    </tr>\n",
              "    <tr>\n",
              "      <th>...</th>\n",
              "      <td>...</td>\n",
              "      <td>...</td>\n",
              "    </tr>\n",
              "    <tr>\n",
              "      <th>400326</th>\n",
              "      <td>۲۰۱۳ درگذشت و آندرتیکر و کین برای او مراسم یاد...</td>\n",
              "      <td>O O O B-ORG I-ORG I-ORG O O O O O</td>\n",
              "    </tr>\n",
              "    <tr>\n",
              "      <th>400327</th>\n",
              "      <td>در تاریخ ۲۳ ژوئیه ۲۰۱۲ در‌حین اجرای شوی WWE را...</td>\n",
              "      <td>B-DAT I-DAT B-DAT I-DAT I-DAT O O O O O O O O ...</td>\n",
              "    </tr>\n",
              "    <tr>\n",
              "      <th>400328</th>\n",
              "      <td>در سال بعد ۲۰۱۳ کمی قبل از رستلمنیا ۲۹ پول بیر...</td>\n",
              "      <td>B-DAT B-DAT I-DAT O O O O B-EVE I-EVE O O O O ...</td>\n",
              "    </tr>\n",
              "    <tr>\n",
              "      <th>400329</th>\n",
              "      <td>در رستلمنیا ۲۹ یک مسابقه بین آندرتیکر و CM پان...</td>\n",
              "      <td>O B-EVE I-EVE O O O O O O O O O O O O O O O O ...</td>\n",
              "    </tr>\n",
              "    <tr>\n",
              "      <th>400330</th>\n",
              "      <td>اما پس از مسابقه گروه شیلد آندرتیکر را روی میز...</td>\n",
              "      <td>O O O O B-ORG I-ORG O O O O O O</td>\n",
              "    </tr>\n",
              "  </tbody>\n",
              "</table>\n",
              "<p>400331 rows × 2 columns</p>\n",
              "</div>\n",
              "      <button class=\"colab-df-convert\" onclick=\"convertToInteractive('df-b6d48b0b-2b46-4f20-9ddd-d4e57a844c1b')\"\n",
              "              title=\"Convert this dataframe to an interactive table.\"\n",
              "              style=\"display:none;\">\n",
              "        \n",
              "  <svg xmlns=\"http://www.w3.org/2000/svg\" height=\"24px\"viewBox=\"0 0 24 24\"\n",
              "       width=\"24px\">\n",
              "    <path d=\"M0 0h24v24H0V0z\" fill=\"none\"/>\n",
              "    <path d=\"M18.56 5.44l.94 2.06.94-2.06 2.06-.94-2.06-.94-.94-2.06-.94 2.06-2.06.94zm-11 1L8.5 8.5l.94-2.06 2.06-.94-2.06-.94L8.5 2.5l-.94 2.06-2.06.94zm10 10l.94 2.06.94-2.06 2.06-.94-2.06-.94-.94-2.06-.94 2.06-2.06.94z\"/><path d=\"M17.41 7.96l-1.37-1.37c-.4-.4-.92-.59-1.43-.59-.52 0-1.04.2-1.43.59L10.3 9.45l-7.72 7.72c-.78.78-.78 2.05 0 2.83L4 21.41c.39.39.9.59 1.41.59.51 0 1.02-.2 1.41-.59l7.78-7.78 2.81-2.81c.8-.78.8-2.07 0-2.86zM5.41 20L4 18.59l7.72-7.72 1.47 1.35L5.41 20z\"/>\n",
              "  </svg>\n",
              "      </button>\n",
              "      \n",
              "  <style>\n",
              "    .colab-df-container {\n",
              "      display:flex;\n",
              "      flex-wrap:wrap;\n",
              "      gap: 12px;\n",
              "    }\n",
              "\n",
              "    .colab-df-convert {\n",
              "      background-color: #E8F0FE;\n",
              "      border: none;\n",
              "      border-radius: 50%;\n",
              "      cursor: pointer;\n",
              "      display: none;\n",
              "      fill: #1967D2;\n",
              "      height: 32px;\n",
              "      padding: 0 0 0 0;\n",
              "      width: 32px;\n",
              "    }\n",
              "\n",
              "    .colab-df-convert:hover {\n",
              "      background-color: #E2EBFA;\n",
              "      box-shadow: 0px 1px 2px rgba(60, 64, 67, 0.3), 0px 1px 3px 1px rgba(60, 64, 67, 0.15);\n",
              "      fill: #174EA6;\n",
              "    }\n",
              "\n",
              "    [theme=dark] .colab-df-convert {\n",
              "      background-color: #3B4455;\n",
              "      fill: #D2E3FC;\n",
              "    }\n",
              "\n",
              "    [theme=dark] .colab-df-convert:hover {\n",
              "      background-color: #434B5C;\n",
              "      box-shadow: 0px 1px 3px 1px rgba(0, 0, 0, 0.15);\n",
              "      filter: drop-shadow(0px 1px 2px rgba(0, 0, 0, 0.3));\n",
              "      fill: #FFFFFF;\n",
              "    }\n",
              "  </style>\n",
              "\n",
              "      <script>\n",
              "        const buttonEl =\n",
              "          document.querySelector('#df-b6d48b0b-2b46-4f20-9ddd-d4e57a844c1b button.colab-df-convert');\n",
              "        buttonEl.style.display =\n",
              "          google.colab.kernel.accessAllowed ? 'block' : 'none';\n",
              "\n",
              "        async function convertToInteractive(key) {\n",
              "          const element = document.querySelector('#df-b6d48b0b-2b46-4f20-9ddd-d4e57a844c1b');\n",
              "          const dataTable =\n",
              "            await google.colab.kernel.invokeFunction('convertToInteractive',\n",
              "                                                     [key], {});\n",
              "          if (!dataTable) return;\n",
              "\n",
              "          const docLinkHtml = 'Like what you see? Visit the ' +\n",
              "            '<a target=\"_blank\" href=https://colab.research.google.com/notebooks/data_table.ipynb>data table notebook</a>'\n",
              "            + ' to learn more about interactive tables.';\n",
              "          element.innerHTML = '';\n",
              "          dataTable['output_type'] = 'display_data';\n",
              "          await google.colab.output.renderOutput(dataTable, element);\n",
              "          const docLink = document.createElement('div');\n",
              "          docLink.innerHTML = docLinkHtml;\n",
              "          element.appendChild(docLink);\n",
              "        }\n",
              "      </script>\n",
              "    </div>\n",
              "  </div>\n",
              "  "
            ]
          },
          "metadata": {},
          "execution_count": 67
        }
      ]
    },
    {
      "cell_type": "markdown",
      "metadata": {
        "id": "0cAxAw4VNbFd"
      },
      "source": [
        "## Split data into X and y"
      ]
    },
    {
      "cell_type": "code",
      "execution_count": null,
      "metadata": {
        "id": "8RM1P3zURp8_"
      },
      "outputs": [],
      "source": [
        "yLabel = dataSentences['Label']\n",
        "sentences = dataSentences['Text']"
      ]
    },
    {
      "cell_type": "markdown",
      "source": [
        "## Tokenization"
      ],
      "metadata": {
        "id": "awfBkucY-LGR"
      }
    },
    {
      "cell_type": "code",
      "execution_count": null,
      "metadata": {
        "id": "HJq4GGarPCGH"
      },
      "outputs": [],
      "source": [
        "max_features = 250015   # changeable\n",
        "tokenizer = Tokenizer(num_words=max_features)\n",
        "tokenizer.fit_on_texts(list(sentences))\n",
        "list_tokenized_train = tokenizer.texts_to_sequences(sentences)\n",
        "\n",
        "y = [[label_to_one_hot(c) for c in ey.split(' ')] for ey in yLabel]"
      ]
    },
    {
      "cell_type": "code",
      "execution_count": null,
      "metadata": {
        "id": "aR6_vH_kM6hs",
        "colab": {
          "base_uri": "https://localhost:8080/",
          "height": 265
        },
        "outputId": "2c856054-b944-421e-fd02-eb019483cdf8"
      },
      "outputs": [
        {
          "output_type": "display_data",
          "data": {
            "text/plain": [
              "<Figure size 432x288 with 1 Axes>"
            ],
            "image/png": "[encoded data removed]"
          },
          "metadata": {
            "needs_background": "light"
          }
        }
      ],
      "source": [
        "senLens = [len(sen) for sen in list_tokenized_train]\n",
        "plt.hist(senLens, bins = np.arange(0,120,5))\n",
        "plt.show()"
      ]
    },
    {
      "cell_type": "markdown",
      "source": [
        "## Find bad Sentences and remove them "
      ],
      "metadata": {
        "id": "r7Eg-wJBAxsP"
      }
    },
    {
      "cell_type": "code",
      "execution_count": null,
      "metadata": {
        "id": "1AQDdf4-NcMi",
        "colab": {
          "base_uri": "https://localhost:8080/"
        },
        "outputId": "d66696e2-eb65-45b6-dd37-b7aee6e3333b"
      },
      "outputs": [
        {
          "output_type": "execute_result",
          "data": {
            "text/plain": [
              "0.011810227037126777"
            ]
          },
          "metadata": {},
          "execution_count": 71
        }
      ],
      "source": [
        "badPercentage(list_tokenized_train, y)"
      ]
    },
    {
      "cell_type": "code",
      "execution_count": null,
      "metadata": {
        "id": "tL22lWe4NcO8"
      },
      "outputs": [],
      "source": [
        "list_tokenized_train, y, goodIndices = removeBadSentences(list_tokenized_train, y)"
      ]
    },
    {
      "cell_type": "code",
      "execution_count": null,
      "metadata": {
        "id": "4jDzC7oqNcRd"
      },
      "outputs": [],
      "source": [
        "badPercentage(list_tokenized_train, y)"
      ]
    },
    {
      "cell_type": "code",
      "execution_count": null,
      "metadata": {
        "id": "foBnkHfSNcWN"
      },
      "outputs": [],
      "source": [
        "dataWord = dataWord.iloc[goodIndices]              #play once...\n",
        "dataSentenses = dataSentences.iloc[goodIndices]"
      ]
    },
    {
      "cell_type": "code",
      "source": [
        "dataWord.reset_index(drop = True)\n",
        "dataSentenses.reset_index(drop = True)"
      ],
      "metadata": {
        "id": "-tnInV66k1Il"
      },
      "execution_count": null,
      "outputs": []
    },
    {
      "cell_type": "markdown",
      "source": [
        "## Padding"
      ],
      "metadata": {
        "id": "-DTDY6H1mTnn"
      }
    },
    {
      "cell_type": "code",
      "source": [
        "maxlen = 60\n",
        "X_t = pad_sequences(list_tokenized_train, maxlen=maxlen)\n",
        "y_t = pad_sequences(y, maxlen=maxlen)\n",
        "print(len(X_t[0]))\n",
        "print(len(y_t[0]))"
      ],
      "metadata": {
        "id": "IUHr_QF1mSsU"
      },
      "execution_count": null,
      "outputs": []
    },
    {
      "cell_type": "markdown",
      "source": [
        "## Embedding"
      ],
      "metadata": {
        "id": "lc8mcXlBDklT"
      }
    },
    {
      "cell_type": "code",
      "source": [
        "def loadEmbeddingMatrix(typeToLoad):\n",
        "    if(typeToLoad==\"fasttext\"):\n",
        "        EMBEDDING_FILE='/content/drive/MyDrive/NerDatas/cc.fa.300.vec'\n",
        "        embed_size = 300\n",
        "\n",
        "    if(typeToLoad==\"glove\" or typeToLoad==\"fasttext\" ):\n",
        "        embeddings_index = dict()\n",
        "            #Transfer the embedding weights into a dictionary by iterating through every line of the file.\n",
        "        with open(EMBEDDING_FILE,'r', encoding='utf8')as f:\n",
        "            for line in f:\n",
        "                try:\n",
        "                    values = line.split()\n",
        "\n",
        "                    if len(values)==301:\n",
        "                        word = values[0]    \n",
        "                        coefs = np.asarray(values[1:], dtype='float32')\n",
        "                        embeddings_index[word] = coefs\n",
        "                    elif len(values)==302:\n",
        "          #print(len(value))\n",
        "                        word = values[0]+'\\u200c'+values[1]   \n",
        "                        coefs = np.asarray(values[2:], dtype='float32')\n",
        "                        embeddings_index[word] = coefs\n",
        "                    elif len(values)==303:\n",
        "                        word = values[0]+'\\u200c'+values[1]+'\\u200c'+values[2]  \n",
        "                        coefs = np.asarray(values[3:], dtype='float32')\n",
        "                        embeddings_index[word] = coefs\n",
        "                except Exception as inst:\n",
        "                        print(inst)\n",
        "    else:\n",
        "            embeddings_index = dict()\n",
        "            for word in word2vecDict.wv.vocab:\n",
        "                embeddings_index[word] = word2vecDict.word_vec(word)\n",
        "            #print('Loaded %s word vectors.' % len(embeddings_index))\n",
        "                        \n",
        "    gc.collect()\n",
        "        #We get the mean and standard deviation of the embedding weights so that we could maintain the \n",
        "        #same statistics for the rest of our own random generated weights. \n",
        "    all_embs = np.stack(list(embeddings_index.values()))\n",
        "    emb_mean,emb_std = all_embs.mean(), all_embs.std()\n",
        "        \n",
        "    nb_words = len(tokenizer.word_index)\n",
        "        #We are going to set the embedding size to the pretrained dimension as we are replicating it.\n",
        "        #the size will be Number of Words in Vocab X Embedding Size\n",
        "    embedding_matrix = np.random.normal(emb_mean, emb_std, (nb_words, embed_size))\n",
        "    gc.collect()\n",
        "\n",
        "        #With the newly created embedding matrix, we'll fill it up with the words that we have in both \n",
        "        #our own dictionary and loaded pretrained embedding. \n",
        "    embeddedCount = 0\n",
        "    for word, i in tokenizer.word_index.items():\n",
        "            i-=1\n",
        "            #then we see if this word is in glove's dictionary, if yes, get the corresponding weights\n",
        "            embedding_vector = embeddings_index.get(word)\n",
        "            #and store inside the embedding matrix that we will train later on.\n",
        "            if embedding_vector is not None: \n",
        "                embedding_matrix[i] = embedding_vector\n",
        "                embeddedCount+=1\n",
        "    print('total embedded:',embeddedCount,'common words')\n",
        "        \n",
        "    del(embeddings_index)\n",
        "    gc.collect()\n",
        "        \n",
        "        #finally, return the embedding matrix\n",
        "    return embedding_matrix"
      ],
      "metadata": {
        "id": "Xv8GF_-fDArA"
      },
      "execution_count": null,
      "outputs": []
    },
    {
      "cell_type": "code",
      "source": [
        "# embedding_matrix = loadEmbeddingMatrix('fasttext') #we use the lower line instead of runing several times "
      ],
      "metadata": {
        "colab": {
          "base_uri": "https://localhost:8080/",
          "height": 287
        },
        "id": "uvoV9xB8DAtt",
        "outputId": "a3d0c489-661f-4a15-bb1e-58cb90bde994"
      },
      "execution_count": null,
      "outputs": [
        {
          "output_type": "error",
          "ename": "KeyboardInterrupt",
          "evalue": "ignored",
          "traceback": [
            "\u001b[0;31m---------------------------------------------------------------------------\u001b[0m",
            "\u001b[0;31mKeyboardInterrupt\u001b[0m                         Traceback (most recent call last)",
            "\u001b[0;32m<ipython-input-31-bc11afaf0a01>\u001b[0m in \u001b[0;36m<module>\u001b[0;34m()\u001b[0m\n\u001b[0;32m----> 1\u001b[0;31m \u001b[0membedding_matrix\u001b[0m \u001b[0;34m=\u001b[0m \u001b[0mloadEmbeddingMatrix\u001b[0m\u001b[0;34m(\u001b[0m\u001b[0;34m'fasttext'\u001b[0m\u001b[0;34m)\u001b[0m \u001b[0;31m#we use the lower line instead of runing several times\u001b[0m\u001b[0;34m\u001b[0m\u001b[0;34m\u001b[0m\u001b[0m\n\u001b[0m",
            "\u001b[0;32m<ipython-input-29-7b00db194601>\u001b[0m in \u001b[0;36mloadEmbeddingMatrix\u001b[0;34m(typeToLoad)\u001b[0m\n\u001b[1;32m     14\u001b[0m                     \u001b[0;32mif\u001b[0m \u001b[0mlen\u001b[0m\u001b[0;34m(\u001b[0m\u001b[0mvalues\u001b[0m\u001b[0;34m)\u001b[0m\u001b[0;34m==\u001b[0m\u001b[0;36m301\u001b[0m\u001b[0;34m:\u001b[0m\u001b[0;34m\u001b[0m\u001b[0;34m\u001b[0m\u001b[0m\n\u001b[1;32m     15\u001b[0m                         \u001b[0mword\u001b[0m \u001b[0;34m=\u001b[0m \u001b[0mvalues\u001b[0m\u001b[0;34m[\u001b[0m\u001b[0;36m0\u001b[0m\u001b[0;34m]\u001b[0m\u001b[0;34m\u001b[0m\u001b[0;34m\u001b[0m\u001b[0m\n\u001b[0;32m---> 16\u001b[0;31m                         \u001b[0mcoefs\u001b[0m \u001b[0;34m=\u001b[0m \u001b[0mnp\u001b[0m\u001b[0;34m.\u001b[0m\u001b[0masarray\u001b[0m\u001b[0;34m(\u001b[0m\u001b[0mvalues\u001b[0m\u001b[0;34m[\u001b[0m\u001b[0;36m1\u001b[0m\u001b[0;34m:\u001b[0m\u001b[0;34m]\u001b[0m\u001b[0;34m,\u001b[0m \u001b[0mdtype\u001b[0m\u001b[0;34m=\u001b[0m\u001b[0;34m'float32'\u001b[0m\u001b[0;34m)\u001b[0m\u001b[0;34m\u001b[0m\u001b[0;34m\u001b[0m\u001b[0m\n\u001b[0m\u001b[1;32m     17\u001b[0m                         \u001b[0membeddings_index\u001b[0m\u001b[0;34m[\u001b[0m\u001b[0mword\u001b[0m\u001b[0;34m]\u001b[0m \u001b[0;34m=\u001b[0m \u001b[0mcoefs\u001b[0m\u001b[0;34m\u001b[0m\u001b[0;34m\u001b[0m\u001b[0m\n\u001b[1;32m     18\u001b[0m                     \u001b[0;32melif\u001b[0m \u001b[0mlen\u001b[0m\u001b[0;34m(\u001b[0m\u001b[0mvalues\u001b[0m\u001b[0;34m)\u001b[0m\u001b[0;34m==\u001b[0m\u001b[0;36m302\u001b[0m\u001b[0;34m:\u001b[0m\u001b[0;34m\u001b[0m\u001b[0;34m\u001b[0m\u001b[0m\n",
            "\u001b[0;31mKeyboardInterrupt\u001b[0m: "
          ]
        }
      ]
    },
    {
      "cell_type": "code",
      "execution_count": null,
      "metadata": {
        "id": "idKiYbnLRqLv"
      },
      "outputs": [],
      "source": [
        "embedding_matrix = np.load('/content/drive/MyDrive/NerDatas/Embedding/embedding_matrix.csv.npy')"
      ]
    },
    {
      "cell_type": "markdown",
      "source": [
        "## "
      ],
      "metadata": {
        "id": "-bqDzrMCmts8"
      }
    },
    {
      "cell_type": "code",
      "source": [
        "! pip install git+https://www.github.com/keras-team/keras-contrib.git"
      ],
      "metadata": {
        "id": "jaSEcrAPbJf1"
      },
      "execution_count": null,
      "outputs": []
    },
    {
      "cell_type": "code",
      "source": [
        "from keras.layers import  TimeDistributed, Masking, Conv1D, MaxPooling1D, Flatten\n",
        "from keras_contrib.layers import CRF\n",
        "from keras_contrib.losses import crf_loss\n",
        "from keras_contrib.metrics import crf_viterbi_accuracy, crf_accuracy\n",
        "from keras.models import Sequential\n",
        "from keras.callbacks import ModelCheckpoint\n",
        "\n",
        "model = Sequential()\n",
        "# model.add(Dense(shape=(maxlen,)))\n",
        "model.add(Embedding(len(tokenizer.word_index), embedding_matrix.shape[1],\n",
        "                    weights=[embedding_matrix],trainable=False ))\n",
        "model.add(Bidirectional(LSTM(150, return_sequences=True,\n",
        "                             name='lstm_layer1', dropout=0.1, recurrent_dropout=0.1)))\n",
        "model.add(Bidirectional(LSTM(350, return_sequences=True,\n",
        "                             name='lstm_layer2', dropout=0.1, recurrent_dropout=0.1)))\n",
        "model.add(Dense(11, activation='softmax'))\n",
        "\n",
        "model.compile(loss='categorical_crossentropy',\n",
        "                  optimizer='adam',\n",
        "                  metrics=['accuracy'])\n",
        "model.summary()"
      ],
      "metadata": {
        "id": "1fKjcIPJbJiN"
      },
      "execution_count": null,
      "outputs": []
    },
    {
      "cell_type": "code",
      "source": [
        "batch_size = 256\n",
        "epochs = 3\n",
        "filepath=\"/content/drive/MyDrive/NerDatas/check_point/check_point1.model\"\n",
        "checkpoint = ModelCheckpoint(filepath, monitor='val_accuracy', verbose=1, save_best_only=True, mode='max')\n",
        "callbacks_list = [checkpoint]\n",
        "hist = model.fit(X_t, y_t, batch_size=batch_size, epochs=epochs,callbacks=callbacks_list, validation_split=0.15) #class_weight={'O':0.04, 'B-pers':0.20})"
      ],
      "metadata": {
        "id": "InWxtQqVbJks",
        "colab": {
          "base_uri": "https://localhost:8080/"
        },
        "outputId": "deb76ad0-b6de-496d-8643-dc99223b9b76"
      },
      "execution_count": null,
      "outputs": [
        {
          "output_type": "stream",
          "name": "stdout",
          "text": [
            "Epoch 1/8\n",
            "998/998 [==============================] - 1072s 1s/step - loss: 0.2825 - accuracy: 0.9161 - val_loss: 0.2839 - val_accuracy: 0.9082\n",
            "Epoch 2/8\n",
            "998/998 [==============================] - 1023s 1s/step - loss: 0.2171 - accuracy: 0.9276 - val_loss: 0.2430 - val_accuracy: 0.9131\n",
            "Epoch 3/8\n",
            "998/998 [==============================] - 1004s 1s/step - loss: 0.1905 - accuracy: 0.9317 - val_loss: 0.1935 - val_accuracy: 0.9249\n",
            "Epoch 4/8\n",
            "998/998 [==============================] - 985s 987ms/step - loss: 0.1642 - accuracy: 0.9368 - val_loss: 0.1804 - val_accuracy: 0.9277\n",
            "Epoch 5/8\n",
            "998/998 [==============================] - 991s 993ms/step - loss: 0.1499 - accuracy: 0.9402 - val_loss: 0.1592 - val_accuracy: 0.9329\n",
            "Epoch 6/8\n",
            "998/998 [==============================] - 999s 1s/step - loss: 0.1365 - accuracy: 0.9431 - val_loss: 0.1407 - val_accuracy: 0.9387\n",
            "Epoch 7/8\n",
            "998/998 [==============================] - 988s 990ms/step - loss: 0.1266 - accuracy: 0.9453 - val_loss: 0.1386 - val_accuracy: 0.9386\n",
            "Epoch 8/8\n",
            "998/998 [==============================] - 985s 987ms/step - loss: 0.1197 - accuracy: 0.9469 - val_loss: 0.1263 - val_accuracy: 0.9419\n"
          ]
        }
      ]
    },
    {
      "cell_type": "code",
      "source": [
        "# Visualize the Model\n",
        "plt.style.use(\"ggplot\")\n",
        "import matplotlib.pyplot as plt\n",
        "# Plot training & validation accuracy values\n",
        "plt.plot(hist.history['accuracy'])\n",
        "plt.plot(hist.history['val_accuracy'])\n",
        "plt.title('Model accuracy')\n",
        "plt.ylabel('Accuracy')\n",
        "plt.xlabel('Epoch')\n",
        "plt.legend(['Train', 'Test'], loc='upper left')\n",
        "plt.show()\n",
        "\n",
        "# Plot training & validation loss values\n",
        "plt.plot(hist.history['loss'])\n",
        "plt.plot(hist.history['val_loss'])\n",
        "plt.title('Model loss')\n",
        "plt.ylabel('Loss')\n",
        "plt.xlabel('Epoch')\n",
        "plt.legend(['Train', 'Test'], loc='upper left')\n",
        "plt.show()"
      ],
      "metadata": {
        "colab": {
          "base_uri": "https://localhost:8080/",
          "height": 581
        },
        "id": "2XQ_2rYFmOhX",
        "outputId": "4e88e364-96b0-4776-c0a9-8aa55038d67e"
      },
      "execution_count": null,
      "outputs": [
        {
          "output_type": "display_data",
          "data": {
            "text/plain": [
              "<Figure size 432x288 with 1 Axes>"
            ],
            "image/png": "[encoded data removed]"
          },
          "metadata": {}
        },
        {
          "output_type": "display_data",
          "data": {
            "text/plain": [
              "<Figure size 432x288 with 1 Axes>"
            ],
            "image/png": "[encoded data removed]"
          },
          "metadata": {}
        }
      ]
    },
    {
      "cell_type": "code",
      "source": [
        "hist.history['accuracy']"
      ],
      "metadata": {
        "colab": {
          "base_uri": "https://localhost:8080/",
          "height": 165
        },
        "id": "g8M7-T4nmOj-",
        "outputId": "9a84657b-d9e6-4b50-8270-cc8ad2eaa2ea"
      },
      "execution_count": null,
      "outputs": [
        {
          "output_type": "error",
          "ename": "NameError",
          "evalue": "ignored",
          "traceback": [
            "\u001b[0;31m---------------------------------------------------------------------------\u001b[0m",
            "\u001b[0;31mNameError\u001b[0m                                 Traceback (most recent call last)",
            "\u001b[0;32m<ipython-input-1-d12d6694bd4e>\u001b[0m in \u001b[0;36m<module>\u001b[0;34m()\u001b[0m\n\u001b[0;32m----> 1\u001b[0;31m \u001b[0mhist\u001b[0m\u001b[0;34m.\u001b[0m\u001b[0mhistory\u001b[0m\u001b[0;34m[\u001b[0m\u001b[0;34m'accuracy'\u001b[0m\u001b[0;34m]\u001b[0m\u001b[0;34m\u001b[0m\u001b[0;34m\u001b[0m\u001b[0m\n\u001b[0m",
            "\u001b[0;31mNameError\u001b[0m: name 'hist' is not defined"
          ]
        }
      ]
    },
    {
      "cell_type": "code",
      "source": [
        ""
      ],
      "metadata": {
        "id": "h_c1KHLCmOmh"
      },
      "execution_count": null,
      "outputs": []
    },
    {
      "cell_type": "code",
      "source": [
        ""
      ],
      "metadata": {
        "id": "fXelddXcmOo2"
      },
      "execution_count": null,
      "outputs": []
    },
    {
      "cell_type": "code",
      "source": [
        ""
      ],
      "metadata": {
        "id": "Vm-NcY4BmOrM"
      },
      "execution_count": null,
      "outputs": []
    },
    {
      "cell_type": "code",
      "source": [
        ""
      ],
      "metadata": {
        "id": "v-mwa1QGmOte"
      },
      "execution_count": null,
      "outputs": []
    },
    {
      "cell_type": "code",
      "source": [
        ""
      ],
      "metadata": {
        "id": "6UFIbuRymOvr"
      },
      "execution_count": null,
      "outputs": []
    },
    {
      "cell_type": "code",
      "source": [
        ""
      ],
      "metadata": {
        "id": "bqFX-rXUmOyH"
      },
      "execution_count": null,
      "outputs": []
    },
    {
      "cell_type": "code",
      "source": [
        ""
      ],
      "metadata": {
        "id": "jmKNq_lLmO0Q"
      },
      "execution_count": null,
      "outputs": []
    },
    {
      "cell_type": "code",
      "source": [
        ""
      ],
      "metadata": {
        "id": "d5CjvLQIbJm0"
      },
      "execution_count": null,
      "outputs": []
    },
    {
      "cell_type": "code",
      "source": [
        ""
      ],
      "metadata": {
        "id": "V6gw_283bJpm"
      },
      "execution_count": null,
      "outputs": []
    },
    {
      "cell_type": "code",
      "source": [
        ""
      ],
      "metadata": {
        "id": "sh8Y0Pj3bJru"
      },
      "execution_count": null,
      "outputs": []
    },
    {
      "cell_type": "code",
      "source": [
        ""
      ],
      "metadata": {
        "id": "rBzFto31bJxt"
      },
      "execution_count": null,
      "outputs": []
    },
    {
      "cell_type": "code",
      "source": [
        ""
      ],
      "metadata": {
        "id": "w0ptczYybJz0"
      },
      "execution_count": null,
      "outputs": []
    },
    {
      "cell_type": "code",
      "source": [
        ""
      ],
      "metadata": {
        "id": "qWjWkLJ5bJ2Q"
      },
      "execution_count": null,
      "outputs": []
    },
    {
      "cell_type": "code",
      "execution_count": null,
      "metadata": {
        "id": "C84I3zfXw5BO"
      },
      "outputs": [],
      "source": [
        "dotIndices = list(data1['Token'][data1['Token'] == '.'].index)"
      ]
    },
    {
      "cell_type": "code",
      "execution_count": null,
      "metadata": {
        "colab": {
          "base_uri": "https://localhost:8080/"
        },
        "id": "OXvZpRq6RyaW",
        "outputId": "c51f3634-0716-4488-8a9e-1240b2c349b3"
      },
      "outputs": [
        {
          "data": {
            "text/plain": [
              "list"
            ]
          },
          "execution_count": 28,
          "metadata": {},
          "output_type": "execute_result"
        }
      ],
      "source": [
        "type(dotIndices)"
      ]
    },
    {
      "cell_type": "code",
      "execution_count": null,
      "metadata": {
        "id": "aeOH6kV2TI3w"
      },
      "outputs": [],
      "source": [
        "def makeSentences(dotIndices, data):\n",
        "  columns = ['Text', 'Label']\n",
        "  df= []\n",
        "  begin = 0\n",
        "  for i in range(len(dotIndices)-100):\n",
        "    tmp = data.iloc[begin:dotIndices[i]]\n",
        "    begin = dotIndices[i] + 1\n",
        "    _list=[]\n",
        "    _list.append(' '.join(list(tmp['Token'])))\n",
        "    _list.append(' '.join(list(tmp['NameEntity'])))\n",
        "    df.append(_list)\n",
        "  df= pd.DataFrame(df,columns=list(columns))\n",
        "  return df"
      ]
    },
    {
      "cell_type": "code",
      "execution_count": null,
      "metadata": {
        "colab": {
          "base_uri": "https://localhost:8080/",
          "height": 424
        },
        "id": "N1vALYJgcpRo",
        "outputId": "6752a46e-262a-479a-c3ca-9e29de103710"
      },
      "outputs": [
        {
          "data": {
            "text/html": [
              "\n",
              "  <div id=\"df-47fe46c6-6b27-4456-9b55-657ba3cad42b\">\n",
              "    <div class=\"colab-df-container\">\n",
              "      <div>\n",
              "<style scoped>\n",
              "    .dataframe tbody tr th:only-of-type {\n",
              "        vertical-align: middle;\n",
              "    }\n",
              "\n",
              "    .dataframe tbody tr th {\n",
              "        vertical-align: top;\n",
              "    }\n",
              "\n",
              "    .dataframe thead th {\n",
              "        text-align: right;\n",
              "    }\n",
              "</style>\n",
              "<table border=\"1\" class=\"dataframe\">\n",
              "  <thead>\n",
              "    <tr style=\"text-align: right;\">\n",
              "      <th></th>\n",
              "      <th>Text</th>\n",
              "      <th>Label</th>\n",
              "    </tr>\n",
              "  </thead>\n",
              "  <tbody>\n",
              "    <tr>\n",
              "      <th>0</th>\n",
              "      <td>ویکی‌پدیای انگلیسی در تاریخ ۱۵ ژانویه ۲۰۰۱ ( م...</td>\n",
              "      <td>O O B-DAT I-DAT I-DAT I-DAT I-DAT O B-DAT O B-...</td>\n",
              "    </tr>\n",
              "    <tr>\n",
              "      <th>1</th>\n",
              "      <td>بنیان‌گذاران آن ، جیمی ولز و لری سنگر هستند</td>\n",
              "      <td>O O O B-PER I-PER O B-PER I-PER O</td>\n",
              "    </tr>\n",
              "    <tr>\n",
              "      <th>2</th>\n",
              "      <td>هم‌اکنون بنیاد غیرانتفاعی بنیاد ویکی‌مدیا پروژ...</td>\n",
              "      <td>O O O B-ORG I-ORG O O O O O</td>\n",
              "    </tr>\n",
              "    <tr>\n",
              "      <th>3</th>\n",
              "      <td>کارساز وب اصلی این وبگاه در شهر تامپا ی فلورید...</td>\n",
              "      <td>O O O O O O O B-LOC O B-LOC O</td>\n",
              "    </tr>\n",
              "    <tr>\n",
              "      <th>4</th>\n",
              "      <td>همچنین میزبان‌های اضافی دیگری هم در شهرهای آمس...</td>\n",
              "      <td>O O O O O O O B-LOC O B-LOC O O O O O</td>\n",
              "    </tr>\n",
              "    <tr>\n",
              "      <th>...</th>\n",
              "      <td>...</td>\n",
              "      <td>...</td>\n",
              "    </tr>\n",
              "    <tr>\n",
              "      <th>98721</th>\n",
              "      <td>روز یکشنبه ۲۵ دی‌ماه ۱۳۹۰ ماموران امنیتی او را...</td>\n",
              "      <td>B-DAT I-DAT I-DAT O O O O O O O O O B-LOC O O ...</td>\n",
              "    </tr>\n",
              "    <tr>\n",
              "      <th>98722</th>\n",
              "      <td>او در تاریخ ۷ اسفند ۱۳۹۰ به قید وثیقه آزاد شد</td>\n",
              "      <td>O B-DAT I-DAT I-DAT I-DAT I-DAT O O O O O</td>\n",
              "    </tr>\n",
              "    <tr>\n",
              "      <th>98723</th>\n",
              "      <td>هنریک یوهان ایبسن ( زاده ۲۰ مارس ۱۸۲۸ در شین (...</td>\n",
              "      <td>O O O O O B-DAT I-DAT I-DAT O O O O O B-LOC B-...</td>\n",
              "    </tr>\n",
              "    <tr>\n",
              "      <th>98724</th>\n",
              "      <td>او یکی از بزرگ‌ترین استادان هنر تئاتر در تمامی...</td>\n",
              "      <td>O O O O O O O O O O O O O O B-PER O O</td>\n",
              "    </tr>\n",
              "    <tr>\n",
              "      <th>98725</th>\n",
              "      <td>انور ، ص۱۷ مجموعه آثار ایبسن برای نخستین بار ا...</td>\n",
              "      <td>O O O O O O O O O O O O O O O O O O O O B-LOC ...</td>\n",
              "    </tr>\n",
              "  </tbody>\n",
              "</table>\n",
              "<p>98726 rows × 2 columns</p>\n",
              "</div>\n",
              "      <button class=\"colab-df-convert\" onclick=\"convertToInteractive('df-47fe46c6-6b27-4456-9b55-657ba3cad42b')\"\n",
              "              title=\"Convert this dataframe to an interactive table.\"\n",
              "              style=\"display:none;\">\n",
              "        \n",
              "  <svg xmlns=\"http://www.w3.org/2000/svg\" height=\"24px\"viewBox=\"0 0 24 24\"\n",
              "       width=\"24px\">\n",
              "    <path d=\"M0 0h24v24H0V0z\" fill=\"none\"/>\n",
              "    <path d=\"M18.56 5.44l.94 2.06.94-2.06 2.06-.94-2.06-.94-.94-2.06-.94 2.06-2.06.94zm-11 1L8.5 8.5l.94-2.06 2.06-.94-2.06-.94L8.5 2.5l-.94 2.06-2.06.94zm10 10l.94 2.06.94-2.06 2.06-.94-2.06-.94-.94-2.06-.94 2.06-2.06.94z\"/><path d=\"M17.41 7.96l-1.37-1.37c-.4-.4-.92-.59-1.43-.59-.52 0-1.04.2-1.43.59L10.3 9.45l-7.72 7.72c-.78.78-.78 2.05 0 2.83L4 21.41c.39.39.9.59 1.41.59.51 0 1.02-.2 1.41-.59l7.78-7.78 2.81-2.81c.8-.78.8-2.07 0-2.86zM5.41 20L4 18.59l7.72-7.72 1.47 1.35L5.41 20z\"/>\n",
              "  </svg>\n",
              "      </button>\n",
              "      \n",
              "  <style>\n",
              "    .colab-df-container {\n",
              "      display:flex;\n",
              "      flex-wrap:wrap;\n",
              "      gap: 12px;\n",
              "    }\n",
              "\n",
              "    .colab-df-convert {\n",
              "      background-color: #E8F0FE;\n",
              "      border: none;\n",
              "      border-radius: 50%;\n",
              "      cursor: pointer;\n",
              "      display: none;\n",
              "      fill: #1967D2;\n",
              "      height: 32px;\n",
              "      padding: 0 0 0 0;\n",
              "      width: 32px;\n",
              "    }\n",
              "\n",
              "    .colab-df-convert:hover {\n",
              "      background-color: #E2EBFA;\n",
              "      box-shadow: 0px 1px 2px rgba(60, 64, 67, 0.3), 0px 1px 3px 1px rgba(60, 64, 67, 0.15);\n",
              "      fill: #174EA6;\n",
              "    }\n",
              "\n",
              "    [theme=dark] .colab-df-convert {\n",
              "      background-color: #3B4455;\n",
              "      fill: #D2E3FC;\n",
              "    }\n",
              "\n",
              "    [theme=dark] .colab-df-convert:hover {\n",
              "      background-color: #434B5C;\n",
              "      box-shadow: 0px 1px 3px 1px rgba(0, 0, 0, 0.15);\n",
              "      filter: drop-shadow(0px 1px 2px rgba(0, 0, 0, 0.3));\n",
              "      fill: #FFFFFF;\n",
              "    }\n",
              "  </style>\n",
              "\n",
              "      <script>\n",
              "        const buttonEl =\n",
              "          document.querySelector('#df-47fe46c6-6b27-4456-9b55-657ba3cad42b button.colab-df-convert');\n",
              "        buttonEl.style.display =\n",
              "          google.colab.kernel.accessAllowed ? 'block' : 'none';\n",
              "\n",
              "        async function convertToInteractive(key) {\n",
              "          const element = document.querySelector('#df-47fe46c6-6b27-4456-9b55-657ba3cad42b');\n",
              "          const dataTable =\n",
              "            await google.colab.kernel.invokeFunction('convertToInteractive',\n",
              "                                                     [key], {});\n",
              "          if (!dataTable) return;\n",
              "\n",
              "          const docLinkHtml = 'Like what you see? Visit the ' +\n",
              "            '<a target=\"_blank\" href=https://colab.research.google.com/notebooks/data_table.ipynb>data table notebook</a>'\n",
              "            + ' to learn more about interactive tables.';\n",
              "          element.innerHTML = '';\n",
              "          dataTable['output_type'] = 'display_data';\n",
              "          await google.colab.output.renderOutput(dataTable, element);\n",
              "          const docLink = document.createElement('div');\n",
              "          docLink.innerHTML = docLinkHtml;\n",
              "          element.appendChild(docLink);\n",
              "        }\n",
              "      </script>\n",
              "    </div>\n",
              "  </div>\n",
              "  "
            ],
            "text/plain": [
              "                                                    Text  \\\n",
              "0      ویکی‌پدیای انگلیسی در تاریخ ۱۵ ژانویه ۲۰۰۱ ( م...   \n",
              "1            بنیان‌گذاران آن ، جیمی ولز و لری سنگر هستند   \n",
              "2      هم‌اکنون بنیاد غیرانتفاعی بنیاد ویکی‌مدیا پروژ...   \n",
              "3      کارساز وب اصلی این وبگاه در شهر تامپا ی فلورید...   \n",
              "4      همچنین میزبان‌های اضافی دیگری هم در شهرهای آمس...   \n",
              "...                                                  ...   \n",
              "98721  روز یکشنبه ۲۵ دی‌ماه ۱۳۹۰ ماموران امنیتی او را...   \n",
              "98722      او در تاریخ ۷ اسفند ۱۳۹۰ به قید وثیقه آزاد شد   \n",
              "98723  هنریک یوهان ایبسن ( زاده ۲۰ مارس ۱۸۲۸ در شین (...   \n",
              "98724  او یکی از بزرگ‌ترین استادان هنر تئاتر در تمامی...   \n",
              "98725  انور ، ص۱۷ مجموعه آثار ایبسن برای نخستین بار ا...   \n",
              "\n",
              "                                                   Label  \n",
              "0      O O B-DAT I-DAT I-DAT I-DAT I-DAT O B-DAT O B-...  \n",
              "1                      O O O B-PER I-PER O B-PER I-PER O  \n",
              "2                            O O O B-ORG I-ORG O O O O O  \n",
              "3                          O O O O O O O B-LOC O B-LOC O  \n",
              "4                  O O O O O O O B-LOC O B-LOC O O O O O  \n",
              "...                                                  ...  \n",
              "98721  B-DAT I-DAT I-DAT O O O O O O O O O B-LOC O O ...  \n",
              "98722          O B-DAT I-DAT I-DAT I-DAT I-DAT O O O O O  \n",
              "98723  O O O O O B-DAT I-DAT I-DAT O O O O O B-LOC B-...  \n",
              "98724              O O O O O O O O O O O O O O B-PER O O  \n",
              "98725  O O O O O O O O O O O O O O O O O O O O B-LOC ...  \n",
              "\n",
              "[98726 rows x 2 columns]"
            ]
          },
          "execution_count": 31,
          "metadata": {},
          "output_type": "execute_result"
        }
      ],
      "source": [
        "makeSentences(dotIndices, data1)"
      ]
    },
    {
      "cell_type": "code",
      "execution_count": null,
      "metadata": {
        "colab": {
          "base_uri": "https://localhost:8080/",
          "height": 81
        },
        "id": "JE0BHwEgcpVo",
        "outputId": "d1474c64-9b21-48cd-a62d-2cad9fbd1fac"
      },
      "outputs": [
        {
          "data": {
            "text/html": [
              "\n",
              "  <div id=\"df-08e00484-979f-49cc-b735-aa918fafc461\">\n",
              "    <div class=\"colab-df-container\">\n",
              "      <div>\n",
              "<style scoped>\n",
              "    .dataframe tbody tr th:only-of-type {\n",
              "        vertical-align: middle;\n",
              "    }\n",
              "\n",
              "    .dataframe tbody tr th {\n",
              "        vertical-align: top;\n",
              "    }\n",
              "\n",
              "    .dataframe thead th {\n",
              "        text-align: right;\n",
              "    }\n",
              "</style>\n",
              "<table border=\"1\" class=\"dataframe\">\n",
              "  <thead>\n",
              "    <tr style=\"text-align: right;\">\n",
              "      <th></th>\n",
              "      <th>Token</th>\n",
              "      <th>NameEntity</th>\n",
              "    </tr>\n",
              "  </thead>\n",
              "  <tbody>\n",
              "    <tr>\n",
              "      <th>1193638</th>\n",
              "      <td>در</td>\n",
              "      <td>O</td>\n",
              "    </tr>\n",
              "  </tbody>\n",
              "</table>\n",
              "</div>\n",
              "      <button class=\"colab-df-convert\" onclick=\"convertToInteractive('df-08e00484-979f-49cc-b735-aa918fafc461')\"\n",
              "              title=\"Convert this dataframe to an interactive table.\"\n",
              "              style=\"display:none;\">\n",
              "        \n",
              "  <svg xmlns=\"http://www.w3.org/2000/svg\" height=\"24px\"viewBox=\"0 0 24 24\"\n",
              "       width=\"24px\">\n",
              "    <path d=\"M0 0h24v24H0V0z\" fill=\"none\"/>\n",
              "    <path d=\"M18.56 5.44l.94 2.06.94-2.06 2.06-.94-2.06-.94-.94-2.06-.94 2.06-2.06.94zm-11 1L8.5 8.5l.94-2.06 2.06-.94-2.06-.94L8.5 2.5l-.94 2.06-2.06.94zm10 10l.94 2.06.94-2.06 2.06-.94-2.06-.94-.94-2.06-.94 2.06-2.06.94z\"/><path d=\"M17.41 7.96l-1.37-1.37c-.4-.4-.92-.59-1.43-.59-.52 0-1.04.2-1.43.59L10.3 9.45l-7.72 7.72c-.78.78-.78 2.05 0 2.83L4 21.41c.39.39.9.59 1.41.59.51 0 1.02-.2 1.41-.59l7.78-7.78 2.81-2.81c.8-.78.8-2.07 0-2.86zM5.41 20L4 18.59l7.72-7.72 1.47 1.35L5.41 20z\"/>\n",
              "  </svg>\n",
              "      </button>\n",
              "      \n",
              "  <style>\n",
              "    .colab-df-container {\n",
              "      display:flex;\n",
              "      flex-wrap:wrap;\n",
              "      gap: 12px;\n",
              "    }\n",
              "\n",
              "    .colab-df-convert {\n",
              "      background-color: #E8F0FE;\n",
              "      border: none;\n",
              "      border-radius: 50%;\n",
              "      cursor: pointer;\n",
              "      display: none;\n",
              "      fill: #1967D2;\n",
              "      height: 32px;\n",
              "      padding: 0 0 0 0;\n",
              "      width: 32px;\n",
              "    }\n",
              "\n",
              "    .colab-df-convert:hover {\n",
              "      background-color: #E2EBFA;\n",
              "      box-shadow: 0px 1px 2px rgba(60, 64, 67, 0.3), 0px 1px 3px 1px rgba(60, 64, 67, 0.15);\n",
              "      fill: #174EA6;\n",
              "    }\n",
              "\n",
              "    [theme=dark] .colab-df-convert {\n",
              "      background-color: #3B4455;\n",
              "      fill: #D2E3FC;\n",
              "    }\n",
              "\n",
              "    [theme=dark] .colab-df-convert:hover {\n",
              "      background-color: #434B5C;\n",
              "      box-shadow: 0px 1px 3px 1px rgba(0, 0, 0, 0.15);\n",
              "      filter: drop-shadow(0px 1px 2px rgba(0, 0, 0, 0.3));\n",
              "      fill: #FFFFFF;\n",
              "    }\n",
              "  </style>\n",
              "\n",
              "      <script>\n",
              "        const buttonEl =\n",
              "          document.querySelector('#df-08e00484-979f-49cc-b735-aa918fafc461 button.colab-df-convert');\n",
              "        buttonEl.style.display =\n",
              "          google.colab.kernel.accessAllowed ? 'block' : 'none';\n",
              "\n",
              "        async function convertToInteractive(key) {\n",
              "          const element = document.querySelector('#df-08e00484-979f-49cc-b735-aa918fafc461');\n",
              "          const dataTable =\n",
              "            await google.colab.kernel.invokeFunction('convertToInteractive',\n",
              "                                                     [key], {});\n",
              "          if (!dataTable) return;\n",
              "\n",
              "          const docLinkHtml = 'Like what you see? Visit the ' +\n",
              "            '<a target=\"_blank\" href=https://colab.research.google.com/notebooks/data_table.ipynb>data table notebook</a>'\n",
              "            + ' to learn more about interactive tables.';\n",
              "          element.innerHTML = '';\n",
              "          dataTable['output_type'] = 'display_data';\n",
              "          await google.colab.output.renderOutput(dataTable, element);\n",
              "          const docLink = document.createElement('div');\n",
              "          docLink.innerHTML = docLinkHtml;\n",
              "          element.appendChild(docLink);\n",
              "        }\n",
              "      </script>\n",
              "    </div>\n",
              "  </div>\n",
              "  "
            ],
            "text/plain": [
              "        Token NameEntity\n",
              "1193638    در          O"
            ]
          },
          "execution_count": 32,
          "metadata": {},
          "output_type": "execute_result"
        }
      ],
      "source": [
        "data1.iloc[[1193638]]"
      ]
    },
    {
      "cell_type": "code",
      "execution_count": null,
      "metadata": {
        "id": "yQO213B7C3Uw"
      },
      "outputs": [],
      "source": [
        ""
      ]
    },
    {
      "cell_type": "code",
      "execution_count": null,
      "metadata": {
        "id": "iUvnY1efC3er"
      },
      "outputs": [],
      "source": [
        ""
      ]
    },
    {
      "cell_type": "code",
      "source": [
        "!wget https://dl.fbaipublicfiles.com/fasttext/vectors-crawl/cc.fa.300.vec.gz"
      ],
      "metadata": {
        "colab": {
          "base_uri": "https://localhost:8080/"
        },
        "id": "8ewnqJQuYL8d",
        "outputId": "ae7cdb70-9cd2-4afd-829e-5b68e53e9f62"
      },
      "execution_count": null,
      "outputs": [
        {
          "output_type": "stream",
          "name": "stdout",
          "text": [
            "--2022-08-01 08:47:55--  https://dl.fbaipublicfiles.com/fasttext/vectors-crawl/cc.fa.300.vec.gz\n",
            "Resolving dl.fbaipublicfiles.com (dl.fbaipublicfiles.com)... 104.22.74.142, 172.67.9.4, 104.22.75.142, ...\n",
            "Connecting to dl.fbaipublicfiles.com (dl.fbaipublicfiles.com)|104.22.74.142|:443... connected.\n",
            "HTTP request sent, awaiting response... 200 OK\n",
            "Length: 1258183862 (1.2G) [binary/octet-stream]\n",
            "Saving to: ‘cc.fa.300.vec.gz’\n",
            "\n",
            "cc.fa.300.vec.gz    100%[===================>]   1.17G  24.4MB/s    in 47s     \n",
            "\n",
            "2022-08-01 08:48:43 (25.4 MB/s) - ‘cc.fa.300.vec.gz’ saved [1258183862/1258183862]\n",
            "\n"
          ]
        }
      ]
    },
    {
      "cell_type": "code",
      "source": [
        "!gunzip cc.fa.300.vec.gz"
      ],
      "metadata": {
        "id": "sMfpK8aMYPJg"
      },
      "execution_count": null,
      "outputs": []
    },
    {
      "cell_type": "code",
      "source": [
        "!mv cc.fa.300.vec /content/drive/MyDrive/NerDatas"
      ],
      "metadata": {
        "id": "uxL5XPisYL-y"
      },
      "execution_count": null,
      "outputs": []
    },
    {
      "cell_type": "code",
      "source": [
        ""
      ],
      "metadata": {
        "id": "WYQHhFVEmttM"
      },
      "execution_count": null,
      "outputs": []
    },
    {
      "cell_type": "code",
      "source": [
        "from google.colab import drive\n",
        "drive.mount('/content/drive')"
      ],
      "metadata": {
        "id": "8s-T7qTQlIUJ"
      },
      "execution_count": null,
      "outputs": []
    },
    {
      "cell_type": "code",
      "source": [
        ""
      ],
      "metadata": {
        "id": "pNr3baCCYMA7"
      },
      "execution_count": null,
      "outputs": []
    },
    {
      "cell_type": "code",
      "source": [
        ""
      ],
      "metadata": {
        "colab": {
          "base_uri": "https://localhost:8080/"
        },
        "id": "cEc7fOGAYMDS",
        "outputId": "8313a803-efc3-4f6b-f5bd-e341aead2218"
      },
      "execution_count": null,
      "outputs": [
        {
          "output_type": "stream",
          "name": "stdout",
          "text": [
            "drive  sample_data\n"
          ]
        }
      ]
    },
    {
      "cell_type": "code",
      "source": [
        ""
      ],
      "metadata": {
        "id": "IMpQ_IS7YMFX"
      },
      "execution_count": null,
      "outputs": []
    },
    {
      "cell_type": "code",
      "source": [
        ""
      ],
      "metadata": {
        "colab": {
          "base_uri": "https://localhost:8080/"
        },
        "id": "Jk55thZFYMHK",
        "outputId": "5b7ce3a4-631e-4355-f189-13e9b3759d75"
      },
      "execution_count": null,
      "outputs": [
        {
          "output_type": "stream",
          "name": "stdout",
          "text": [
            "\u001b[0m\u001b[01;34mdrive\u001b[0m/  \u001b[01;34msample_data\u001b[0m/\n"
          ]
        }
      ]
    },
    {
      "cell_type": "code",
      "execution_count": null,
      "metadata": {
        "id": "oZtAkTMZC3hu"
      },
      "outputs": [],
      "source": [
        ""
      ]
    },
    {
      "cell_type": "code",
      "execution_count": null,
      "metadata": {
        "colab": {
          "base_uri": "https://localhost:8080/",
          "height": 36
        },
        "id": "uWPsdV3gfaAe",
        "outputId": "ebf3c0ed-f643-40c9-e7af-65be19675c05"
      },
      "outputs": [
        {
          "data": {
            "application/vnd.google.colaboratory.intrinsic+json": {
              "type": "string"
            },
            "text/plain": [
              "'اصلاح نویسه\\u200cها و استفاده از نیم\\u200cفاصله پردازش را آسان می\\u200cکند'"
            ]
          },
          "execution_count": 22,
          "metadata": {},
          "output_type": "execute_result"
        }
      ],
      "source": [
        "normalizer = Normalizer()\n",
        "normalizer.normalize('اصلاح نويسه ها و استفاده از نیم‌فاصله پردازش را آسان مي كند')"
      ]
    },
    {
      "cell_type": "code",
      "execution_count": null,
      "metadata": {
        "colab": {
          "base_uri": "https://localhost:8080/",
          "height": 53
        },
        "id": "6YYlon-K06jw",
        "outputId": "6446c405-3afb-47d6-c6e0-cd2676f70755"
      },
      "outputs": [
        {
          "name": "stdout",
          "output_type": "stream",
          "text": [
            "کارساز وب اصلی این وبگاه در شهر تامپا ی فلوریدا هستند\n"
          ]
        },
        {
          "data": {
            "application/vnd.google.colaboratory.intrinsic+json": {
              "type": "string"
            },
            "text/plain": [
              "'کارساز وب اصلی این وبگاه در شهر تامپا ی فلوریدا هستند'"
            ]
          },
          "execution_count": 45,
          "metadata": {},
          "output_type": "execute_result"
        }
      ],
      "source": [
        "print(sentences[3])\n",
        "normalizer.normalize(sentences[3])"
      ]
    },
    {
      "cell_type": "code",
      "execution_count": null,
      "metadata": {
        "id": "3kWujWSV1kZl"
      },
      "outputs": [],
      "source": [
        "stemmer = Stemmer()\n",
        "lemmatizer = Lemmatizer()"
      ]
    },
    {
      "cell_type": "code",
      "execution_count": null,
      "metadata": {
        "colab": {
          "base_uri": "https://localhost:8080/",
          "height": 36
        },
        "id": "tPLBGC_m3QSW",
        "outputId": "363c49d2-6620-42d8-b439-4365af48fd21"
      },
      "outputs": [
        {
          "data": {
            "application/vnd.google.colaboratory.intrinsic+json": {
              "type": "string"
            },
            "text/plain": [
              "'رفت#رو'"
            ]
          },
          "execution_count": 42,
          "metadata": {},
          "output_type": "execute_result"
        }
      ],
      "source": [
        "lemmatizer.lemmatize('می‌روم')"
      ]
    },
    {
      "cell_type": "code",
      "execution_count": null,
      "metadata": {
        "colab": {
          "base_uri": "https://localhost:8080/",
          "height": 36
        },
        "id": "kAbzyjay4RD5",
        "outputId": "4c1206b1-1436-4d66-be9f-9233b5c8c922"
      },
      "outputs": [
        {
          "data": {
            "application/vnd.google.colaboratory.intrinsic+json": {
              "type": "string"
            },
            "text/plain": [
              "'کارساز وب اصلی این وبگاه در شهر تامپا ی فلوریدا هستند'"
            ]
          },
          "execution_count": 46,
          "metadata": {},
          "output_type": "execute_result"
        }
      ],
      "source": [
        "lemmatizer.lemmatize(sentences[3])"
      ]
    },
    {
      "cell_type": "code",
      "execution_count": null,
      "metadata": {
        "colab": {
          "base_uri": "https://localhost:8080/"
        },
        "id": "AoTRqUtX4sBP",
        "outputId": "6d82198a-b857-421a-bec0-bec2fd186da1"
      },
      "outputs": [
        {
          "data": {
            "text/plain": [
              "[7412, 21, 8, 4758, 2951, 4, 5334, 8250, 113]"
            ]
          },
          "execution_count": 48,
          "metadata": {},
          "output_type": "execute_result"
        }
      ],
      "source": [
        "list_tokenized_train[1]"
      ]
    },
    {
      "cell_type": "code",
      "execution_count": null,
      "metadata": {
        "colab": {
          "base_uri": "https://localhost:8080/",
          "height": 36
        },
        "id": "yHTpO6QG5CP_",
        "outputId": "a57cf524-1633-48ac-d200-e4d3f0201f1d"
      },
      "outputs": [
        {
          "data": {
            "application/vnd.google.colaboratory.intrinsic+json": {
              "type": "string"
            },
            "text/plain": [
              "'بنیان\\u200cگذاران آن ، جیمی ولز و لری سنگر هستند'"
            ]
          },
          "execution_count": 49,
          "metadata": {},
          "output_type": "execute_result"
        }
      ],
      "source": [
        "sentences[1]"
      ]
    },
    {
      "cell_type": "code",
      "execution_count": null,
      "metadata": {
        "id": "1TyEHX4F5HJd"
      },
      "outputs": [],
      "source": [
        "a = dataWord['Token'][dataWord['Token'] == 'رویزیونیسم'].index"
      ]
    },
    {
      "cell_type": "code",
      "source": [
        "dataWord.iloc[a[1] : a[1] + 19]"
      ],
      "metadata": {
        "colab": {
          "base_uri": "https://localhost:8080/",
          "height": 645
        },
        "id": "ufQUJvBuWI0c",
        "outputId": "28bdeae2-f78a-490c-f097-bd09c4be9d63"
      },
      "execution_count": null,
      "outputs": [
        {
          "output_type": "execute_result",
          "data": {
            "text/plain": [
              "             Token NameEntity\n",
              "683244  رویزیونیسم          O\n",
              "683245   می‌خوانند          O\n",
              "683246           .          O\n",
              "683247     استالین          O\n",
              "683248          در          O\n",
              "683249        ۱۹۲۸          O\n",
              "683250       سیاست          O\n",
              "683251          نپ          O\n",
              "683252       ( , ،          O\n",
              "683253       سیاست          O\n",
              "683254        جدید          O\n",
              "683255     اقتصادی          O\n",
              "683256           )          O\n",
              "683257          که          O\n",
              "683258          در      B-DAT\n",
              "683259         دهه      I-DAT\n",
              "683260          ۲۰      I-DAT\n",
              "683261       جریان          O\n",
              "683262        داشت          O"
            ],
            "text/html": [
              "\n",
              "  <div id=\"df-d3a23778-a525-4f67-9a6a-4baedf176dd4\">\n",
              "    <div class=\"colab-df-container\">\n",
              "      <div>\n",
              "<style scoped>\n",
              "    .dataframe tbody tr th:only-of-type {\n",
              "        vertical-align: middle;\n",
              "    }\n",
              "\n",
              "    .dataframe tbody tr th {\n",
              "        vertical-align: top;\n",
              "    }\n",
              "\n",
              "    .dataframe thead th {\n",
              "        text-align: right;\n",
              "    }\n",
              "</style>\n",
              "<table border=\"1\" class=\"dataframe\">\n",
              "  <thead>\n",
              "    <tr style=\"text-align: right;\">\n",
              "      <th></th>\n",
              "      <th>Token</th>\n",
              "      <th>NameEntity</th>\n",
              "    </tr>\n",
              "  </thead>\n",
              "  <tbody>\n",
              "    <tr>\n",
              "      <th>683244</th>\n",
              "      <td>رویزیونیسم</td>\n",
              "      <td>O</td>\n",
              "    </tr>\n",
              "    <tr>\n",
              "      <th>683245</th>\n",
              "      <td>می‌خوانند</td>\n",
              "      <td>O</td>\n",
              "    </tr>\n",
              "    <tr>\n",
              "      <th>683246</th>\n",
              "      <td>.</td>\n",
              "      <td>O</td>\n",
              "    </tr>\n",
              "    <tr>\n",
              "      <th>683247</th>\n",
              "      <td>استالین</td>\n",
              "      <td>O</td>\n",
              "    </tr>\n",
              "    <tr>\n",
              "      <th>683248</th>\n",
              "      <td>در</td>\n",
              "      <td>O</td>\n",
              "    </tr>\n",
              "    <tr>\n",
              "      <th>683249</th>\n",
              "      <td>۱۹۲۸</td>\n",
              "      <td>O</td>\n",
              "    </tr>\n",
              "    <tr>\n",
              "      <th>683250</th>\n",
              "      <td>سیاست</td>\n",
              "      <td>O</td>\n",
              "    </tr>\n",
              "    <tr>\n",
              "      <th>683251</th>\n",
              "      <td>نپ</td>\n",
              "      <td>O</td>\n",
              "    </tr>\n",
              "    <tr>\n",
              "      <th>683252</th>\n",
              "      <td>( , ،</td>\n",
              "      <td>O</td>\n",
              "    </tr>\n",
              "    <tr>\n",
              "      <th>683253</th>\n",
              "      <td>سیاست</td>\n",
              "      <td>O</td>\n",
              "    </tr>\n",
              "    <tr>\n",
              "      <th>683254</th>\n",
              "      <td>جدید</td>\n",
              "      <td>O</td>\n",
              "    </tr>\n",
              "    <tr>\n",
              "      <th>683255</th>\n",
              "      <td>اقتصادی</td>\n",
              "      <td>O</td>\n",
              "    </tr>\n",
              "    <tr>\n",
              "      <th>683256</th>\n",
              "      <td>)</td>\n",
              "      <td>O</td>\n",
              "    </tr>\n",
              "    <tr>\n",
              "      <th>683257</th>\n",
              "      <td>که</td>\n",
              "      <td>O</td>\n",
              "    </tr>\n",
              "    <tr>\n",
              "      <th>683258</th>\n",
              "      <td>در</td>\n",
              "      <td>B-DAT</td>\n",
              "    </tr>\n",
              "    <tr>\n",
              "      <th>683259</th>\n",
              "      <td>دهه</td>\n",
              "      <td>I-DAT</td>\n",
              "    </tr>\n",
              "    <tr>\n",
              "      <th>683260</th>\n",
              "      <td>۲۰</td>\n",
              "      <td>I-DAT</td>\n",
              "    </tr>\n",
              "    <tr>\n",
              "      <th>683261</th>\n",
              "      <td>جریان</td>\n",
              "      <td>O</td>\n",
              "    </tr>\n",
              "    <tr>\n",
              "      <th>683262</th>\n",
              "      <td>داشت</td>\n",
              "      <td>O</td>\n",
              "    </tr>\n",
              "  </tbody>\n",
              "</table>\n",
              "</div>\n",
              "      <button class=\"colab-df-convert\" onclick=\"convertToInteractive('df-d3a23778-a525-4f67-9a6a-4baedf176dd4')\"\n",
              "              title=\"Convert this dataframe to an interactive table.\"\n",
              "              style=\"display:none;\">\n",
              "        \n",
              "  <svg xmlns=\"http://www.w3.org/2000/svg\" height=\"24px\"viewBox=\"0 0 24 24\"\n",
              "       width=\"24px\">\n",
              "    <path d=\"M0 0h24v24H0V0z\" fill=\"none\"/>\n",
              "    <path d=\"M18.56 5.44l.94 2.06.94-2.06 2.06-.94-2.06-.94-.94-2.06-.94 2.06-2.06.94zm-11 1L8.5 8.5l.94-2.06 2.06-.94-2.06-.94L8.5 2.5l-.94 2.06-2.06.94zm10 10l.94 2.06.94-2.06 2.06-.94-2.06-.94-.94-2.06-.94 2.06-2.06.94z\"/><path d=\"M17.41 7.96l-1.37-1.37c-.4-.4-.92-.59-1.43-.59-.52 0-1.04.2-1.43.59L10.3 9.45l-7.72 7.72c-.78.78-.78 2.05 0 2.83L4 21.41c.39.39.9.59 1.41.59.51 0 1.02-.2 1.41-.59l7.78-7.78 2.81-2.81c.8-.78.8-2.07 0-2.86zM5.41 20L4 18.59l7.72-7.72 1.47 1.35L5.41 20z\"/>\n",
              "  </svg>\n",
              "      </button>\n",
              "      \n",
              "  <style>\n",
              "    .colab-df-container {\n",
              "      display:flex;\n",
              "      flex-wrap:wrap;\n",
              "      gap: 12px;\n",
              "    }\n",
              "\n",
              "    .colab-df-convert {\n",
              "      background-color: #E8F0FE;\n",
              "      border: none;\n",
              "      border-radius: 50%;\n",
              "      cursor: pointer;\n",
              "      display: none;\n",
              "      fill: #1967D2;\n",
              "      height: 32px;\n",
              "      padding: 0 0 0 0;\n",
              "      width: 32px;\n",
              "    }\n",
              "\n",
              "    .colab-df-convert:hover {\n",
              "      background-color: #E2EBFA;\n",
              "      box-shadow: 0px 1px 2px rgba(60, 64, 67, 0.3), 0px 1px 3px 1px rgba(60, 64, 67, 0.15);\n",
              "      fill: #174EA6;\n",
              "    }\n",
              "\n",
              "    [theme=dark] .colab-df-convert {\n",
              "      background-color: #3B4455;\n",
              "      fill: #D2E3FC;\n",
              "    }\n",
              "\n",
              "    [theme=dark] .colab-df-convert:hover {\n",
              "      background-color: #434B5C;\n",
              "      box-shadow: 0px 1px 3px 1px rgba(0, 0, 0, 0.15);\n",
              "      filter: drop-shadow(0px 1px 2px rgba(0, 0, 0, 0.3));\n",
              "      fill: #FFFFFF;\n",
              "    }\n",
              "  </style>\n",
              "\n",
              "      <script>\n",
              "        const buttonEl =\n",
              "          document.querySelector('#df-d3a23778-a525-4f67-9a6a-4baedf176dd4 button.colab-df-convert');\n",
              "        buttonEl.style.display =\n",
              "          google.colab.kernel.accessAllowed ? 'block' : 'none';\n",
              "\n",
              "        async function convertToInteractive(key) {\n",
              "          const element = document.querySelector('#df-d3a23778-a525-4f67-9a6a-4baedf176dd4');\n",
              "          const dataTable =\n",
              "            await google.colab.kernel.invokeFunction('convertToInteractive',\n",
              "                                                     [key], {});\n",
              "          if (!dataTable) return;\n",
              "\n",
              "          const docLinkHtml = 'Like what you see? Visit the ' +\n",
              "            '<a target=\"_blank\" href=https://colab.research.google.com/notebooks/data_table.ipynb>data table notebook</a>'\n",
              "            + ' to learn more about interactive tables.';\n",
              "          element.innerHTML = '';\n",
              "          dataTable['output_type'] = 'display_data';\n",
              "          await google.colab.output.renderOutput(dataTable, element);\n",
              "          const docLink = document.createElement('div');\n",
              "          docLink.innerHTML = docLinkHtml;\n",
              "          element.appendChild(docLink);\n",
              "        }\n",
              "      </script>\n",
              "    </div>\n",
              "  </div>\n",
              "  "
            ]
          },
          "metadata": {},
          "execution_count": 91
        }
      ]
    },
    {
      "cell_type": "code",
      "source": [
        "a = -1\n",
        "for i in dotIndices:\n",
        "  a += 1\n",
        "  if i == 683246:\n",
        "    print(a)"
      ],
      "metadata": {
        "colab": {
          "base_uri": "https://localhost:8080/"
        },
        "id": "T0YDviwgWPyM",
        "outputId": "812f0935-fb0b-42e5-cf62-526e512ed6f2"
      },
      "execution_count": null,
      "outputs": [
        {
          "output_type": "stream",
          "name": "stdout",
          "text": [
            "25777\n"
          ]
        }
      ]
    },
    {
      "cell_type": "code",
      "source": [
        "dotIndices[25777]"
      ],
      "metadata": {
        "colab": {
          "base_uri": "https://localhost:8080/"
        },
        "id": "fxquld6nXkU2",
        "outputId": "9f86044e-b887-4b67-848b-2564361db216"
      },
      "execution_count": null,
      "outputs": [
        {
          "output_type": "execute_result",
          "data": {
            "text/plain": [
              "683246"
            ]
          },
          "metadata": {},
          "execution_count": 98
        }
      ]
    },
    {
      "cell_type": "code",
      "source": [
        "sentences[25778].split()"
      ],
      "metadata": {
        "id": "32PboehNZ40A"
      },
      "execution_count": null,
      "outputs": []
    },
    {
      "cell_type": "code",
      "source": [
        "ind = -1\n",
        "notEquallen = 0\n",
        "badSentenceIndices = []\n",
        "for a,b in zip(list_tokenized_train, y):\n",
        "  ind += 1\n",
        "  if len(a) != len(b):\n",
        "    badSentenceIndices.append(ind)\n",
        "    notEquallen += 1\n",
        "notEquallen / len(list_tokenized_train)"
      ],
      "metadata": {
        "colab": {
          "base_uri": "https://localhost:8080/"
        },
        "id": "8DUn22zYcmde",
        "outputId": "4430509d-626f-4be3-dc9f-084c7bce735c"
      },
      "execution_count": null,
      "outputs": [
        {
          "output_type": "execute_result",
          "data": {
            "text/plain": [
              "99941"
            ]
          },
          "metadata": {},
          "execution_count": 25
        }
      ]
    },
    {
      "cell_type": "code",
      "source": [
        "notEquallen / len(list_tokenized_train)"
      ],
      "metadata": {
        "colab": {
          "base_uri": "https://localhost:8080/"
        },
        "id": "DXiRmx_Ze4F9",
        "outputId": "676ccc69-3596-4748-fc77-4ff4b0195c4d"
      },
      "execution_count": null,
      "outputs": [
        {
          "output_type": "execute_result",
          "data": {
            "text/plain": [
              "0.24964591800285263"
            ]
          },
          "metadata": {},
          "execution_count": 26
        }
      ]
    },
    {
      "cell_type": "code",
      "source": [
        ""
      ],
      "metadata": {
        "colab": {
          "base_uri": "https://localhost:8080/"
        },
        "id": "W_f9f9YuAY_S",
        "outputId": "7f05e758-ef33-487c-b0d7-147d80ed02bd"
      },
      "execution_count": null,
      "outputs": [
        {
          "output_type": "execute_result",
          "data": {
            "text/plain": [
              "list"
            ]
          },
          "metadata": {},
          "execution_count": 30
        }
      ]
    },
    {
      "cell_type": "code",
      "source": [
        "len(list_tokenized_train[25778])"
      ],
      "metadata": {
        "colab": {
          "base_uri": "https://localhost:8080/"
        },
        "id": "HQ3segRPbU1l",
        "outputId": "c49798f7-d3a9-4a64-b199-725e45431088"
      },
      "execution_count": null,
      "outputs": [
        {
          "output_type": "execute_result",
          "data": {
            "text/plain": [
              "24"
            ]
          },
          "metadata": {},
          "execution_count": 107
        }
      ]
    },
    {
      "cell_type": "code",
      "source": [
        "len(y[25778])"
      ],
      "metadata": {
        "colab": {
          "base_uri": "https://localhost:8080/"
        },
        "id": "HvwDBEPkasmR",
        "outputId": "b6b973a6-b39a-4e10-856d-1f712bad3175"
      },
      "execution_count": null,
      "outputs": [
        {
          "output_type": "execute_result",
          "data": {
            "text/plain": [
              "25"
            ]
          },
          "metadata": {},
          "execution_count": 104
        }
      ]
    },
    {
      "cell_type": "code",
      "source": [
        "badSentenceIndices"
      ],
      "metadata": {
        "id": "2yfANPWgaChl",
        "colab": {
          "base_uri": "https://localhost:8080/"
        },
        "outputId": "b0760566-0cce-4b43-bad1-8b3b1ae71f23"
      },
      "execution_count": null,
      "outputs": [
        {
          "output_type": "execute_result",
          "data": {
            "text/plain": [
              "[0,\n",
              " 6,\n",
              " 8,\n",
              " 11,\n",
              " 12,\n",
              " 16,\n",
              " 20,\n",
              " 21,\n",
              " 24,\n",
              " 25,\n",
              " 26,\n",
              " 27,\n",
              " 29,\n",
              " 30,\n",
              " 32,\n",
              " 33,\n",
              " 34,\n",
              " 58,\n",
              " 59,\n",
              " 61,\n",
              " 62,\n",
              " 70,\n",
              " 71,\n",
              " 72,\n",
              " 74,\n",
              " 75,\n",
              " 77,\n",
              " 83,\n",
              " 84,\n",
              " 86,\n",
              " 87,\n",
              " 88,\n",
              " 89,\n",
              " 91,\n",
              " 92,\n",
              " 97,\n",
              " 104,\n",
              " 109,\n",
              " 120,\n",
              " 122,\n",
              " 130,\n",
              " 137,\n",
              " 144,\n",
              " 148,\n",
              " 150,\n",
              " 155,\n",
              " 157,\n",
              " 158,\n",
              " 159,\n",
              " 163,\n",
              " 178,\n",
              " 189,\n",
              " 191,\n",
              " 195,\n",
              " 203,\n",
              " 206,\n",
              " 215,\n",
              " 217,\n",
              " 219,\n",
              " 220,\n",
              " 223,\n",
              " 242,\n",
              " 244,\n",
              " 247,\n",
              " 249,\n",
              " 251,\n",
              " 253,\n",
              " 254,\n",
              " 257,\n",
              " 260,\n",
              " 263,\n",
              " 264,\n",
              " 267,\n",
              " 270,\n",
              " 281,\n",
              " 283,\n",
              " 289,\n",
              " 301,\n",
              " 305,\n",
              " 317,\n",
              " 318,\n",
              " 337,\n",
              " 349,\n",
              " 352,\n",
              " 353,\n",
              " 355,\n",
              " 357,\n",
              " 366,\n",
              " 368,\n",
              " 370,\n",
              " 376,\n",
              " 377,\n",
              " 381,\n",
              " 388,\n",
              " 389,\n",
              " 390,\n",
              " 393,\n",
              " 403,\n",
              " 404,\n",
              " 410,\n",
              " 424,\n",
              " 441,\n",
              " 443,\n",
              " 444,\n",
              " 446,\n",
              " 452,\n",
              " 453,\n",
              " 454,\n",
              " 456,\n",
              " 458,\n",
              " 459,\n",
              " 460,\n",
              " 463,\n",
              " 465,\n",
              " 475,\n",
              " 479,\n",
              " 482,\n",
              " 484,\n",
              " 494,\n",
              " 495,\n",
              " 502,\n",
              " 507,\n",
              " 511,\n",
              " 514,\n",
              " 517,\n",
              " 519,\n",
              " 526,\n",
              " 529,\n",
              " 530,\n",
              " 533,\n",
              " 536,\n",
              " 539,\n",
              " 542,\n",
              " 543,\n",
              " 544,\n",
              " 545,\n",
              " 546,\n",
              " 548,\n",
              " 549,\n",
              " 551,\n",
              " 555,\n",
              " 556,\n",
              " 557,\n",
              " 558,\n",
              " 560,\n",
              " 566,\n",
              " 568,\n",
              " 570,\n",
              " 572,\n",
              " 575,\n",
              " 576,\n",
              " 577,\n",
              " 580,\n",
              " 585,\n",
              " 589,\n",
              " 593,\n",
              " 598,\n",
              " 599,\n",
              " 604,\n",
              " 608,\n",
              " 612,\n",
              " 634,\n",
              " 635,\n",
              " 640,\n",
              " 643,\n",
              " 649,\n",
              " 651,\n",
              " 654,\n",
              " 656,\n",
              " 663,\n",
              " 665,\n",
              " 666,\n",
              " 672,\n",
              " 677,\n",
              " 682,\n",
              " 683,\n",
              " 695,\n",
              " 696,\n",
              " 698,\n",
              " 701,\n",
              " 703,\n",
              " 705,\n",
              " 714,\n",
              " 722,\n",
              " 723,\n",
              " 725,\n",
              " 731,\n",
              " 734,\n",
              " 737,\n",
              " 738,\n",
              " 739,\n",
              " 741,\n",
              " 742,\n",
              " 747,\n",
              " 748,\n",
              " 749,\n",
              " 750,\n",
              " 751,\n",
              " 752,\n",
              " 753,\n",
              " 754,\n",
              " 755,\n",
              " 756,\n",
              " 758,\n",
              " 759,\n",
              " 760,\n",
              " 762,\n",
              " 763,\n",
              " 765,\n",
              " 766,\n",
              " 767,\n",
              " 769,\n",
              " 770,\n",
              " 773,\n",
              " 776,\n",
              " 790,\n",
              " 804,\n",
              " 809,\n",
              " 810,\n",
              " 813,\n",
              " 814,\n",
              " 817,\n",
              " 820,\n",
              " 834,\n",
              " 838,\n",
              " 841,\n",
              " 854,\n",
              " 862,\n",
              " 865,\n",
              " 866,\n",
              " 868,\n",
              " 869,\n",
              " 870,\n",
              " 879,\n",
              " 886,\n",
              " 899,\n",
              " 905,\n",
              " 907,\n",
              " 914,\n",
              " 919,\n",
              " 922,\n",
              " 925,\n",
              " 932,\n",
              " 933,\n",
              " 945,\n",
              " 949,\n",
              " 951,\n",
              " 957,\n",
              " 959,\n",
              " 984,\n",
              " 989,\n",
              " 993,\n",
              " 994,\n",
              " 995,\n",
              " 996,\n",
              " 1000,\n",
              " 1003,\n",
              " 1004,\n",
              " 1005,\n",
              " 1008,\n",
              " 1009,\n",
              " 1010,\n",
              " 1011,\n",
              " 1012,\n",
              " 1031,\n",
              " 1035,\n",
              " 1056,\n",
              " 1057,\n",
              " 1060,\n",
              " 1062,\n",
              " 1065,\n",
              " 1076,\n",
              " 1088,\n",
              " 1093,\n",
              " 1095,\n",
              " 1098,\n",
              " 1099,\n",
              " 1102,\n",
              " 1110,\n",
              " 1111,\n",
              " 1119,\n",
              " 1121,\n",
              " 1123,\n",
              " 1129,\n",
              " 1132,\n",
              " 1136,\n",
              " 1146,\n",
              " 1150,\n",
              " 1163,\n",
              " 1187,\n",
              " 1190,\n",
              " 1191,\n",
              " 1201,\n",
              " 1202,\n",
              " 1203,\n",
              " 1204,\n",
              " 1213,\n",
              " 1223,\n",
              " 1227,\n",
              " 1229,\n",
              " 1232,\n",
              " 1233,\n",
              " 1234,\n",
              " 1237,\n",
              " 1238,\n",
              " 1252,\n",
              " 1254,\n",
              " 1256,\n",
              " 1264,\n",
              " 1265,\n",
              " 1267,\n",
              " 1272,\n",
              " 1273,\n",
              " 1278,\n",
              " 1285,\n",
              " 1288,\n",
              " 1296,\n",
              " 1298,\n",
              " 1299,\n",
              " 1312,\n",
              " 1314,\n",
              " 1324,\n",
              " 1334,\n",
              " 1336,\n",
              " 1342,\n",
              " 1343,\n",
              " 1349,\n",
              " 1355,\n",
              " 1362,\n",
              " 1364,\n",
              " 1369,\n",
              " 1376,\n",
              " 1382,\n",
              " 1384,\n",
              " 1389,\n",
              " 1390,\n",
              " 1401,\n",
              " 1406,\n",
              " 1407,\n",
              " 1414,\n",
              " 1424,\n",
              " 1427,\n",
              " 1430,\n",
              " 1431,\n",
              " 1454,\n",
              " 1458,\n",
              " 1480,\n",
              " 1484,\n",
              " 1492,\n",
              " 1504,\n",
              " 1512,\n",
              " 1517,\n",
              " 1521,\n",
              " 1522,\n",
              " 1544,\n",
              " 1555,\n",
              " 1557,\n",
              " 1560,\n",
              " 1562,\n",
              " 1563,\n",
              " 1565,\n",
              " 1570,\n",
              " 1572,\n",
              " 1574,\n",
              " 1587,\n",
              " 1598,\n",
              " 1599,\n",
              " 1604,\n",
              " 1605,\n",
              " 1606,\n",
              " 1608,\n",
              " 1613,\n",
              " 1625,\n",
              " 1662,\n",
              " 1665,\n",
              " 1669,\n",
              " 1673,\n",
              " 1677,\n",
              " 1678,\n",
              " 1681,\n",
              " 1682,\n",
              " 1689,\n",
              " 1690,\n",
              " 1694,\n",
              " 1698,\n",
              " 1704,\n",
              " 1705,\n",
              " 1707,\n",
              " 1708,\n",
              " 1712,\n",
              " 1724,\n",
              " 1727,\n",
              " 1739,\n",
              " 1740,\n",
              " 1741,\n",
              " 1743,\n",
              " 1744,\n",
              " 1748,\n",
              " 1750,\n",
              " 1754,\n",
              " 1757,\n",
              " 1763,\n",
              " 1764,\n",
              " 1765,\n",
              " 1766,\n",
              " 1767,\n",
              " 1768,\n",
              " 1769,\n",
              " 1770,\n",
              " 1771,\n",
              " 1772,\n",
              " 1773,\n",
              " 1774,\n",
              " 1775,\n",
              " 1776,\n",
              " 1777,\n",
              " 1778,\n",
              " 1779,\n",
              " 1780,\n",
              " 1781,\n",
              " 1784,\n",
              " 1785,\n",
              " 1786,\n",
              " 1787,\n",
              " 1788,\n",
              " 1789,\n",
              " 1790,\n",
              " 1791,\n",
              " 1796,\n",
              " 1805,\n",
              " 1808,\n",
              " 1811,\n",
              " 1813,\n",
              " 1814,\n",
              " 1822,\n",
              " 1826,\n",
              " 1853,\n",
              " 1855,\n",
              " 1860,\n",
              " 1866,\n",
              " 1869,\n",
              " 1870,\n",
              " 1878,\n",
              " 1880,\n",
              " 1892,\n",
              " 1905,\n",
              " 1906,\n",
              " 1913,\n",
              " 1925,\n",
              " 1941,\n",
              " 1942,\n",
              " 1954,\n",
              " 1956,\n",
              " 1973,\n",
              " 1978,\n",
              " 1981,\n",
              " 1987,\n",
              " 1996,\n",
              " 2001,\n",
              " 2004,\n",
              " 2006,\n",
              " 2008,\n",
              " 2010,\n",
              " 2011,\n",
              " 2016,\n",
              " 2017,\n",
              " 2025,\n",
              " 2032,\n",
              " 2044,\n",
              " 2048,\n",
              " 2050,\n",
              " 2056,\n",
              " 2057,\n",
              " 2058,\n",
              " 2059,\n",
              " 2064,\n",
              " 2067,\n",
              " 2069,\n",
              " 2073,\n",
              " 2078,\n",
              " 2087,\n",
              " 2088,\n",
              " 2089,\n",
              " 2090,\n",
              " 2091,\n",
              " 2092,\n",
              " 2095,\n",
              " 2096,\n",
              " 2097,\n",
              " 2100,\n",
              " 2103,\n",
              " 2108,\n",
              " 2110,\n",
              " 2116,\n",
              " 2121,\n",
              " 2123,\n",
              " 2126,\n",
              " 2127,\n",
              " 2134,\n",
              " 2146,\n",
              " 2147,\n",
              " 2149,\n",
              " 2161,\n",
              " 2165,\n",
              " 2166,\n",
              " 2167,\n",
              " 2170,\n",
              " 2171,\n",
              " 2176,\n",
              " 2189,\n",
              " 2195,\n",
              " 2199,\n",
              " 2201,\n",
              " 2204,\n",
              " 2205,\n",
              " 2214,\n",
              " 2215,\n",
              " 2218,\n",
              " 2219,\n",
              " 2225,\n",
              " 2252,\n",
              " 2254,\n",
              " 2257,\n",
              " 2259,\n",
              " 2262,\n",
              " 2269,\n",
              " 2290,\n",
              " 2293,\n",
              " 2297,\n",
              " 2298,\n",
              " 2301,\n",
              " 2302,\n",
              " 2314,\n",
              " 2316,\n",
              " 2317,\n",
              " 2319,\n",
              " 2333,\n",
              " 2334,\n",
              " 2341,\n",
              " 2349,\n",
              " 2352,\n",
              " 2355,\n",
              " 2357,\n",
              " 2378,\n",
              " 2387,\n",
              " 2412,\n",
              " 2413,\n",
              " 2414,\n",
              " 2416,\n",
              " 2420,\n",
              " 2429,\n",
              " 2430,\n",
              " 2439,\n",
              " 2447,\n",
              " 2456,\n",
              " 2466,\n",
              " 2470,\n",
              " 2476,\n",
              " 2491,\n",
              " 2494,\n",
              " 2497,\n",
              " 2498,\n",
              " 2502,\n",
              " 2503,\n",
              " 2516,\n",
              " 2521,\n",
              " 2524,\n",
              " 2527,\n",
              " 2528,\n",
              " 2530,\n",
              " 2532,\n",
              " 2534,\n",
              " 2538,\n",
              " 2549,\n",
              " 2561,\n",
              " 2568,\n",
              " 2569,\n",
              " 2570,\n",
              " 2571,\n",
              " 2581,\n",
              " 2585,\n",
              " 2586,\n",
              " 2587,\n",
              " 2588,\n",
              " 2591,\n",
              " 2592,\n",
              " 2597,\n",
              " 2598,\n",
              " 2599,\n",
              " 2600,\n",
              " 2604,\n",
              " 2614,\n",
              " 2617,\n",
              " 2623,\n",
              " 2624,\n",
              " 2629,\n",
              " 2630,\n",
              " 2631,\n",
              " 2633,\n",
              " 2636,\n",
              " 2639,\n",
              " 2642,\n",
              " 2647,\n",
              " 2660,\n",
              " 2666,\n",
              " 2667,\n",
              " 2668,\n",
              " 2671,\n",
              " 2673,\n",
              " 2675,\n",
              " 2689,\n",
              " 2690,\n",
              " 2697,\n",
              " 2700,\n",
              " 2705,\n",
              " 2706,\n",
              " 2708,\n",
              " 2716,\n",
              " 2721,\n",
              " 2730,\n",
              " 2731,\n",
              " 2732,\n",
              " 2733,\n",
              " 2734,\n",
              " 2735,\n",
              " 2738,\n",
              " 2739,\n",
              " 2743,\n",
              " 2761,\n",
              " 2769,\n",
              " 2774,\n",
              " 2775,\n",
              " 2790,\n",
              " 2791,\n",
              " 2795,\n",
              " 2800,\n",
              " 2801,\n",
              " 2806,\n",
              " 2809,\n",
              " 2812,\n",
              " 2814,\n",
              " 2816,\n",
              " 2819,\n",
              " 2825,\n",
              " 2827,\n",
              " 2828,\n",
              " 2835,\n",
              " 2836,\n",
              " 2837,\n",
              " 2838,\n",
              " 2841,\n",
              " 2848,\n",
              " 2850,\n",
              " 2855,\n",
              " 2857,\n",
              " 2863,\n",
              " 2864,\n",
              " 2869,\n",
              " 2870,\n",
              " 2871,\n",
              " 2872,\n",
              " 2874,\n",
              " 2875,\n",
              " 2876,\n",
              " 2877,\n",
              " 2878,\n",
              " 2889,\n",
              " 2890,\n",
              " 2897,\n",
              " 2898,\n",
              " 2900,\n",
              " 2912,\n",
              " 2913,\n",
              " 2914,\n",
              " 2917,\n",
              " 2918,\n",
              " 2923,\n",
              " 2924,\n",
              " 2926,\n",
              " 2934,\n",
              " 2947,\n",
              " 2948,\n",
              " 2953,\n",
              " 2958,\n",
              " 2959,\n",
              " 2964,\n",
              " 2968,\n",
              " 2969,\n",
              " 2970,\n",
              " 2975,\n",
              " 2976,\n",
              " 2977,\n",
              " 2978,\n",
              " 2980,\n",
              " 2986,\n",
              " 2991,\n",
              " 2992,\n",
              " 3017,\n",
              " 3025,\n",
              " 3029,\n",
              " 3035,\n",
              " 3036,\n",
              " 3039,\n",
              " 3043,\n",
              " 3046,\n",
              " 3048,\n",
              " 3049,\n",
              " 3051,\n",
              " 3060,\n",
              " 3066,\n",
              " 3075,\n",
              " 3076,\n",
              " 3091,\n",
              " 3095,\n",
              " 3097,\n",
              " 3110,\n",
              " 3114,\n",
              " 3116,\n",
              " 3121,\n",
              " 3128,\n",
              " 3134,\n",
              " 3135,\n",
              " 3148,\n",
              " 3162,\n",
              " 3163,\n",
              " 3165,\n",
              " 3177,\n",
              " 3188,\n",
              " 3193,\n",
              " 3195,\n",
              " 3198,\n",
              " 3201,\n",
              " 3204,\n",
              " 3208,\n",
              " 3217,\n",
              " 3218,\n",
              " 3219,\n",
              " 3220,\n",
              " 3223,\n",
              " 3225,\n",
              " 3226,\n",
              " 3228,\n",
              " 3229,\n",
              " 3230,\n",
              " 3231,\n",
              " 3232,\n",
              " 3234,\n",
              " 3235,\n",
              " 3240,\n",
              " 3241,\n",
              " 3242,\n",
              " 3243,\n",
              " 3245,\n",
              " 3246,\n",
              " 3248,\n",
              " 3249,\n",
              " 3251,\n",
              " 3252,\n",
              " 3253,\n",
              " 3254,\n",
              " 3256,\n",
              " 3257,\n",
              " 3260,\n",
              " 3262,\n",
              " 3265,\n",
              " 3268,\n",
              " 3269,\n",
              " 3270,\n",
              " 3271,\n",
              " 3273,\n",
              " 3274,\n",
              " 3275,\n",
              " 3277,\n",
              " 3280,\n",
              " 3281,\n",
              " 3282,\n",
              " 3283,\n",
              " 3284,\n",
              " 3285,\n",
              " 3286,\n",
              " 3289,\n",
              " 3290,\n",
              " 3291,\n",
              " 3292,\n",
              " 3296,\n",
              " 3297,\n",
              " 3298,\n",
              " 3299,\n",
              " 3300,\n",
              " 3301,\n",
              " 3302,\n",
              " 3303,\n",
              " 3305,\n",
              " 3306,\n",
              " 3307,\n",
              " 3309,\n",
              " 3310,\n",
              " 3314,\n",
              " 3315,\n",
              " 3318,\n",
              " 3319,\n",
              " 3320,\n",
              " 3322,\n",
              " 3323,\n",
              " 3324,\n",
              " 3325,\n",
              " 3327,\n",
              " 3331,\n",
              " 3333,\n",
              " 3335,\n",
              " 3339,\n",
              " 3340,\n",
              " 3342,\n",
              " 3344,\n",
              " 3347,\n",
              " 3348,\n",
              " 3351,\n",
              " 3357,\n",
              " 3361,\n",
              " 3377,\n",
              " 3382,\n",
              " 3390,\n",
              " 3410,\n",
              " 3411,\n",
              " 3424,\n",
              " 3429,\n",
              " 3435,\n",
              " 3439,\n",
              " 3444,\n",
              " 3447,\n",
              " 3456,\n",
              " 3463,\n",
              " 3466,\n",
              " 3472,\n",
              " 3477,\n",
              " 3481,\n",
              " 3501,\n",
              " 3503,\n",
              " 3506,\n",
              " 3507,\n",
              " 3508,\n",
              " 3510,\n",
              " 3511,\n",
              " 3514,\n",
              " 3517,\n",
              " 3522,\n",
              " 3525,\n",
              " 3527,\n",
              " 3530,\n",
              " 3538,\n",
              " 3541,\n",
              " 3542,\n",
              " 3549,\n",
              " 3551,\n",
              " 3558,\n",
              " 3560,\n",
              " 3563,\n",
              " 3566,\n",
              " 3568,\n",
              " 3571,\n",
              " 3584,\n",
              " 3585,\n",
              " 3601,\n",
              " 3602,\n",
              " 3604,\n",
              " 3615,\n",
              " 3616,\n",
              " 3620,\n",
              " 3624,\n",
              " 3627,\n",
              " 3629,\n",
              " 3630,\n",
              " 3637,\n",
              " 3643,\n",
              " 3645,\n",
              " 3649,\n",
              " 3652,\n",
              " 3655,\n",
              " 3659,\n",
              " 3660,\n",
              " 3661,\n",
              " 3666,\n",
              " 3684,\n",
              " 3686,\n",
              " 3688,\n",
              " 3691,\n",
              " 3702,\n",
              " 3703,\n",
              " 3714,\n",
              " 3722,\n",
              " 3733,\n",
              " 3740,\n",
              " 3744,\n",
              " 3745,\n",
              " 3749,\n",
              " 3756,\n",
              " 3761,\n",
              " 3763,\n",
              " 3775,\n",
              " 3778,\n",
              " 3790,\n",
              " 3792,\n",
              " 3794,\n",
              " 3802,\n",
              " 3803,\n",
              " 3807,\n",
              " 3831,\n",
              " 3835,\n",
              " 3836,\n",
              " 3842,\n",
              " 3844,\n",
              " 3846,\n",
              " 3849,\n",
              " 3855,\n",
              " 3856,\n",
              " 3857,\n",
              " 3858,\n",
              " 3861,\n",
              " 3864,\n",
              " 3879,\n",
              " 3882,\n",
              " 3887,\n",
              " 3891,\n",
              " 3910,\n",
              " 3911,\n",
              " 3914,\n",
              " 3916,\n",
              " 3922,\n",
              " 3923,\n",
              " 3924,\n",
              " 3926,\n",
              " 3950,\n",
              " 3953,\n",
              " 3969,\n",
              " 3976,\n",
              " 3981,\n",
              " 3984,\n",
              " 3986,\n",
              " 3987,\n",
              " 4001,\n",
              " 4032,\n",
              " 4035,\n",
              " 4041,\n",
              " 4043,\n",
              " 4044,\n",
              " 4045,\n",
              " 4049,\n",
              " 4052,\n",
              " 4053,\n",
              " 4055,\n",
              " 4056,\n",
              " 4075,\n",
              " 4078,\n",
              " 4079,\n",
              " 4083,\n",
              " 4086,\n",
              " 4098,\n",
              " 4099,\n",
              " 4102,\n",
              " 4106,\n",
              " 4118,\n",
              " 4126,\n",
              " 4127,\n",
              " 4129,\n",
              " 4132,\n",
              " 4133,\n",
              " 4135,\n",
              " 4137,\n",
              " 4138,\n",
              " 4139,\n",
              " 4154,\n",
              " 4160,\n",
              " 4170,\n",
              " 4172,\n",
              " 4182,\n",
              " 4184,\n",
              " 4199,\n",
              " 4209,\n",
              " 4218,\n",
              " 4224,\n",
              " 4225,\n",
              " 4229,\n",
              " 4233,\n",
              " 4235,\n",
              " 4243,\n",
              " 4244,\n",
              " 4250,\n",
              " 4255,\n",
              " 4261,\n",
              " 4269,\n",
              " 4270,\n",
              " 4272,\n",
              " 4279,\n",
              " 4283,\n",
              " 4284,\n",
              " 4285,\n",
              " 4287,\n",
              " 4291,\n",
              " 4293,\n",
              " 4302,\n",
              " ...]"
            ]
          },
          "metadata": {},
          "execution_count": 28
        }
      ]
    },
    {
      "cell_type": "code",
      "source": [
        ""
      ],
      "metadata": {
        "id": "B4Eynz0Hgnhr"
      },
      "execution_count": null,
      "outputs": []
    }
  ],
  "metadata": {
    "colab": {
      "collapsed_sections": [],
      "name": "Persian-Name-Entitiy-Recognition.ipynb",
      "provenance": []
    },
    "kernelspec": {
      "display_name": "Python 3",
      "name": "python3"
    },
    "language_info": {
      "name": "python"
    },
    "accelerator": "GPU",
    "gpuClass": "standard"
  },
  "nbformat": 4,
  "nbformat_minor": 0
}