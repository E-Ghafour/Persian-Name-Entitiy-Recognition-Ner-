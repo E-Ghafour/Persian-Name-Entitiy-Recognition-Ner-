{
  "cells": [
    {
      "cell_type": "code",
      "execution_count": 2,
      "metadata": {
        "colab": {
          "base_uri": "https://localhost:8080/"
        },
        "id": "7lzyzrLG65CO",
        "outputId": "6f247e3a-7ab2-4ee5-c3d0-be02b738b77d"
      },
      "outputs": [
        {
          "output_type": "stream",
          "name": "stdout",
          "text": [
            "Looking in indexes: https://pypi.org/simple, https://us-python.pkg.dev/colab-wheels/public/simple/\n",
            "Collecting hazm\n",
            "  Downloading hazm-0.7.0-py3-none-any.whl (316 kB)\n",
            "\u001b[K     |████████████████████████████████| 316 kB 5.0 MB/s \n",
            "\u001b[?25hCollecting nltk==3.3\n",
            "  Downloading nltk-3.3.0.zip (1.4 MB)\n",
            "\u001b[K     |████████████████████████████████| 1.4 MB 62.7 MB/s \n",
            "\u001b[?25hCollecting libwapiti>=0.2.1\n",
            "  Downloading libwapiti-0.2.1.tar.gz (233 kB)\n",
            "\u001b[K     |████████████████████████████████| 233 kB 67.6 MB/s \n",
            "\u001b[?25hRequirement already satisfied: six in /usr/local/lib/python3.7/dist-packages (from nltk==3.3->hazm) (1.15.0)\n",
            "Building wheels for collected packages: nltk, libwapiti\n",
            "  Building wheel for nltk (setup.py) ... \u001b[?25l\u001b[?25hdone\n",
            "  Created wheel for nltk: filename=nltk-3.3-py3-none-any.whl size=1394486 sha256=11481ff1ca59c6382f5b39c585c0b865ccf51fc4efd1473571bb3cc83cb3d3af\n",
            "  Stored in directory: /root/.cache/pip/wheels/9b/fd/0c/d92302c876e5de87ebd7fc0979d82edb93e2d8d768bf71fac4\n",
            "  Building wheel for libwapiti (setup.py) ... \u001b[?25l\u001b[?25hdone\n",
            "  Created wheel for libwapiti: filename=libwapiti-0.2.1-cp37-cp37m-linux_x86_64.whl size=154440 sha256=35fd64c615a5a4c07ae3a725725ed6678f982c68c21eba7c273642bd5712489b\n",
            "  Stored in directory: /root/.cache/pip/wheels/ab/b2/5b/0fe4b8f5c0e65341e8ea7bb3f4a6ebabfe8b1ac31322392dbf\n",
            "Successfully built nltk libwapiti\n",
            "Installing collected packages: nltk, libwapiti, hazm\n",
            "  Attempting uninstall: nltk\n",
            "    Found existing installation: nltk 3.7\n",
            "    Uninstalling nltk-3.7:\n",
            "      Successfully uninstalled nltk-3.7\n",
            "Successfully installed hazm-0.7.0 libwapiti-0.2.1 nltk-3.3\n"
          ]
        }
      ],
      "source": [
        "pip install hazm"
      ]
    },
    {
      "cell_type": "code",
      "execution_count": 3,
      "metadata": {
        "id": "WUgVbSZO6MxX"
      },
      "outputs": [],
      "source": [
        "import pandas as pd\n",
        "import numpy as np\n",
        "import matplotlib.pyplot as plt\n",
        "from sklearn.utils import shuffle\n",
        "from keras.preprocessing.text import Tokenizer\n",
        "from keras.layers import Dense, Input, LSTM, Embedding, Dropout, Activation\n",
        "from keras.layers import Bidirectional, GlobalMaxPool1D,Bidirectional\n",
        "from keras.preprocessing.sequence import pad_sequences\n",
        "from __future__ import unicode_literals\n",
        "from hazm import *\n",
        "import gc"
      ]
    },
    {
      "cell_type": "code",
      "execution_count": 4,
      "metadata": {
        "colab": {
          "base_uri": "https://localhost:8080/"
        },
        "id": "6SMraayul-R6",
        "outputId": "36a4823a-4703-4138-de0b-44444fdc2b99"
      },
      "outputs": [
        {
          "output_type": "stream",
          "name": "stdout",
          "text": [
            "Mounted at /content/drive\n"
          ]
        }
      ],
      "source": [
        "from google.colab import drive\n",
        "drive.mount('/content/drive')"
      ]
    },
    {
      "cell_type": "markdown",
      "metadata": {
        "id": "6E44zCT7mKuW"
      },
      "source": [
        "## Input datasets\n",
        "I read from 5 datasets and combine them toghether\n",
        "\n",
        "because of the datasets fault, I can't separate them in file reading time, so I read it as a 1 column"
      ]
    },
    {
      "cell_type": "code",
      "execution_count": null,
      "metadata": {
        "id": "ofvH3s2FlaNB"
      },
      "outputs": [],
      "source": [
        "csv1 = pd.read_csv(\"/content/drive/MyDrive/NerDatas/Persian-NER-part1.txt\", header=None, delimiter=\"~\", names = ['All'], encoding_errors = 'ignore', low_memory=False)\n",
        "csv2 = pd.read_csv(\"/content/drive/MyDrive/NerDatas/Persian-NER-part2.txt\", header=None, delimiter=\"~\", names = ['All'], encoding_errors = 'ignore', low_memory=False)\n",
        "csv3 = pd.read_csv(\"/content/drive/MyDrive/NerDatas/Persian-NER-part3.txt\", header=None, delimiter=\"~\", names = ['All'], encoding_errors = 'ignore', low_memory=False)\n",
        "csv4 = pd.read_csv(\"/content/drive/MyDrive/NerDatas/Persian-NER-part4.txt\", header=None, delimiter=\"~\", names = ['All'], encoding_errors = 'ignore', low_memory=False)\n",
        "#csv5 = pd.read_csv(\"/content/drive/MyDrive/NerDatas/Persian-NER-part5.txt\", header=None, delimiter=\"~\", names = ['All'], encoding_errors = 'ignore', low_memory=False)     #changable"
      ]
    },
    {
      "cell_type": "code",
      "execution_count": null,
      "metadata": {
        "colab": {
          "base_uri": "https://localhost:8080/",
          "height": 424
        },
        "id": "L20Nd3DEw7yR",
        "outputId": "79d58f02-8d9d-4e0f-ee55-0234eff2a7b7"
      },
      "outputs": [
        {
          "data": {
            "text/html": [
              "\n",
              "  <div id=\"df-3ecaaf8a-9fe5-4f34-9914-4227bc9d2468\">\n",
              "    <div class=\"colab-df-container\">\n",
              "      <div>\n",
              "<style scoped>\n",
              "    .dataframe tbody tr th:only-of-type {\n",
              "        vertical-align: middle;\n",
              "    }\n",
              "\n",
              "    .dataframe tbody tr th {\n",
              "        vertical-align: top;\n",
              "    }\n",
              "\n",
              "    .dataframe thead th {\n",
              "        text-align: right;\n",
              "    }\n",
              "</style>\n",
              "<table border=\"1\" class=\"dataframe\">\n",
              "  <thead>\n",
              "    <tr style=\"text-align: right;\">\n",
              "      <th></th>\n",
              "      <th>All</th>\n",
              "    </tr>\n",
              "  </thead>\n",
              "  <tbody>\n",
              "    <tr>\n",
              "      <th>0</th>\n",
              "      <td>ویکی‌پدیای\\tO</td>\n",
              "    </tr>\n",
              "    <tr>\n",
              "      <th>1</th>\n",
              "      <td>انگلیسی\\tO</td>\n",
              "    </tr>\n",
              "    <tr>\n",
              "      <th>2</th>\n",
              "      <td>در\\tB-DAT</td>\n",
              "    </tr>\n",
              "    <tr>\n",
              "      <th>3</th>\n",
              "      <td>تاریخ\\tI-DAT</td>\n",
              "    </tr>\n",
              "    <tr>\n",
              "      <th>4</th>\n",
              "      <td>۱۵\\tI-DAT</td>\n",
              "    </tr>\n",
              "    <tr>\n",
              "      <th>...</th>\n",
              "      <td>...</td>\n",
              "    </tr>\n",
              "    <tr>\n",
              "      <th>10527407</th>\n",
              "      <td>روی\\tO</td>\n",
              "    </tr>\n",
              "    <tr>\n",
              "      <th>10527408</th>\n",
              "      <td>میز\\tO</td>\n",
              "    </tr>\n",
              "    <tr>\n",
              "      <th>10527409</th>\n",
              "      <td>گزارشگران\\tO</td>\n",
              "    </tr>\n",
              "    <tr>\n",
              "      <th>10527410</th>\n",
              "      <td>کوبیدند\\tO</td>\n",
              "    </tr>\n",
              "    <tr>\n",
              "      <th>10527411</th>\n",
              "      <td>.\\tO</td>\n",
              "    </tr>\n",
              "  </tbody>\n",
              "</table>\n",
              "<p>10527412 rows × 1 columns</p>\n",
              "</div>\n",
              "      <button class=\"colab-df-convert\" onclick=\"convertToInteractive('df-3ecaaf8a-9fe5-4f34-9914-4227bc9d2468')\"\n",
              "              title=\"Convert this dataframe to an interactive table.\"\n",
              "              style=\"display:none;\">\n",
              "        \n",
              "  <svg xmlns=\"http://www.w3.org/2000/svg\" height=\"24px\"viewBox=\"0 0 24 24\"\n",
              "       width=\"24px\">\n",
              "    <path d=\"M0 0h24v24H0V0z\" fill=\"none\"/>\n",
              "    <path d=\"M18.56 5.44l.94 2.06.94-2.06 2.06-.94-2.06-.94-.94-2.06-.94 2.06-2.06.94zm-11 1L8.5 8.5l.94-2.06 2.06-.94-2.06-.94L8.5 2.5l-.94 2.06-2.06.94zm10 10l.94 2.06.94-2.06 2.06-.94-2.06-.94-.94-2.06-.94 2.06-2.06.94z\"/><path d=\"M17.41 7.96l-1.37-1.37c-.4-.4-.92-.59-1.43-.59-.52 0-1.04.2-1.43.59L10.3 9.45l-7.72 7.72c-.78.78-.78 2.05 0 2.83L4 21.41c.39.39.9.59 1.41.59.51 0 1.02-.2 1.41-.59l7.78-7.78 2.81-2.81c.8-.78.8-2.07 0-2.86zM5.41 20L4 18.59l7.72-7.72 1.47 1.35L5.41 20z\"/>\n",
              "  </svg>\n",
              "      </button>\n",
              "      \n",
              "  <style>\n",
              "    .colab-df-container {\n",
              "      display:flex;\n",
              "      flex-wrap:wrap;\n",
              "      gap: 12px;\n",
              "    }\n",
              "\n",
              "    .colab-df-convert {\n",
              "      background-color: #E8F0FE;\n",
              "      border: none;\n",
              "      border-radius: 50%;\n",
              "      cursor: pointer;\n",
              "      display: none;\n",
              "      fill: #1967D2;\n",
              "      height: 32px;\n",
              "      padding: 0 0 0 0;\n",
              "      width: 32px;\n",
              "    }\n",
              "\n",
              "    .colab-df-convert:hover {\n",
              "      background-color: #E2EBFA;\n",
              "      box-shadow: 0px 1px 2px rgba(60, 64, 67, 0.3), 0px 1px 3px 1px rgba(60, 64, 67, 0.15);\n",
              "      fill: #174EA6;\n",
              "    }\n",
              "\n",
              "    [theme=dark] .colab-df-convert {\n",
              "      background-color: #3B4455;\n",
              "      fill: #D2E3FC;\n",
              "    }\n",
              "\n",
              "    [theme=dark] .colab-df-convert:hover {\n",
              "      background-color: #434B5C;\n",
              "      box-shadow: 0px 1px 3px 1px rgba(0, 0, 0, 0.15);\n",
              "      filter: drop-shadow(0px 1px 2px rgba(0, 0, 0, 0.3));\n",
              "      fill: #FFFFFF;\n",
              "    }\n",
              "  </style>\n",
              "\n",
              "      <script>\n",
              "        const buttonEl =\n",
              "          document.querySelector('#df-3ecaaf8a-9fe5-4f34-9914-4227bc9d2468 button.colab-df-convert');\n",
              "        buttonEl.style.display =\n",
              "          google.colab.kernel.accessAllowed ? 'block' : 'none';\n",
              "\n",
              "        async function convertToInteractive(key) {\n",
              "          const element = document.querySelector('#df-3ecaaf8a-9fe5-4f34-9914-4227bc9d2468');\n",
              "          const dataTable =\n",
              "            await google.colab.kernel.invokeFunction('convertToInteractive',\n",
              "                                                     [key], {});\n",
              "          if (!dataTable) return;\n",
              "\n",
              "          const docLinkHtml = 'Like what you see? Visit the ' +\n",
              "            '<a target=\"_blank\" href=https://colab.research.google.com/notebooks/data_table.ipynb>data table notebook</a>'\n",
              "            + ' to learn more about interactive tables.';\n",
              "          element.innerHTML = '';\n",
              "          dataTable['output_type'] = 'display_data';\n",
              "          await google.colab.output.renderOutput(dataTable, element);\n",
              "          const docLink = document.createElement('div');\n",
              "          docLink.innerHTML = docLinkHtml;\n",
              "          element.appendChild(docLink);\n",
              "        }\n",
              "      </script>\n",
              "    </div>\n",
              "  </div>\n",
              "  "
            ],
            "text/plain": [
              "                    All\n",
              "0         ویکی‌پدیای\\tO\n",
              "1            انگلیسی\\tO\n",
              "2             در\\tB-DAT\n",
              "3          تاریخ\\tI-DAT\n",
              "4             ۱۵\\tI-DAT\n",
              "...                 ...\n",
              "10527407         روی\\tO\n",
              "10527408         میز\\tO\n",
              "10527409   گزارشگران\\tO\n",
              "10527410     کوبیدند\\tO\n",
              "10527411           .\\tO\n",
              "\n",
              "[10527412 rows x 1 columns]"
            ]
          },
          "execution_count": 5,
          "metadata": {},
          "output_type": "execute_result"
        }
      ],
      "source": [
        "mainCsv = pd.DataFrame(columns=['All'])\n",
        "mainCsv = mainCsv.append(csv1, ignore_index=True)\n",
        "mainCsv = mainCsv.append(csv2, ignore_index=True)\n",
        "mainCsv = mainCsv.append(csv3, ignore_index=True)\n",
        "mainCsv = mainCsv.append(csv4, ignore_index=True)\n",
        "#data = data.append(csv5, ignore_index=True)   #changeable\n",
        "mainCsv"
      ]
    },
    {
      "cell_type": "code",
      "execution_count": null,
      "metadata": {
        "colab": {
          "base_uri": "https://localhost:8080/",
          "height": 424
        },
        "id": "e0Nr1Ko10F4Y",
        "outputId": "0dcfbc4e-5870-4437-810c-b650a18bbb77"
      },
      "outputs": [
        {
          "data": {
            "text/html": [
              "\n",
              "  <div id=\"df-9ac08a33-4a08-45d6-807c-df3cd3663851\">\n",
              "    <div class=\"colab-df-container\">\n",
              "      <div>\n",
              "<style scoped>\n",
              "    .dataframe tbody tr th:only-of-type {\n",
              "        vertical-align: middle;\n",
              "    }\n",
              "\n",
              "    .dataframe tbody tr th {\n",
              "        vertical-align: top;\n",
              "    }\n",
              "\n",
              "    .dataframe thead th {\n",
              "        text-align: right;\n",
              "    }\n",
              "</style>\n",
              "<table border=\"1\" class=\"dataframe\">\n",
              "  <thead>\n",
              "    <tr style=\"text-align: right;\">\n",
              "      <th></th>\n",
              "      <th>Token</th>\n",
              "      <th>NameEntity</th>\n",
              "    </tr>\n",
              "  </thead>\n",
              "  <tbody>\n",
              "    <tr>\n",
              "      <th>0</th>\n",
              "      <td>ویکی‌پدیای</td>\n",
              "      <td>O</td>\n",
              "    </tr>\n",
              "    <tr>\n",
              "      <th>1</th>\n",
              "      <td>انگلیسی</td>\n",
              "      <td>O</td>\n",
              "    </tr>\n",
              "    <tr>\n",
              "      <th>2</th>\n",
              "      <td>در</td>\n",
              "      <td>B-DAT</td>\n",
              "    </tr>\n",
              "    <tr>\n",
              "      <th>3</th>\n",
              "      <td>تاریخ</td>\n",
              "      <td>I-DAT</td>\n",
              "    </tr>\n",
              "    <tr>\n",
              "      <th>4</th>\n",
              "      <td>۱۵</td>\n",
              "      <td>I-DAT</td>\n",
              "    </tr>\n",
              "    <tr>\n",
              "      <th>...</th>\n",
              "      <td>...</td>\n",
              "      <td>...</td>\n",
              "    </tr>\n",
              "    <tr>\n",
              "      <th>10527407</th>\n",
              "      <td>روی</td>\n",
              "      <td>O</td>\n",
              "    </tr>\n",
              "    <tr>\n",
              "      <th>10527408</th>\n",
              "      <td>میز</td>\n",
              "      <td>O</td>\n",
              "    </tr>\n",
              "    <tr>\n",
              "      <th>10527409</th>\n",
              "      <td>گزارشگران</td>\n",
              "      <td>O</td>\n",
              "    </tr>\n",
              "    <tr>\n",
              "      <th>10527410</th>\n",
              "      <td>کوبیدند</td>\n",
              "      <td>O</td>\n",
              "    </tr>\n",
              "    <tr>\n",
              "      <th>10527411</th>\n",
              "      <td>.</td>\n",
              "      <td>O</td>\n",
              "    </tr>\n",
              "  </tbody>\n",
              "</table>\n",
              "<p>10527412 rows × 2 columns</p>\n",
              "</div>\n",
              "      <button class=\"colab-df-convert\" onclick=\"convertToInteractive('df-9ac08a33-4a08-45d6-807c-df3cd3663851')\"\n",
              "              title=\"Convert this dataframe to an interactive table.\"\n",
              "              style=\"display:none;\">\n",
              "        \n",
              "  <svg xmlns=\"http://www.w3.org/2000/svg\" height=\"24px\"viewBox=\"0 0 24 24\"\n",
              "       width=\"24px\">\n",
              "    <path d=\"M0 0h24v24H0V0z\" fill=\"none\"/>\n",
              "    <path d=\"M18.56 5.44l.94 2.06.94-2.06 2.06-.94-2.06-.94-.94-2.06-.94 2.06-2.06.94zm-11 1L8.5 8.5l.94-2.06 2.06-.94-2.06-.94L8.5 2.5l-.94 2.06-2.06.94zm10 10l.94 2.06.94-2.06 2.06-.94-2.06-.94-.94-2.06-.94 2.06-2.06.94z\"/><path d=\"M17.41 7.96l-1.37-1.37c-.4-.4-.92-.59-1.43-.59-.52 0-1.04.2-1.43.59L10.3 9.45l-7.72 7.72c-.78.78-.78 2.05 0 2.83L4 21.41c.39.39.9.59 1.41.59.51 0 1.02-.2 1.41-.59l7.78-7.78 2.81-2.81c.8-.78.8-2.07 0-2.86zM5.41 20L4 18.59l7.72-7.72 1.47 1.35L5.41 20z\"/>\n",
              "  </svg>\n",
              "      </button>\n",
              "      \n",
              "  <style>\n",
              "    .colab-df-container {\n",
              "      display:flex;\n",
              "      flex-wrap:wrap;\n",
              "      gap: 12px;\n",
              "    }\n",
              "\n",
              "    .colab-df-convert {\n",
              "      background-color: #E8F0FE;\n",
              "      border: none;\n",
              "      border-radius: 50%;\n",
              "      cursor: pointer;\n",
              "      display: none;\n",
              "      fill: #1967D2;\n",
              "      height: 32px;\n",
              "      padding: 0 0 0 0;\n",
              "      width: 32px;\n",
              "    }\n",
              "\n",
              "    .colab-df-convert:hover {\n",
              "      background-color: #E2EBFA;\n",
              "      box-shadow: 0px 1px 2px rgba(60, 64, 67, 0.3), 0px 1px 3px 1px rgba(60, 64, 67, 0.15);\n",
              "      fill: #174EA6;\n",
              "    }\n",
              "\n",
              "    [theme=dark] .colab-df-convert {\n",
              "      background-color: #3B4455;\n",
              "      fill: #D2E3FC;\n",
              "    }\n",
              "\n",
              "    [theme=dark] .colab-df-convert:hover {\n",
              "      background-color: #434B5C;\n",
              "      box-shadow: 0px 1px 3px 1px rgba(0, 0, 0, 0.15);\n",
              "      filter: drop-shadow(0px 1px 2px rgba(0, 0, 0, 0.3));\n",
              "      fill: #FFFFFF;\n",
              "    }\n",
              "  </style>\n",
              "\n",
              "      <script>\n",
              "        const buttonEl =\n",
              "          document.querySelector('#df-9ac08a33-4a08-45d6-807c-df3cd3663851 button.colab-df-convert');\n",
              "        buttonEl.style.display =\n",
              "          google.colab.kernel.accessAllowed ? 'block' : 'none';\n",
              "\n",
              "        async function convertToInteractive(key) {\n",
              "          const element = document.querySelector('#df-9ac08a33-4a08-45d6-807c-df3cd3663851');\n",
              "          const dataTable =\n",
              "            await google.colab.kernel.invokeFunction('convertToInteractive',\n",
              "                                                     [key], {});\n",
              "          if (!dataTable) return;\n",
              "\n",
              "          const docLinkHtml = 'Like what you see? Visit the ' +\n",
              "            '<a target=\"_blank\" href=https://colab.research.google.com/notebooks/data_table.ipynb>data table notebook</a>'\n",
              "            + ' to learn more about interactive tables.';\n",
              "          element.innerHTML = '';\n",
              "          dataTable['output_type'] = 'display_data';\n",
              "          await google.colab.output.renderOutput(dataTable, element);\n",
              "          const docLink = document.createElement('div');\n",
              "          docLink.innerHTML = docLinkHtml;\n",
              "          element.appendChild(docLink);\n",
              "        }\n",
              "      </script>\n",
              "    </div>\n",
              "  </div>\n",
              "  "
            ],
            "text/plain": [
              "               Token NameEntity\n",
              "0         ویکی‌پدیای          O\n",
              "1            انگلیسی          O\n",
              "2                 در      B-DAT\n",
              "3              تاریخ      I-DAT\n",
              "4                 ۱۵      I-DAT\n",
              "...              ...        ...\n",
              "10527407         روی          O\n",
              "10527408         میز          O\n",
              "10527409   گزارشگران          O\n",
              "10527410     کوبیدند          O\n",
              "10527411           .          O\n",
              "\n",
              "[10527412 rows x 2 columns]"
            ]
          },
          "execution_count": 6,
          "metadata": {},
          "output_type": "execute_result"
        }
      ],
      "source": [
        "tmp = mainCsv['All'].str.rsplit(\"\\t\", 1)\n",
        "dataWord = pd.DataFrame(list(tmp), columns = ['Token', 'NameEntity'])\n",
        "dataWord"
      ]
    },
    {
      "cell_type": "code",
      "execution_count": null,
      "metadata": {
        "colab": {
          "base_uri": "https://localhost:8080/",
          "height": 321
        },
        "id": "MhwyJAf41NMj",
        "outputId": "e8303fee-4cd5-4aa1-8a70-a286cfb65409"
      },
      "outputs": [
        {
          "data": {
            "text/plain": [
              "(-1.1033137785109566,\n",
              " 1.102811138826456,\n",
              " -1.1050851919181333,\n",
              " 1.1002421713451351)"
            ]
          },
          "execution_count": 33,
          "metadata": {},
          "output_type": "execute_result"
        },
        {
          "data": {
            "image/png": "[encoded data removed]",
            "text/plain": [
              "<Figure size 432x288 with 1 Axes>"
            ]
          },
          "metadata": {},
          "output_type": "display_data"
        }
      ],
      "source": [
        "x = dataWord['NameEntity'].value_counts()[1:-1]\n",
        "x = shuffle(x)\n",
        "fig1, ax1 = plt.subplots()\n",
        "ax1.pie(x.values, labels=x.keys(), autopct='%1.1f%%',shadow=True, startangle=90)\n",
        "ax1.axis('equal') "
      ]
    },
    {
      "cell_type": "code",
      "execution_count": null,
      "metadata": {
        "colab": {
          "base_uri": "https://localhost:8080/"
        },
        "id": "p2iNUxtd0GFz",
        "outputId": "9260cc61-c59b-442b-96fb-2f96ffcee00d"
      },
      "outputs": [
        {
          "data": {
            "text/plain": [
              "O        8728635\n",
              "I-DAT     383590\n",
              "B-DAT     294479\n",
              "B-LOC     252790\n",
              "I-PER     178051\n",
              "I-ORG     174526\n",
              "B-PER     164234\n",
              "I-LOC     158827\n",
              "B-ORG     113397\n",
              "I-EVE      51561\n",
              "B-EVE      27310\n",
              "Name: NameEntity, dtype: int64"
            ]
          },
          "execution_count": 8,
          "metadata": {},
          "output_type": "execute_result"
        }
      ],
      "source": [
        "dataWord['NameEntity'].value_counts()"
      ]
    },
    {
      "cell_type": "code",
      "execution_count": null,
      "metadata": {
        "colab": {
          "base_uri": "https://localhost:8080/"
        },
        "id": "FO1v7QOtRZXt",
        "outputId": "2ecad95f-204d-4b20-8a8f-97c333ed9ef4"
      },
      "outputs": [
        {
          "data": {
            "text/plain": [
              "Int64Index([ 1193638,  2569124,  2613297,  5508457,  7587616,  8104097,\n",
              "             8265958,  8566774,  8709133,  8753008,  8968246, 10258056],\n",
              "           dtype='int64')"
            ]
          },
          "execution_count": 9,
          "metadata": {},
          "output_type": "execute_result"
        }
      ],
      "source": [
        "nanIndices = dataWord['NameEntity'][dataWord['NameEntity'].isnull().values].index\n",
        "nanIndices"
      ]
    },
    {
      "cell_type": "code",
      "execution_count": null,
      "metadata": {
        "colab": {
          "base_uri": "https://localhost:8080/",
          "height": 426
        },
        "id": "n15vM0L4RpdZ",
        "outputId": "a84a1c9f-dc89-4eb7-87c8-a7c6399c59c5"
      },
      "outputs": [
        {
          "data": {
            "text/html": [
              "\n",
              "  <div id=\"df-3aa25467-2ae2-4292-bd32-1847dd80d88d\">\n",
              "    <div class=\"colab-df-container\">\n",
              "      <div>\n",
              "<style scoped>\n",
              "    .dataframe tbody tr th:only-of-type {\n",
              "        vertical-align: middle;\n",
              "    }\n",
              "\n",
              "    .dataframe tbody tr th {\n",
              "        vertical-align: top;\n",
              "    }\n",
              "\n",
              "    .dataframe thead th {\n",
              "        text-align: right;\n",
              "    }\n",
              "</style>\n",
              "<table border=\"1\" class=\"dataframe\">\n",
              "  <thead>\n",
              "    <tr style=\"text-align: right;\">\n",
              "      <th></th>\n",
              "      <th>Token</th>\n",
              "      <th>NameEntity</th>\n",
              "    </tr>\n",
              "  </thead>\n",
              "  <tbody>\n",
              "    <tr>\n",
              "      <th>1193638</th>\n",
              "      <td>http://turnbull.mcs.st-and.ac.uk/</td>\n",
              "      <td>None</td>\n",
              "    </tr>\n",
              "    <tr>\n",
              "      <th>2569124</th>\n",
              "      <td>http://kiau.ac.ir/</td>\n",
              "      <td>None</td>\n",
              "    </tr>\n",
              "    <tr>\n",
              "      <th>2613297</th>\n",
              "      <td>2</td>\n",
              "      <td>None</td>\n",
              "    </tr>\n",
              "    <tr>\n",
              "      <th>5508457</th>\n",
              "      <td>http://sharif.edu/</td>\n",
              "      <td>None</td>\n",
              "    </tr>\n",
              "    <tr>\n",
              "      <th>7587616</th>\n",
              "      <td>members.tripod.com/</td>\n",
              "      <td>None</td>\n",
              "    </tr>\n",
              "    <tr>\n",
              "      <th>8104097</th>\n",
              "      <td>http://www.rph.wa.gov.au/</td>\n",
              "      <td>None</td>\n",
              "    </tr>\n",
              "    <tr>\n",
              "      <th>8265958</th>\n",
              "      <td>http://sharif.edu/</td>\n",
              "      <td>None</td>\n",
              "    </tr>\n",
              "    <tr>\n",
              "      <th>8566774</th>\n",
              "      <td>http://web.eecs.umich.edu/</td>\n",
              "      <td>None</td>\n",
              "    </tr>\n",
              "    <tr>\n",
              "      <th>8709133</th>\n",
              "      <td>http://lisa.cs.duke.edu/</td>\n",
              "      <td>None</td>\n",
              "    </tr>\n",
              "    <tr>\n",
              "      <th>8753008</th>\n",
              "      <td>http://freepages.genealogy.rootsweb.ancestry.com/</td>\n",
              "      <td>None</td>\n",
              "    </tr>\n",
              "    <tr>\n",
              "      <th>8968246</th>\n",
              "      <td>http://www.mckusick.com/</td>\n",
              "      <td>None</td>\n",
              "    </tr>\n",
              "    <tr>\n",
              "      <th>10258056</th>\n",
              "      <td>www.cs.uvm.edu/</td>\n",
              "      <td>None</td>\n",
              "    </tr>\n",
              "  </tbody>\n",
              "</table>\n",
              "</div>\n",
              "      <button class=\"colab-df-convert\" onclick=\"convertToInteractive('df-3aa25467-2ae2-4292-bd32-1847dd80d88d')\"\n",
              "              title=\"Convert this dataframe to an interactive table.\"\n",
              "              style=\"display:none;\">\n",
              "        \n",
              "  <svg xmlns=\"http://www.w3.org/2000/svg\" height=\"24px\"viewBox=\"0 0 24 24\"\n",
              "       width=\"24px\">\n",
              "    <path d=\"M0 0h24v24H0V0z\" fill=\"none\"/>\n",
              "    <path d=\"M18.56 5.44l.94 2.06.94-2.06 2.06-.94-2.06-.94-.94-2.06-.94 2.06-2.06.94zm-11 1L8.5 8.5l.94-2.06 2.06-.94-2.06-.94L8.5 2.5l-.94 2.06-2.06.94zm10 10l.94 2.06.94-2.06 2.06-.94-2.06-.94-.94-2.06-.94 2.06-2.06.94z\"/><path d=\"M17.41 7.96l-1.37-1.37c-.4-.4-.92-.59-1.43-.59-.52 0-1.04.2-1.43.59L10.3 9.45l-7.72 7.72c-.78.78-.78 2.05 0 2.83L4 21.41c.39.39.9.59 1.41.59.51 0 1.02-.2 1.41-.59l7.78-7.78 2.81-2.81c.8-.78.8-2.07 0-2.86zM5.41 20L4 18.59l7.72-7.72 1.47 1.35L5.41 20z\"/>\n",
              "  </svg>\n",
              "      </button>\n",
              "      \n",
              "  <style>\n",
              "    .colab-df-container {\n",
              "      display:flex;\n",
              "      flex-wrap:wrap;\n",
              "      gap: 12px;\n",
              "    }\n",
              "\n",
              "    .colab-df-convert {\n",
              "      background-color: #E8F0FE;\n",
              "      border: none;\n",
              "      border-radius: 50%;\n",
              "      cursor: pointer;\n",
              "      display: none;\n",
              "      fill: #1967D2;\n",
              "      height: 32px;\n",
              "      padding: 0 0 0 0;\n",
              "      width: 32px;\n",
              "    }\n",
              "\n",
              "    .colab-df-convert:hover {\n",
              "      background-color: #E2EBFA;\n",
              "      box-shadow: 0px 1px 2px rgba(60, 64, 67, 0.3), 0px 1px 3px 1px rgba(60, 64, 67, 0.15);\n",
              "      fill: #174EA6;\n",
              "    }\n",
              "\n",
              "    [theme=dark] .colab-df-convert {\n",
              "      background-color: #3B4455;\n",
              "      fill: #D2E3FC;\n",
              "    }\n",
              "\n",
              "    [theme=dark] .colab-df-convert:hover {\n",
              "      background-color: #434B5C;\n",
              "      box-shadow: 0px 1px 3px 1px rgba(0, 0, 0, 0.15);\n",
              "      filter: drop-shadow(0px 1px 2px rgba(0, 0, 0, 0.3));\n",
              "      fill: #FFFFFF;\n",
              "    }\n",
              "  </style>\n",
              "\n",
              "      <script>\n",
              "        const buttonEl =\n",
              "          document.querySelector('#df-3aa25467-2ae2-4292-bd32-1847dd80d88d button.colab-df-convert');\n",
              "        buttonEl.style.display =\n",
              "          google.colab.kernel.accessAllowed ? 'block' : 'none';\n",
              "\n",
              "        async function convertToInteractive(key) {\n",
              "          const element = document.querySelector('#df-3aa25467-2ae2-4292-bd32-1847dd80d88d');\n",
              "          const dataTable =\n",
              "            await google.colab.kernel.invokeFunction('convertToInteractive',\n",
              "                                                     [key], {});\n",
              "          if (!dataTable) return;\n",
              "\n",
              "          const docLinkHtml = 'Like what you see? Visit the ' +\n",
              "            '<a target=\"_blank\" href=https://colab.research.google.com/notebooks/data_table.ipynb>data table notebook</a>'\n",
              "            + ' to learn more about interactive tables.';\n",
              "          element.innerHTML = '';\n",
              "          dataTable['output_type'] = 'display_data';\n",
              "          await google.colab.output.renderOutput(dataTable, element);\n",
              "          const docLink = document.createElement('div');\n",
              "          docLink.innerHTML = docLinkHtml;\n",
              "          element.appendChild(docLink);\n",
              "        }\n",
              "      </script>\n",
              "    </div>\n",
              "  </div>\n",
              "  "
            ],
            "text/plain": [
              "                                                      Token NameEntity\n",
              "1193638                   http://turnbull.mcs.st-and.ac.uk/       None\n",
              "2569124                                  http://kiau.ac.ir/       None\n",
              "2613297                                                   2       None\n",
              "5508457                                  http://sharif.edu/       None\n",
              "7587616                                 members.tripod.com/       None\n",
              "8104097                           http://www.rph.wa.gov.au/       None\n",
              "8265958                                  http://sharif.edu/       None\n",
              "8566774                          http://web.eecs.umich.edu/       None\n",
              "8709133                            http://lisa.cs.duke.edu/       None\n",
              "8753008   http://freepages.genealogy.rootsweb.ancestry.com/       None\n",
              "8968246                            http://www.mckusick.com/       None\n",
              "10258056                                    www.cs.uvm.edu/       None"
            ]
          },
          "execution_count": 10,
          "metadata": {},
          "output_type": "execute_result"
        }
      ],
      "source": [
        "dataWord.iloc[nanIndices]"
      ]
    },
    {
      "cell_type": "code",
      "execution_count": null,
      "metadata": {
        "id": "ij8IMAqJRpw5"
      },
      "outputs": [],
      "source": [
        "dataWord = dataWord.dropna()\n",
        "dataWord = dataWord.reset_index(drop = True)"
      ]
    },
    {
      "cell_type": "code",
      "execution_count": null,
      "metadata": {
        "id": "n5_rbAozRp11"
      },
      "outputs": [],
      "source": [
        "def makeSentences(dotIndices, data):\n",
        "  columns = ['Text', 'Label']\n",
        "  df= []\n",
        "  begin = 0\n",
        "  for i in range(len(dotIndices)):\n",
        "    tmp = data.iloc[begin:dotIndices[i]]\n",
        "    begin = dotIndices[i] + 1\n",
        "    _list=[]\n",
        "    _list.append(' '.join(list(tmp['Token'])))\n",
        "    _list.append(' '.join(list(tmp['NameEntity'])))\n",
        "    df.append(_list)\n",
        "  df= pd.DataFrame(df,columns=list(columns))\n",
        "  return df"
      ]
    },
    {
      "cell_type": "code",
      "execution_count": null,
      "metadata": {
        "id": "Dqp8lI2O9Ube"
      },
      "outputs": [],
      "source": [
        "def bad_token_indices(tokens): #inja / ro ham gozashti khaaaaak \n",
        "  bads = []\n",
        "  badChars = ['(', ')', ' ', '[', ']', '{', '}', ';', ':', '،', '-', '>', '<', '?', '!', '=', '\\'', '\\\"', '@', '#']\n",
        "  for i in range(len(tokens)):\n",
        "    for badChar in badChars:\n",
        "      if(badChar in tokens.iloc[i] and '.' not in tokens.iloc[i]):\n",
        "        bads.append(i)\n",
        "        break\n",
        "  return bads"
      ]
    },
    {
      "cell_type": "code",
      "execution_count": null,
      "metadata": {
        "id": "ECos-29gFPG9"
      },
      "outputs": [],
      "source": [
        "badTokenIndices = bad_token_indices(dataWord['Token'])"
      ]
    },
    {
      "cell_type": "code",
      "execution_count": null,
      "metadata": {
        "id": "ytg0tgzz9Wvj"
      },
      "outputs": [],
      "source": [
        "np.save('/content/drive/MyDrive/NerDatas/innerInputs/badTokenIndices.np', np.array(badTokenIndices))"
      ]
    },
    {
      "cell_type": "code",
      "execution_count": null,
      "metadata": {
        "id": "LKhgZNwm-zRW"
      },
      "outputs": [],
      "source": [
        "badTokenIndices = np.load('/content/drive/MyDrive/NerDatas/innerInputs/badTokenIndices.np.npy')"
      ]
    },
    {
      "cell_type": "code",
      "execution_count": null,
      "metadata": {
        "id": "lIb04cTwGXB_"
      },
      "outputs": [],
      "source": [
        "dataWord.drop(labels = badTokenIndices, axis = 0, inplace=True)"
      ]
    },
    {
      "cell_type": "code",
      "execution_count": null,
      "metadata": {
        "id": "CmPa2MzbK6JR"
      },
      "outputs": [],
      "source": [
        "dataWord = dataWord.reset_index(drop = True)"
      ]
    },
    {
      "cell_type": "code",
      "execution_count": null,
      "metadata": {
        "id": "5H-6lUKfr3mN"
      },
      "outputs": [],
      "source": [
        "def calc_average_list  "
      ]
    },
    {
      "cell_type": "code",
      "execution_count": null,
      "metadata": {
        "id": "inmlLxCoLQNV"
      },
      "outputs": [],
      "source": [
        "def label_to_one_hot(value):\n",
        "  list_classes = ['O', 'B-DAT', 'I-DAT', 'B-LOC', 'I-LOC', 'B-PER', 'I-PER', 'B-ORG', 'I-ORG', 'B-EVE', 'I-EVE']\n",
        "  if value == list_classes[0]:\n",
        "    return [1, 0, 0, 0, 0, 0, 0, 0, 0, 0, 0]\n",
        "  if value == list_classes[1]:\n",
        "    return [0, 1, 0, 0, 0, 0, 0, 0, 0, 0, 0]\n",
        "  if value == list_classes[2]:\n",
        "    return [0, 0, 1, 0, 0, 0, 0, 0, 0, 0, 0]\n",
        "  if value == list_classes[3]:\n",
        "    return [0, 0, 0, 1, 0, 0, 0, 0, 0, 0, 0]\n",
        "  if value == list_classes[4]:\n",
        "    return [0, 0, 0, 0, 1, 0, 0, 0, 0, 0, 0]\n",
        "  if value == list_classes[5]:\n",
        "    return [0, 0, 0, 0, 0, 1, 0, 0, 0, 0, 0]\n",
        "  if value == list_classes[6]:\n",
        "    return [0, 0, 0, 0, 0, 0, 1, 0, 0, 0, 0]\n",
        "  if value == list_classes[7]:\n",
        "    return [0, 0, 0, 0, 0, 0, 0, 1, 0, 0, 0]\n",
        "  if value == list_classes[8]:\n",
        "    return [0, 0, 0, 0, 0, 0, 0, 0, 1, 0, 0]\n",
        "  if value == list_classes[9]:\n",
        "    return [0, 0, 0, 0, 0, 0, 0, 0, 0, 1, 0]\n",
        "  if value == list_classes[10]:\n",
        "    return [0, 0, 0, 0, 0, 0, 0, 0, 0, 0, 1]"
      ]
    },
    {
      "cell_type": "code",
      "execution_count": null,
      "metadata": {
        "id": "PGN-LgfM-gFk"
      },
      "outputs": [],
      "source": [
        "def removeBadSentences(X, Y):\n",
        "  newX = []\n",
        "  newY = []\n",
        "  indices = []\n",
        "  ind = -1\n",
        "\n",
        "  for x, y in zip(X, Y):\n",
        "    ind += 1\n",
        "    if len(x) == len(y):\n",
        "      indices.append(ind)\n",
        "      newX.append(x)\n",
        "      newY.append(y)\n",
        "\n",
        "  return newX, newY, indices"
      ]
    },
    {
      "cell_type": "code",
      "execution_count": null,
      "metadata": {
        "id": "l9l40dTCBQbC"
      },
      "outputs": [],
      "source": [
        "def badPercentage(x, y):\n",
        "  ind = -1\n",
        "  notEquallen = 0\n",
        "\n",
        "  for a,b in zip(x, y):\n",
        "    ind += 1\n",
        "    if len(a) != len(b):\n",
        "      notEquallen += 1\n",
        "\n",
        "  return notEquallen / len(list_tokenized_train)"
      ]
    },
    {
      "cell_type": "code",
      "execution_count": null,
      "metadata": {
        "id": "KGMKmTbh9J2R"
      },
      "outputs": [],
      "source": [
        ""
      ]
    },
    {
      "cell_type": "code",
      "execution_count": null,
      "metadata": {
        "id": "bE1WXCPMQv95"
      },
      "outputs": [],
      "source": [
        "dotIndices = list(dataWord['Token'][dataWord['Token'] == '.'].index)\n",
        "dataSentences = makeSentences(dotIndices, dataWord)"
      ]
    },
    {
      "cell_type": "code",
      "execution_count": null,
      "metadata": {
        "colab": {
          "base_uri": "https://localhost:8080/",
          "height": 424
        },
        "id": "uM5QotTpY06r",
        "outputId": "3846d91d-90d6-4376-d315-2a5e8697555a"
      },
      "outputs": [
        {
          "data": {
            "text/html": [
              "\n",
              "  <div id=\"df-73822b33-730e-4f2f-8032-41c04393e02c\">\n",
              "    <div class=\"colab-df-container\">\n",
              "      <div>\n",
              "<style scoped>\n",
              "    .dataframe tbody tr th:only-of-type {\n",
              "        vertical-align: middle;\n",
              "    }\n",
              "\n",
              "    .dataframe tbody tr th {\n",
              "        vertical-align: top;\n",
              "    }\n",
              "\n",
              "    .dataframe thead th {\n",
              "        text-align: right;\n",
              "    }\n",
              "</style>\n",
              "<table border=\"1\" class=\"dataframe\">\n",
              "  <thead>\n",
              "    <tr style=\"text-align: right;\">\n",
              "      <th></th>\n",
              "      <th>Text</th>\n",
              "      <th>Label</th>\n",
              "    </tr>\n",
              "  </thead>\n",
              "  <tbody>\n",
              "    <tr>\n",
              "      <th>0</th>\n",
              "      <td>ویکی‌پدیای انگلیسی در تاریخ ۱۵ ژانویه ۲۰۰۱ میل...</td>\n",
              "      <td>O O B-DAT I-DAT I-DAT I-DAT I-DAT B-DAT B-DAT ...</td>\n",
              "    </tr>\n",
              "    <tr>\n",
              "      <th>1</th>\n",
              "      <td>بنیان‌گذاران آن جیمی ولز و لری سنگر هستند</td>\n",
              "      <td>O O B-PER I-PER O B-PER I-PER O</td>\n",
              "    </tr>\n",
              "    <tr>\n",
              "      <th>2</th>\n",
              "      <td>هم‌اکنون بنیاد غیرانتفاعی بنیاد ویکی‌مدیا پروژ...</td>\n",
              "      <td>O O O B-ORG I-ORG O O O O O</td>\n",
              "    </tr>\n",
              "    <tr>\n",
              "      <th>3</th>\n",
              "      <td>کارساز وب اصلی این وبگاه در شهر تامپا ی فلورید...</td>\n",
              "      <td>O O O O O O O B-LOC O B-LOC O</td>\n",
              "    </tr>\n",
              "    <tr>\n",
              "      <th>4</th>\n",
              "      <td>همچنین میزبان‌های اضافی دیگری هم در شهرهای آمس...</td>\n",
              "      <td>O O O O O O O B-LOC O B-LOC O O O O O</td>\n",
              "    </tr>\n",
              "    <tr>\n",
              "      <th>...</th>\n",
              "      <td>...</td>\n",
              "      <td>...</td>\n",
              "    </tr>\n",
              "    <tr>\n",
              "      <th>400326</th>\n",
              "      <td>۲۰۱۳ درگذشت و آندرتیکر و کین برای او مراسم یاد...</td>\n",
              "      <td>O O O B-ORG I-ORG I-ORG O O O O O</td>\n",
              "    </tr>\n",
              "    <tr>\n",
              "      <th>400327</th>\n",
              "      <td>در تاریخ ۲۳ ژوئیه ۲۰۱۲ در‌حین اجرای شوی WWE را...</td>\n",
              "      <td>B-DAT I-DAT B-DAT I-DAT I-DAT O O O O O O O O ...</td>\n",
              "    </tr>\n",
              "    <tr>\n",
              "      <th>400328</th>\n",
              "      <td>در سال بعد ۲۰۱۳ کمی قبل از رستلمنیا ۲۹ پول بیر...</td>\n",
              "      <td>B-DAT B-DAT I-DAT O O O O B-EVE I-EVE O O O O ...</td>\n",
              "    </tr>\n",
              "    <tr>\n",
              "      <th>400329</th>\n",
              "      <td>در رستلمنیا ۲۹ یک مسابقه بین آندرتیکر و CM پان...</td>\n",
              "      <td>O B-EVE I-EVE O O O O O O O O O O O O O O O O ...</td>\n",
              "    </tr>\n",
              "    <tr>\n",
              "      <th>400330</th>\n",
              "      <td>اما پس از مسابقه گروه شیلد آندرتیکر را روی میز...</td>\n",
              "      <td>O O O O B-ORG I-ORG O O O O O O</td>\n",
              "    </tr>\n",
              "  </tbody>\n",
              "</table>\n",
              "<p>400331 rows × 2 columns</p>\n",
              "</div>\n",
              "      <button class=\"colab-df-convert\" onclick=\"convertToInteractive('df-73822b33-730e-4f2f-8032-41c04393e02c')\"\n",
              "              title=\"Convert this dataframe to an interactive table.\"\n",
              "              style=\"display:none;\">\n",
              "        \n",
              "  <svg xmlns=\"http://www.w3.org/2000/svg\" height=\"24px\"viewBox=\"0 0 24 24\"\n",
              "       width=\"24px\">\n",
              "    <path d=\"M0 0h24v24H0V0z\" fill=\"none\"/>\n",
              "    <path d=\"M18.56 5.44l.94 2.06.94-2.06 2.06-.94-2.06-.94-.94-2.06-.94 2.06-2.06.94zm-11 1L8.5 8.5l.94-2.06 2.06-.94-2.06-.94L8.5 2.5l-.94 2.06-2.06.94zm10 10l.94 2.06.94-2.06 2.06-.94-2.06-.94-.94-2.06-.94 2.06-2.06.94z\"/><path d=\"M17.41 7.96l-1.37-1.37c-.4-.4-.92-.59-1.43-.59-.52 0-1.04.2-1.43.59L10.3 9.45l-7.72 7.72c-.78.78-.78 2.05 0 2.83L4 21.41c.39.39.9.59 1.41.59.51 0 1.02-.2 1.41-.59l7.78-7.78 2.81-2.81c.8-.78.8-2.07 0-2.86zM5.41 20L4 18.59l7.72-7.72 1.47 1.35L5.41 20z\"/>\n",
              "  </svg>\n",
              "      </button>\n",
              "      \n",
              "  <style>\n",
              "    .colab-df-container {\n",
              "      display:flex;\n",
              "      flex-wrap:wrap;\n",
              "      gap: 12px;\n",
              "    }\n",
              "\n",
              "    .colab-df-convert {\n",
              "      background-color: #E8F0FE;\n",
              "      border: none;\n",
              "      border-radius: 50%;\n",
              "      cursor: pointer;\n",
              "      display: none;\n",
              "      fill: #1967D2;\n",
              "      height: 32px;\n",
              "      padding: 0 0 0 0;\n",
              "      width: 32px;\n",
              "    }\n",
              "\n",
              "    .colab-df-convert:hover {\n",
              "      background-color: #E2EBFA;\n",
              "      box-shadow: 0px 1px 2px rgba(60, 64, 67, 0.3), 0px 1px 3px 1px rgba(60, 64, 67, 0.15);\n",
              "      fill: #174EA6;\n",
              "    }\n",
              "\n",
              "    [theme=dark] .colab-df-convert {\n",
              "      background-color: #3B4455;\n",
              "      fill: #D2E3FC;\n",
              "    }\n",
              "\n",
              "    [theme=dark] .colab-df-convert:hover {\n",
              "      background-color: #434B5C;\n",
              "      box-shadow: 0px 1px 3px 1px rgba(0, 0, 0, 0.15);\n",
              "      filter: drop-shadow(0px 1px 2px rgba(0, 0, 0, 0.3));\n",
              "      fill: #FFFFFF;\n",
              "    }\n",
              "  </style>\n",
              "\n",
              "      <script>\n",
              "        const buttonEl =\n",
              "          document.querySelector('#df-73822b33-730e-4f2f-8032-41c04393e02c button.colab-df-convert');\n",
              "        buttonEl.style.display =\n",
              "          google.colab.kernel.accessAllowed ? 'block' : 'none';\n",
              "\n",
              "        async function convertToInteractive(key) {\n",
              "          const element = document.querySelector('#df-73822b33-730e-4f2f-8032-41c04393e02c');\n",
              "          const dataTable =\n",
              "            await google.colab.kernel.invokeFunction('convertToInteractive',\n",
              "                                                     [key], {});\n",
              "          if (!dataTable) return;\n",
              "\n",
              "          const docLinkHtml = 'Like what you see? Visit the ' +\n",
              "            '<a target=\"_blank\" href=https://colab.research.google.com/notebooks/data_table.ipynb>data table notebook</a>'\n",
              "            + ' to learn more about interactive tables.';\n",
              "          element.innerHTML = '';\n",
              "          dataTable['output_type'] = 'display_data';\n",
              "          await google.colab.output.renderOutput(dataTable, element);\n",
              "          const docLink = document.createElement('div');\n",
              "          docLink.innerHTML = docLinkHtml;\n",
              "          element.appendChild(docLink);\n",
              "        }\n",
              "      </script>\n",
              "    </div>\n",
              "  </div>\n",
              "  "
            ],
            "text/plain": [
              "                                                     Text  \\\n",
              "0       ویکی‌پدیای انگلیسی در تاریخ ۱۵ ژانویه ۲۰۰۱ میل...   \n",
              "1               بنیان‌گذاران آن جیمی ولز و لری سنگر هستند   \n",
              "2       هم‌اکنون بنیاد غیرانتفاعی بنیاد ویکی‌مدیا پروژ...   \n",
              "3       کارساز وب اصلی این وبگاه در شهر تامپا ی فلورید...   \n",
              "4       همچنین میزبان‌های اضافی دیگری هم در شهرهای آمس...   \n",
              "...                                                   ...   \n",
              "400326  ۲۰۱۳ درگذشت و آندرتیکر و کین برای او مراسم یاد...   \n",
              "400327  در تاریخ ۲۳ ژوئیه ۲۰۱۲ در‌حین اجرای شوی WWE را...   \n",
              "400328  در سال بعد ۲۰۱۳ کمی قبل از رستلمنیا ۲۹ پول بیر...   \n",
              "400329  در رستلمنیا ۲۹ یک مسابقه بین آندرتیکر و CM پان...   \n",
              "400330  اما پس از مسابقه گروه شیلد آندرتیکر را روی میز...   \n",
              "\n",
              "                                                    Label  \n",
              "0       O O B-DAT I-DAT I-DAT I-DAT I-DAT B-DAT B-DAT ...  \n",
              "1                         O O B-PER I-PER O B-PER I-PER O  \n",
              "2                             O O O B-ORG I-ORG O O O O O  \n",
              "3                           O O O O O O O B-LOC O B-LOC O  \n",
              "4                   O O O O O O O B-LOC O B-LOC O O O O O  \n",
              "...                                                   ...  \n",
              "400326                  O O O B-ORG I-ORG I-ORG O O O O O  \n",
              "400327  B-DAT I-DAT B-DAT I-DAT I-DAT O O O O O O O O ...  \n",
              "400328  B-DAT B-DAT I-DAT O O O O B-EVE I-EVE O O O O ...  \n",
              "400329  O B-EVE I-EVE O O O O O O O O O O O O O O O O ...  \n",
              "400330                    O O O O B-ORG I-ORG O O O O O O  \n",
              "\n",
              "[400331 rows x 2 columns]"
            ]
          },
          "execution_count": 27,
          "metadata": {},
          "output_type": "execute_result"
        }
      ],
      "source": [
        "dataSentences"
      ]
    },
    {
      "cell_type": "markdown",
      "metadata": {
        "id": "0cAxAw4VNbFd"
      },
      "source": [
        "## Split data into X and y"
      ]
    },
    {
      "cell_type": "code",
      "execution_count": null,
      "metadata": {
        "id": "8RM1P3zURp8_"
      },
      "outputs": [],
      "source": [
        "yLabel = dataSentences['Label']\n",
        "sentences = dataSentences['Text']"
      ]
    },
    {
      "cell_type": "markdown",
      "metadata": {
        "id": "awfBkucY-LGR"
      },
      "source": [
        "## Tokenization"
      ]
    },
    {
      "cell_type": "code",
      "execution_count": null,
      "metadata": {
        "id": "HJq4GGarPCGH"
      },
      "outputs": [],
      "source": [
        "max_features = 750025   # changeable\n",
        "tokenizer = Tokenizer(num_words=max_features)\n",
        "tokenizer.fit_on_texts(list(sentences))\n",
        "list_tokenized_train = tokenizer.texts_to_sequences(sentences)\n",
        "\n",
        "y = [[label_to_one_hot(c) for c in ey.split(' ')] for ey in yLabel]"
      ]
    },
    {
      "cell_type": "code",
      "execution_count": null,
      "metadata": {
        "colab": {
          "base_uri": "https://localhost:8080/",
          "height": 265
        },
        "id": "aR6_vH_kM6hs",
        "outputId": "3406162a-bb75-40fd-d106-c7e805c03a45"
      },
      "outputs": [
        {
          "data": {
            "image/png": "[encoded data removed]",
            "text/plain": [
              "<Figure size 432x288 with 1 Axes>"
            ]
          },
          "metadata": {},
          "output_type": "display_data"
        }
      ],
      "source": [
        "senLens = [len(sen) for sen in list_tokenized_train]\n",
        "plt.hist(senLens, bins = np.arange(0,120,5))\n",
        "plt.show()"
      ]
    },
    {
      "cell_type": "markdown",
      "metadata": {
        "id": "r7Eg-wJBAxsP"
      },
      "source": [
        "## Find bad Sentences and remove them "
      ]
    },
    {
      "cell_type": "code",
      "execution_count": null,
      "metadata": {
        "colab": {
          "base_uri": "https://localhost:8080/"
        },
        "id": "1AQDdf4-NcMi",
        "outputId": "ec9ace2e-f594-4414-cd2c-658d60cbdd3d"
      },
      "outputs": [
        {
          "data": {
            "text/plain": [
              "0.0"
            ]
          },
          "execution_count": 42,
          "metadata": {},
          "output_type": "execute_result"
        }
      ],
      "source": [
        "badPercentage(list_tokenized_train, y)"
      ]
    },
    {
      "cell_type": "code",
      "execution_count": null,
      "metadata": {
        "id": "tL22lWe4NcO8"
      },
      "outputs": [],
      "source": [
        "list_tokenized_train, y, goodIndices = removeBadSentences(list_tokenized_train, y)"
      ]
    },
    {
      "cell_type": "code",
      "execution_count": null,
      "metadata": {
        "colab": {
          "base_uri": "https://localhost:8080/"
        },
        "id": "4jDzC7oqNcRd",
        "outputId": "2ce93949-151f-4fb3-c7b6-62d86916e0e1"
      },
      "outputs": [
        {
          "data": {
            "text/plain": [
              "0.0"
            ]
          },
          "execution_count": 41,
          "metadata": {},
          "output_type": "execute_result"
        }
      ],
      "source": [
        "badPercentage(list_tokenized_train, y)"
      ]
    },
    {
      "cell_type": "code",
      "execution_count": null,
      "metadata": {
        "id": "foBnkHfSNcWN"
      },
      "outputs": [],
      "source": [
        "dataWord = dataWord.iloc[goodIndices]              #run once...\n",
        "dataSentenses = dataSentenses.iloc[goodIndices]"
      ]
    },
    {
      "cell_type": "code",
      "execution_count": null,
      "metadata": {
        "id": "-tnInV66k1Il"
      },
      "outputs": [],
      "source": [
        "dataSentenses = dataSentenses.reset_index(drop = True)"
      ]
    },
    {
      "cell_type": "code",
      "execution_count": null,
      "metadata": {
        "id": "g5HmBWEkWbfp"
      },
      "outputs": [],
      "source": [
        "sentences = sentences.iloc[goodIndices]            #run once...\n"
      ]
    },
    {
      "cell_type": "code",
      "execution_count": null,
      "metadata": {
        "id": "9KYBFF59YGFS"
      },
      "outputs": [],
      "source": [
        "dataSentences = dataSentences.iloc[goodIndices]     #run once..."
      ]
    },
    {
      "cell_type": "code",
      "execution_count": null,
      "metadata": {
        "id": "SKJ_gvFJYGHg"
      },
      "outputs": [],
      "source": [
        "dataSentences = dataSentences.reset_index(drop = True)  #run once..."
      ]
    },
    {
      "cell_type": "code",
      "execution_count": null,
      "metadata": {
        "id": "6S0sXh_QYc3h"
      },
      "outputs": [],
      "source": [
        "dataSentences"
      ]
    },
    {
      "cell_type": "code",
      "execution_count": null,
      "metadata": {
        "colab": {
          "base_uri": "https://localhost:8080/"
        },
        "id": "M5czoMbWXvYu",
        "outputId": "89dd2d80-246b-40c2-9334-e47fde2b46a8"
      },
      "outputs": [
        {
          "data": {
            "text/plain": [
              "390935"
            ]
          },
          "execution_count": 84,
          "metadata": {},
          "output_type": "execute_result"
        }
      ],
      "source": [
        "len(sentences)"
      ]
    },
    {
      "cell_type": "code",
      "execution_count": null,
      "metadata": {
        "colab": {
          "base_uri": "https://localhost:8080/"
        },
        "id": "WLPh-YplSe3B",
        "outputId": "b7489037-f3fe-4eba-c1b0-bda2b303f0ff"
      },
      "outputs": [
        {
          "data": {
            "text/plain": [
              "390935"
            ]
          },
          "execution_count": 56,
          "metadata": {},
          "output_type": "execute_result"
        }
      ],
      "source": [
        "senLens = [len(sen) for sen in list_tokenized_train]\n",
        "len(senLens)"
      ]
    },
    {
      "cell_type": "code",
      "execution_count": null,
      "metadata": {
        "colab": {
          "base_uri": "https://localhost:8080/"
        },
        "id": "qE9aGX5V8isc",
        "outputId": "844c7d45-3795-4e17-8039-f71a286cded3"
      },
      "outputs": [
        {
          "data": {
            "text/plain": [
              "400331"
            ]
          },
          "execution_count": 73,
          "metadata": {},
          "output_type": "execute_result"
        }
      ],
      "source": [
        ""
      ]
    },
    {
      "cell_type": "code",
      "execution_count": null,
      "metadata": {
        "colab": {
          "base_uri": "https://localhost:8080/",
          "height": 424
        },
        "id": "TEIIX-TF40ec",
        "outputId": "f0383884-34d1-424b-b068-2042e8533f7c"
      },
      "outputs": [
        {
          "data": {
            "text/html": [
              "\n",
              "  <div id=\"df-9527a97e-6d04-412d-81cc-84321ddf58ab\">\n",
              "    <div class=\"colab-df-container\">\n",
              "      <div>\n",
              "<style scoped>\n",
              "    .dataframe tbody tr th:only-of-type {\n",
              "        vertical-align: middle;\n",
              "    }\n",
              "\n",
              "    .dataframe tbody tr th {\n",
              "        vertical-align: top;\n",
              "    }\n",
              "\n",
              "    .dataframe thead th {\n",
              "        text-align: right;\n",
              "    }\n",
              "</style>\n",
              "<table border=\"1\" class=\"dataframe\">\n",
              "  <thead>\n",
              "    <tr style=\"text-align: right;\">\n",
              "      <th></th>\n",
              "      <th>Lens</th>\n",
              "      <th>O_Count</th>\n",
              "    </tr>\n",
              "  </thead>\n",
              "  <tbody>\n",
              "    <tr>\n",
              "      <th>0</th>\n",
              "      <td>20</td>\n",
              "      <td>11</td>\n",
              "    </tr>\n",
              "    <tr>\n",
              "      <th>1</th>\n",
              "      <td>8</td>\n",
              "      <td>4</td>\n",
              "    </tr>\n",
              "    <tr>\n",
              "      <th>2</th>\n",
              "      <td>10</td>\n",
              "      <td>10</td>\n",
              "    </tr>\n",
              "    <tr>\n",
              "      <th>3</th>\n",
              "      <td>11</td>\n",
              "      <td>11</td>\n",
              "    </tr>\n",
              "    <tr>\n",
              "      <th>4</th>\n",
              "      <td>15</td>\n",
              "      <td>15</td>\n",
              "    </tr>\n",
              "    <tr>\n",
              "      <th>...</th>\n",
              "      <td>...</td>\n",
              "      <td>...</td>\n",
              "    </tr>\n",
              "    <tr>\n",
              "      <th>390930</th>\n",
              "      <td>11</td>\n",
              "      <td>11</td>\n",
              "    </tr>\n",
              "    <tr>\n",
              "      <th>390931</th>\n",
              "      <td>45</td>\n",
              "      <td>40</td>\n",
              "    </tr>\n",
              "    <tr>\n",
              "      <th>390932</th>\n",
              "      <td>30</td>\n",
              "      <td>25</td>\n",
              "    </tr>\n",
              "    <tr>\n",
              "      <th>390933</th>\n",
              "      <td>28</td>\n",
              "      <td>25</td>\n",
              "    </tr>\n",
              "    <tr>\n",
              "      <th>390934</th>\n",
              "      <td>12</td>\n",
              "      <td>12</td>\n",
              "    </tr>\n",
              "  </tbody>\n",
              "</table>\n",
              "<p>390935 rows × 2 columns</p>\n",
              "</div>\n",
              "      <button class=\"colab-df-convert\" onclick=\"convertToInteractive('df-9527a97e-6d04-412d-81cc-84321ddf58ab')\"\n",
              "              title=\"Convert this dataframe to an interactive table.\"\n",
              "              style=\"display:none;\">\n",
              "        \n",
              "  <svg xmlns=\"http://www.w3.org/2000/svg\" height=\"24px\"viewBox=\"0 0 24 24\"\n",
              "       width=\"24px\">\n",
              "    <path d=\"M0 0h24v24H0V0z\" fill=\"none\"/>\n",
              "    <path d=\"M18.56 5.44l.94 2.06.94-2.06 2.06-.94-2.06-.94-.94-2.06-.94 2.06-2.06.94zm-11 1L8.5 8.5l.94-2.06 2.06-.94-2.06-.94L8.5 2.5l-.94 2.06-2.06.94zm10 10l.94 2.06.94-2.06 2.06-.94-2.06-.94-.94-2.06-.94 2.06-2.06.94z\"/><path d=\"M17.41 7.96l-1.37-1.37c-.4-.4-.92-.59-1.43-.59-.52 0-1.04.2-1.43.59L10.3 9.45l-7.72 7.72c-.78.78-.78 2.05 0 2.83L4 21.41c.39.39.9.59 1.41.59.51 0 1.02-.2 1.41-.59l7.78-7.78 2.81-2.81c.8-.78.8-2.07 0-2.86zM5.41 20L4 18.59l7.72-7.72 1.47 1.35L5.41 20z\"/>\n",
              "  </svg>\n",
              "      </button>\n",
              "      \n",
              "  <style>\n",
              "    .colab-df-container {\n",
              "      display:flex;\n",
              "      flex-wrap:wrap;\n",
              "      gap: 12px;\n",
              "    }\n",
              "\n",
              "    .colab-df-convert {\n",
              "      background-color: #E8F0FE;\n",
              "      border: none;\n",
              "      border-radius: 50%;\n",
              "      cursor: pointer;\n",
              "      display: none;\n",
              "      fill: #1967D2;\n",
              "      height: 32px;\n",
              "      padding: 0 0 0 0;\n",
              "      width: 32px;\n",
              "    }\n",
              "\n",
              "    .colab-df-convert:hover {\n",
              "      background-color: #E2EBFA;\n",
              "      box-shadow: 0px 1px 2px rgba(60, 64, 67, 0.3), 0px 1px 3px 1px rgba(60, 64, 67, 0.15);\n",
              "      fill: #174EA6;\n",
              "    }\n",
              "\n",
              "    [theme=dark] .colab-df-convert {\n",
              "      background-color: #3B4455;\n",
              "      fill: #D2E3FC;\n",
              "    }\n",
              "\n",
              "    [theme=dark] .colab-df-convert:hover {\n",
              "      background-color: #434B5C;\n",
              "      box-shadow: 0px 1px 3px 1px rgba(0, 0, 0, 0.15);\n",
              "      filter: drop-shadow(0px 1px 2px rgba(0, 0, 0, 0.3));\n",
              "      fill: #FFFFFF;\n",
              "    }\n",
              "  </style>\n",
              "\n",
              "      <script>\n",
              "        const buttonEl =\n",
              "          document.querySelector('#df-9527a97e-6d04-412d-81cc-84321ddf58ab button.colab-df-convert');\n",
              "        buttonEl.style.display =\n",
              "          google.colab.kernel.accessAllowed ? 'block' : 'none';\n",
              "\n",
              "        async function convertToInteractive(key) {\n",
              "          const element = document.querySelector('#df-9527a97e-6d04-412d-81cc-84321ddf58ab');\n",
              "          const dataTable =\n",
              "            await google.colab.kernel.invokeFunction('convertToInteractive',\n",
              "                                                     [key], {});\n",
              "          if (!dataTable) return;\n",
              "\n",
              "          const docLinkHtml = 'Like what you see? Visit the ' +\n",
              "            '<a target=\"_blank\" href=https://colab.research.google.com/notebooks/data_table.ipynb>data table notebook</a>'\n",
              "            + ' to learn more about interactive tables.';\n",
              "          element.innerHTML = '';\n",
              "          dataTable['output_type'] = 'display_data';\n",
              "          await google.colab.output.renderOutput(dataTable, element);\n",
              "          const docLink = document.createElement('div');\n",
              "          docLink.innerHTML = docLinkHtml;\n",
              "          element.appendChild(docLink);\n",
              "        }\n",
              "      </script>\n",
              "    </div>\n",
              "  </div>\n",
              "  "
            ],
            "text/plain": [
              "        Lens  O_Count\n",
              "0         20       11\n",
              "1          8        4\n",
              "2         10       10\n",
              "3         11       11\n",
              "4         15       15\n",
              "...      ...      ...\n",
              "390930    11       11\n",
              "390931    45       40\n",
              "390932    30       25\n",
              "390933    28       25\n",
              "390934    12       12\n",
              "\n",
              "[390935 rows x 2 columns]"
            ]
          },
          "execution_count": 94,
          "metadata": {},
          "output_type": "execute_result"
        }
      ],
      "source": [
        "senInfo = pd.DataFrame()\n",
        "senInfo['Lens'] = senLens\n",
        "senInfo['O_Count'] = list(dataSentences['Label'].str.count('O'))\n",
        "senInfo"
      ]
    },
    {
      "cell_type": "code",
      "execution_count": null,
      "metadata": {
        "colab": {
          "base_uri": "https://localhost:8080/",
          "height": 424
        },
        "id": "_TccXpqm6ObP",
        "outputId": "40373de7-f33c-44de-c6c1-ca3bb6da9084"
      },
      "outputs": [
        {
          "data": {
            "text/html": [
              "\n",
              "  <div id=\"df-7fcddba7-e1ce-42e8-a8d6-20dece36e5d8\">\n",
              "    <div class=\"colab-df-container\">\n",
              "      <div>\n",
              "<style scoped>\n",
              "    .dataframe tbody tr th:only-of-type {\n",
              "        vertical-align: middle;\n",
              "    }\n",
              "\n",
              "    .dataframe tbody tr th {\n",
              "        vertical-align: top;\n",
              "    }\n",
              "\n",
              "    .dataframe thead th {\n",
              "        text-align: right;\n",
              "    }\n",
              "</style>\n",
              "<table border=\"1\" class=\"dataframe\">\n",
              "  <thead>\n",
              "    <tr style=\"text-align: right;\">\n",
              "      <th></th>\n",
              "      <th>Lens</th>\n",
              "      <th>O_Count</th>\n",
              "      <th>NE_Count</th>\n",
              "    </tr>\n",
              "  </thead>\n",
              "  <tbody>\n",
              "    <tr>\n",
              "      <th>0</th>\n",
              "      <td>20</td>\n",
              "      <td>11</td>\n",
              "      <td>9</td>\n",
              "    </tr>\n",
              "    <tr>\n",
              "      <th>1</th>\n",
              "      <td>8</td>\n",
              "      <td>4</td>\n",
              "      <td>4</td>\n",
              "    </tr>\n",
              "    <tr>\n",
              "      <th>2</th>\n",
              "      <td>10</td>\n",
              "      <td>10</td>\n",
              "      <td>0</td>\n",
              "    </tr>\n",
              "    <tr>\n",
              "      <th>3</th>\n",
              "      <td>11</td>\n",
              "      <td>11</td>\n",
              "      <td>0</td>\n",
              "    </tr>\n",
              "    <tr>\n",
              "      <th>4</th>\n",
              "      <td>15</td>\n",
              "      <td>15</td>\n",
              "      <td>0</td>\n",
              "    </tr>\n",
              "    <tr>\n",
              "      <th>...</th>\n",
              "      <td>...</td>\n",
              "      <td>...</td>\n",
              "      <td>...</td>\n",
              "    </tr>\n",
              "    <tr>\n",
              "      <th>390930</th>\n",
              "      <td>11</td>\n",
              "      <td>11</td>\n",
              "      <td>0</td>\n",
              "    </tr>\n",
              "    <tr>\n",
              "      <th>390931</th>\n",
              "      <td>45</td>\n",
              "      <td>40</td>\n",
              "      <td>5</td>\n",
              "    </tr>\n",
              "    <tr>\n",
              "      <th>390932</th>\n",
              "      <td>30</td>\n",
              "      <td>25</td>\n",
              "      <td>5</td>\n",
              "    </tr>\n",
              "    <tr>\n",
              "      <th>390933</th>\n",
              "      <td>28</td>\n",
              "      <td>25</td>\n",
              "      <td>3</td>\n",
              "    </tr>\n",
              "    <tr>\n",
              "      <th>390934</th>\n",
              "      <td>12</td>\n",
              "      <td>12</td>\n",
              "      <td>0</td>\n",
              "    </tr>\n",
              "  </tbody>\n",
              "</table>\n",
              "<p>390935 rows × 3 columns</p>\n",
              "</div>\n",
              "      <button class=\"colab-df-convert\" onclick=\"convertToInteractive('df-7fcddba7-e1ce-42e8-a8d6-20dece36e5d8')\"\n",
              "              title=\"Convert this dataframe to an interactive table.\"\n",
              "              style=\"display:none;\">\n",
              "        \n",
              "  <svg xmlns=\"http://www.w3.org/2000/svg\" height=\"24px\"viewBox=\"0 0 24 24\"\n",
              "       width=\"24px\">\n",
              "    <path d=\"M0 0h24v24H0V0z\" fill=\"none\"/>\n",
              "    <path d=\"M18.56 5.44l.94 2.06.94-2.06 2.06-.94-2.06-.94-.94-2.06-.94 2.06-2.06.94zm-11 1L8.5 8.5l.94-2.06 2.06-.94-2.06-.94L8.5 2.5l-.94 2.06-2.06.94zm10 10l.94 2.06.94-2.06 2.06-.94-2.06-.94-.94-2.06-.94 2.06-2.06.94z\"/><path d=\"M17.41 7.96l-1.37-1.37c-.4-.4-.92-.59-1.43-.59-.52 0-1.04.2-1.43.59L10.3 9.45l-7.72 7.72c-.78.78-.78 2.05 0 2.83L4 21.41c.39.39.9.59 1.41.59.51 0 1.02-.2 1.41-.59l7.78-7.78 2.81-2.81c.8-.78.8-2.07 0-2.86zM5.41 20L4 18.59l7.72-7.72 1.47 1.35L5.41 20z\"/>\n",
              "  </svg>\n",
              "      </button>\n",
              "      \n",
              "  <style>\n",
              "    .colab-df-container {\n",
              "      display:flex;\n",
              "      flex-wrap:wrap;\n",
              "      gap: 12px;\n",
              "    }\n",
              "\n",
              "    .colab-df-convert {\n",
              "      background-color: #E8F0FE;\n",
              "      border: none;\n",
              "      border-radius: 50%;\n",
              "      cursor: pointer;\n",
              "      display: none;\n",
              "      fill: #1967D2;\n",
              "      height: 32px;\n",
              "      padding: 0 0 0 0;\n",
              "      width: 32px;\n",
              "    }\n",
              "\n",
              "    .colab-df-convert:hover {\n",
              "      background-color: #E2EBFA;\n",
              "      box-shadow: 0px 1px 2px rgba(60, 64, 67, 0.3), 0px 1px 3px 1px rgba(60, 64, 67, 0.15);\n",
              "      fill: #174EA6;\n",
              "    }\n",
              "\n",
              "    [theme=dark] .colab-df-convert {\n",
              "      background-color: #3B4455;\n",
              "      fill: #D2E3FC;\n",
              "    }\n",
              "\n",
              "    [theme=dark] .colab-df-convert:hover {\n",
              "      background-color: #434B5C;\n",
              "      box-shadow: 0px 1px 3px 1px rgba(0, 0, 0, 0.15);\n",
              "      filter: drop-shadow(0px 1px 2px rgba(0, 0, 0, 0.3));\n",
              "      fill: #FFFFFF;\n",
              "    }\n",
              "  </style>\n",
              "\n",
              "      <script>\n",
              "        const buttonEl =\n",
              "          document.querySelector('#df-7fcddba7-e1ce-42e8-a8d6-20dece36e5d8 button.colab-df-convert');\n",
              "        buttonEl.style.display =\n",
              "          google.colab.kernel.accessAllowed ? 'block' : 'none';\n",
              "\n",
              "        async function convertToInteractive(key) {\n",
              "          const element = document.querySelector('#df-7fcddba7-e1ce-42e8-a8d6-20dece36e5d8');\n",
              "          const dataTable =\n",
              "            await google.colab.kernel.invokeFunction('convertToInteractive',\n",
              "                                                     [key], {});\n",
              "          if (!dataTable) return;\n",
              "\n",
              "          const docLinkHtml = 'Like what you see? Visit the ' +\n",
              "            '<a target=\"_blank\" href=https://colab.research.google.com/notebooks/data_table.ipynb>data table notebook</a>'\n",
              "            + ' to learn more about interactive tables.';\n",
              "          element.innerHTML = '';\n",
              "          dataTable['output_type'] = 'display_data';\n",
              "          await google.colab.output.renderOutput(dataTable, element);\n",
              "          const docLink = document.createElement('div');\n",
              "          docLink.innerHTML = docLinkHtml;\n",
              "          element.appendChild(docLink);\n",
              "        }\n",
              "      </script>\n",
              "    </div>\n",
              "  </div>\n",
              "  "
            ],
            "text/plain": [
              "        Lens  O_Count  NE_Count\n",
              "0         20       11         9\n",
              "1          8        4         4\n",
              "2         10       10         0\n",
              "3         11       11         0\n",
              "4         15       15         0\n",
              "...      ...      ...       ...\n",
              "390930    11       11         0\n",
              "390931    45       40         5\n",
              "390932    30       25         5\n",
              "390933    28       25         3\n",
              "390934    12       12         0\n",
              "\n",
              "[390935 rows x 3 columns]"
            ]
          },
          "execution_count": 97,
          "metadata": {},
          "output_type": "execute_result"
        }
      ],
      "source": [
        "senInfo['NE_Count'] = senInfo['Lens'] - senInfo['O_Count']\n",
        "senInfo"
      ]
    },
    {
      "cell_type": "code",
      "execution_count": null,
      "metadata": {
        "colab": {
          "base_uri": "https://localhost:8080/",
          "height": 300
        },
        "id": "HvsRZEzV3TJv",
        "outputId": "419d4de3-f6b4-48b5-cde0-ed570b43a4c5"
      },
      "outputs": [
        {
          "data": {
            "text/html": [
              "\n",
              "  <div id=\"df-63728435-d096-44ce-8d72-e0fc0a931d6c\">\n",
              "    <div class=\"colab-df-container\">\n",
              "      <div>\n",
              "<style scoped>\n",
              "    .dataframe tbody tr th:only-of-type {\n",
              "        vertical-align: middle;\n",
              "    }\n",
              "\n",
              "    .dataframe tbody tr th {\n",
              "        vertical-align: top;\n",
              "    }\n",
              "\n",
              "    .dataframe thead th {\n",
              "        text-align: right;\n",
              "    }\n",
              "</style>\n",
              "<table border=\"1\" class=\"dataframe\">\n",
              "  <thead>\n",
              "    <tr style=\"text-align: right;\">\n",
              "      <th></th>\n",
              "      <th>Lens</th>\n",
              "      <th>O_Count</th>\n",
              "      <th>NE_Count</th>\n",
              "      <th>NE/Len</th>\n",
              "    </tr>\n",
              "  </thead>\n",
              "  <tbody>\n",
              "    <tr>\n",
              "      <th>count</th>\n",
              "      <td>390935.000000</td>\n",
              "      <td>390935.000000</td>\n",
              "      <td>390935.000000</td>\n",
              "      <td>390935.000000</td>\n",
              "    </tr>\n",
              "    <tr>\n",
              "      <th>mean</th>\n",
              "      <td>24.030673</td>\n",
              "      <td>21.317314</td>\n",
              "      <td>2.713359</td>\n",
              "      <td>12.791833</td>\n",
              "    </tr>\n",
              "    <tr>\n",
              "      <th>std</th>\n",
              "      <td>14.578518</td>\n",
              "      <td>14.009967</td>\n",
              "      <td>3.024846</td>\n",
              "      <td>13.908008</td>\n",
              "    </tr>\n",
              "    <tr>\n",
              "      <th>min</th>\n",
              "      <td>1.000000</td>\n",
              "      <td>0.000000</td>\n",
              "      <td>0.000000</td>\n",
              "      <td>0.000000</td>\n",
              "    </tr>\n",
              "    <tr>\n",
              "      <th>25%</th>\n",
              "      <td>14.000000</td>\n",
              "      <td>12.000000</td>\n",
              "      <td>0.000000</td>\n",
              "      <td>0.000000</td>\n",
              "    </tr>\n",
              "    <tr>\n",
              "      <th>50%</th>\n",
              "      <td>21.000000</td>\n",
              "      <td>18.000000</td>\n",
              "      <td>2.000000</td>\n",
              "      <td>9.756098</td>\n",
              "    </tr>\n",
              "    <tr>\n",
              "      <th>75%</th>\n",
              "      <td>30.000000</td>\n",
              "      <td>27.000000</td>\n",
              "      <td>4.000000</td>\n",
              "      <td>20.000000</td>\n",
              "    </tr>\n",
              "    <tr>\n",
              "      <th>max</th>\n",
              "      <td>788.000000</td>\n",
              "      <td>727.000000</td>\n",
              "      <td>127.000000</td>\n",
              "      <td>100.000000</td>\n",
              "    </tr>\n",
              "  </tbody>\n",
              "</table>\n",
              "</div>\n",
              "      <button class=\"colab-df-convert\" onclick=\"convertToInteractive('df-63728435-d096-44ce-8d72-e0fc0a931d6c')\"\n",
              "              title=\"Convert this dataframe to an interactive table.\"\n",
              "              style=\"display:none;\">\n",
              "        \n",
              "  <svg xmlns=\"http://www.w3.org/2000/svg\" height=\"24px\"viewBox=\"0 0 24 24\"\n",
              "       width=\"24px\">\n",
              "    <path d=\"M0 0h24v24H0V0z\" fill=\"none\"/>\n",
              "    <path d=\"M18.56 5.44l.94 2.06.94-2.06 2.06-.94-2.06-.94-.94-2.06-.94 2.06-2.06.94zm-11 1L8.5 8.5l.94-2.06 2.06-.94-2.06-.94L8.5 2.5l-.94 2.06-2.06.94zm10 10l.94 2.06.94-2.06 2.06-.94-2.06-.94-.94-2.06-.94 2.06-2.06.94z\"/><path d=\"M17.41 7.96l-1.37-1.37c-.4-.4-.92-.59-1.43-.59-.52 0-1.04.2-1.43.59L10.3 9.45l-7.72 7.72c-.78.78-.78 2.05 0 2.83L4 21.41c.39.39.9.59 1.41.59.51 0 1.02-.2 1.41-.59l7.78-7.78 2.81-2.81c.8-.78.8-2.07 0-2.86zM5.41 20L4 18.59l7.72-7.72 1.47 1.35L5.41 20z\"/>\n",
              "  </svg>\n",
              "      </button>\n",
              "      \n",
              "  <style>\n",
              "    .colab-df-container {\n",
              "      display:flex;\n",
              "      flex-wrap:wrap;\n",
              "      gap: 12px;\n",
              "    }\n",
              "\n",
              "    .colab-df-convert {\n",
              "      background-color: #E8F0FE;\n",
              "      border: none;\n",
              "      border-radius: 50%;\n",
              "      cursor: pointer;\n",
              "      display: none;\n",
              "      fill: #1967D2;\n",
              "      height: 32px;\n",
              "      padding: 0 0 0 0;\n",
              "      width: 32px;\n",
              "    }\n",
              "\n",
              "    .colab-df-convert:hover {\n",
              "      background-color: #E2EBFA;\n",
              "      box-shadow: 0px 1px 2px rgba(60, 64, 67, 0.3), 0px 1px 3px 1px rgba(60, 64, 67, 0.15);\n",
              "      fill: #174EA6;\n",
              "    }\n",
              "\n",
              "    [theme=dark] .colab-df-convert {\n",
              "      background-color: #3B4455;\n",
              "      fill: #D2E3FC;\n",
              "    }\n",
              "\n",
              "    [theme=dark] .colab-df-convert:hover {\n",
              "      background-color: #434B5C;\n",
              "      box-shadow: 0px 1px 3px 1px rgba(0, 0, 0, 0.15);\n",
              "      filter: drop-shadow(0px 1px 2px rgba(0, 0, 0, 0.3));\n",
              "      fill: #FFFFFF;\n",
              "    }\n",
              "  </style>\n",
              "\n",
              "      <script>\n",
              "        const buttonEl =\n",
              "          document.querySelector('#df-63728435-d096-44ce-8d72-e0fc0a931d6c button.colab-df-convert');\n",
              "        buttonEl.style.display =\n",
              "          google.colab.kernel.accessAllowed ? 'block' : 'none';\n",
              "\n",
              "        async function convertToInteractive(key) {\n",
              "          const element = document.querySelector('#df-63728435-d096-44ce-8d72-e0fc0a931d6c');\n",
              "          const dataTable =\n",
              "            await google.colab.kernel.invokeFunction('convertToInteractive',\n",
              "                                                     [key], {});\n",
              "          if (!dataTable) return;\n",
              "\n",
              "          const docLinkHtml = 'Like what you see? Visit the ' +\n",
              "            '<a target=\"_blank\" href=https://colab.research.google.com/notebooks/data_table.ipynb>data table notebook</a>'\n",
              "            + ' to learn more about interactive tables.';\n",
              "          element.innerHTML = '';\n",
              "          dataTable['output_type'] = 'display_data';\n",
              "          await google.colab.output.renderOutput(dataTable, element);\n",
              "          const docLink = document.createElement('div');\n",
              "          docLink.innerHTML = docLinkHtml;\n",
              "          element.appendChild(docLink);\n",
              "        }\n",
              "      </script>\n",
              "    </div>\n",
              "  </div>\n",
              "  "
            ],
            "text/plain": [
              "                Lens        O_Count       NE_Count         NE/Len\n",
              "count  390935.000000  390935.000000  390935.000000  390935.000000\n",
              "mean       24.030673      21.317314       2.713359      12.791833\n",
              "std        14.578518      14.009967       3.024846      13.908008\n",
              "min         1.000000       0.000000       0.000000       0.000000\n",
              "25%        14.000000      12.000000       0.000000       0.000000\n",
              "50%        21.000000      18.000000       2.000000       9.756098\n",
              "75%        30.000000      27.000000       4.000000      20.000000\n",
              "max       788.000000     727.000000     127.000000     100.000000"
            ]
          },
          "execution_count": 107,
          "metadata": {},
          "output_type": "execute_result"
        }
      ],
      "source": [
        "senInfo.describe()"
      ]
    },
    {
      "cell_type": "code",
      "execution_count": null,
      "metadata": {
        "id": "ABXDrAwr5nP3"
      },
      "outputs": [],
      "source": [
        "senInfo['NE/Len'] = senInfo['NE_Count'] / (senInfo['Lens']) * 100"
      ]
    },
    {
      "cell_type": "code",
      "execution_count": null,
      "metadata": {
        "id": "si3DAwl9kRJ_"
      },
      "outputs": [],
      "source": [
        "def balanced_sen(NE_divide_Len, NE_Count, percent = 8, least_count = 3):\n",
        "  balancedIndices = []\n",
        "  ind = -1\n",
        "  for neC, neD in zip(NE_divide_Len, NE_Count):\n",
        "    ind += 1\n",
        "    if neC >= percent or neD > least_count:\n",
        "      balancedIndices.append(ind)\n",
        "  return balancedIndices"
      ]
    },
    {
      "cell_type": "code",
      "execution_count": null,
      "metadata": {
        "id": "dU8LiTR_mUyB"
      },
      "outputs": [],
      "source": [
        "balanced_indices = balanced_sen(senInfo['NE/Len'], senInfo['NE_Count'])"
      ]
    },
    {
      "cell_type": "code",
      "execution_count": null,
      "metadata": {
        "colab": {
          "base_uri": "https://localhost:8080/",
          "height": 672
        },
        "id": "2e85FphvnZ4D",
        "outputId": "6fd14fb3-2a0a-4c4f-d485-5c4396342027"
      },
      "outputs": [
        {
          "data": {
            "text/html": [
              "\n",
              "  <div id=\"df-f632207e-029e-48bf-99c8-dd0bdd358dd7\">\n",
              "    <div class=\"colab-df-container\">\n",
              "      <div>\n",
              "<style scoped>\n",
              "    .dataframe tbody tr th:only-of-type {\n",
              "        vertical-align: middle;\n",
              "    }\n",
              "\n",
              "    .dataframe tbody tr th {\n",
              "        vertical-align: top;\n",
              "    }\n",
              "\n",
              "    .dataframe thead th {\n",
              "        text-align: right;\n",
              "    }\n",
              "</style>\n",
              "<table border=\"1\" class=\"dataframe\">\n",
              "  <thead>\n",
              "    <tr style=\"text-align: right;\">\n",
              "      <th></th>\n",
              "      <th>Lens</th>\n",
              "      <th>O_Count</th>\n",
              "      <th>NE_Count</th>\n",
              "      <th>NE/Len</th>\n",
              "    </tr>\n",
              "  </thead>\n",
              "  <tbody>\n",
              "    <tr>\n",
              "      <th>0</th>\n",
              "      <td>20</td>\n",
              "      <td>11</td>\n",
              "      <td>9</td>\n",
              "      <td>45.000000</td>\n",
              "    </tr>\n",
              "    <tr>\n",
              "      <th>1</th>\n",
              "      <td>8</td>\n",
              "      <td>4</td>\n",
              "      <td>4</td>\n",
              "      <td>50.000000</td>\n",
              "    </tr>\n",
              "    <tr>\n",
              "      <th>5</th>\n",
              "      <td>28</td>\n",
              "      <td>24</td>\n",
              "      <td>4</td>\n",
              "      <td>14.285714</td>\n",
              "    </tr>\n",
              "    <tr>\n",
              "      <th>6</th>\n",
              "      <td>29</td>\n",
              "      <td>24</td>\n",
              "      <td>5</td>\n",
              "      <td>17.241379</td>\n",
              "    </tr>\n",
              "    <tr>\n",
              "      <th>8</th>\n",
              "      <td>22</td>\n",
              "      <td>13</td>\n",
              "      <td>9</td>\n",
              "      <td>40.909091</td>\n",
              "    </tr>\n",
              "    <tr>\n",
              "      <th>...</th>\n",
              "      <td>...</td>\n",
              "      <td>...</td>\n",
              "      <td>...</td>\n",
              "      <td>...</td>\n",
              "    </tr>\n",
              "    <tr>\n",
              "      <th>390928</th>\n",
              "      <td>20</td>\n",
              "      <td>12</td>\n",
              "      <td>8</td>\n",
              "      <td>40.000000</td>\n",
              "    </tr>\n",
              "    <tr>\n",
              "      <th>390929</th>\n",
              "      <td>35</td>\n",
              "      <td>30</td>\n",
              "      <td>5</td>\n",
              "      <td>14.285714</td>\n",
              "    </tr>\n",
              "    <tr>\n",
              "      <th>390931</th>\n",
              "      <td>45</td>\n",
              "      <td>40</td>\n",
              "      <td>5</td>\n",
              "      <td>11.111111</td>\n",
              "    </tr>\n",
              "    <tr>\n",
              "      <th>390932</th>\n",
              "      <td>30</td>\n",
              "      <td>25</td>\n",
              "      <td>5</td>\n",
              "      <td>16.666667</td>\n",
              "    </tr>\n",
              "    <tr>\n",
              "      <th>390933</th>\n",
              "      <td>28</td>\n",
              "      <td>25</td>\n",
              "      <td>3</td>\n",
              "      <td>10.714286</td>\n",
              "    </tr>\n",
              "  </tbody>\n",
              "</table>\n",
              "<p>216520 rows × 4 columns</p>\n",
              "</div>\n",
              "      <button class=\"colab-df-convert\" onclick=\"convertToInteractive('df-f632207e-029e-48bf-99c8-dd0bdd358dd7')\"\n",
              "              title=\"Convert this dataframe to an interactive table.\"\n",
              "              style=\"display:none;\">\n",
              "        \n",
              "  <svg xmlns=\"http://www.w3.org/2000/svg\" height=\"24px\"viewBox=\"0 0 24 24\"\n",
              "       width=\"24px\">\n",
              "    <path d=\"M0 0h24v24H0V0z\" fill=\"none\"/>\n",
              "    <path d=\"M18.56 5.44l.94 2.06.94-2.06 2.06-.94-2.06-.94-.94-2.06-.94 2.06-2.06.94zm-11 1L8.5 8.5l.94-2.06 2.06-.94-2.06-.94L8.5 2.5l-.94 2.06-2.06.94zm10 10l.94 2.06.94-2.06 2.06-.94-2.06-.94-.94-2.06-.94 2.06-2.06.94z\"/><path d=\"M17.41 7.96l-1.37-1.37c-.4-.4-.92-.59-1.43-.59-.52 0-1.04.2-1.43.59L10.3 9.45l-7.72 7.72c-.78.78-.78 2.05 0 2.83L4 21.41c.39.39.9.59 1.41.59.51 0 1.02-.2 1.41-.59l7.78-7.78 2.81-2.81c.8-.78.8-2.07 0-2.86zM5.41 20L4 18.59l7.72-7.72 1.47 1.35L5.41 20z\"/>\n",
              "  </svg>\n",
              "      </button>\n",
              "      \n",
              "  <style>\n",
              "    .colab-df-container {\n",
              "      display:flex;\n",
              "      flex-wrap:wrap;\n",
              "      gap: 12px;\n",
              "    }\n",
              "\n",
              "    .colab-df-convert {\n",
              "      background-color: #E8F0FE;\n",
              "      border: none;\n",
              "      border-radius: 50%;\n",
              "      cursor: pointer;\n",
              "      display: none;\n",
              "      fill: #1967D2;\n",
              "      height: 32px;\n",
              "      padding: 0 0 0 0;\n",
              "      width: 32px;\n",
              "    }\n",
              "\n",
              "    .colab-df-convert:hover {\n",
              "      background-color: #E2EBFA;\n",
              "      box-shadow: 0px 1px 2px rgba(60, 64, 67, 0.3), 0px 1px 3px 1px rgba(60, 64, 67, 0.15);\n",
              "      fill: #174EA6;\n",
              "    }\n",
              "\n",
              "    [theme=dark] .colab-df-convert {\n",
              "      background-color: #3B4455;\n",
              "      fill: #D2E3FC;\n",
              "    }\n",
              "\n",
              "    [theme=dark] .colab-df-convert:hover {\n",
              "      background-color: #434B5C;\n",
              "      box-shadow: 0px 1px 3px 1px rgba(0, 0, 0, 0.15);\n",
              "      filter: drop-shadow(0px 1px 2px rgba(0, 0, 0, 0.3));\n",
              "      fill: #FFFFFF;\n",
              "    }\n",
              "  </style>\n",
              "\n",
              "      <script>\n",
              "        const buttonEl =\n",
              "          document.querySelector('#df-f632207e-029e-48bf-99c8-dd0bdd358dd7 button.colab-df-convert');\n",
              "        buttonEl.style.display =\n",
              "          google.colab.kernel.accessAllowed ? 'block' : 'none';\n",
              "\n",
              "        async function convertToInteractive(key) {\n",
              "          const element = document.querySelector('#df-f632207e-029e-48bf-99c8-dd0bdd358dd7');\n",
              "          const dataTable =\n",
              "            await google.colab.kernel.invokeFunction('convertToInteractive',\n",
              "                                                     [key], {});\n",
              "          if (!dataTable) return;\n",
              "\n",
              "          const docLinkHtml = 'Like what you see? Visit the ' +\n",
              "            '<a target=\"_blank\" href=https://colab.research.google.com/notebooks/data_table.ipynb>data table notebook</a>'\n",
              "            + ' to learn more about interactive tables.';\n",
              "          element.innerHTML = '';\n",
              "          dataTable['output_type'] = 'display_data';\n",
              "          await google.colab.output.renderOutput(dataTable, element);\n",
              "          const docLink = document.createElement('div');\n",
              "          docLink.innerHTML = docLinkHtml;\n",
              "          element.appendChild(docLink);\n",
              "        }\n",
              "      </script>\n",
              "    </div>\n",
              "  </div>\n",
              "  "
            ],
            "text/plain": [
              "        Lens  O_Count  NE_Count     NE/Len\n",
              "0         20       11         9  45.000000\n",
              "1          8        4         4  50.000000\n",
              "5         28       24         4  14.285714\n",
              "6         29       24         5  17.241379\n",
              "8         22       13         9  40.909091\n",
              "...      ...      ...       ...        ...\n",
              "390928    20       12         8  40.000000\n",
              "390929    35       30         5  14.285714\n",
              "390931    45       40         5  11.111111\n",
              "390932    30       25         5  16.666667\n",
              "390933    28       25         3  10.714286\n",
              "\n",
              "[216520 rows x 4 columns]"
            ]
          },
          "execution_count": 122,
          "metadata": {},
          "output_type": "execute_result"
        },
        {
          "name": "stdout",
          "output_type": "stream",
          "text": [
            "Warning: total number of rows (216520) exceeds max_rows (20000). Limiting to first (20000) rows.\n"
          ]
        }
      ],
      "source": [
        "senInfo.iloc[balanced_indices]"
      ]
    },
    {
      "cell_type": "code",
      "execution_count": null,
      "metadata": {
        "colab": {
          "base_uri": "https://localhost:8080/",
          "height": 424
        },
        "id": "EXTEWLnKpQyl",
        "outputId": "92e985f5-c12b-42f2-f6a4-78f909fb7bb2"
      },
      "outputs": [
        {
          "data": {
            "text/html": [
              "\n",
              "  <div id=\"df-f2eda22e-113a-46d4-b8a0-4cdca07aac73\">\n",
              "    <div class=\"colab-df-container\">\n",
              "      <div>\n",
              "<style scoped>\n",
              "    .dataframe tbody tr th:only-of-type {\n",
              "        vertical-align: middle;\n",
              "    }\n",
              "\n",
              "    .dataframe tbody tr th {\n",
              "        vertical-align: top;\n",
              "    }\n",
              "\n",
              "    .dataframe thead th {\n",
              "        text-align: right;\n",
              "    }\n",
              "</style>\n",
              "<table border=\"1\" class=\"dataframe\">\n",
              "  <thead>\n",
              "    <tr style=\"text-align: right;\">\n",
              "      <th></th>\n",
              "      <th>Text</th>\n",
              "      <th>Label</th>\n",
              "    </tr>\n",
              "  </thead>\n",
              "  <tbody>\n",
              "    <tr>\n",
              "      <th>0</th>\n",
              "      <td>ویکی‌پدیای انگلیسی در تاریخ ۱۵ ژانویه ۲۰۰۱ میل...</td>\n",
              "      <td>O O B-DAT I-DAT I-DAT I-DAT I-DAT B-DAT B-DAT ...</td>\n",
              "    </tr>\n",
              "    <tr>\n",
              "      <th>1</th>\n",
              "      <td>بنیان‌گذاران آن جیمی ولز و لری سنگر هستند</td>\n",
              "      <td>O O B-PER I-PER O B-PER I-PER O</td>\n",
              "    </tr>\n",
              "    <tr>\n",
              "      <th>2</th>\n",
              "      <td>هم‌اکنون بنیاد غیرانتفاعی بنیاد ویکی‌مدیا پروژ...</td>\n",
              "      <td>O O O B-ORG I-ORG O O O O O</td>\n",
              "    </tr>\n",
              "    <tr>\n",
              "      <th>3</th>\n",
              "      <td>کارساز وب اصلی این وبگاه در شهر تامپا ی فلورید...</td>\n",
              "      <td>O O O O O O O B-LOC O B-LOC O</td>\n",
              "    </tr>\n",
              "    <tr>\n",
              "      <th>4</th>\n",
              "      <td>همچنین میزبان‌های اضافی دیگری هم در شهرهای آمس...</td>\n",
              "      <td>O O O O O O O B-LOC O B-LOC O O O O O</td>\n",
              "    </tr>\n",
              "    <tr>\n",
              "      <th>...</th>\n",
              "      <td>...</td>\n",
              "      <td>...</td>\n",
              "    </tr>\n",
              "    <tr>\n",
              "      <th>390930</th>\n",
              "      <td>۲۰۱۳ درگذشت و آندرتیکر و کین برای او مراسم یاد...</td>\n",
              "      <td>O O O B-ORG I-ORG I-ORG O O O O O</td>\n",
              "    </tr>\n",
              "    <tr>\n",
              "      <th>390931</th>\n",
              "      <td>در تاریخ ۲۳ ژوئیه ۲۰۱۲ در‌حین اجرای شوی WWE را...</td>\n",
              "      <td>B-DAT I-DAT B-DAT I-DAT I-DAT O O O O O O O O ...</td>\n",
              "    </tr>\n",
              "    <tr>\n",
              "      <th>390932</th>\n",
              "      <td>در سال بعد ۲۰۱۳ کمی قبل از رستلمنیا ۲۹ پول بیر...</td>\n",
              "      <td>B-DAT B-DAT I-DAT O O O O B-EVE I-EVE O O O O ...</td>\n",
              "    </tr>\n",
              "    <tr>\n",
              "      <th>390933</th>\n",
              "      <td>در رستلمنیا ۲۹ یک مسابقه بین آندرتیکر و CM پان...</td>\n",
              "      <td>O B-EVE I-EVE O O O O O O O O O O O O O O O O ...</td>\n",
              "    </tr>\n",
              "    <tr>\n",
              "      <th>390934</th>\n",
              "      <td>اما پس از مسابقه گروه شیلد آندرتیکر را روی میز...</td>\n",
              "      <td>O O O O B-ORG I-ORG O O O O O O</td>\n",
              "    </tr>\n",
              "  </tbody>\n",
              "</table>\n",
              "<p>390935 rows × 2 columns</p>\n",
              "</div>\n",
              "      <button class=\"colab-df-convert\" onclick=\"convertToInteractive('df-f2eda22e-113a-46d4-b8a0-4cdca07aac73')\"\n",
              "              title=\"Convert this dataframe to an interactive table.\"\n",
              "              style=\"display:none;\">\n",
              "        \n",
              "  <svg xmlns=\"http://www.w3.org/2000/svg\" height=\"24px\"viewBox=\"0 0 24 24\"\n",
              "       width=\"24px\">\n",
              "    <path d=\"M0 0h24v24H0V0z\" fill=\"none\"/>\n",
              "    <path d=\"M18.56 5.44l.94 2.06.94-2.06 2.06-.94-2.06-.94-.94-2.06-.94 2.06-2.06.94zm-11 1L8.5 8.5l.94-2.06 2.06-.94-2.06-.94L8.5 2.5l-.94 2.06-2.06.94zm10 10l.94 2.06.94-2.06 2.06-.94-2.06-.94-.94-2.06-.94 2.06-2.06.94z\"/><path d=\"M17.41 7.96l-1.37-1.37c-.4-.4-.92-.59-1.43-.59-.52 0-1.04.2-1.43.59L10.3 9.45l-7.72 7.72c-.78.78-.78 2.05 0 2.83L4 21.41c.39.39.9.59 1.41.59.51 0 1.02-.2 1.41-.59l7.78-7.78 2.81-2.81c.8-.78.8-2.07 0-2.86zM5.41 20L4 18.59l7.72-7.72 1.47 1.35L5.41 20z\"/>\n",
              "  </svg>\n",
              "      </button>\n",
              "      \n",
              "  <style>\n",
              "    .colab-df-container {\n",
              "      display:flex;\n",
              "      flex-wrap:wrap;\n",
              "      gap: 12px;\n",
              "    }\n",
              "\n",
              "    .colab-df-convert {\n",
              "      background-color: #E8F0FE;\n",
              "      border: none;\n",
              "      border-radius: 50%;\n",
              "      cursor: pointer;\n",
              "      display: none;\n",
              "      fill: #1967D2;\n",
              "      height: 32px;\n",
              "      padding: 0 0 0 0;\n",
              "      width: 32px;\n",
              "    }\n",
              "\n",
              "    .colab-df-convert:hover {\n",
              "      background-color: #E2EBFA;\n",
              "      box-shadow: 0px 1px 2px rgba(60, 64, 67, 0.3), 0px 1px 3px 1px rgba(60, 64, 67, 0.15);\n",
              "      fill: #174EA6;\n",
              "    }\n",
              "\n",
              "    [theme=dark] .colab-df-convert {\n",
              "      background-color: #3B4455;\n",
              "      fill: #D2E3FC;\n",
              "    }\n",
              "\n",
              "    [theme=dark] .colab-df-convert:hover {\n",
              "      background-color: #434B5C;\n",
              "      box-shadow: 0px 1px 3px 1px rgba(0, 0, 0, 0.15);\n",
              "      filter: drop-shadow(0px 1px 2px rgba(0, 0, 0, 0.3));\n",
              "      fill: #FFFFFF;\n",
              "    }\n",
              "  </style>\n",
              "\n",
              "      <script>\n",
              "        const buttonEl =\n",
              "          document.querySelector('#df-f2eda22e-113a-46d4-b8a0-4cdca07aac73 button.colab-df-convert');\n",
              "        buttonEl.style.display =\n",
              "          google.colab.kernel.accessAllowed ? 'block' : 'none';\n",
              "\n",
              "        async function convertToInteractive(key) {\n",
              "          const element = document.querySelector('#df-f2eda22e-113a-46d4-b8a0-4cdca07aac73');\n",
              "          const dataTable =\n",
              "            await google.colab.kernel.invokeFunction('convertToInteractive',\n",
              "                                                     [key], {});\n",
              "          if (!dataTable) return;\n",
              "\n",
              "          const docLinkHtml = 'Like what you see? Visit the ' +\n",
              "            '<a target=\"_blank\" href=https://colab.research.google.com/notebooks/data_table.ipynb>data table notebook</a>'\n",
              "            + ' to learn more about interactive tables.';\n",
              "          element.innerHTML = '';\n",
              "          dataTable['output_type'] = 'display_data';\n",
              "          await google.colab.output.renderOutput(dataTable, element);\n",
              "          const docLink = document.createElement('div');\n",
              "          docLink.innerHTML = docLinkHtml;\n",
              "          element.appendChild(docLink);\n",
              "        }\n",
              "      </script>\n",
              "    </div>\n",
              "  </div>\n",
              "  "
            ],
            "text/plain": [
              "                                                     Text  \\\n",
              "0       ویکی‌پدیای انگلیسی در تاریخ ۱۵ ژانویه ۲۰۰۱ میل...   \n",
              "1               بنیان‌گذاران آن جیمی ولز و لری سنگر هستند   \n",
              "2       هم‌اکنون بنیاد غیرانتفاعی بنیاد ویکی‌مدیا پروژ...   \n",
              "3       کارساز وب اصلی این وبگاه در شهر تامپا ی فلورید...   \n",
              "4       همچنین میزبان‌های اضافی دیگری هم در شهرهای آمس...   \n",
              "...                                                   ...   \n",
              "390930  ۲۰۱۳ درگذشت و آندرتیکر و کین برای او مراسم یاد...   \n",
              "390931  در تاریخ ۲۳ ژوئیه ۲۰۱۲ در‌حین اجرای شوی WWE را...   \n",
              "390932  در سال بعد ۲۰۱۳ کمی قبل از رستلمنیا ۲۹ پول بیر...   \n",
              "390933  در رستلمنیا ۲۹ یک مسابقه بین آندرتیکر و CM پان...   \n",
              "390934  اما پس از مسابقه گروه شیلد آندرتیکر را روی میز...   \n",
              "\n",
              "                                                    Label  \n",
              "0       O O B-DAT I-DAT I-DAT I-DAT I-DAT B-DAT B-DAT ...  \n",
              "1                         O O B-PER I-PER O B-PER I-PER O  \n",
              "2                             O O O B-ORG I-ORG O O O O O  \n",
              "3                           O O O O O O O B-LOC O B-LOC O  \n",
              "4                   O O O O O O O B-LOC O B-LOC O O O O O  \n",
              "...                                                   ...  \n",
              "390930                  O O O B-ORG I-ORG I-ORG O O O O O  \n",
              "390931  B-DAT I-DAT B-DAT I-DAT I-DAT O O O O O O O O ...  \n",
              "390932  B-DAT B-DAT I-DAT O O O O B-EVE I-EVE O O O O ...  \n",
              "390933  O B-EVE I-EVE O O O O O O O O O O O O O O O O ...  \n",
              "390934                    O O O O B-ORG I-ORG O O O O O O  \n",
              "\n",
              "[390935 rows x 2 columns]"
            ]
          },
          "execution_count": 123,
          "metadata": {},
          "output_type": "execute_result"
        }
      ],
      "source": [
        "dataSentences"
      ]
    },
    {
      "cell_type": "code",
      "execution_count": null,
      "metadata": {
        "id": "04I_3YcJo5Pi"
      },
      "outputs": [],
      "source": [
        "dataSentences = dataSentences.iloc[balanced_indices]\n",
        "dataSentences = dataSentences.reset_index(drop = True)"
      ]
    },
    {
      "cell_type": "code",
      "execution_count": null,
      "metadata": {
        "colab": {
          "base_uri": "https://localhost:8080/",
          "height": 424
        },
        "id": "WhU-6divpUZm",
        "outputId": "11a86631-3c46-4776-e01f-141c6a47af57"
      },
      "outputs": [
        {
          "data": {
            "text/html": [
              "\n",
              "  <div id=\"df-548ed6f7-f31f-4e2d-9822-68f2d6f0b335\">\n",
              "    <div class=\"colab-df-container\">\n",
              "      <div>\n",
              "<style scoped>\n",
              "    .dataframe tbody tr th:only-of-type {\n",
              "        vertical-align: middle;\n",
              "    }\n",
              "\n",
              "    .dataframe tbody tr th {\n",
              "        vertical-align: top;\n",
              "    }\n",
              "\n",
              "    .dataframe thead th {\n",
              "        text-align: right;\n",
              "    }\n",
              "</style>\n",
              "<table border=\"1\" class=\"dataframe\">\n",
              "  <thead>\n",
              "    <tr style=\"text-align: right;\">\n",
              "      <th></th>\n",
              "      <th>Text</th>\n",
              "      <th>Label</th>\n",
              "    </tr>\n",
              "  </thead>\n",
              "  <tbody>\n",
              "    <tr>\n",
              "      <th>0</th>\n",
              "      <td>ویکی‌پدیای انگلیسی در تاریخ ۱۵ ژانویه ۲۰۰۱ میل...</td>\n",
              "      <td>O O B-DAT I-DAT I-DAT I-DAT I-DAT B-DAT B-DAT ...</td>\n",
              "    </tr>\n",
              "    <tr>\n",
              "      <th>1</th>\n",
              "      <td>بنیان‌گذاران آن جیمی ولز و لری سنگر هستند</td>\n",
              "      <td>O O B-PER I-PER O B-PER I-PER O</td>\n",
              "    </tr>\n",
              "    <tr>\n",
              "      <th>2</th>\n",
              "      <td>ویکی‌پدیا از پایان آوریل ۲۰۰۷ تاکنون یکی از ۱۰...</td>\n",
              "      <td>O B-DAT I-DAT I-DAT I-DAT O O O O O O O O O O ...</td>\n",
              "    </tr>\n",
              "    <tr>\n",
              "      <th>3</th>\n",
              "      <td>در میان تمام زبان‌های ویکی‌پدیا تا دسامبر ۲۰۱۵...</td>\n",
              "      <td>O O O O O B-DAT I-DAT I-DAT B-DAT I-DAT O O O ...</td>\n",
              "    </tr>\n",
              "    <tr>\n",
              "      <th>4</th>\n",
              "      <td>نوپدیا در تاریخ ۹ مارس ۲۰۰۰ میلادی ۱۹ اسفند ۱۳...</td>\n",
              "      <td>O B-DAT I-DAT I-DAT I-DAT I-DAT B-DAT B-DAT I-...</td>\n",
              "    </tr>\n",
              "    <tr>\n",
              "      <th>...</th>\n",
              "      <td>...</td>\n",
              "      <td>...</td>\n",
              "    </tr>\n",
              "    <tr>\n",
              "      <th>216515</th>\n",
              "      <td>پس‌از‌آن دیگر آندرتیکر حضور نیافت تا سال بعد ک...</td>\n",
              "      <td>O O O O O B-DAT I-DAT I-DAT O O B-EVE I-EVE I-...</td>\n",
              "    </tr>\n",
              "    <tr>\n",
              "      <th>216516</th>\n",
              "      <td>حضور نیافت تا‌این‌که در سال ۲۰۱۲ برای حمایت دو...</td>\n",
              "      <td>O O O B-DAT B-DAT I-DAT O O O O O O B-PER I-PE...</td>\n",
              "    </tr>\n",
              "    <tr>\n",
              "      <th>216517</th>\n",
              "      <td>در تاریخ ۲۳ ژوئیه ۲۰۱۲ در‌حین اجرای شوی WWE را...</td>\n",
              "      <td>B-DAT I-DAT B-DAT I-DAT I-DAT O O O O O O O O ...</td>\n",
              "    </tr>\n",
              "    <tr>\n",
              "      <th>216518</th>\n",
              "      <td>در سال بعد ۲۰۱۳ کمی قبل از رستلمنیا ۲۹ پول بیر...</td>\n",
              "      <td>B-DAT B-DAT I-DAT O O O O B-EVE I-EVE O O O O ...</td>\n",
              "    </tr>\n",
              "    <tr>\n",
              "      <th>216519</th>\n",
              "      <td>در رستلمنیا ۲۹ یک مسابقه بین آندرتیکر و CM پان...</td>\n",
              "      <td>O B-EVE I-EVE O O O O O O O O O O O O O O O O ...</td>\n",
              "    </tr>\n",
              "  </tbody>\n",
              "</table>\n",
              "<p>216520 rows × 2 columns</p>\n",
              "</div>\n",
              "      <button class=\"colab-df-convert\" onclick=\"convertToInteractive('df-548ed6f7-f31f-4e2d-9822-68f2d6f0b335')\"\n",
              "              title=\"Convert this dataframe to an interactive table.\"\n",
              "              style=\"display:none;\">\n",
              "        \n",
              "  <svg xmlns=\"http://www.w3.org/2000/svg\" height=\"24px\"viewBox=\"0 0 24 24\"\n",
              "       width=\"24px\">\n",
              "    <path d=\"M0 0h24v24H0V0z\" fill=\"none\"/>\n",
              "    <path d=\"M18.56 5.44l.94 2.06.94-2.06 2.06-.94-2.06-.94-.94-2.06-.94 2.06-2.06.94zm-11 1L8.5 8.5l.94-2.06 2.06-.94-2.06-.94L8.5 2.5l-.94 2.06-2.06.94zm10 10l.94 2.06.94-2.06 2.06-.94-2.06-.94-.94-2.06-.94 2.06-2.06.94z\"/><path d=\"M17.41 7.96l-1.37-1.37c-.4-.4-.92-.59-1.43-.59-.52 0-1.04.2-1.43.59L10.3 9.45l-7.72 7.72c-.78.78-.78 2.05 0 2.83L4 21.41c.39.39.9.59 1.41.59.51 0 1.02-.2 1.41-.59l7.78-7.78 2.81-2.81c.8-.78.8-2.07 0-2.86zM5.41 20L4 18.59l7.72-7.72 1.47 1.35L5.41 20z\"/>\n",
              "  </svg>\n",
              "      </button>\n",
              "      \n",
              "  <style>\n",
              "    .colab-df-container {\n",
              "      display:flex;\n",
              "      flex-wrap:wrap;\n",
              "      gap: 12px;\n",
              "    }\n",
              "\n",
              "    .colab-df-convert {\n",
              "      background-color: #E8F0FE;\n",
              "      border: none;\n",
              "      border-radius: 50%;\n",
              "      cursor: pointer;\n",
              "      display: none;\n",
              "      fill: #1967D2;\n",
              "      height: 32px;\n",
              "      padding: 0 0 0 0;\n",
              "      width: 32px;\n",
              "    }\n",
              "\n",
              "    .colab-df-convert:hover {\n",
              "      background-color: #E2EBFA;\n",
              "      box-shadow: 0px 1px 2px rgba(60, 64, 67, 0.3), 0px 1px 3px 1px rgba(60, 64, 67, 0.15);\n",
              "      fill: #174EA6;\n",
              "    }\n",
              "\n",
              "    [theme=dark] .colab-df-convert {\n",
              "      background-color: #3B4455;\n",
              "      fill: #D2E3FC;\n",
              "    }\n",
              "\n",
              "    [theme=dark] .colab-df-convert:hover {\n",
              "      background-color: #434B5C;\n",
              "      box-shadow: 0px 1px 3px 1px rgba(0, 0, 0, 0.15);\n",
              "      filter: drop-shadow(0px 1px 2px rgba(0, 0, 0, 0.3));\n",
              "      fill: #FFFFFF;\n",
              "    }\n",
              "  </style>\n",
              "\n",
              "      <script>\n",
              "        const buttonEl =\n",
              "          document.querySelector('#df-548ed6f7-f31f-4e2d-9822-68f2d6f0b335 button.colab-df-convert');\n",
              "        buttonEl.style.display =\n",
              "          google.colab.kernel.accessAllowed ? 'block' : 'none';\n",
              "\n",
              "        async function convertToInteractive(key) {\n",
              "          const element = document.querySelector('#df-548ed6f7-f31f-4e2d-9822-68f2d6f0b335');\n",
              "          const dataTable =\n",
              "            await google.colab.kernel.invokeFunction('convertToInteractive',\n",
              "                                                     [key], {});\n",
              "          if (!dataTable) return;\n",
              "\n",
              "          const docLinkHtml = 'Like what you see? Visit the ' +\n",
              "            '<a target=\"_blank\" href=https://colab.research.google.com/notebooks/data_table.ipynb>data table notebook</a>'\n",
              "            + ' to learn more about interactive tables.';\n",
              "          element.innerHTML = '';\n",
              "          dataTable['output_type'] = 'display_data';\n",
              "          await google.colab.output.renderOutput(dataTable, element);\n",
              "          const docLink = document.createElement('div');\n",
              "          docLink.innerHTML = docLinkHtml;\n",
              "          element.appendChild(docLink);\n",
              "        }\n",
              "      </script>\n",
              "    </div>\n",
              "  </div>\n",
              "  "
            ],
            "text/plain": [
              "                                                     Text  \\\n",
              "0       ویکی‌پدیای انگلیسی در تاریخ ۱۵ ژانویه ۲۰۰۱ میل...   \n",
              "1               بنیان‌گذاران آن جیمی ولز و لری سنگر هستند   \n",
              "2       ویکی‌پدیا از پایان آوریل ۲۰۰۷ تاکنون یکی از ۱۰...   \n",
              "3       در میان تمام زبان‌های ویکی‌پدیا تا دسامبر ۲۰۱۵...   \n",
              "4       نوپدیا در تاریخ ۹ مارس ۲۰۰۰ میلادی ۱۹ اسفند ۱۳...   \n",
              "...                                                   ...   \n",
              "216515  پس‌از‌آن دیگر آندرتیکر حضور نیافت تا سال بعد ک...   \n",
              "216516  حضور نیافت تا‌این‌که در سال ۲۰۱۲ برای حمایت دو...   \n",
              "216517  در تاریخ ۲۳ ژوئیه ۲۰۱۲ در‌حین اجرای شوی WWE را...   \n",
              "216518  در سال بعد ۲۰۱۳ کمی قبل از رستلمنیا ۲۹ پول بیر...   \n",
              "216519  در رستلمنیا ۲۹ یک مسابقه بین آندرتیکر و CM پان...   \n",
              "\n",
              "                                                    Label  \n",
              "0       O O B-DAT I-DAT I-DAT I-DAT I-DAT B-DAT B-DAT ...  \n",
              "1                         O O B-PER I-PER O B-PER I-PER O  \n",
              "2       O B-DAT I-DAT I-DAT I-DAT O O O O O O O O O O ...  \n",
              "3       O O O O O B-DAT I-DAT I-DAT B-DAT I-DAT O O O ...  \n",
              "4       O B-DAT I-DAT I-DAT I-DAT I-DAT B-DAT B-DAT I-...  \n",
              "...                                                   ...  \n",
              "216515  O O O O O B-DAT I-DAT I-DAT O O B-EVE I-EVE I-...  \n",
              "216516  O O O B-DAT B-DAT I-DAT O O O O O O B-PER I-PE...  \n",
              "216517  B-DAT I-DAT B-DAT I-DAT I-DAT O O O O O O O O ...  \n",
              "216518  B-DAT B-DAT I-DAT O O O O B-EVE I-EVE O O O O ...  \n",
              "216519  O B-EVE I-EVE O O O O O O O O O O O O O O O O ...  \n",
              "\n",
              "[216520 rows x 2 columns]"
            ]
          },
          "execution_count": 125,
          "metadata": {},
          "output_type": "execute_result"
        }
      ],
      "source": [
        "dataSentences"
      ]
    },
    {
      "cell_type": "code",
      "execution_count": null,
      "metadata": {
        "colab": {
          "base_uri": "https://localhost:8080/",
          "height": 672
        },
        "id": "ugNdlls65nSk",
        "outputId": "817383f0-fbe0-452c-b7e8-77d061654f81"
      },
      "outputs": [
        {
          "data": {
            "text/html": [
              "\n",
              "  <div id=\"df-be593934-cfb5-404e-9a2c-f7fa495c4ab6\">\n",
              "    <div class=\"colab-df-container\">\n",
              "      <div>\n",
              "<style scoped>\n",
              "    .dataframe tbody tr th:only-of-type {\n",
              "        vertical-align: middle;\n",
              "    }\n",
              "\n",
              "    .dataframe tbody tr th {\n",
              "        vertical-align: top;\n",
              "    }\n",
              "\n",
              "    .dataframe thead th {\n",
              "        text-align: right;\n",
              "    }\n",
              "</style>\n",
              "<table border=\"1\" class=\"dataframe\">\n",
              "  <thead>\n",
              "    <tr style=\"text-align: right;\">\n",
              "      <th></th>\n",
              "      <th>Lens</th>\n",
              "      <th>O_Count</th>\n",
              "      <th>NE_Count</th>\n",
              "      <th>NE/Len</th>\n",
              "    </tr>\n",
              "  </thead>\n",
              "  <tbody>\n",
              "    <tr>\n",
              "      <th>0</th>\n",
              "      <td>20</td>\n",
              "      <td>11</td>\n",
              "      <td>9</td>\n",
              "      <td>45.000000</td>\n",
              "    </tr>\n",
              "    <tr>\n",
              "      <th>1</th>\n",
              "      <td>8</td>\n",
              "      <td>4</td>\n",
              "      <td>4</td>\n",
              "      <td>50.000000</td>\n",
              "    </tr>\n",
              "    <tr>\n",
              "      <th>2</th>\n",
              "      <td>10</td>\n",
              "      <td>10</td>\n",
              "      <td>0</td>\n",
              "      <td>0.000000</td>\n",
              "    </tr>\n",
              "    <tr>\n",
              "      <th>3</th>\n",
              "      <td>11</td>\n",
              "      <td>11</td>\n",
              "      <td>0</td>\n",
              "      <td>0.000000</td>\n",
              "    </tr>\n",
              "    <tr>\n",
              "      <th>4</th>\n",
              "      <td>15</td>\n",
              "      <td>15</td>\n",
              "      <td>0</td>\n",
              "      <td>0.000000</td>\n",
              "    </tr>\n",
              "    <tr>\n",
              "      <th>...</th>\n",
              "      <td>...</td>\n",
              "      <td>...</td>\n",
              "      <td>...</td>\n",
              "      <td>...</td>\n",
              "    </tr>\n",
              "    <tr>\n",
              "      <th>390930</th>\n",
              "      <td>11</td>\n",
              "      <td>11</td>\n",
              "      <td>0</td>\n",
              "      <td>0.000000</td>\n",
              "    </tr>\n",
              "    <tr>\n",
              "      <th>390931</th>\n",
              "      <td>45</td>\n",
              "      <td>40</td>\n",
              "      <td>5</td>\n",
              "      <td>11.111111</td>\n",
              "    </tr>\n",
              "    <tr>\n",
              "      <th>390932</th>\n",
              "      <td>30</td>\n",
              "      <td>25</td>\n",
              "      <td>5</td>\n",
              "      <td>16.666667</td>\n",
              "    </tr>\n",
              "    <tr>\n",
              "      <th>390933</th>\n",
              "      <td>28</td>\n",
              "      <td>25</td>\n",
              "      <td>3</td>\n",
              "      <td>10.714286</td>\n",
              "    </tr>\n",
              "    <tr>\n",
              "      <th>390934</th>\n",
              "      <td>12</td>\n",
              "      <td>12</td>\n",
              "      <td>0</td>\n",
              "      <td>0.000000</td>\n",
              "    </tr>\n",
              "  </tbody>\n",
              "</table>\n",
              "<p>390935 rows × 4 columns</p>\n",
              "</div>\n",
              "      <button class=\"colab-df-convert\" onclick=\"convertToInteractive('df-be593934-cfb5-404e-9a2c-f7fa495c4ab6')\"\n",
              "              title=\"Convert this dataframe to an interactive table.\"\n",
              "              style=\"display:none;\">\n",
              "        \n",
              "  <svg xmlns=\"http://www.w3.org/2000/svg\" height=\"24px\"viewBox=\"0 0 24 24\"\n",
              "       width=\"24px\">\n",
              "    <path d=\"M0 0h24v24H0V0z\" fill=\"none\"/>\n",
              "    <path d=\"M18.56 5.44l.94 2.06.94-2.06 2.06-.94-2.06-.94-.94-2.06-.94 2.06-2.06.94zm-11 1L8.5 8.5l.94-2.06 2.06-.94-2.06-.94L8.5 2.5l-.94 2.06-2.06.94zm10 10l.94 2.06.94-2.06 2.06-.94-2.06-.94-.94-2.06-.94 2.06-2.06.94z\"/><path d=\"M17.41 7.96l-1.37-1.37c-.4-.4-.92-.59-1.43-.59-.52 0-1.04.2-1.43.59L10.3 9.45l-7.72 7.72c-.78.78-.78 2.05 0 2.83L4 21.41c.39.39.9.59 1.41.59.51 0 1.02-.2 1.41-.59l7.78-7.78 2.81-2.81c.8-.78.8-2.07 0-2.86zM5.41 20L4 18.59l7.72-7.72 1.47 1.35L5.41 20z\"/>\n",
              "  </svg>\n",
              "      </button>\n",
              "      \n",
              "  <style>\n",
              "    .colab-df-container {\n",
              "      display:flex;\n",
              "      flex-wrap:wrap;\n",
              "      gap: 12px;\n",
              "    }\n",
              "\n",
              "    .colab-df-convert {\n",
              "      background-color: #E8F0FE;\n",
              "      border: none;\n",
              "      border-radius: 50%;\n",
              "      cursor: pointer;\n",
              "      display: none;\n",
              "      fill: #1967D2;\n",
              "      height: 32px;\n",
              "      padding: 0 0 0 0;\n",
              "      width: 32px;\n",
              "    }\n",
              "\n",
              "    .colab-df-convert:hover {\n",
              "      background-color: #E2EBFA;\n",
              "      box-shadow: 0px 1px 2px rgba(60, 64, 67, 0.3), 0px 1px 3px 1px rgba(60, 64, 67, 0.15);\n",
              "      fill: #174EA6;\n",
              "    }\n",
              "\n",
              "    [theme=dark] .colab-df-convert {\n",
              "      background-color: #3B4455;\n",
              "      fill: #D2E3FC;\n",
              "    }\n",
              "\n",
              "    [theme=dark] .colab-df-convert:hover {\n",
              "      background-color: #434B5C;\n",
              "      box-shadow: 0px 1px 3px 1px rgba(0, 0, 0, 0.15);\n",
              "      filter: drop-shadow(0px 1px 2px rgba(0, 0, 0, 0.3));\n",
              "      fill: #FFFFFF;\n",
              "    }\n",
              "  </style>\n",
              "\n",
              "      <script>\n",
              "        const buttonEl =\n",
              "          document.querySelector('#df-be593934-cfb5-404e-9a2c-f7fa495c4ab6 button.colab-df-convert');\n",
              "        buttonEl.style.display =\n",
              "          google.colab.kernel.accessAllowed ? 'block' : 'none';\n",
              "\n",
              "        async function convertToInteractive(key) {\n",
              "          const element = document.querySelector('#df-be593934-cfb5-404e-9a2c-f7fa495c4ab6');\n",
              "          const dataTable =\n",
              "            await google.colab.kernel.invokeFunction('convertToInteractive',\n",
              "                                                     [key], {});\n",
              "          if (!dataTable) return;\n",
              "\n",
              "          const docLinkHtml = 'Like what you see? Visit the ' +\n",
              "            '<a target=\"_blank\" href=https://colab.research.google.com/notebooks/data_table.ipynb>data table notebook</a>'\n",
              "            + ' to learn more about interactive tables.';\n",
              "          element.innerHTML = '';\n",
              "          dataTable['output_type'] = 'display_data';\n",
              "          await google.colab.output.renderOutput(dataTable, element);\n",
              "          const docLink = document.createElement('div');\n",
              "          docLink.innerHTML = docLinkHtml;\n",
              "          element.appendChild(docLink);\n",
              "        }\n",
              "      </script>\n",
              "    </div>\n",
              "  </div>\n",
              "  "
            ],
            "text/plain": [
              "        Lens  O_Count  NE_Count     NE/Len\n",
              "0         20       11         9  45.000000\n",
              "1          8        4         4  50.000000\n",
              "2         10       10         0   0.000000\n",
              "3         11       11         0   0.000000\n",
              "4         15       15         0   0.000000\n",
              "...      ...      ...       ...        ...\n",
              "390930    11       11         0   0.000000\n",
              "390931    45       40         5  11.111111\n",
              "390932    30       25         5  16.666667\n",
              "390933    28       25         3  10.714286\n",
              "390934    12       12         0   0.000000\n",
              "\n",
              "[390935 rows x 4 columns]"
            ]
          },
          "execution_count": 113,
          "metadata": {},
          "output_type": "execute_result"
        },
        {
          "name": "stdout",
          "output_type": "stream",
          "text": [
            "Warning: total number of rows (390935) exceeds max_rows (20000). Limiting to first (20000) rows.\n"
          ]
        }
      ],
      "source": [
        "senInfo"
      ]
    },
    {
      "cell_type": "code",
      "execution_count": null,
      "metadata": {
        "colab": {
          "base_uri": "https://localhost:8080/",
          "height": 211
        },
        "id": "AWE9PiAP5nWY",
        "outputId": "1ed84927-f868-4607-8b0e-b5707839e5e9"
      },
      "outputs": [
        {
          "data": {
            "image/png": "[encoded data removed]",
            "text/plain": [
              "<Figure size 216x216 with 1 Axes>"
            ]
          },
          "metadata": {},
          "output_type": "display_data"
        }
      ],
      "source": [
        "import matplotlib.pyplot as plt\n",
        "fig = plt.figure(figsize =(3, 3))\n",
        "plt.boxplot(senInfo['NE_Count'])\n",
        "plt.show()"
      ]
    },
    {
      "cell_type": "code",
      "execution_count": null,
      "metadata": {
        "id": "DHYmpH_V1Joj"
      },
      "outputs": [],
      "source": [
        "dataSentences.to_csv('/content/drive/MyDrive/NerDatas/innerInputs/dataSentences')"
      ]
    },
    {
      "cell_type": "code",
      "execution_count": 5,
      "metadata": {
        "id": "NK0FL7PfU8WO"
      },
      "outputs": [],
      "source": [
        "dataSentences = pd.read_csv('/content/drive/MyDrive/NerDatas/innerInputs/dataSentences2')"
      ]
    },
    {
      "cell_type": "code",
      "execution_count": null,
      "metadata": {
        "id": "AqLR6hP5U8Yo"
      },
      "outputs": [],
      "source": [
        "dataSentences.to_csv('/content/drive/MyDrive/NerDatas/innerInputs/dataSentences2')"
      ]
    },
    {
      "cell_type": "code",
      "execution_count": 6,
      "metadata": {
        "id": "oCTxTFS4p9Jx"
      },
      "outputs": [],
      "source": [
        "dataSentences = dataSentences[['Text', 'Label']]"
      ]
    },
    {
      "cell_type": "code",
      "execution_count": 7,
      "metadata": {
        "colab": {
          "base_uri": "https://localhost:8080/",
          "height": 424
        },
        "id": "M7tkFy_gqr2y",
        "outputId": "edbca758-a9e3-4255-cf4c-d5d24ca49719"
      },
      "outputs": [
        {
          "output_type": "execute_result",
          "data": {
            "text/plain": [
              "                                                     Text  \\\n",
              "0       ویکی‌پدیای انگلیسی در تاریخ ۱۵ ژانویه ۲۰۰۱ میل...   \n",
              "1               بنیان‌گذاران آن جیمی ولز و لری سنگر هستند   \n",
              "2       ویکی‌پدیا از پایان آوریل ۲۰۰۷ تاکنون یکی از ۱۰...   \n",
              "3       در میان تمام زبان‌های ویکی‌پدیا تا دسامبر ۲۰۱۵...   \n",
              "4       نوپدیا در تاریخ ۹ مارس ۲۰۰۰ میلادی ۱۹ اسفند ۱۳...   \n",
              "...                                                   ...   \n",
              "216515  پس‌از‌آن دیگر آندرتیکر حضور نیافت تا سال بعد ک...   \n",
              "216516  حضور نیافت تا‌این‌که در سال ۲۰۱۲ برای حمایت دو...   \n",
              "216517  در تاریخ ۲۳ ژوئیه ۲۰۱۲ در‌حین اجرای شوی WWE را...   \n",
              "216518  در سال بعد ۲۰۱۳ کمی قبل از رستلمنیا ۲۹ پول بیر...   \n",
              "216519  در رستلمنیا ۲۹ یک مسابقه بین آندرتیکر و CM پان...   \n",
              "\n",
              "                                                    Label  \n",
              "0       O O B-DAT I-DAT I-DAT I-DAT I-DAT B-DAT B-DAT ...  \n",
              "1                         O O B-PER I-PER O B-PER I-PER O  \n",
              "2       O B-DAT I-DAT I-DAT I-DAT O O O O O O O O O O ...  \n",
              "3       O O O O O B-DAT I-DAT I-DAT B-DAT I-DAT O O O ...  \n",
              "4       O B-DAT I-DAT I-DAT I-DAT I-DAT B-DAT B-DAT I-...  \n",
              "...                                                   ...  \n",
              "216515  O O O O O B-DAT I-DAT I-DAT O O B-EVE I-EVE I-...  \n",
              "216516  O O O B-DAT B-DAT I-DAT O O O O O O B-PER I-PE...  \n",
              "216517  B-DAT I-DAT B-DAT I-DAT I-DAT O O O O O O O O ...  \n",
              "216518  B-DAT B-DAT I-DAT O O O O B-EVE I-EVE O O O O ...  \n",
              "216519  O B-EVE I-EVE O O O O O O O O O O O O O O O O ...  \n",
              "\n",
              "[216520 rows x 2 columns]"
            ],
            "text/html": [
              "\n",
              "  <div id=\"df-7cca2ddb-2c76-4212-a266-ac46cfdc6363\">\n",
              "    <div class=\"colab-df-container\">\n",
              "      <div>\n",
              "<style scoped>\n",
              "    .dataframe tbody tr th:only-of-type {\n",
              "        vertical-align: middle;\n",
              "    }\n",
              "\n",
              "    .dataframe tbody tr th {\n",
              "        vertical-align: top;\n",
              "    }\n",
              "\n",
              "    .dataframe thead th {\n",
              "        text-align: right;\n",
              "    }\n",
              "</style>\n",
              "<table border=\"1\" class=\"dataframe\">\n",
              "  <thead>\n",
              "    <tr style=\"text-align: right;\">\n",
              "      <th></th>\n",
              "      <th>Text</th>\n",
              "      <th>Label</th>\n",
              "    </tr>\n",
              "  </thead>\n",
              "  <tbody>\n",
              "    <tr>\n",
              "      <th>0</th>\n",
              "      <td>ویکی‌پدیای انگلیسی در تاریخ ۱۵ ژانویه ۲۰۰۱ میل...</td>\n",
              "      <td>O O B-DAT I-DAT I-DAT I-DAT I-DAT B-DAT B-DAT ...</td>\n",
              "    </tr>\n",
              "    <tr>\n",
              "      <th>1</th>\n",
              "      <td>بنیان‌گذاران آن جیمی ولز و لری سنگر هستند</td>\n",
              "      <td>O O B-PER I-PER O B-PER I-PER O</td>\n",
              "    </tr>\n",
              "    <tr>\n",
              "      <th>2</th>\n",
              "      <td>ویکی‌پدیا از پایان آوریل ۲۰۰۷ تاکنون یکی از ۱۰...</td>\n",
              "      <td>O B-DAT I-DAT I-DAT I-DAT O O O O O O O O O O ...</td>\n",
              "    </tr>\n",
              "    <tr>\n",
              "      <th>3</th>\n",
              "      <td>در میان تمام زبان‌های ویکی‌پدیا تا دسامبر ۲۰۱۵...</td>\n",
              "      <td>O O O O O B-DAT I-DAT I-DAT B-DAT I-DAT O O O ...</td>\n",
              "    </tr>\n",
              "    <tr>\n",
              "      <th>4</th>\n",
              "      <td>نوپدیا در تاریخ ۹ مارس ۲۰۰۰ میلادی ۱۹ اسفند ۱۳...</td>\n",
              "      <td>O B-DAT I-DAT I-DAT I-DAT I-DAT B-DAT B-DAT I-...</td>\n",
              "    </tr>\n",
              "    <tr>\n",
              "      <th>...</th>\n",
              "      <td>...</td>\n",
              "      <td>...</td>\n",
              "    </tr>\n",
              "    <tr>\n",
              "      <th>216515</th>\n",
              "      <td>پس‌از‌آن دیگر آندرتیکر حضور نیافت تا سال بعد ک...</td>\n",
              "      <td>O O O O O B-DAT I-DAT I-DAT O O B-EVE I-EVE I-...</td>\n",
              "    </tr>\n",
              "    <tr>\n",
              "      <th>216516</th>\n",
              "      <td>حضور نیافت تا‌این‌که در سال ۲۰۱۲ برای حمایت دو...</td>\n",
              "      <td>O O O B-DAT B-DAT I-DAT O O O O O O B-PER I-PE...</td>\n",
              "    </tr>\n",
              "    <tr>\n",
              "      <th>216517</th>\n",
              "      <td>در تاریخ ۲۳ ژوئیه ۲۰۱۲ در‌حین اجرای شوی WWE را...</td>\n",
              "      <td>B-DAT I-DAT B-DAT I-DAT I-DAT O O O O O O O O ...</td>\n",
              "    </tr>\n",
              "    <tr>\n",
              "      <th>216518</th>\n",
              "      <td>در سال بعد ۲۰۱۳ کمی قبل از رستلمنیا ۲۹ پول بیر...</td>\n",
              "      <td>B-DAT B-DAT I-DAT O O O O B-EVE I-EVE O O O O ...</td>\n",
              "    </tr>\n",
              "    <tr>\n",
              "      <th>216519</th>\n",
              "      <td>در رستلمنیا ۲۹ یک مسابقه بین آندرتیکر و CM پان...</td>\n",
              "      <td>O B-EVE I-EVE O O O O O O O O O O O O O O O O ...</td>\n",
              "    </tr>\n",
              "  </tbody>\n",
              "</table>\n",
              "<p>216520 rows × 2 columns</p>\n",
              "</div>\n",
              "      <button class=\"colab-df-convert\" onclick=\"convertToInteractive('df-7cca2ddb-2c76-4212-a266-ac46cfdc6363')\"\n",
              "              title=\"Convert this dataframe to an interactive table.\"\n",
              "              style=\"display:none;\">\n",
              "        \n",
              "  <svg xmlns=\"http://www.w3.org/2000/svg\" height=\"24px\"viewBox=\"0 0 24 24\"\n",
              "       width=\"24px\">\n",
              "    <path d=\"M0 0h24v24H0V0z\" fill=\"none\"/>\n",
              "    <path d=\"M18.56 5.44l.94 2.06.94-2.06 2.06-.94-2.06-.94-.94-2.06-.94 2.06-2.06.94zm-11 1L8.5 8.5l.94-2.06 2.06-.94-2.06-.94L8.5 2.5l-.94 2.06-2.06.94zm10 10l.94 2.06.94-2.06 2.06-.94-2.06-.94-.94-2.06-.94 2.06-2.06.94z\"/><path d=\"M17.41 7.96l-1.37-1.37c-.4-.4-.92-.59-1.43-.59-.52 0-1.04.2-1.43.59L10.3 9.45l-7.72 7.72c-.78.78-.78 2.05 0 2.83L4 21.41c.39.39.9.59 1.41.59.51 0 1.02-.2 1.41-.59l7.78-7.78 2.81-2.81c.8-.78.8-2.07 0-2.86zM5.41 20L4 18.59l7.72-7.72 1.47 1.35L5.41 20z\"/>\n",
              "  </svg>\n",
              "      </button>\n",
              "      \n",
              "  <style>\n",
              "    .colab-df-container {\n",
              "      display:flex;\n",
              "      flex-wrap:wrap;\n",
              "      gap: 12px;\n",
              "    }\n",
              "\n",
              "    .colab-df-convert {\n",
              "      background-color: #E8F0FE;\n",
              "      border: none;\n",
              "      border-radius: 50%;\n",
              "      cursor: pointer;\n",
              "      display: none;\n",
              "      fill: #1967D2;\n",
              "      height: 32px;\n",
              "      padding: 0 0 0 0;\n",
              "      width: 32px;\n",
              "    }\n",
              "\n",
              "    .colab-df-convert:hover {\n",
              "      background-color: #E2EBFA;\n",
              "      box-shadow: 0px 1px 2px rgba(60, 64, 67, 0.3), 0px 1px 3px 1px rgba(60, 64, 67, 0.15);\n",
              "      fill: #174EA6;\n",
              "    }\n",
              "\n",
              "    [theme=dark] .colab-df-convert {\n",
              "      background-color: #3B4455;\n",
              "      fill: #D2E3FC;\n",
              "    }\n",
              "\n",
              "    [theme=dark] .colab-df-convert:hover {\n",
              "      background-color: #434B5C;\n",
              "      box-shadow: 0px 1px 3px 1px rgba(0, 0, 0, 0.15);\n",
              "      filter: drop-shadow(0px 1px 2px rgba(0, 0, 0, 0.3));\n",
              "      fill: #FFFFFF;\n",
              "    }\n",
              "  </style>\n",
              "\n",
              "      <script>\n",
              "        const buttonEl =\n",
              "          document.querySelector('#df-7cca2ddb-2c76-4212-a266-ac46cfdc6363 button.colab-df-convert');\n",
              "        buttonEl.style.display =\n",
              "          google.colab.kernel.accessAllowed ? 'block' : 'none';\n",
              "\n",
              "        async function convertToInteractive(key) {\n",
              "          const element = document.querySelector('#df-7cca2ddb-2c76-4212-a266-ac46cfdc6363');\n",
              "          const dataTable =\n",
              "            await google.colab.kernel.invokeFunction('convertToInteractive',\n",
              "                                                     [key], {});\n",
              "          if (!dataTable) return;\n",
              "\n",
              "          const docLinkHtml = 'Like what you see? Visit the ' +\n",
              "            '<a target=\"_blank\" href=https://colab.research.google.com/notebooks/data_table.ipynb>data table notebook</a>'\n",
              "            + ' to learn more about interactive tables.';\n",
              "          element.innerHTML = '';\n",
              "          dataTable['output_type'] = 'display_data';\n",
              "          await google.colab.output.renderOutput(dataTable, element);\n",
              "          const docLink = document.createElement('div');\n",
              "          docLink.innerHTML = docLinkHtml;\n",
              "          element.appendChild(docLink);\n",
              "        }\n",
              "      </script>\n",
              "    </div>\n",
              "  </div>\n",
              "  "
            ]
          },
          "metadata": {},
          "execution_count": 7
        }
      ],
      "source": [
        "dataSentences"
      ]
    },
    {
      "cell_type": "code",
      "execution_count": null,
      "metadata": {
        "id": "Rg9PwUAyqr99"
      },
      "outputs": [],
      "source": [
        ""
      ]
    },
    {
      "cell_type": "code",
      "execution_count": null,
      "metadata": {
        "id": "ZbajHLnJqsAe"
      },
      "outputs": [],
      "source": [
        ""
      ]
    },
    {
      "cell_type": "code",
      "execution_count": null,
      "metadata": {
        "id": "EDc8Efs2qsDE"
      },
      "outputs": [],
      "source": [
        ""
      ]
    },
    {
      "cell_type": "markdown",
      "metadata": {
        "id": "hK2H4mZuqDKT"
      },
      "source": [
        "## Tokenizationnnnn"
      ]
    },
    {
      "cell_type": "code",
      "execution_count": null,
      "metadata": {
        "id": "fDRwfbd1qH0T"
      },
      "outputs": [],
      "source": [
        "yLabel = dataSentences['Label']\n",
        "sentences = dataSentences['Text']"
      ]
    },
    {
      "cell_type": "code",
      "execution_count": null,
      "metadata": {
        "id": "_tG6HESkp9R2"
      },
      "outputs": [],
      "source": [
        "max_features = 550025   # changeable\n",
        "tokenizer = Tokenizer(num_words=max_features)\n",
        "tokenizer.fit_on_texts(list(sentences))\n",
        "list_tokenized_train = tokenizer.texts_to_sequences(sentences)\n",
        "\n",
        "y = [[label_to_one_hot(c) for c in ey.split(' ')] for ey in yLabel]"
      ]
    },
    {
      "cell_type": "markdown",
      "metadata": {
        "id": "-DTDY6H1mTnn"
      },
      "source": [
        "## Padding"
      ]
    },
    {
      "cell_type": "code",
      "execution_count": null,
      "metadata": {
        "colab": {
          "base_uri": "https://localhost:8080/"
        },
        "id": "IUHr_QF1mSsU",
        "outputId": "cd8a4362-b056-4fe7-b4ce-74f6436d22c5"
      },
      "outputs": [
        {
          "output_type": "stream",
          "name": "stdout",
          "text": [
            "60\n",
            "60\n"
          ]
        }
      ],
      "source": [
        "maxlen = 60\n",
        "X_t = pad_sequences(list_tokenized_train, maxlen=maxlen)\n",
        "y_t = pad_sequences(y, maxlen=maxlen)\n",
        "print(len(X_t[0]))\n",
        "print(len(y_t[0]))"
      ]
    },
    {
      "cell_type": "markdown",
      "metadata": {
        "id": "lc8mcXlBDklT"
      },
      "source": [
        "## Embedding"
      ]
    },
    {
      "cell_type": "code",
      "execution_count": null,
      "metadata": {
        "id": "Xv8GF_-fDArA"
      },
      "outputs": [],
      "source": [
        "def loadEmbeddingMatrix(typeToLoad):\n",
        "    if(typeToLoad==\"fasttext\"):\n",
        "        EMBEDDING_FILE='/content/drive/MyDrive/NerDatas/cc.fa.300.vec'\n",
        "        embed_size = 300\n",
        "\n",
        "    if(typeToLoad==\"glove\" or typeToLoad==\"fasttext\" ):\n",
        "        embeddings_index = dict()\n",
        "            #Transfer the embedding weights into a dictionary by iterating through every line of the file.\n",
        "        with open(EMBEDDING_FILE,'r', encoding='utf8')as f:\n",
        "            for line in f:\n",
        "                try:\n",
        "                    values = line.split()\n",
        "\n",
        "                    if len(values)==301:\n",
        "                        word = values[0]    \n",
        "                        coefs = np.asarray(values[1:], dtype='float32')\n",
        "                        embeddings_index[word] = coefs\n",
        "                    elif len(values)==302:\n",
        "          #print(len(value))\n",
        "                        word = values[0]+'\\u200c'+values[1]   \n",
        "                        coefs = np.asarray(values[2:], dtype='float32')\n",
        "                        embeddings_index[word] = coefs\n",
        "                    elif len(values)==303:\n",
        "                        word = values[0]+'\\u200c'+values[1]+'\\u200c'+values[2]  \n",
        "                        coefs = np.asarray(values[3:], dtype='float32')\n",
        "                        embeddings_index[word] = coefs\n",
        "                except Exception as inst:\n",
        "                        print(inst)\n",
        "    else:\n",
        "            embeddings_index = dict()\n",
        "            for word in word2vecDict.wv.vocab:\n",
        "                embeddings_index[word] = word2vecDict.word_vec(word)\n",
        "            #print('Loaded %s word vectors.' % len(embeddings_index))\n",
        "                        \n",
        "    gc.collect()\n",
        "        #We get the mean and standard deviation of the embedding weights so that we could maintain the \n",
        "        #same statistics for the rest of our own random generated weights. \n",
        "    all_embs = np.stack(list(embeddings_index.values()))\n",
        "    emb_mean,emb_std = all_embs.mean(), all_embs.std()\n",
        "        \n",
        "    nb_words = len(tokenizer.word_index)\n",
        "        #We are going to set the embedding size to the pretrained dimension as we are replicating it.\n",
        "        #the size will be Number of Words in Vocab X Embedding Size\n",
        "    embedding_matrix = np.random.normal(emb_mean, emb_std, (nb_words, embed_size))\n",
        "    gc.collect()\n",
        "\n",
        "        #With the newly created embedding matrix, we'll fill it up with the words that we have in both \n",
        "        #our own dictionary and loaded pretrained embedding. \n",
        "    embeddedCount = 0\n",
        "    for word, i in tokenizer.word_index.items():\n",
        "            i-=1\n",
        "            #then we see if this word is in glove's dictionary, if yes, get the corresponding weights\n",
        "            embedding_vector = embeddings_index.get(word)\n",
        "            #and store inside the embedding matrix that we will train later on.\n",
        "            if embedding_vector is not None: \n",
        "                embedding_matrix[i] = embedding_vector\n",
        "                embeddedCount+=1\n",
        "    print('total embedded:',embeddedCount,'common words')\n",
        "        \n",
        "    del(embeddings_index)\n",
        "    gc.collect()\n",
        "        \n",
        "        #finally, return the embedding matrix\n",
        "    return embedding_matrix"
      ]
    },
    {
      "cell_type": "code",
      "execution_count": null,
      "metadata": {
        "colab": {
          "base_uri": "https://localhost:8080/"
        },
        "id": "uvoV9xB8DAtt",
        "outputId": "b795631f-c8b3-415d-9378-eedb14f85d73"
      },
      "outputs": [
        {
          "name": "stdout",
          "output_type": "stream",
          "text": [
            "total embedded: 118485 common words\n"
          ]
        }
      ],
      "source": [
        "embedding_matrix = loadEmbeddingMatrix('fasttext') #we use the lower line instead of runing several times "
      ]
    },
    {
      "cell_type": "code",
      "execution_count": null,
      "metadata": {
        "id": "raTkWwyctjV4"
      },
      "outputs": [],
      "source": [
        "np.save('/content/drive/MyDrive/NerDatas/Embedding/embedding_matrix.csv2.npy', embedding_matrix)"
      ]
    },
    {
      "cell_type": "code",
      "execution_count": null,
      "metadata": {
        "id": "BtT0_K533zcL"
      },
      "outputs": [],
      "source": [
        "embedding_matrix = np.load('/content/drive/MyDrive/NerDatas/Embedding/embedding_matrix.csv2.npy')"
      ]
    },
    {
      "cell_type": "code",
      "execution_count": null,
      "metadata": {
        "id": "idKiYbnLRqLv"
      },
      "outputs": [],
      "source": [
        "#embedding_matrix = np.load('/content/drive/MyDrive/NerDatas/Embedding/embedding_matrix.csv.npy')"
      ]
    },
    {
      "cell_type": "markdown",
      "metadata": {
        "id": "-bqDzrMCmts8"
      },
      "source": [
        "## "
      ]
    },
    {
      "cell_type": "code",
      "execution_count": null,
      "metadata": {
        "colab": {
          "base_uri": "https://localhost:8080/"
        },
        "id": "jaSEcrAPbJf1",
        "outputId": "92479bc5-52e3-4d7d-a599-dac530548181"
      },
      "outputs": [
        {
          "output_type": "stream",
          "name": "stdout",
          "text": [
            "Looking in indexes: https://pypi.org/simple, https://us-python.pkg.dev/colab-wheels/public/simple/\n",
            "Collecting git+https://www.github.com/keras-team/keras-contrib.git\n",
            "  Cloning https://www.github.com/keras-team/keras-contrib.git to /tmp/pip-req-build-c00gvgyf\n",
            "  Running command git clone -q https://www.github.com/keras-team/keras-contrib.git /tmp/pip-req-build-c00gvgyf\n",
            "Requirement already satisfied: keras in /usr/local/lib/python3.7/dist-packages (from keras-contrib==2.0.8) (2.8.0)\n"
          ]
        }
      ],
      "source": [
        "! pip install git+https://www.github.com/keras-team/keras-contrib.git"
      ]
    },
    {
      "cell_type": "code",
      "source": [
        "from sklearn.model_selection import train_test_split\n",
        "X_train, X_test, y_train, y_test = train_test_split(X_t, y_t, test_size=0.1, random_state=21)"
      ],
      "metadata": {
        "id": "7SrZu4k1iwsP"
      },
      "execution_count": null,
      "outputs": []
    },
    {
      "cell_type": "code",
      "execution_count": null,
      "metadata": {
        "colab": {
          "base_uri": "https://localhost:8080/"
        },
        "id": "1fKjcIPJbJiN",
        "outputId": "0a85fd5c-1fc9-4c99-ae65-df89b0ebcead"
      },
      "outputs": [
        {
          "output_type": "stream",
          "name": "stdout",
          "text": [
            "WARNING:tensorflow:Layer lstm_layer1 will not use cuDNN kernels since it doesn't meet the criteria. It will use a generic GPU kernel as fallback when running on GPU.\n",
            "WARNING:tensorflow:Layer lstm_layer1 will not use cuDNN kernels since it doesn't meet the criteria. It will use a generic GPU kernel as fallback when running on GPU.\n",
            "WARNING:tensorflow:Layer lstm_layer1 will not use cuDNN kernels since it doesn't meet the criteria. It will use a generic GPU kernel as fallback when running on GPU.\n",
            "WARNING:tensorflow:Layer lstm_layer2 will not use cuDNN kernels since it doesn't meet the criteria. It will use a generic GPU kernel as fallback when running on GPU.\n",
            "WARNING:tensorflow:Layer lstm_layer2 will not use cuDNN kernels since it doesn't meet the criteria. It will use a generic GPU kernel as fallback when running on GPU.\n",
            "WARNING:tensorflow:Layer lstm_layer2 will not use cuDNN kernels since it doesn't meet the criteria. It will use a generic GPU kernel as fallback when running on GPU.\n",
            "WARNING:tensorflow:Layer lstm_layer3 will not use cuDNN kernels since it doesn't meet the criteria. It will use a generic GPU kernel as fallback when running on GPU.\n",
            "WARNING:tensorflow:Layer lstm_layer3 will not use cuDNN kernels since it doesn't meet the criteria. It will use a generic GPU kernel as fallback when running on GPU.\n",
            "WARNING:tensorflow:Layer lstm_layer3 will not use cuDNN kernels since it doesn't meet the criteria. It will use a generic GPU kernel as fallback when running on GPU.\n",
            "WARNING:tensorflow:Layer lstm_layer4 will not use cuDNN kernels since it doesn't meet the criteria. It will use a generic GPU kernel as fallback when running on GPU.\n",
            "WARNING:tensorflow:Layer lstm_layer4 will not use cuDNN kernels since it doesn't meet the criteria. It will use a generic GPU kernel as fallback when running on GPU.\n",
            "WARNING:tensorflow:Layer lstm_layer4 will not use cuDNN kernels since it doesn't meet the criteria. It will use a generic GPU kernel as fallback when running on GPU.\n",
            "Model: \"sequential_1\"\n",
            "_________________________________________________________________\n",
            " Layer (type)                Output Shape              Param #   \n",
            "=================================================================\n",
            " embedding_1 (Embedding)     (None, None, 300)         40960500  \n",
            "                                                                 \n",
            " bidirectional_4 (Bidirectio  (None, None, 400)        801600    \n",
            " nal)                                                            \n",
            "                                                                 \n",
            " bidirectional_5 (Bidirectio  (None, None, 600)        1682400   \n",
            " nal)                                                            \n",
            "                                                                 \n",
            " bidirectional_6 (Bidirectio  (None, None, 600)        2162400   \n",
            " nal)                                                            \n",
            "                                                                 \n",
            " bidirectional_7 (Bidirectio  (None, None, 400)        1281600   \n",
            " nal)                                                            \n",
            "                                                                 \n",
            " dense_1 (Dense)             (None, None, 11)          4411      \n",
            "                                                                 \n",
            "=================================================================\n",
            "Total params: 46,892,911\n",
            "Trainable params: 5,932,411\n",
            "Non-trainable params: 40,960,500\n",
            "_________________________________________________________________\n"
          ]
        }
      ],
      "source": [
        "from keras.layers import  TimeDistributed, Masking, Conv1D, MaxPooling1D, Flatten\n",
        "from keras_contrib.layers import CRF\n",
        "from keras_contrib.losses import crf_loss\n",
        "from keras_contrib.metrics import crf_viterbi_accuracy, crf_accuracy\n",
        "from keras.models import Sequential\n",
        "from keras.callbacks import ModelCheckpoint\n",
        "import tensorflow as tf\n",
        "from keras import backend as K\n",
        "\n",
        "model = Sequential()\n",
        "# model.add(Dense(shape=(maxlen,)))\n",
        "model.add(Embedding(len(tokenizer.word_index), embedding_matrix.shape[1],\n",
        "                    weights=[embedding_matrix],trainable=False ))\n",
        "model.add(Bidirectional(LSTM(200, return_sequences=True,\n",
        "                             name='lstm_layer1', dropout=0.1, recurrent_dropout=0.1)))\n",
        "model.add(Bidirectional(LSTM(300, return_sequences=True,\n",
        "                              name='lstm_layer2', dropout=0.1, recurrent_dropout=0.1)))\n",
        "model.add(Bidirectional(LSTM(300, return_sequences=True,\n",
        "                              name='lstm_layer3', dropout=0.1, recurrent_dropout=0.1)))\n",
        "model.add(Bidirectional(LSTM(200, return_sequences=True,\n",
        "                              name='lstm_layer4', dropout=0.1, recurrent_dropout=0.1)))\n",
        "model.add(Dense(11, activation='softmax'))\n",
        "\n",
        "model.compile(loss='categorical_crossentropy',\n",
        "                  optimizer='adam',\n",
        "                  metrics=['accuracy',tf.keras.metrics.Precision(), tf.keras.metrics.Recall()])\n",
        "model.summary()"
      ]
    },
    {
      "cell_type": "code",
      "execution_count": null,
      "metadata": {
        "colab": {
          "base_uri": "https://localhost:8080/"
        },
        "id": "InWxtQqVbJks",
        "outputId": "abe0fb7b-d290-427c-ea11-b25973704466"
      },
      "outputs": [
        {
          "output_type": "stream",
          "name": "stdout",
          "text": [
            "Epoch 1/4\n",
            "324/324 [==============================] - ETA: 0s - loss: 0.3891 - accuracy: 0.8995 - precision_1: 0.7767 - recall_1: 0.6996\n",
            "Epoch 1: val_accuracy improved from -inf to 0.91721, saving model to /content/drive/MyDrive/NerDatas/check_point/check_point5.model\n",
            "INFO:tensorflow:Assets written to: /content/drive/MyDrive/NerDatas/check_point/check_point5.model/assets\n"
          ]
        },
        {
          "output_type": "stream",
          "name": "stderr",
          "text": [
            "WARNING:absl:<keras.layers.recurrent.LSTMCell object at 0x7f19fc208090> has the same name 'LSTMCell' as a built-in Keras object. Consider renaming <class 'keras.layers.recurrent.LSTMCell'> to avoid naming conflicts when loading with `tf.keras.models.load_model`. If renaming is not possible, pass the object in the `custom_objects` parameter of the load function.\n",
            "WARNING:absl:<keras.layers.recurrent.LSTMCell object at 0x7f197e07a4d0> has the same name 'LSTMCell' as a built-in Keras object. Consider renaming <class 'keras.layers.recurrent.LSTMCell'> to avoid naming conflicts when loading with `tf.keras.models.load_model`. If renaming is not possible, pass the object in the `custom_objects` parameter of the load function.\n",
            "WARNING:absl:<keras.layers.recurrent.LSTMCell object at 0x7f19f0298890> has the same name 'LSTMCell' as a built-in Keras object. Consider renaming <class 'keras.layers.recurrent.LSTMCell'> to avoid naming conflicts when loading with `tf.keras.models.load_model`. If renaming is not possible, pass the object in the `custom_objects` parameter of the load function.\n",
            "WARNING:absl:<keras.layers.recurrent.LSTMCell object at 0x7f19f01987d0> has the same name 'LSTMCell' as a built-in Keras object. Consider renaming <class 'keras.layers.recurrent.LSTMCell'> to avoid naming conflicts when loading with `tf.keras.models.load_model`. If renaming is not possible, pass the object in the `custom_objects` parameter of the load function.\n",
            "WARNING:absl:<keras.layers.recurrent.LSTMCell object at 0x7f19f0502150> has the same name 'LSTMCell' as a built-in Keras object. Consider renaming <class 'keras.layers.recurrent.LSTMCell'> to avoid naming conflicts when loading with `tf.keras.models.load_model`. If renaming is not possible, pass the object in the `custom_objects` parameter of the load function.\n",
            "WARNING:absl:<keras.layers.recurrent.LSTMCell object at 0x7f19f054dd90> has the same name 'LSTMCell' as a built-in Keras object. Consider renaming <class 'keras.layers.recurrent.LSTMCell'> to avoid naming conflicts when loading with `tf.keras.models.load_model`. If renaming is not possible, pass the object in the `custom_objects` parameter of the load function.\n",
            "WARNING:absl:<keras.layers.recurrent.LSTMCell object at 0x7f19f01b8210> has the same name 'LSTMCell' as a built-in Keras object. Consider renaming <class 'keras.layers.recurrent.LSTMCell'> to avoid naming conflicts when loading with `tf.keras.models.load_model`. If renaming is not possible, pass the object in the `custom_objects` parameter of the load function.\n",
            "WARNING:absl:<keras.layers.recurrent.LSTMCell object at 0x7f19f01b8fd0> has the same name 'LSTMCell' as a built-in Keras object. Consider renaming <class 'keras.layers.recurrent.LSTMCell'> to avoid naming conflicts when loading with `tf.keras.models.load_model`. If renaming is not possible, pass the object in the `custom_objects` parameter of the load function.\n"
          ]
        },
        {
          "output_type": "stream",
          "name": "stdout",
          "text": [
            "\b\b\b\b\b\b\b\b\b\b\b\b\b\b\b\b\b\b\b\b\b\b\b\b\b\b\b\b\b\b\b\b\b\b\b\b\b\b\b\b\b\b\b\b\b\b\b\b\b\b\b\b\b\b\b\b\b\b\b\b\b\b\b\b\b\b\b\b\b\b\b\b\b\b\b\b\b\b\b\b\b\b\b\b\b\b\b\b\b\b\b\b\b\b\b\b\b\b\b\b\b\b\b\b\b\b\b\b\b\b\b\b\b\b\b\b\b\b\b\b\b\b\b\b\b\r324/324 [==============================] - 715s 2s/step - loss: 0.3891 - accuracy: 0.8995 - precision_1: 0.7767 - recall_1: 0.6996 - val_loss: 0.3262 - val_accuracy: 0.9172 - val_precision_1: 0.8227 - val_recall_1: 0.7267\n",
            "Epoch 2/4\n",
            "324/324 [==============================] - ETA: 0s - loss: 0.2821 - accuracy: 0.9236 - precision_1: 0.8368 - recall_1: 0.7598\n",
            "Epoch 2: val_accuracy improved from 0.91721 to 0.93090, saving model to /content/drive/MyDrive/NerDatas/check_point/check_point5.model\n",
            "INFO:tensorflow:Assets written to: /content/drive/MyDrive/NerDatas/check_point/check_point5.model/assets\n"
          ]
        },
        {
          "output_type": "stream",
          "name": "stderr",
          "text": [
            "INFO:tensorflow:Assets written to: /content/drive/MyDrive/NerDatas/check_point/check_point5.model/assets\n",
            "WARNING:absl:<keras.layers.recurrent.LSTMCell object at 0x7f19fc208090> has the same name 'LSTMCell' as a built-in Keras object. Consider renaming <class 'keras.layers.recurrent.LSTMCell'> to avoid naming conflicts when loading with `tf.keras.models.load_model`. If renaming is not possible, pass the object in the `custom_objects` parameter of the load function.\n",
            "WARNING:absl:<keras.layers.recurrent.LSTMCell object at 0x7f197e07a4d0> has the same name 'LSTMCell' as a built-in Keras object. Consider renaming <class 'keras.layers.recurrent.LSTMCell'> to avoid naming conflicts when loading with `tf.keras.models.load_model`. If renaming is not possible, pass the object in the `custom_objects` parameter of the load function.\n",
            "WARNING:absl:<keras.layers.recurrent.LSTMCell object at 0x7f19f0298890> has the same name 'LSTMCell' as a built-in Keras object. Consider renaming <class 'keras.layers.recurrent.LSTMCell'> to avoid naming conflicts when loading with `tf.keras.models.load_model`. If renaming is not possible, pass the object in the `custom_objects` parameter of the load function.\n",
            "WARNING:absl:<keras.layers.recurrent.LSTMCell object at 0x7f19f01987d0> has the same name 'LSTMCell' as a built-in Keras object. Consider renaming <class 'keras.layers.recurrent.LSTMCell'> to avoid naming conflicts when loading with `tf.keras.models.load_model`. If renaming is not possible, pass the object in the `custom_objects` parameter of the load function.\n",
            "WARNING:absl:<keras.layers.recurrent.LSTMCell object at 0x7f19f0502150> has the same name 'LSTMCell' as a built-in Keras object. Consider renaming <class 'keras.layers.recurrent.LSTMCell'> to avoid naming conflicts when loading with `tf.keras.models.load_model`. If renaming is not possible, pass the object in the `custom_objects` parameter of the load function.\n",
            "WARNING:absl:<keras.layers.recurrent.LSTMCell object at 0x7f19f054dd90> has the same name 'LSTMCell' as a built-in Keras object. Consider renaming <class 'keras.layers.recurrent.LSTMCell'> to avoid naming conflicts when loading with `tf.keras.models.load_model`. If renaming is not possible, pass the object in the `custom_objects` parameter of the load function.\n",
            "WARNING:absl:<keras.layers.recurrent.LSTMCell object at 0x7f19f01b8210> has the same name 'LSTMCell' as a built-in Keras object. Consider renaming <class 'keras.layers.recurrent.LSTMCell'> to avoid naming conflicts when loading with `tf.keras.models.load_model`. If renaming is not possible, pass the object in the `custom_objects` parameter of the load function.\n",
            "WARNING:absl:<keras.layers.recurrent.LSTMCell object at 0x7f19f01b8fd0> has the same name 'LSTMCell' as a built-in Keras object. Consider renaming <class 'keras.layers.recurrent.LSTMCell'> to avoid naming conflicts when loading with `tf.keras.models.load_model`. If renaming is not possible, pass the object in the `custom_objects` parameter of the load function.\n"
          ]
        },
        {
          "output_type": "stream",
          "name": "stdout",
          "text": [
            "\b\b\b\b\b\b\b\b\b\b\b\b\b\b\b\b\b\b\b\b\b\b\b\b\b\b\b\b\b\b\b\b\b\b\b\b\b\b\b\b\b\b\b\b\b\b\b\b\b\b\b\b\b\b\b\b\b\b\b\b\b\b\b\b\b\b\b\b\b\b\b\b\b\b\b\b\b\b\b\b\b\b\b\b\b\b\b\b\b\b\b\b\b\b\b\b\b\b\b\b\b\b\b\b\b\b\b\b\b\b\b\b\b\b\b\b\b\b\b\b\b\b\b\b\b\r324/324 [==============================] - 698s 2s/step - loss: 0.2821 - accuracy: 0.9236 - precision_1: 0.8368 - recall_1: 0.7598 - val_loss: 0.2391 - val_accuracy: 0.9309 - val_precision_1: 0.8462 - val_recall_1: 0.7895\n",
            "Epoch 3/4\n",
            "324/324 [==============================] - ETA: 0s - loss: 0.2203 - accuracy: 0.9341 - precision_1: 0.8630 - recall_1: 0.7894\n",
            "Epoch 3: val_accuracy improved from 0.93090 to 0.94125, saving model to /content/drive/MyDrive/NerDatas/check_point/check_point5.model\n",
            "INFO:tensorflow:Assets written to: /content/drive/MyDrive/NerDatas/check_point/check_point5.model/assets\n"
          ]
        },
        {
          "output_type": "stream",
          "name": "stderr",
          "text": [
            "INFO:tensorflow:Assets written to: /content/drive/MyDrive/NerDatas/check_point/check_point5.model/assets\n",
            "WARNING:absl:<keras.layers.recurrent.LSTMCell object at 0x7f19fc208090> has the same name 'LSTMCell' as a built-in Keras object. Consider renaming <class 'keras.layers.recurrent.LSTMCell'> to avoid naming conflicts when loading with `tf.keras.models.load_model`. If renaming is not possible, pass the object in the `custom_objects` parameter of the load function.\n",
            "WARNING:absl:<keras.layers.recurrent.LSTMCell object at 0x7f197e07a4d0> has the same name 'LSTMCell' as a built-in Keras object. Consider renaming <class 'keras.layers.recurrent.LSTMCell'> to avoid naming conflicts when loading with `tf.keras.models.load_model`. If renaming is not possible, pass the object in the `custom_objects` parameter of the load function.\n",
            "WARNING:absl:<keras.layers.recurrent.LSTMCell object at 0x7f19f0298890> has the same name 'LSTMCell' as a built-in Keras object. Consider renaming <class 'keras.layers.recurrent.LSTMCell'> to avoid naming conflicts when loading with `tf.keras.models.load_model`. If renaming is not possible, pass the object in the `custom_objects` parameter of the load function.\n",
            "WARNING:absl:<keras.layers.recurrent.LSTMCell object at 0x7f19f01987d0> has the same name 'LSTMCell' as a built-in Keras object. Consider renaming <class 'keras.layers.recurrent.LSTMCell'> to avoid naming conflicts when loading with `tf.keras.models.load_model`. If renaming is not possible, pass the object in the `custom_objects` parameter of the load function.\n",
            "WARNING:absl:<keras.layers.recurrent.LSTMCell object at 0x7f19f0502150> has the same name 'LSTMCell' as a built-in Keras object. Consider renaming <class 'keras.layers.recurrent.LSTMCell'> to avoid naming conflicts when loading with `tf.keras.models.load_model`. If renaming is not possible, pass the object in the `custom_objects` parameter of the load function.\n",
            "WARNING:absl:<keras.layers.recurrent.LSTMCell object at 0x7f19f054dd90> has the same name 'LSTMCell' as a built-in Keras object. Consider renaming <class 'keras.layers.recurrent.LSTMCell'> to avoid naming conflicts when loading with `tf.keras.models.load_model`. If renaming is not possible, pass the object in the `custom_objects` parameter of the load function.\n",
            "WARNING:absl:<keras.layers.recurrent.LSTMCell object at 0x7f19f01b8210> has the same name 'LSTMCell' as a built-in Keras object. Consider renaming <class 'keras.layers.recurrent.LSTMCell'> to avoid naming conflicts when loading with `tf.keras.models.load_model`. If renaming is not possible, pass the object in the `custom_objects` parameter of the load function.\n",
            "WARNING:absl:<keras.layers.recurrent.LSTMCell object at 0x7f19f01b8fd0> has the same name 'LSTMCell' as a built-in Keras object. Consider renaming <class 'keras.layers.recurrent.LSTMCell'> to avoid naming conflicts when loading with `tf.keras.models.load_model`. If renaming is not possible, pass the object in the `custom_objects` parameter of the load function.\n"
          ]
        },
        {
          "output_type": "stream",
          "name": "stdout",
          "text": [
            "\b\b\b\b\b\b\b\b\b\b\b\b\b\b\b\b\b\b\b\b\b\b\b\b\b\b\b\b\b\b\b\b\b\b\b\b\b\b\b\b\b\b\b\b\b\b\b\b\b\b\b\b\b\b\b\b\b\b\b\b\b\b\b\b\b\b\b\b\b\b\b\b\b\b\b\b\b\b\b\b\b\b\b\b\b\b\b\b\b\b\b\b\b\b\b\b\b\b\b\b\b\b\b\b\b\b\b\b\b\b\b\b\b\b\b\b\b\b\b\b\b\b\b\b\b\r324/324 [==============================] - 670s 2s/step - loss: 0.2203 - accuracy: 0.9341 - precision_1: 0.8630 - recall_1: 0.7894 - val_loss: 0.1898 - val_accuracy: 0.9413 - val_precision_1: 0.8773 - val_recall_1: 0.8119\n",
            "Epoch 4/4\n",
            "324/324 [==============================] - ETA: 0s - loss: 0.1836 - accuracy: 0.9430 - precision_1: 0.8798 - recall_1: 0.8195\n",
            "Epoch 4: val_accuracy improved from 0.94125 to 0.94824, saving model to /content/drive/MyDrive/NerDatas/check_point/check_point5.model\n",
            "INFO:tensorflow:Assets written to: /content/drive/MyDrive/NerDatas/check_point/check_point5.model/assets\n"
          ]
        },
        {
          "output_type": "stream",
          "name": "stderr",
          "text": [
            "INFO:tensorflow:Assets written to: /content/drive/MyDrive/NerDatas/check_point/check_point5.model/assets\n",
            "WARNING:absl:<keras.layers.recurrent.LSTMCell object at 0x7f19fc208090> has the same name 'LSTMCell' as a built-in Keras object. Consider renaming <class 'keras.layers.recurrent.LSTMCell'> to avoid naming conflicts when loading with `tf.keras.models.load_model`. If renaming is not possible, pass the object in the `custom_objects` parameter of the load function.\n",
            "WARNING:absl:<keras.layers.recurrent.LSTMCell object at 0x7f197e07a4d0> has the same name 'LSTMCell' as a built-in Keras object. Consider renaming <class 'keras.layers.recurrent.LSTMCell'> to avoid naming conflicts when loading with `tf.keras.models.load_model`. If renaming is not possible, pass the object in the `custom_objects` parameter of the load function.\n",
            "WARNING:absl:<keras.layers.recurrent.LSTMCell object at 0x7f19f0298890> has the same name 'LSTMCell' as a built-in Keras object. Consider renaming <class 'keras.layers.recurrent.LSTMCell'> to avoid naming conflicts when loading with `tf.keras.models.load_model`. If renaming is not possible, pass the object in the `custom_objects` parameter of the load function.\n",
            "WARNING:absl:<keras.layers.recurrent.LSTMCell object at 0x7f19f01987d0> has the same name 'LSTMCell' as a built-in Keras object. Consider renaming <class 'keras.layers.recurrent.LSTMCell'> to avoid naming conflicts when loading with `tf.keras.models.load_model`. If renaming is not possible, pass the object in the `custom_objects` parameter of the load function.\n",
            "WARNING:absl:<keras.layers.recurrent.LSTMCell object at 0x7f19f0502150> has the same name 'LSTMCell' as a built-in Keras object. Consider renaming <class 'keras.layers.recurrent.LSTMCell'> to avoid naming conflicts when loading with `tf.keras.models.load_model`. If renaming is not possible, pass the object in the `custom_objects` parameter of the load function.\n",
            "WARNING:absl:<keras.layers.recurrent.LSTMCell object at 0x7f19f054dd90> has the same name 'LSTMCell' as a built-in Keras object. Consider renaming <class 'keras.layers.recurrent.LSTMCell'> to avoid naming conflicts when loading with `tf.keras.models.load_model`. If renaming is not possible, pass the object in the `custom_objects` parameter of the load function.\n",
            "WARNING:absl:<keras.layers.recurrent.LSTMCell object at 0x7f19f01b8210> has the same name 'LSTMCell' as a built-in Keras object. Consider renaming <class 'keras.layers.recurrent.LSTMCell'> to avoid naming conflicts when loading with `tf.keras.models.load_model`. If renaming is not possible, pass the object in the `custom_objects` parameter of the load function.\n",
            "WARNING:absl:<keras.layers.recurrent.LSTMCell object at 0x7f19f01b8fd0> has the same name 'LSTMCell' as a built-in Keras object. Consider renaming <class 'keras.layers.recurrent.LSTMCell'> to avoid naming conflicts when loading with `tf.keras.models.load_model`. If renaming is not possible, pass the object in the `custom_objects` parameter of the load function.\n"
          ]
        },
        {
          "output_type": "stream",
          "name": "stdout",
          "text": [
            "\b\b\b\b\b\b\b\b\b\b\b\b\b\b\b\b\b\b\b\b\b\b\b\b\b\b\b\b\b\b\b\b\b\b\b\b\b\b\b\b\b\b\b\b\b\b\b\b\b\b\b\b\b\b\b\b\b\b\b\b\b\b\b\b\b\b\b\b\b\b\b\b\b\b\b\b\b\b\b\b\b\b\b\b\b\b\b\b\b\b\b\b\b\b\b\b\b\b\b\b\b\b\b\b\b\b\b\b\b\b\b\b\b\b\b\b\b\b\b\b\b\b\b\b\b\r324/324 [==============================] - 723s 2s/step - loss: 0.1836 - accuracy: 0.9430 - precision_1: 0.8798 - recall_1: 0.8195 - val_loss: 0.1649 - val_accuracy: 0.9482 - val_precision_1: 0.8872 - val_recall_1: 0.8405\n"
          ]
        }
      ],
      "source": [
        "batch_size = 512\n",
        "epochs = 4\n",
        "filepath=\"/content/drive/MyDrive/NerDatas/check_point/check_point5.model\"\n",
        "checkpoint = ModelCheckpoint(filepath, monitor='val_accuracy', verbose=1, save_best_only=True, mode='max')\n",
        "callbacks_list = [checkpoint]\n",
        "hist = model.fit(X_train, y_train, batch_size=batch_size, epochs=epochs,callbacks=callbacks_list, validation_split=0.15)"
      ]
    },
    {
      "cell_type": "code",
      "execution_count": null,
      "metadata": {
        "colab": {
          "base_uri": "https://localhost:8080/",
          "height": 581
        },
        "id": "2XQ_2rYFmOhX",
        "outputId": "1f7e520c-5f73-48e8-8657-618c8ec9fc4c"
      },
      "outputs": [
        {
          "output_type": "display_data",
          "data": {
            "text/plain": [
              "<Figure size 432x288 with 1 Axes>"
            ],
            "image/png": "[encoded data removed]"
          },
          "metadata": {}
        },
        {
          "output_type": "display_data",
          "data": {
            "text/plain": [
              "<Figure size 432x288 with 1 Axes>"
            ],
            "image/png": "[encoded data removed]"
          },
          "metadata": {}
        }
      ],
      "source": [
        "# Visualize the Model\n",
        "plt.style.use(\"ggplot\")\n",
        "import matplotlib.pyplot as plt\n",
        "# Plot training & validation accuracy values\n",
        "plt.plot(hist.history['accuracy'])\n",
        "plt.plot(hist.history['val_accuracy'])\n",
        "plt.title('Model accuracy')\n",
        "plt.ylabel('Accuracy')\n",
        "plt.xlabel('Epoch')\n",
        "plt.legend(['Train', 'Test'], loc='upper left')\n",
        "plt.show()\n",
        "\n",
        "# Plot training & validation loss values\n",
        "plt.plot(hist.history['loss'])\n",
        "plt.plot(hist.history['val_loss'])\n",
        "plt.title('Model loss')\n",
        "plt.ylabel('Loss')\n",
        "plt.xlabel('Epoch')\n",
        "plt.legend(['Train', 'Test'], loc='upper left')\n",
        "plt.show()"
      ]
    },
    {
      "cell_type": "code",
      "execution_count": null,
      "metadata": {
        "id": "v-mwa1QGmOte"
      },
      "outputs": [],
      "source": [
        "y_pred = model.predict(X_test)"
      ]
    },
    {
      "cell_type": "code",
      "source": [
        "y_pred.shape, y_test.shape"
      ],
      "metadata": {
        "colab": {
          "base_uri": "https://localhost:8080/"
        },
        "id": "XvgXx8SXEjs1",
        "outputId": "3db94b45-317a-4645-c231-3d75b434b92c"
      },
      "execution_count": null,
      "outputs": [
        {
          "output_type": "execute_result",
          "data": {
            "text/plain": [
              "((21652, 60, 11), (21652, 60, 11))"
            ]
          },
          "metadata": {},
          "execution_count": 35
        }
      ]
    },
    {
      "cell_type": "code",
      "source": [
        "y_pred.flatten()"
      ],
      "metadata": {
        "colab": {
          "base_uri": "https://localhost:8080/"
        },
        "id": "94UmswD4uDlB",
        "outputId": "d03fcdb4-415f-4d39-f97a-989b0853dff4"
      },
      "execution_count": null,
      "outputs": [
        {
          "output_type": "execute_result",
          "data": {
            "text/plain": [
              "array([1.9285795e-01, 7.2726339e-02, 5.4379821e-02, ..., 3.6879751e-04,\n",
              "       1.2027302e-04, 2.3335488e-04], dtype=float32)"
            ]
          },
          "metadata": {},
          "execution_count": 83
        }
      ]
    },
    {
      "cell_type": "code",
      "execution_count": null,
      "metadata": {
        "id": "jmKNq_lLmO0Q",
        "colab": {
          "base_uri": "https://localhost:8080/"
        },
        "outputId": "2199198f-34ee-417b-b500-ee6fe260d5fb"
      },
      "outputs": [
        {
          "output_type": "execute_result",
          "data": {
            "text/plain": [
              "(array([0, 0, 0, 0, 0, 0, 0, 0, 0, 0, 0, 0, 1, 2, 2, 0, 0, 0, 0, 0, 0, 0,\n",
              "        0, 0, 1, 2, 2, 2, 0, 0, 0, 0, 0, 0, 1, 2, 2, 2, 0, 0, 0, 0, 0, 0,\n",
              "        0, 0, 0, 0, 0, 0, 0, 0, 0, 0, 0, 0, 0, 0, 0, 0]),\n",
              " array([0, 0, 0, 0, 0, 0, 0, 0, 0, 0, 0, 0, 1, 2, 2, 0, 0, 0, 0, 0, 0, 0,\n",
              "        0, 0, 1, 1, 2, 2, 0, 0, 0, 0, 0, 0, 1, 1, 2, 2, 0, 0, 0, 0, 0, 0,\n",
              "        0, 0, 0, 0, 0, 0, 0, 0, 0, 0, 0, 0, 0, 0, 0, 0]))"
            ]
          },
          "metadata": {},
          "execution_count": 60
        }
      ],
      "source": [
        "np.argmax(y_pred[116], axis = 1) ,np.argmax(y_test[116], axis = 1)"
      ]
    },
    {
      "cell_type": "code",
      "execution_count": null,
      "metadata": {
        "id": "d5CjvLQIbJm0"
      },
      "outputs": [],
      "source": [
        "y_predC = []\n",
        "y_testC = []\n",
        "for pred,test in zip(y_pred, y_test):\n",
        "  y_predC.append(np.argmax(pred, axis = 1))\n",
        "  y_testC.append(np.argmax(test, axis = 1))\n",
        "y_predC = np.array(y_predC)\n",
        "y_testC = np.array(y_testC)"
      ]
    },
    {
      "cell_type": "code",
      "execution_count": null,
      "metadata": {
        "id": "sh8Y0Pj3bJru",
        "colab": {
          "base_uri": "https://localhost:8080/",
          "height": 826
        },
        "outputId": "7d9e40bc-a4d5-485a-d34a-98cbe55df112"
      },
      "outputs": [
        {
          "output_type": "execute_result",
          "data": {
            "text/plain": [
              "<matplotlib.axes._subplots.AxesSubplot at 0x7f19f017c250>"
            ]
          },
          "metadata": {},
          "execution_count": 133
        },
        {
          "output_type": "display_data",
          "data": {
            "text/plain": [
              "<Figure size 1440x1008 with 2 Axes>"
            ],
            "image/png": "[encoded data removed]"
          },
          "metadata": {}
        }
      ],
      "source": [
        "from sklearn.metrics import confusion_matrix\n",
        "from sklearn.metrics import multilabel_confusion_matrix\n",
        "import seaborn as sn\n",
        "target_names = ['O', 'B-DAT', 'I-DAT', 'B-LOC', 'I-LOC', 'B-PER', 'I-PER', 'B-ORG', 'I-ORG', 'B-EVE', 'I-EVE']\n",
        "cfnMatrix = confusion_matrix(y_testC.flatten(), y_predC.flatten())\n",
        "df_cm = pd.DataFrame(cfnMatrix / np.sum(cfnMatrix, axis=0 ), index = target_names,columns = target_names)\n",
        "plt.figure(figsize = (20,14))\n",
        "sn.heatmap(df_cm, annot=True, annot_kws={\"size\": 16}, cmap=\"Blues\") #, vmin=0, vmax=2000"
      ]
    },
    {
      "cell_type": "code",
      "source": [
        "np.sort(cfnMatrix) / np.sum(cfnMatrix, axis=1 )"
      ],
      "metadata": {
        "colab": {
          "base_uri": "https://localhost:8080/"
        },
        "id": "Ju17ew2izAkR",
        "outputId": "c318cc13-9d42-4ef8-dedf-ff9112b12c37"
      },
      "execution_count": null,
      "outputs": [
        {
          "output_type": "execute_result",
          "data": {
            "text/plain": [
              "array([[     84,     240,     308,     550,     727,     868,    1074,\n",
              "           1285,    2315,    2822, 1163139],\n",
              "       [      0,       1,       1,       3,       4,      11,      36,\n",
              "             48,    3079,    3478,   18998],\n",
              "       [      0,       1,       2,       4,       6,       7,      19,\n",
              "             23,    3387,    4430,   27426],\n",
              "       [      2,       3,      34,      41,      97,     107,     128,\n",
              "            132,     183,    1674,    7669],\n",
              "       [      0,       4,       5,       6,      13,      17,      48,\n",
              "            113,     284,     797,    3799],\n",
              "       [      0,       3,       5,       7,      12,      13,      24,\n",
              "             35,     776,    4611,    8415],\n",
              "       [      0,       1,       5,       7,       7,       7,      10,\n",
              "             30,     207,    6550,    8962],\n",
              "       [      3,       5,       5,      16,      19,      32,      57,\n",
              "             78,     260,    1683,    2948],\n",
              "       [      1,       7,       9,      10,      14,      63,      64,\n",
              "             71,      96,    3647,    3841],\n",
              "       [      0,       1,       7,       7,      11,      23,      29,\n",
              "             44,     180,     737,    1321],\n",
              "       [      0,      12,      18,      27,      34,      56,      61,\n",
              "             82,     147,    1768,    2407]])"
            ]
          },
          "metadata": {},
          "execution_count": 124
        }
      ]
    },
    {
      "cell_type": "code",
      "source": [
        "from sklearn.metrics import classification_report\n",
        "target_names = ['O', 'B-DAT', 'I-DAT', 'B-LOC', 'I-LOC', 'B-PER', 'I-PER', 'B-ORG', 'I-ORG', 'B-EVE', 'I-EVE']\n",
        "print(classification_report(y_testC.flatten(), y_predC.flatten(), target_names=target_names))"
      ],
      "metadata": {
        "colab": {
          "base_uri": "https://localhost:8080/"
        },
        "id": "ztHI4_wrvXHU",
        "outputId": "488ed6f0-0031-4cfb-9085-ddd3107648b8"
      },
      "execution_count": null,
      "outputs": [
        {
          "output_type": "stream",
          "name": "stdout",
          "text": [
            "              precision    recall  f1-score   support\n",
            "\n",
            "           O       0.96      0.99      0.98   1173412\n",
            "       B-DAT       0.82      0.74      0.78     25659\n",
            "       I-DAT       0.85      0.78      0.81     35305\n",
            "       B-LOC       0.62      0.17      0.26     10070\n",
            "       I-LOC       0.61      0.16      0.25      5086\n",
            "       B-PER       0.62      0.33      0.43     13901\n",
            "       I-PER       0.62      0.41      0.50     15786\n",
            "       B-ORG       0.66      0.33      0.44      5106\n",
            "       I-ORG       0.65      0.47      0.54      7823\n",
            "       B-EVE       0.80      0.31      0.45      2360\n",
            "       I-EVE       0.73      0.38      0.50      4612\n",
            "\n",
            "    accuracy                           0.95   1299120\n",
            "   macro avg       0.72      0.46      0.54   1299120\n",
            "weighted avg       0.94      0.95      0.94   1299120\n",
            "\n"
          ]
        }
      ]
    },
    {
      "cell_type": "code",
      "source": [
        "from sklearn.metrics import multilabel_confusion_matrix\n",
        "target_names = ['O', 'B-DAT', 'I-DAT', 'B-LOC', 'I-LOC', 'B-PER', 'I-PER', 'B-ORG', 'I-ORG', 'B-EVE', 'I-EVE']\n",
        "cnf = multilabel_confusion_matrix(y_testC, y_predC)"
      ],
      "metadata": {
        "colab": {
          "base_uri": "https://localhost:8080/",
          "height": 345
        },
        "id": "jehETQ82Cyzw",
        "outputId": "927b9ebb-8f70-413b-901a-66c555f54534"
      },
      "execution_count": null,
      "outputs": [
        {
          "output_type": "error",
          "ename": "ValueError",
          "evalue": "ignored",
          "traceback": [
            "\u001b[0;31m---------------------------------------------------------------------------\u001b[0m",
            "\u001b[0;31mValueError\u001b[0m                                Traceback (most recent call last)",
            "\u001b[0;32m<ipython-input-80-addb53fda01c>\u001b[0m in \u001b[0;36m<module>\u001b[0;34m()\u001b[0m\n\u001b[1;32m      1\u001b[0m \u001b[0;32mfrom\u001b[0m \u001b[0msklearn\u001b[0m\u001b[0;34m.\u001b[0m\u001b[0mmetrics\u001b[0m \u001b[0;32mimport\u001b[0m \u001b[0mmultilabel_confusion_matrix\u001b[0m\u001b[0;34m\u001b[0m\u001b[0;34m\u001b[0m\u001b[0m\n\u001b[1;32m      2\u001b[0m \u001b[0mtarget_names\u001b[0m \u001b[0;34m=\u001b[0m \u001b[0;34m[\u001b[0m\u001b[0;34m'O'\u001b[0m\u001b[0;34m,\u001b[0m \u001b[0;34m'B-DAT'\u001b[0m\u001b[0;34m,\u001b[0m \u001b[0;34m'I-DAT'\u001b[0m\u001b[0;34m,\u001b[0m \u001b[0;34m'B-LOC'\u001b[0m\u001b[0;34m,\u001b[0m \u001b[0;34m'I-LOC'\u001b[0m\u001b[0;34m,\u001b[0m \u001b[0;34m'B-PER'\u001b[0m\u001b[0;34m,\u001b[0m \u001b[0;34m'I-PER'\u001b[0m\u001b[0;34m,\u001b[0m \u001b[0;34m'B-ORG'\u001b[0m\u001b[0;34m,\u001b[0m \u001b[0;34m'I-ORG'\u001b[0m\u001b[0;34m,\u001b[0m \u001b[0;34m'B-EVE'\u001b[0m\u001b[0;34m,\u001b[0m \u001b[0;34m'I-EVE'\u001b[0m\u001b[0;34m]\u001b[0m\u001b[0;34m\u001b[0m\u001b[0;34m\u001b[0m\u001b[0m\n\u001b[0;32m----> 3\u001b[0;31m \u001b[0mcnf\u001b[0m \u001b[0;34m=\u001b[0m \u001b[0mmultilabel_confusion_matrix\u001b[0m\u001b[0;34m(\u001b[0m\u001b[0my_testC\u001b[0m\u001b[0;34m,\u001b[0m \u001b[0my_predC\u001b[0m\u001b[0;34m)\u001b[0m\u001b[0;34m\u001b[0m\u001b[0;34m\u001b[0m\u001b[0m\n\u001b[0m",
            "\u001b[0;32m/usr/local/lib/python3.7/dist-packages/sklearn/metrics/_classification.py\u001b[0m in \u001b[0;36mmultilabel_confusion_matrix\u001b[0;34m(y_true, y_pred, sample_weight, labels, samplewise)\u001b[0m\n\u001b[1;32m    477\u001b[0m             [1, 2]]])\n\u001b[1;32m    478\u001b[0m     \"\"\"\n\u001b[0;32m--> 479\u001b[0;31m     \u001b[0my_type\u001b[0m\u001b[0;34m,\u001b[0m \u001b[0my_true\u001b[0m\u001b[0;34m,\u001b[0m \u001b[0my_pred\u001b[0m \u001b[0;34m=\u001b[0m \u001b[0m_check_targets\u001b[0m\u001b[0;34m(\u001b[0m\u001b[0my_true\u001b[0m\u001b[0;34m,\u001b[0m \u001b[0my_pred\u001b[0m\u001b[0;34m)\u001b[0m\u001b[0;34m\u001b[0m\u001b[0;34m\u001b[0m\u001b[0m\n\u001b[0m\u001b[1;32m    480\u001b[0m     \u001b[0;32mif\u001b[0m \u001b[0msample_weight\u001b[0m \u001b[0;32mis\u001b[0m \u001b[0;32mnot\u001b[0m \u001b[0;32mNone\u001b[0m\u001b[0;34m:\u001b[0m\u001b[0;34m\u001b[0m\u001b[0;34m\u001b[0m\u001b[0m\n\u001b[1;32m    481\u001b[0m         \u001b[0msample_weight\u001b[0m \u001b[0;34m=\u001b[0m \u001b[0mcolumn_or_1d\u001b[0m\u001b[0;34m(\u001b[0m\u001b[0msample_weight\u001b[0m\u001b[0;34m)\u001b[0m\u001b[0;34m\u001b[0m\u001b[0;34m\u001b[0m\u001b[0m\n",
            "\u001b[0;32m/usr/local/lib/python3.7/dist-packages/sklearn/metrics/_classification.py\u001b[0m in \u001b[0;36m_check_targets\u001b[0;34m(y_true, y_pred)\u001b[0m\n\u001b[1;32m    102\u001b[0m     \u001b[0;31m# No metrics support \"multiclass-multioutput\" format\u001b[0m\u001b[0;34m\u001b[0m\u001b[0;34m\u001b[0m\u001b[0;34m\u001b[0m\u001b[0m\n\u001b[1;32m    103\u001b[0m     \u001b[0;32mif\u001b[0m \u001b[0my_type\u001b[0m \u001b[0;32mnot\u001b[0m \u001b[0;32min\u001b[0m \u001b[0;34m[\u001b[0m\u001b[0;34m\"binary\"\u001b[0m\u001b[0;34m,\u001b[0m \u001b[0;34m\"multiclass\"\u001b[0m\u001b[0;34m,\u001b[0m \u001b[0;34m\"multilabel-indicator\"\u001b[0m\u001b[0;34m]\u001b[0m\u001b[0;34m:\u001b[0m\u001b[0;34m\u001b[0m\u001b[0;34m\u001b[0m\u001b[0m\n\u001b[0;32m--> 104\u001b[0;31m         \u001b[0;32mraise\u001b[0m \u001b[0mValueError\u001b[0m\u001b[0;34m(\u001b[0m\u001b[0;34m\"{0} is not supported\"\u001b[0m\u001b[0;34m.\u001b[0m\u001b[0mformat\u001b[0m\u001b[0;34m(\u001b[0m\u001b[0my_type\u001b[0m\u001b[0;34m)\u001b[0m\u001b[0;34m)\u001b[0m\u001b[0;34m\u001b[0m\u001b[0;34m\u001b[0m\u001b[0m\n\u001b[0m\u001b[1;32m    105\u001b[0m \u001b[0;34m\u001b[0m\u001b[0m\n\u001b[1;32m    106\u001b[0m     \u001b[0;32mif\u001b[0m \u001b[0my_type\u001b[0m \u001b[0;32min\u001b[0m \u001b[0;34m[\u001b[0m\u001b[0;34m\"binary\"\u001b[0m\u001b[0;34m,\u001b[0m \u001b[0;34m\"multiclass\"\u001b[0m\u001b[0;34m]\u001b[0m\u001b[0;34m:\u001b[0m\u001b[0;34m\u001b[0m\u001b[0;34m\u001b[0m\u001b[0m\n",
            "\u001b[0;31mValueError\u001b[0m: multiclass-multioutput is not supported"
          ]
        }
      ]
    },
    {
      "cell_type": "code",
      "source": [
        "type(y_predC)"
      ],
      "metadata": {
        "colab": {
          "base_uri": "https://localhost:8080/"
        },
        "id": "WUCKA9aCCy4D",
        "outputId": "12582fd1-cf42-4ef6-80c9-abe059293614"
      },
      "execution_count": null,
      "outputs": [
        {
          "output_type": "execute_result",
          "data": {
            "text/plain": [
              "list"
            ]
          },
          "metadata": {},
          "execution_count": 87
        }
      ]
    },
    {
      "cell_type": "code",
      "source": [
        ""
      ],
      "metadata": {
        "id": "RFCGV2k7Cy8r"
      },
      "execution_count": null,
      "outputs": []
    },
    {
      "cell_type": "code",
      "source": [
        ""
      ],
      "metadata": {
        "id": "_lkpOjuGCy-v"
      },
      "execution_count": null,
      "outputs": []
    },
    {
      "cell_type": "code",
      "source": [
        ""
      ],
      "metadata": {
        "id": "_WiTtqH7CzA7"
      },
      "execution_count": null,
      "outputs": []
    },
    {
      "cell_type": "code",
      "source": [
        ""
      ],
      "metadata": {
        "id": "KcjWCBEXCzEK"
      },
      "execution_count": null,
      "outputs": []
    },
    {
      "cell_type": "code",
      "execution_count": null,
      "metadata": {
        "id": "rBzFto31bJxt"
      },
      "outputs": [],
      "source": [
        ""
      ]
    },
    {
      "cell_type": "code",
      "execution_count": null,
      "metadata": {
        "id": "w0ptczYybJz0"
      },
      "outputs": [],
      "source": [
        ""
      ]
    },
    {
      "cell_type": "code",
      "execution_count": null,
      "metadata": {
        "id": "qWjWkLJ5bJ2Q"
      },
      "outputs": [],
      "source": [
        ""
      ]
    },
    {
      "cell_type": "code",
      "execution_count": null,
      "metadata": {
        "id": "C84I3zfXw5BO"
      },
      "outputs": [],
      "source": [
        "dotIndices = list(data1['Token'][data1['Token'] == '.'].index)"
      ]
    },
    {
      "cell_type": "code",
      "execution_count": null,
      "metadata": {
        "colab": {
          "base_uri": "https://localhost:8080/"
        },
        "id": "OXvZpRq6RyaW",
        "outputId": "c51f3634-0716-4488-8a9e-1240b2c349b3"
      },
      "outputs": [
        {
          "data": {
            "text/plain": [
              "list"
            ]
          },
          "execution_count": 28,
          "metadata": {},
          "output_type": "execute_result"
        }
      ],
      "source": [
        "type(dotIndices)"
      ]
    },
    {
      "cell_type": "code",
      "execution_count": null,
      "metadata": {
        "id": "aeOH6kV2TI3w"
      },
      "outputs": [],
      "source": [
        "def makeSentences(dotIndices, data):\n",
        "  columns = ['Text', 'Label']\n",
        "  df= []\n",
        "  begin = 0\n",
        "  for i in range(len(dotIndices)-100):\n",
        "    tmp = data.iloc[begin:dotIndices[i]]\n",
        "    begin = dotIndices[i] + 1\n",
        "    _list=[]\n",
        "    _list.append(' '.join(list(tmp['Token'])))\n",
        "    _list.append(' '.join(list(tmp['NameEntity'])))\n",
        "    df.append(_list)\n",
        "  df= pd.DataFrame(df,columns=list(columns))\n",
        "  return df"
      ]
    },
    {
      "cell_type": "code",
      "execution_count": null,
      "metadata": {
        "colab": {
          "base_uri": "https://localhost:8080/",
          "height": 424
        },
        "id": "N1vALYJgcpRo",
        "outputId": "6752a46e-262a-479a-c3ca-9e29de103710"
      },
      "outputs": [
        {
          "data": {
            "text/html": [
              "\n",
              "  <div id=\"df-47fe46c6-6b27-4456-9b55-657ba3cad42b\">\n",
              "    <div class=\"colab-df-container\">\n",
              "      <div>\n",
              "<style scoped>\n",
              "    .dataframe tbody tr th:only-of-type {\n",
              "        vertical-align: middle;\n",
              "    }\n",
              "\n",
              "    .dataframe tbody tr th {\n",
              "        vertical-align: top;\n",
              "    }\n",
              "\n",
              "    .dataframe thead th {\n",
              "        text-align: right;\n",
              "    }\n",
              "</style>\n",
              "<table border=\"1\" class=\"dataframe\">\n",
              "  <thead>\n",
              "    <tr style=\"text-align: right;\">\n",
              "      <th></th>\n",
              "      <th>Text</th>\n",
              "      <th>Label</th>\n",
              "    </tr>\n",
              "  </thead>\n",
              "  <tbody>\n",
              "    <tr>\n",
              "      <th>0</th>\n",
              "      <td>ویکی‌پدیای انگلیسی در تاریخ ۱۵ ژانویه ۲۰۰۱ ( م...</td>\n",
              "      <td>O O B-DAT I-DAT I-DAT I-DAT I-DAT O B-DAT O B-...</td>\n",
              "    </tr>\n",
              "    <tr>\n",
              "      <th>1</th>\n",
              "      <td>بنیان‌گذاران آن ، جیمی ولز و لری سنگر هستند</td>\n",
              "      <td>O O O B-PER I-PER O B-PER I-PER O</td>\n",
              "    </tr>\n",
              "    <tr>\n",
              "      <th>2</th>\n",
              "      <td>هم‌اکنون بنیاد غیرانتفاعی بنیاد ویکی‌مدیا پروژ...</td>\n",
              "      <td>O O O B-ORG I-ORG O O O O O</td>\n",
              "    </tr>\n",
              "    <tr>\n",
              "      <th>3</th>\n",
              "      <td>کارساز وب اصلی این وبگاه در شهر تامپا ی فلورید...</td>\n",
              "      <td>O O O O O O O B-LOC O B-LOC O</td>\n",
              "    </tr>\n",
              "    <tr>\n",
              "      <th>4</th>\n",
              "      <td>همچنین میزبان‌های اضافی دیگری هم در شهرهای آمس...</td>\n",
              "      <td>O O O O O O O B-LOC O B-LOC O O O O O</td>\n",
              "    </tr>\n",
              "    <tr>\n",
              "      <th>...</th>\n",
              "      <td>...</td>\n",
              "      <td>...</td>\n",
              "    </tr>\n",
              "    <tr>\n",
              "      <th>98721</th>\n",
              "      <td>روز یکشنبه ۲۵ دی‌ماه ۱۳۹۰ ماموران امنیتی او را...</td>\n",
              "      <td>B-DAT I-DAT I-DAT O O O O O O O O O B-LOC O O ...</td>\n",
              "    </tr>\n",
              "    <tr>\n",
              "      <th>98722</th>\n",
              "      <td>او در تاریخ ۷ اسفند ۱۳۹۰ به قید وثیقه آزاد شد</td>\n",
              "      <td>O B-DAT I-DAT I-DAT I-DAT I-DAT O O O O O</td>\n",
              "    </tr>\n",
              "    <tr>\n",
              "      <th>98723</th>\n",
              "      <td>هنریک یوهان ایبسن ( زاده ۲۰ مارس ۱۸۲۸ در شین (...</td>\n",
              "      <td>O O O O O B-DAT I-DAT I-DAT O O O O O B-LOC B-...</td>\n",
              "    </tr>\n",
              "    <tr>\n",
              "      <th>98724</th>\n",
              "      <td>او یکی از بزرگ‌ترین استادان هنر تئاتر در تمامی...</td>\n",
              "      <td>O O O O O O O O O O O O O O B-PER O O</td>\n",
              "    </tr>\n",
              "    <tr>\n",
              "      <th>98725</th>\n",
              "      <td>انور ، ص۱۷ مجموعه آثار ایبسن برای نخستین بار ا...</td>\n",
              "      <td>O O O O O O O O O O O O O O O O O O O O B-LOC ...</td>\n",
              "    </tr>\n",
              "  </tbody>\n",
              "</table>\n",
              "<p>98726 rows × 2 columns</p>\n",
              "</div>\n",
              "      <button class=\"colab-df-convert\" onclick=\"convertToInteractive('df-47fe46c6-6b27-4456-9b55-657ba3cad42b')\"\n",
              "              title=\"Convert this dataframe to an interactive table.\"\n",
              "              style=\"display:none;\">\n",
              "        \n",
              "  <svg xmlns=\"http://www.w3.org/2000/svg\" height=\"24px\"viewBox=\"0 0 24 24\"\n",
              "       width=\"24px\">\n",
              "    <path d=\"M0 0h24v24H0V0z\" fill=\"none\"/>\n",
              "    <path d=\"M18.56 5.44l.94 2.06.94-2.06 2.06-.94-2.06-.94-.94-2.06-.94 2.06-2.06.94zm-11 1L8.5 8.5l.94-2.06 2.06-.94-2.06-.94L8.5 2.5l-.94 2.06-2.06.94zm10 10l.94 2.06.94-2.06 2.06-.94-2.06-.94-.94-2.06-.94 2.06-2.06.94z\"/><path d=\"M17.41 7.96l-1.37-1.37c-.4-.4-.92-.59-1.43-.59-.52 0-1.04.2-1.43.59L10.3 9.45l-7.72 7.72c-.78.78-.78 2.05 0 2.83L4 21.41c.39.39.9.59 1.41.59.51 0 1.02-.2 1.41-.59l7.78-7.78 2.81-2.81c.8-.78.8-2.07 0-2.86zM5.41 20L4 18.59l7.72-7.72 1.47 1.35L5.41 20z\"/>\n",
              "  </svg>\n",
              "      </button>\n",
              "      \n",
              "  <style>\n",
              "    .colab-df-container {\n",
              "      display:flex;\n",
              "      flex-wrap:wrap;\n",
              "      gap: 12px;\n",
              "    }\n",
              "\n",
              "    .colab-df-convert {\n",
              "      background-color: #E8F0FE;\n",
              "      border: none;\n",
              "      border-radius: 50%;\n",
              "      cursor: pointer;\n",
              "      display: none;\n",
              "      fill: #1967D2;\n",
              "      height: 32px;\n",
              "      padding: 0 0 0 0;\n",
              "      width: 32px;\n",
              "    }\n",
              "\n",
              "    .colab-df-convert:hover {\n",
              "      background-color: #E2EBFA;\n",
              "      box-shadow: 0px 1px 2px rgba(60, 64, 67, 0.3), 0px 1px 3px 1px rgba(60, 64, 67, 0.15);\n",
              "      fill: #174EA6;\n",
              "    }\n",
              "\n",
              "    [theme=dark] .colab-df-convert {\n",
              "      background-color: #3B4455;\n",
              "      fill: #D2E3FC;\n",
              "    }\n",
              "\n",
              "    [theme=dark] .colab-df-convert:hover {\n",
              "      background-color: #434B5C;\n",
              "      box-shadow: 0px 1px 3px 1px rgba(0, 0, 0, 0.15);\n",
              "      filter: drop-shadow(0px 1px 2px rgba(0, 0, 0, 0.3));\n",
              "      fill: #FFFFFF;\n",
              "    }\n",
              "  </style>\n",
              "\n",
              "      <script>\n",
              "        const buttonEl =\n",
              "          document.querySelector('#df-47fe46c6-6b27-4456-9b55-657ba3cad42b button.colab-df-convert');\n",
              "        buttonEl.style.display =\n",
              "          google.colab.kernel.accessAllowed ? 'block' : 'none';\n",
              "\n",
              "        async function convertToInteractive(key) {\n",
              "          const element = document.querySelector('#df-47fe46c6-6b27-4456-9b55-657ba3cad42b');\n",
              "          const dataTable =\n",
              "            await google.colab.kernel.invokeFunction('convertToInteractive',\n",
              "                                                     [key], {});\n",
              "          if (!dataTable) return;\n",
              "\n",
              "          const docLinkHtml = 'Like what you see? Visit the ' +\n",
              "            '<a target=\"_blank\" href=https://colab.research.google.com/notebooks/data_table.ipynb>data table notebook</a>'\n",
              "            + ' to learn more about interactive tables.';\n",
              "          element.innerHTML = '';\n",
              "          dataTable['output_type'] = 'display_data';\n",
              "          await google.colab.output.renderOutput(dataTable, element);\n",
              "          const docLink = document.createElement('div');\n",
              "          docLink.innerHTML = docLinkHtml;\n",
              "          element.appendChild(docLink);\n",
              "        }\n",
              "      </script>\n",
              "    </div>\n",
              "  </div>\n",
              "  "
            ],
            "text/plain": [
              "                                                    Text  \\\n",
              "0      ویکی‌پدیای انگلیسی در تاریخ ۱۵ ژانویه ۲۰۰۱ ( م...   \n",
              "1            بنیان‌گذاران آن ، جیمی ولز و لری سنگر هستند   \n",
              "2      هم‌اکنون بنیاد غیرانتفاعی بنیاد ویکی‌مدیا پروژ...   \n",
              "3      کارساز وب اصلی این وبگاه در شهر تامپا ی فلورید...   \n",
              "4      همچنین میزبان‌های اضافی دیگری هم در شهرهای آمس...   \n",
              "...                                                  ...   \n",
              "98721  روز یکشنبه ۲۵ دی‌ماه ۱۳۹۰ ماموران امنیتی او را...   \n",
              "98722      او در تاریخ ۷ اسفند ۱۳۹۰ به قید وثیقه آزاد شد   \n",
              "98723  هنریک یوهان ایبسن ( زاده ۲۰ مارس ۱۸۲۸ در شین (...   \n",
              "98724  او یکی از بزرگ‌ترین استادان هنر تئاتر در تمامی...   \n",
              "98725  انور ، ص۱۷ مجموعه آثار ایبسن برای نخستین بار ا...   \n",
              "\n",
              "                                                   Label  \n",
              "0      O O B-DAT I-DAT I-DAT I-DAT I-DAT O B-DAT O B-...  \n",
              "1                      O O O B-PER I-PER O B-PER I-PER O  \n",
              "2                            O O O B-ORG I-ORG O O O O O  \n",
              "3                          O O O O O O O B-LOC O B-LOC O  \n",
              "4                  O O O O O O O B-LOC O B-LOC O O O O O  \n",
              "...                                                  ...  \n",
              "98721  B-DAT I-DAT I-DAT O O O O O O O O O B-LOC O O ...  \n",
              "98722          O B-DAT I-DAT I-DAT I-DAT I-DAT O O O O O  \n",
              "98723  O O O O O B-DAT I-DAT I-DAT O O O O O B-LOC B-...  \n",
              "98724              O O O O O O O O O O O O O O B-PER O O  \n",
              "98725  O O O O O O O O O O O O O O O O O O O O B-LOC ...  \n",
              "\n",
              "[98726 rows x 2 columns]"
            ]
          },
          "execution_count": 31,
          "metadata": {},
          "output_type": "execute_result"
        }
      ],
      "source": [
        "makeSentences(dotIndices, data1)"
      ]
    },
    {
      "cell_type": "code",
      "execution_count": null,
      "metadata": {
        "colab": {
          "base_uri": "https://localhost:8080/",
          "height": 81
        },
        "id": "JE0BHwEgcpVo",
        "outputId": "d1474c64-9b21-48cd-a62d-2cad9fbd1fac"
      },
      "outputs": [
        {
          "data": {
            "text/html": [
              "\n",
              "  <div id=\"df-08e00484-979f-49cc-b735-aa918fafc461\">\n",
              "    <div class=\"colab-df-container\">\n",
              "      <div>\n",
              "<style scoped>\n",
              "    .dataframe tbody tr th:only-of-type {\n",
              "        vertical-align: middle;\n",
              "    }\n",
              "\n",
              "    .dataframe tbody tr th {\n",
              "        vertical-align: top;\n",
              "    }\n",
              "\n",
              "    .dataframe thead th {\n",
              "        text-align: right;\n",
              "    }\n",
              "</style>\n",
              "<table border=\"1\" class=\"dataframe\">\n",
              "  <thead>\n",
              "    <tr style=\"text-align: right;\">\n",
              "      <th></th>\n",
              "      <th>Token</th>\n",
              "      <th>NameEntity</th>\n",
              "    </tr>\n",
              "  </thead>\n",
              "  <tbody>\n",
              "    <tr>\n",
              "      <th>1193638</th>\n",
              "      <td>در</td>\n",
              "      <td>O</td>\n",
              "    </tr>\n",
              "  </tbody>\n",
              "</table>\n",
              "</div>\n",
              "      <button class=\"colab-df-convert\" onclick=\"convertToInteractive('df-08e00484-979f-49cc-b735-aa918fafc461')\"\n",
              "              title=\"Convert this dataframe to an interactive table.\"\n",
              "              style=\"display:none;\">\n",
              "        \n",
              "  <svg xmlns=\"http://www.w3.org/2000/svg\" height=\"24px\"viewBox=\"0 0 24 24\"\n",
              "       width=\"24px\">\n",
              "    <path d=\"M0 0h24v24H0V0z\" fill=\"none\"/>\n",
              "    <path d=\"M18.56 5.44l.94 2.06.94-2.06 2.06-.94-2.06-.94-.94-2.06-.94 2.06-2.06.94zm-11 1L8.5 8.5l.94-2.06 2.06-.94-2.06-.94L8.5 2.5l-.94 2.06-2.06.94zm10 10l.94 2.06.94-2.06 2.06-.94-2.06-.94-.94-2.06-.94 2.06-2.06.94z\"/><path d=\"M17.41 7.96l-1.37-1.37c-.4-.4-.92-.59-1.43-.59-.52 0-1.04.2-1.43.59L10.3 9.45l-7.72 7.72c-.78.78-.78 2.05 0 2.83L4 21.41c.39.39.9.59 1.41.59.51 0 1.02-.2 1.41-.59l7.78-7.78 2.81-2.81c.8-.78.8-2.07 0-2.86zM5.41 20L4 18.59l7.72-7.72 1.47 1.35L5.41 20z\"/>\n",
              "  </svg>\n",
              "      </button>\n",
              "      \n",
              "  <style>\n",
              "    .colab-df-container {\n",
              "      display:flex;\n",
              "      flex-wrap:wrap;\n",
              "      gap: 12px;\n",
              "    }\n",
              "\n",
              "    .colab-df-convert {\n",
              "      background-color: #E8F0FE;\n",
              "      border: none;\n",
              "      border-radius: 50%;\n",
              "      cursor: pointer;\n",
              "      display: none;\n",
              "      fill: #1967D2;\n",
              "      height: 32px;\n",
              "      padding: 0 0 0 0;\n",
              "      width: 32px;\n",
              "    }\n",
              "\n",
              "    .colab-df-convert:hover {\n",
              "      background-color: #E2EBFA;\n",
              "      box-shadow: 0px 1px 2px rgba(60, 64, 67, 0.3), 0px 1px 3px 1px rgba(60, 64, 67, 0.15);\n",
              "      fill: #174EA6;\n",
              "    }\n",
              "\n",
              "    [theme=dark] .colab-df-convert {\n",
              "      background-color: #3B4455;\n",
              "      fill: #D2E3FC;\n",
              "    }\n",
              "\n",
              "    [theme=dark] .colab-df-convert:hover {\n",
              "      background-color: #434B5C;\n",
              "      box-shadow: 0px 1px 3px 1px rgba(0, 0, 0, 0.15);\n",
              "      filter: drop-shadow(0px 1px 2px rgba(0, 0, 0, 0.3));\n",
              "      fill: #FFFFFF;\n",
              "    }\n",
              "  </style>\n",
              "\n",
              "      <script>\n",
              "        const buttonEl =\n",
              "          document.querySelector('#df-08e00484-979f-49cc-b735-aa918fafc461 button.colab-df-convert');\n",
              "        buttonEl.style.display =\n",
              "          google.colab.kernel.accessAllowed ? 'block' : 'none';\n",
              "\n",
              "        async function convertToInteractive(key) {\n",
              "          const element = document.querySelector('#df-08e00484-979f-49cc-b735-aa918fafc461');\n",
              "          const dataTable =\n",
              "            await google.colab.kernel.invokeFunction('convertToInteractive',\n",
              "                                                     [key], {});\n",
              "          if (!dataTable) return;\n",
              "\n",
              "          const docLinkHtml = 'Like what you see? Visit the ' +\n",
              "            '<a target=\"_blank\" href=https://colab.research.google.com/notebooks/data_table.ipynb>data table notebook</a>'\n",
              "            + ' to learn more about interactive tables.';\n",
              "          element.innerHTML = '';\n",
              "          dataTable['output_type'] = 'display_data';\n",
              "          await google.colab.output.renderOutput(dataTable, element);\n",
              "          const docLink = document.createElement('div');\n",
              "          docLink.innerHTML = docLinkHtml;\n",
              "          element.appendChild(docLink);\n",
              "        }\n",
              "      </script>\n",
              "    </div>\n",
              "  </div>\n",
              "  "
            ],
            "text/plain": [
              "        Token NameEntity\n",
              "1193638    در          O"
            ]
          },
          "execution_count": 32,
          "metadata": {},
          "output_type": "execute_result"
        }
      ],
      "source": [
        "data1.iloc[[1193638]]"
      ]
    },
    {
      "cell_type": "code",
      "execution_count": null,
      "metadata": {
        "id": "yQO213B7C3Uw"
      },
      "outputs": [],
      "source": [
        ""
      ]
    },
    {
      "cell_type": "code",
      "execution_count": null,
      "metadata": {
        "id": "iUvnY1efC3er"
      },
      "outputs": [],
      "source": [
        ""
      ]
    },
    {
      "cell_type": "code",
      "execution_count": null,
      "metadata": {
        "colab": {
          "base_uri": "https://localhost:8080/"
        },
        "id": "8ewnqJQuYL8d",
        "outputId": "ae7cdb70-9cd2-4afd-829e-5b68e53e9f62"
      },
      "outputs": [
        {
          "name": "stdout",
          "output_type": "stream",
          "text": [
            "--2022-08-01 08:47:55--  https://dl.fbaipublicfiles.com/fasttext/vectors-crawl/cc.fa.300.vec.gz\n",
            "Resolving dl.fbaipublicfiles.com (dl.fbaipublicfiles.com)... 104.22.74.142, 172.67.9.4, 104.22.75.142, ...\n",
            "Connecting to dl.fbaipublicfiles.com (dl.fbaipublicfiles.com)|104.22.74.142|:443... connected.\n",
            "HTTP request sent, awaiting response... 200 OK\n",
            "Length: 1258183862 (1.2G) [binary/octet-stream]\n",
            "Saving to: ‘cc.fa.300.vec.gz’\n",
            "\n",
            "cc.fa.300.vec.gz    100%[===================>]   1.17G  24.4MB/s    in 47s     \n",
            "\n",
            "2022-08-01 08:48:43 (25.4 MB/s) - ‘cc.fa.300.vec.gz’ saved [1258183862/1258183862]\n",
            "\n"
          ]
        }
      ],
      "source": [
        "!wget https://dl.fbaipublicfiles.com/fasttext/vectors-crawl/cc.fa.300.vec.gz"
      ]
    },
    {
      "cell_type": "code",
      "execution_count": null,
      "metadata": {
        "id": "sMfpK8aMYPJg"
      },
      "outputs": [],
      "source": [
        "!gunzip cc.fa.300.vec.gz"
      ]
    },
    {
      "cell_type": "code",
      "execution_count": null,
      "metadata": {
        "id": "uxL5XPisYL-y"
      },
      "outputs": [],
      "source": [
        "!mv cc.fa.300.vec /content/drive/MyDrive/NerDatas"
      ]
    },
    {
      "cell_type": "code",
      "execution_count": null,
      "metadata": {
        "id": "WYQHhFVEmttM"
      },
      "outputs": [],
      "source": [
        ""
      ]
    },
    {
      "cell_type": "code",
      "execution_count": null,
      "metadata": {
        "id": "8s-T7qTQlIUJ"
      },
      "outputs": [],
      "source": [
        "from google.colab import drive\n",
        "drive.mount('/content/drive')"
      ]
    },
    {
      "cell_type": "code",
      "execution_count": null,
      "metadata": {
        "id": "pNr3baCCYMA7"
      },
      "outputs": [],
      "source": [
        ""
      ]
    },
    {
      "cell_type": "code",
      "execution_count": null,
      "metadata": {
        "colab": {
          "base_uri": "https://localhost:8080/"
        },
        "id": "cEc7fOGAYMDS",
        "outputId": "8313a803-efc3-4f6b-f5bd-e341aead2218"
      },
      "outputs": [
        {
          "name": "stdout",
          "output_type": "stream",
          "text": [
            "drive  sample_data\n"
          ]
        }
      ],
      "source": [
        ""
      ]
    },
    {
      "cell_type": "code",
      "execution_count": null,
      "metadata": {
        "id": "IMpQ_IS7YMFX"
      },
      "outputs": [],
      "source": [
        ""
      ]
    },
    {
      "cell_type": "code",
      "execution_count": null,
      "metadata": {
        "colab": {
          "base_uri": "https://localhost:8080/"
        },
        "id": "Jk55thZFYMHK",
        "outputId": "5b7ce3a4-631e-4355-f189-13e9b3759d75"
      },
      "outputs": [
        {
          "name": "stdout",
          "output_type": "stream",
          "text": [
            "\u001b[0m\u001b[01;34mdrive\u001b[0m/  \u001b[01;34msample_data\u001b[0m/\n"
          ]
        }
      ],
      "source": [
        ""
      ]
    },
    {
      "cell_type": "code",
      "execution_count": null,
      "metadata": {
        "id": "oZtAkTMZC3hu"
      },
      "outputs": [],
      "source": [
        ""
      ]
    },
    {
      "cell_type": "code",
      "execution_count": null,
      "metadata": {
        "colab": {
          "base_uri": "https://localhost:8080/",
          "height": 36
        },
        "id": "uWPsdV3gfaAe",
        "outputId": "ebf3c0ed-f643-40c9-e7af-65be19675c05"
      },
      "outputs": [
        {
          "data": {
            "application/vnd.google.colaboratory.intrinsic+json": {
              "type": "string"
            },
            "text/plain": [
              "'اصلاح نویسه\\u200cها و استفاده از نیم\\u200cفاصله پردازش را آسان می\\u200cکند'"
            ]
          },
          "execution_count": 22,
          "metadata": {},
          "output_type": "execute_result"
        }
      ],
      "source": [
        "normalizer = Normalizer()\n",
        "normalizer.normalize('اصلاح نويسه ها و استفاده از نیم‌فاصله پردازش را آسان مي كند')"
      ]
    },
    {
      "cell_type": "code",
      "execution_count": null,
      "metadata": {
        "colab": {
          "base_uri": "https://localhost:8080/",
          "height": 53
        },
        "id": "6YYlon-K06jw",
        "outputId": "6446c405-3afb-47d6-c6e0-cd2676f70755"
      },
      "outputs": [
        {
          "name": "stdout",
          "output_type": "stream",
          "text": [
            "کارساز وب اصلی این وبگاه در شهر تامپا ی فلوریدا هستند\n"
          ]
        },
        {
          "data": {
            "application/vnd.google.colaboratory.intrinsic+json": {
              "type": "string"
            },
            "text/plain": [
              "'کارساز وب اصلی این وبگاه در شهر تامپا ی فلوریدا هستند'"
            ]
          },
          "execution_count": 45,
          "metadata": {},
          "output_type": "execute_result"
        }
      ],
      "source": [
        "print(sentences[3])\n",
        "normalizer.normalize(sentences[3])"
      ]
    },
    {
      "cell_type": "code",
      "execution_count": null,
      "metadata": {
        "id": "3kWujWSV1kZl"
      },
      "outputs": [],
      "source": [
        "stemmer = Stemmer()\n",
        "lemmatizer = Lemmatizer()"
      ]
    },
    {
      "cell_type": "code",
      "execution_count": null,
      "metadata": {
        "colab": {
          "base_uri": "https://localhost:8080/",
          "height": 36
        },
        "id": "tPLBGC_m3QSW",
        "outputId": "363c49d2-6620-42d8-b439-4365af48fd21"
      },
      "outputs": [
        {
          "data": {
            "application/vnd.google.colaboratory.intrinsic+json": {
              "type": "string"
            },
            "text/plain": [
              "'رفت#رو'"
            ]
          },
          "execution_count": 42,
          "metadata": {},
          "output_type": "execute_result"
        }
      ],
      "source": [
        "lemmatizer.lemmatize('می‌روم')"
      ]
    },
    {
      "cell_type": "code",
      "execution_count": null,
      "metadata": {
        "colab": {
          "base_uri": "https://localhost:8080/",
          "height": 36
        },
        "id": "kAbzyjay4RD5",
        "outputId": "4c1206b1-1436-4d66-be9f-9233b5c8c922"
      },
      "outputs": [
        {
          "data": {
            "application/vnd.google.colaboratory.intrinsic+json": {
              "type": "string"
            },
            "text/plain": [
              "'کارساز وب اصلی این وبگاه در شهر تامپا ی فلوریدا هستند'"
            ]
          },
          "execution_count": 46,
          "metadata": {},
          "output_type": "execute_result"
        }
      ],
      "source": [
        "lemmatizer.lemmatize(sentences[3])"
      ]
    },
    {
      "cell_type": "code",
      "execution_count": null,
      "metadata": {
        "colab": {
          "base_uri": "https://localhost:8080/"
        },
        "id": "AoTRqUtX4sBP",
        "outputId": "6d82198a-b857-421a-bec0-bec2fd186da1"
      },
      "outputs": [
        {
          "data": {
            "text/plain": [
              "[7412, 21, 8, 4758, 2951, 4, 5334, 8250, 113]"
            ]
          },
          "execution_count": 48,
          "metadata": {},
          "output_type": "execute_result"
        }
      ],
      "source": [
        "list_tokenized_train[1]"
      ]
    },
    {
      "cell_type": "code",
      "execution_count": null,
      "metadata": {
        "colab": {
          "base_uri": "https://localhost:8080/",
          "height": 36
        },
        "id": "yHTpO6QG5CP_",
        "outputId": "a57cf524-1633-48ac-d200-e4d3f0201f1d"
      },
      "outputs": [
        {
          "data": {
            "application/vnd.google.colaboratory.intrinsic+json": {
              "type": "string"
            },
            "text/plain": [
              "'بنیان\\u200cگذاران آن ، جیمی ولز و لری سنگر هستند'"
            ]
          },
          "execution_count": 49,
          "metadata": {},
          "output_type": "execute_result"
        }
      ],
      "source": [
        "sentences[1]"
      ]
    },
    {
      "cell_type": "code",
      "execution_count": null,
      "metadata": {
        "id": "1TyEHX4F5HJd"
      },
      "outputs": [],
      "source": [
        "a = dataWord['Token'][dataWord['Token'] == 'رویزیونیسم'].index"
      ]
    },
    {
      "cell_type": "code",
      "execution_count": null,
      "metadata": {
        "colab": {
          "base_uri": "https://localhost:8080/",
          "height": 645
        },
        "id": "ufQUJvBuWI0c",
        "outputId": "28bdeae2-f78a-490c-f097-bd09c4be9d63"
      },
      "outputs": [
        {
          "data": {
            "text/html": [
              "\n",
              "  <div id=\"df-d3a23778-a525-4f67-9a6a-4baedf176dd4\">\n",
              "    <div class=\"colab-df-container\">\n",
              "      <div>\n",
              "<style scoped>\n",
              "    .dataframe tbody tr th:only-of-type {\n",
              "        vertical-align: middle;\n",
              "    }\n",
              "\n",
              "    .dataframe tbody tr th {\n",
              "        vertical-align: top;\n",
              "    }\n",
              "\n",
              "    .dataframe thead th {\n",
              "        text-align: right;\n",
              "    }\n",
              "</style>\n",
              "<table border=\"1\" class=\"dataframe\">\n",
              "  <thead>\n",
              "    <tr style=\"text-align: right;\">\n",
              "      <th></th>\n",
              "      <th>Token</th>\n",
              "      <th>NameEntity</th>\n",
              "    </tr>\n",
              "  </thead>\n",
              "  <tbody>\n",
              "    <tr>\n",
              "      <th>683244</th>\n",
              "      <td>رویزیونیسم</td>\n",
              "      <td>O</td>\n",
              "    </tr>\n",
              "    <tr>\n",
              "      <th>683245</th>\n",
              "      <td>می‌خوانند</td>\n",
              "      <td>O</td>\n",
              "    </tr>\n",
              "    <tr>\n",
              "      <th>683246</th>\n",
              "      <td>.</td>\n",
              "      <td>O</td>\n",
              "    </tr>\n",
              "    <tr>\n",
              "      <th>683247</th>\n",
              "      <td>استالین</td>\n",
              "      <td>O</td>\n",
              "    </tr>\n",
              "    <tr>\n",
              "      <th>683248</th>\n",
              "      <td>در</td>\n",
              "      <td>O</td>\n",
              "    </tr>\n",
              "    <tr>\n",
              "      <th>683249</th>\n",
              "      <td>۱۹۲۸</td>\n",
              "      <td>O</td>\n",
              "    </tr>\n",
              "    <tr>\n",
              "      <th>683250</th>\n",
              "      <td>سیاست</td>\n",
              "      <td>O</td>\n",
              "    </tr>\n",
              "    <tr>\n",
              "      <th>683251</th>\n",
              "      <td>نپ</td>\n",
              "      <td>O</td>\n",
              "    </tr>\n",
              "    <tr>\n",
              "      <th>683252</th>\n",
              "      <td>( , ،</td>\n",
              "      <td>O</td>\n",
              "    </tr>\n",
              "    <tr>\n",
              "      <th>683253</th>\n",
              "      <td>سیاست</td>\n",
              "      <td>O</td>\n",
              "    </tr>\n",
              "    <tr>\n",
              "      <th>683254</th>\n",
              "      <td>جدید</td>\n",
              "      <td>O</td>\n",
              "    </tr>\n",
              "    <tr>\n",
              "      <th>683255</th>\n",
              "      <td>اقتصادی</td>\n",
              "      <td>O</td>\n",
              "    </tr>\n",
              "    <tr>\n",
              "      <th>683256</th>\n",
              "      <td>)</td>\n",
              "      <td>O</td>\n",
              "    </tr>\n",
              "    <tr>\n",
              "      <th>683257</th>\n",
              "      <td>که</td>\n",
              "      <td>O</td>\n",
              "    </tr>\n",
              "    <tr>\n",
              "      <th>683258</th>\n",
              "      <td>در</td>\n",
              "      <td>B-DAT</td>\n",
              "    </tr>\n",
              "    <tr>\n",
              "      <th>683259</th>\n",
              "      <td>دهه</td>\n",
              "      <td>I-DAT</td>\n",
              "    </tr>\n",
              "    <tr>\n",
              "      <th>683260</th>\n",
              "      <td>۲۰</td>\n",
              "      <td>I-DAT</td>\n",
              "    </tr>\n",
              "    <tr>\n",
              "      <th>683261</th>\n",
              "      <td>جریان</td>\n",
              "      <td>O</td>\n",
              "    </tr>\n",
              "    <tr>\n",
              "      <th>683262</th>\n",
              "      <td>داشت</td>\n",
              "      <td>O</td>\n",
              "    </tr>\n",
              "  </tbody>\n",
              "</table>\n",
              "</div>\n",
              "      <button class=\"colab-df-convert\" onclick=\"convertToInteractive('df-d3a23778-a525-4f67-9a6a-4baedf176dd4')\"\n",
              "              title=\"Convert this dataframe to an interactive table.\"\n",
              "              style=\"display:none;\">\n",
              "        \n",
              "  <svg xmlns=\"http://www.w3.org/2000/svg\" height=\"24px\"viewBox=\"0 0 24 24\"\n",
              "       width=\"24px\">\n",
              "    <path d=\"M0 0h24v24H0V0z\" fill=\"none\"/>\n",
              "    <path d=\"M18.56 5.44l.94 2.06.94-2.06 2.06-.94-2.06-.94-.94-2.06-.94 2.06-2.06.94zm-11 1L8.5 8.5l.94-2.06 2.06-.94-2.06-.94L8.5 2.5l-.94 2.06-2.06.94zm10 10l.94 2.06.94-2.06 2.06-.94-2.06-.94-.94-2.06-.94 2.06-2.06.94z\"/><path d=\"M17.41 7.96l-1.37-1.37c-.4-.4-.92-.59-1.43-.59-.52 0-1.04.2-1.43.59L10.3 9.45l-7.72 7.72c-.78.78-.78 2.05 0 2.83L4 21.41c.39.39.9.59 1.41.59.51 0 1.02-.2 1.41-.59l7.78-7.78 2.81-2.81c.8-.78.8-2.07 0-2.86zM5.41 20L4 18.59l7.72-7.72 1.47 1.35L5.41 20z\"/>\n",
              "  </svg>\n",
              "      </button>\n",
              "      \n",
              "  <style>\n",
              "    .colab-df-container {\n",
              "      display:flex;\n",
              "      flex-wrap:wrap;\n",
              "      gap: 12px;\n",
              "    }\n",
              "\n",
              "    .colab-df-convert {\n",
              "      background-color: #E8F0FE;\n",
              "      border: none;\n",
              "      border-radius: 50%;\n",
              "      cursor: pointer;\n",
              "      display: none;\n",
              "      fill: #1967D2;\n",
              "      height: 32px;\n",
              "      padding: 0 0 0 0;\n",
              "      width: 32px;\n",
              "    }\n",
              "\n",
              "    .colab-df-convert:hover {\n",
              "      background-color: #E2EBFA;\n",
              "      box-shadow: 0px 1px 2px rgba(60, 64, 67, 0.3), 0px 1px 3px 1px rgba(60, 64, 67, 0.15);\n",
              "      fill: #174EA6;\n",
              "    }\n",
              "\n",
              "    [theme=dark] .colab-df-convert {\n",
              "      background-color: #3B4455;\n",
              "      fill: #D2E3FC;\n",
              "    }\n",
              "\n",
              "    [theme=dark] .colab-df-convert:hover {\n",
              "      background-color: #434B5C;\n",
              "      box-shadow: 0px 1px 3px 1px rgba(0, 0, 0, 0.15);\n",
              "      filter: drop-shadow(0px 1px 2px rgba(0, 0, 0, 0.3));\n",
              "      fill: #FFFFFF;\n",
              "    }\n",
              "  </style>\n",
              "\n",
              "      <script>\n",
              "        const buttonEl =\n",
              "          document.querySelector('#df-d3a23778-a525-4f67-9a6a-4baedf176dd4 button.colab-df-convert');\n",
              "        buttonEl.style.display =\n",
              "          google.colab.kernel.accessAllowed ? 'block' : 'none';\n",
              "\n",
              "        async function convertToInteractive(key) {\n",
              "          const element = document.querySelector('#df-d3a23778-a525-4f67-9a6a-4baedf176dd4');\n",
              "          const dataTable =\n",
              "            await google.colab.kernel.invokeFunction('convertToInteractive',\n",
              "                                                     [key], {});\n",
              "          if (!dataTable) return;\n",
              "\n",
              "          const docLinkHtml = 'Like what you see? Visit the ' +\n",
              "            '<a target=\"_blank\" href=https://colab.research.google.com/notebooks/data_table.ipynb>data table notebook</a>'\n",
              "            + ' to learn more about interactive tables.';\n",
              "          element.innerHTML = '';\n",
              "          dataTable['output_type'] = 'display_data';\n",
              "          await google.colab.output.renderOutput(dataTable, element);\n",
              "          const docLink = document.createElement('div');\n",
              "          docLink.innerHTML = docLinkHtml;\n",
              "          element.appendChild(docLink);\n",
              "        }\n",
              "      </script>\n",
              "    </div>\n",
              "  </div>\n",
              "  "
            ],
            "text/plain": [
              "             Token NameEntity\n",
              "683244  رویزیونیسم          O\n",
              "683245   می‌خوانند          O\n",
              "683246           .          O\n",
              "683247     استالین          O\n",
              "683248          در          O\n",
              "683249        ۱۹۲۸          O\n",
              "683250       سیاست          O\n",
              "683251          نپ          O\n",
              "683252       ( , ،          O\n",
              "683253       سیاست          O\n",
              "683254        جدید          O\n",
              "683255     اقتصادی          O\n",
              "683256           )          O\n",
              "683257          که          O\n",
              "683258          در      B-DAT\n",
              "683259         دهه      I-DAT\n",
              "683260          ۲۰      I-DAT\n",
              "683261       جریان          O\n",
              "683262        داشت          O"
            ]
          },
          "execution_count": 91,
          "metadata": {},
          "output_type": "execute_result"
        }
      ],
      "source": [
        "dataWord.iloc[a[1] : a[1] + 19]"
      ]
    },
    {
      "cell_type": "code",
      "execution_count": null,
      "metadata": {
        "colab": {
          "base_uri": "https://localhost:8080/"
        },
        "id": "T0YDviwgWPyM",
        "outputId": "812f0935-fb0b-42e5-cf62-526e512ed6f2"
      },
      "outputs": [
        {
          "name": "stdout",
          "output_type": "stream",
          "text": [
            "25777\n"
          ]
        }
      ],
      "source": [
        "a = -1\n",
        "for i in dotIndices:\n",
        "  a += 1\n",
        "  if i == 683246:\n",
        "    print(a)"
      ]
    },
    {
      "cell_type": "code",
      "execution_count": null,
      "metadata": {
        "colab": {
          "base_uri": "https://localhost:8080/"
        },
        "id": "fxquld6nXkU2",
        "outputId": "9f86044e-b887-4b67-848b-2564361db216"
      },
      "outputs": [
        {
          "data": {
            "text/plain": [
              "683246"
            ]
          },
          "execution_count": 98,
          "metadata": {},
          "output_type": "execute_result"
        }
      ],
      "source": [
        "dotIndices[25777]"
      ]
    },
    {
      "cell_type": "code",
      "execution_count": null,
      "metadata": {
        "id": "32PboehNZ40A"
      },
      "outputs": [],
      "source": [
        "sentences[25778].split()"
      ]
    },
    {
      "cell_type": "code",
      "execution_count": null,
      "metadata": {
        "colab": {
          "base_uri": "https://localhost:8080/"
        },
        "id": "8DUn22zYcmde",
        "outputId": "4430509d-626f-4be3-dc9f-084c7bce735c"
      },
      "outputs": [
        {
          "data": {
            "text/plain": [
              "99941"
            ]
          },
          "execution_count": 25,
          "metadata": {},
          "output_type": "execute_result"
        }
      ],
      "source": [
        "ind = -1\n",
        "notEquallen = 0\n",
        "badSentenceIndices = []\n",
        "for a,b in zip(list_tokenized_train, y):\n",
        "  ind += 1\n",
        "  if len(a) != len(b):\n",
        "    badSentenceIndices.append(ind)\n",
        "    notEquallen += 1\n",
        "notEquallen / len(list_tokenized_train)"
      ]
    },
    {
      "cell_type": "code",
      "execution_count": null,
      "metadata": {
        "colab": {
          "base_uri": "https://localhost:8080/"
        },
        "id": "DXiRmx_Ze4F9",
        "outputId": "676ccc69-3596-4748-fc77-4ff4b0195c4d"
      },
      "outputs": [
        {
          "data": {
            "text/plain": [
              "0.24964591800285263"
            ]
          },
          "execution_count": 26,
          "metadata": {},
          "output_type": "execute_result"
        }
      ],
      "source": [
        "notEquallen / len(list_tokenized_train)"
      ]
    },
    {
      "cell_type": "code",
      "execution_count": null,
      "metadata": {
        "colab": {
          "base_uri": "https://localhost:8080/"
        },
        "id": "W_f9f9YuAY_S",
        "outputId": "7f05e758-ef33-487c-b0d7-147d80ed02bd"
      },
      "outputs": [
        {
          "data": {
            "text/plain": [
              "list"
            ]
          },
          "execution_count": 30,
          "metadata": {},
          "output_type": "execute_result"
        }
      ],
      "source": [
        ""
      ]
    },
    {
      "cell_type": "code",
      "execution_count": null,
      "metadata": {
        "colab": {
          "base_uri": "https://localhost:8080/"
        },
        "id": "HQ3segRPbU1l",
        "outputId": "c49798f7-d3a9-4a64-b199-725e45431088"
      },
      "outputs": [
        {
          "data": {
            "text/plain": [
              "24"
            ]
          },
          "execution_count": 107,
          "metadata": {},
          "output_type": "execute_result"
        }
      ],
      "source": [
        "len(list_tokenized_train[25778])"
      ]
    },
    {
      "cell_type": "code",
      "execution_count": null,
      "metadata": {
        "colab": {
          "base_uri": "https://localhost:8080/"
        },
        "id": "HvwDBEPkasmR",
        "outputId": "b6b973a6-b39a-4e10-856d-1f712bad3175"
      },
      "outputs": [
        {
          "data": {
            "text/plain": [
              "25"
            ]
          },
          "execution_count": 104,
          "metadata": {},
          "output_type": "execute_result"
        }
      ],
      "source": [
        "len(y[25778])"
      ]
    },
    {
      "cell_type": "code",
      "execution_count": null,
      "metadata": {
        "colab": {
          "base_uri": "https://localhost:8080/"
        },
        "id": "2yfANPWgaChl",
        "outputId": "b0760566-0cce-4b43-bad1-8b3b1ae71f23"
      },
      "outputs": [
        {
          "data": {
            "text/plain": [
              "[0,\n",
              " 6,\n",
              " 8,\n",
              " 11,\n",
              " 12,\n",
              " 16,\n",
              " 20,\n",
              " 21,\n",
              " 24,\n",
              " 25,\n",
              " 26,\n",
              " 27,\n",
              " 29,\n",
              " 30,\n",
              " 32,\n",
              " 33,\n",
              " 34,\n",
              " 58,\n",
              " 59,\n",
              " 61,\n",
              " 62,\n",
              " 70,\n",
              " 71,\n",
              " 72,\n",
              " 74,\n",
              " 75,\n",
              " 77,\n",
              " 83,\n",
              " 84,\n",
              " 86,\n",
              " 87,\n",
              " 88,\n",
              " 89,\n",
              " 91,\n",
              " 92,\n",
              " 97,\n",
              " 104,\n",
              " 109,\n",
              " 120,\n",
              " 122,\n",
              " 130,\n",
              " 137,\n",
              " 144,\n",
              " 148,\n",
              " 150,\n",
              " 155,\n",
              " 157,\n",
              " 158,\n",
              " 159,\n",
              " 163,\n",
              " 178,\n",
              " 189,\n",
              " 191,\n",
              " 195,\n",
              " 203,\n",
              " 206,\n",
              " 215,\n",
              " 217,\n",
              " 219,\n",
              " 220,\n",
              " 223,\n",
              " 242,\n",
              " 244,\n",
              " 247,\n",
              " 249,\n",
              " 251,\n",
              " 253,\n",
              " 254,\n",
              " 257,\n",
              " 260,\n",
              " 263,\n",
              " 264,\n",
              " 267,\n",
              " 270,\n",
              " 281,\n",
              " 283,\n",
              " 289,\n",
              " 301,\n",
              " 305,\n",
              " 317,\n",
              " 318,\n",
              " 337,\n",
              " 349,\n",
              " 352,\n",
              " 353,\n",
              " 355,\n",
              " 357,\n",
              " 366,\n",
              " 368,\n",
              " 370,\n",
              " 376,\n",
              " 377,\n",
              " 381,\n",
              " 388,\n",
              " 389,\n",
              " 390,\n",
              " 393,\n",
              " 403,\n",
              " 404,\n",
              " 410,\n",
              " 424,\n",
              " 441,\n",
              " 443,\n",
              " 444,\n",
              " 446,\n",
              " 452,\n",
              " 453,\n",
              " 454,\n",
              " 456,\n",
              " 458,\n",
              " 459,\n",
              " 460,\n",
              " 463,\n",
              " 465,\n",
              " 475,\n",
              " 479,\n",
              " 482,\n",
              " 484,\n",
              " 494,\n",
              " 495,\n",
              " 502,\n",
              " 507,\n",
              " 511,\n",
              " 514,\n",
              " 517,\n",
              " 519,\n",
              " 526,\n",
              " 529,\n",
              " 530,\n",
              " 533,\n",
              " 536,\n",
              " 539,\n",
              " 542,\n",
              " 543,\n",
              " 544,\n",
              " 545,\n",
              " 546,\n",
              " 548,\n",
              " 549,\n",
              " 551,\n",
              " 555,\n",
              " 556,\n",
              " 557,\n",
              " 558,\n",
              " 560,\n",
              " 566,\n",
              " 568,\n",
              " 570,\n",
              " 572,\n",
              " 575,\n",
              " 576,\n",
              " 577,\n",
              " 580,\n",
              " 585,\n",
              " 589,\n",
              " 593,\n",
              " 598,\n",
              " 599,\n",
              " 604,\n",
              " 608,\n",
              " 612,\n",
              " 634,\n",
              " 635,\n",
              " 640,\n",
              " 643,\n",
              " 649,\n",
              " 651,\n",
              " 654,\n",
              " 656,\n",
              " 663,\n",
              " 665,\n",
              " 666,\n",
              " 672,\n",
              " 677,\n",
              " 682,\n",
              " 683,\n",
              " 695,\n",
              " 696,\n",
              " 698,\n",
              " 701,\n",
              " 703,\n",
              " 705,\n",
              " 714,\n",
              " 722,\n",
              " 723,\n",
              " 725,\n",
              " 731,\n",
              " 734,\n",
              " 737,\n",
              " 738,\n",
              " 739,\n",
              " 741,\n",
              " 742,\n",
              " 747,\n",
              " 748,\n",
              " 749,\n",
              " 750,\n",
              " 751,\n",
              " 752,\n",
              " 753,\n",
              " 754,\n",
              " 755,\n",
              " 756,\n",
              " 758,\n",
              " 759,\n",
              " 760,\n",
              " 762,\n",
              " 763,\n",
              " 765,\n",
              " 766,\n",
              " 767,\n",
              " 769,\n",
              " 770,\n",
              " 773,\n",
              " 776,\n",
              " 790,\n",
              " 804,\n",
              " 809,\n",
              " 810,\n",
              " 813,\n",
              " 814,\n",
              " 817,\n",
              " 820,\n",
              " 834,\n",
              " 838,\n",
              " 841,\n",
              " 854,\n",
              " 862,\n",
              " 865,\n",
              " 866,\n",
              " 868,\n",
              " 869,\n",
              " 870,\n",
              " 879,\n",
              " 886,\n",
              " 899,\n",
              " 905,\n",
              " 907,\n",
              " 914,\n",
              " 919,\n",
              " 922,\n",
              " 925,\n",
              " 932,\n",
              " 933,\n",
              " 945,\n",
              " 949,\n",
              " 951,\n",
              " 957,\n",
              " 959,\n",
              " 984,\n",
              " 989,\n",
              " 993,\n",
              " 994,\n",
              " 995,\n",
              " 996,\n",
              " 1000,\n",
              " 1003,\n",
              " 1004,\n",
              " 1005,\n",
              " 1008,\n",
              " 1009,\n",
              " 1010,\n",
              " 1011,\n",
              " 1012,\n",
              " 1031,\n",
              " 1035,\n",
              " 1056,\n",
              " 1057,\n",
              " 1060,\n",
              " 1062,\n",
              " 1065,\n",
              " 1076,\n",
              " 1088,\n",
              " 1093,\n",
              " 1095,\n",
              " 1098,\n",
              " 1099,\n",
              " 1102,\n",
              " 1110,\n",
              " 1111,\n",
              " 1119,\n",
              " 1121,\n",
              " 1123,\n",
              " 1129,\n",
              " 1132,\n",
              " 1136,\n",
              " 1146,\n",
              " 1150,\n",
              " 1163,\n",
              " 1187,\n",
              " 1190,\n",
              " 1191,\n",
              " 1201,\n",
              " 1202,\n",
              " 1203,\n",
              " 1204,\n",
              " 1213,\n",
              " 1223,\n",
              " 1227,\n",
              " 1229,\n",
              " 1232,\n",
              " 1233,\n",
              " 1234,\n",
              " 1237,\n",
              " 1238,\n",
              " 1252,\n",
              " 1254,\n",
              " 1256,\n",
              " 1264,\n",
              " 1265,\n",
              " 1267,\n",
              " 1272,\n",
              " 1273,\n",
              " 1278,\n",
              " 1285,\n",
              " 1288,\n",
              " 1296,\n",
              " 1298,\n",
              " 1299,\n",
              " 1312,\n",
              " 1314,\n",
              " 1324,\n",
              " 1334,\n",
              " 1336,\n",
              " 1342,\n",
              " 1343,\n",
              " 1349,\n",
              " 1355,\n",
              " 1362,\n",
              " 1364,\n",
              " 1369,\n",
              " 1376,\n",
              " 1382,\n",
              " 1384,\n",
              " 1389,\n",
              " 1390,\n",
              " 1401,\n",
              " 1406,\n",
              " 1407,\n",
              " 1414,\n",
              " 1424,\n",
              " 1427,\n",
              " 1430,\n",
              " 1431,\n",
              " 1454,\n",
              " 1458,\n",
              " 1480,\n",
              " 1484,\n",
              " 1492,\n",
              " 1504,\n",
              " 1512,\n",
              " 1517,\n",
              " 1521,\n",
              " 1522,\n",
              " 1544,\n",
              " 1555,\n",
              " 1557,\n",
              " 1560,\n",
              " 1562,\n",
              " 1563,\n",
              " 1565,\n",
              " 1570,\n",
              " 1572,\n",
              " 1574,\n",
              " 1587,\n",
              " 1598,\n",
              " 1599,\n",
              " 1604,\n",
              " 1605,\n",
              " 1606,\n",
              " 1608,\n",
              " 1613,\n",
              " 1625,\n",
              " 1662,\n",
              " 1665,\n",
              " 1669,\n",
              " 1673,\n",
              " 1677,\n",
              " 1678,\n",
              " 1681,\n",
              " 1682,\n",
              " 1689,\n",
              " 1690,\n",
              " 1694,\n",
              " 1698,\n",
              " 1704,\n",
              " 1705,\n",
              " 1707,\n",
              " 1708,\n",
              " 1712,\n",
              " 1724,\n",
              " 1727,\n",
              " 1739,\n",
              " 1740,\n",
              " 1741,\n",
              " 1743,\n",
              " 1744,\n",
              " 1748,\n",
              " 1750,\n",
              " 1754,\n",
              " 1757,\n",
              " 1763,\n",
              " 1764,\n",
              " 1765,\n",
              " 1766,\n",
              " 1767,\n",
              " 1768,\n",
              " 1769,\n",
              " 1770,\n",
              " 1771,\n",
              " 1772,\n",
              " 1773,\n",
              " 1774,\n",
              " 1775,\n",
              " 1776,\n",
              " 1777,\n",
              " 1778,\n",
              " 1779,\n",
              " 1780,\n",
              " 1781,\n",
              " 1784,\n",
              " 1785,\n",
              " 1786,\n",
              " 1787,\n",
              " 1788,\n",
              " 1789,\n",
              " 1790,\n",
              " 1791,\n",
              " 1796,\n",
              " 1805,\n",
              " 1808,\n",
              " 1811,\n",
              " 1813,\n",
              " 1814,\n",
              " 1822,\n",
              " 1826,\n",
              " 1853,\n",
              " 1855,\n",
              " 1860,\n",
              " 1866,\n",
              " 1869,\n",
              " 1870,\n",
              " 1878,\n",
              " 1880,\n",
              " 1892,\n",
              " 1905,\n",
              " 1906,\n",
              " 1913,\n",
              " 1925,\n",
              " 1941,\n",
              " 1942,\n",
              " 1954,\n",
              " 1956,\n",
              " 1973,\n",
              " 1978,\n",
              " 1981,\n",
              " 1987,\n",
              " 1996,\n",
              " 2001,\n",
              " 2004,\n",
              " 2006,\n",
              " 2008,\n",
              " 2010,\n",
              " 2011,\n",
              " 2016,\n",
              " 2017,\n",
              " 2025,\n",
              " 2032,\n",
              " 2044,\n",
              " 2048,\n",
              " 2050,\n",
              " 2056,\n",
              " 2057,\n",
              " 2058,\n",
              " 2059,\n",
              " 2064,\n",
              " 2067,\n",
              " 2069,\n",
              " 2073,\n",
              " 2078,\n",
              " 2087,\n",
              " 2088,\n",
              " 2089,\n",
              " 2090,\n",
              " 2091,\n",
              " 2092,\n",
              " 2095,\n",
              " 2096,\n",
              " 2097,\n",
              " 2100,\n",
              " 2103,\n",
              " 2108,\n",
              " 2110,\n",
              " 2116,\n",
              " 2121,\n",
              " 2123,\n",
              " 2126,\n",
              " 2127,\n",
              " 2134,\n",
              " 2146,\n",
              " 2147,\n",
              " 2149,\n",
              " 2161,\n",
              " 2165,\n",
              " 2166,\n",
              " 2167,\n",
              " 2170,\n",
              " 2171,\n",
              " 2176,\n",
              " 2189,\n",
              " 2195,\n",
              " 2199,\n",
              " 2201,\n",
              " 2204,\n",
              " 2205,\n",
              " 2214,\n",
              " 2215,\n",
              " 2218,\n",
              " 2219,\n",
              " 2225,\n",
              " 2252,\n",
              " 2254,\n",
              " 2257,\n",
              " 2259,\n",
              " 2262,\n",
              " 2269,\n",
              " 2290,\n",
              " 2293,\n",
              " 2297,\n",
              " 2298,\n",
              " 2301,\n",
              " 2302,\n",
              " 2314,\n",
              " 2316,\n",
              " 2317,\n",
              " 2319,\n",
              " 2333,\n",
              " 2334,\n",
              " 2341,\n",
              " 2349,\n",
              " 2352,\n",
              " 2355,\n",
              " 2357,\n",
              " 2378,\n",
              " 2387,\n",
              " 2412,\n",
              " 2413,\n",
              " 2414,\n",
              " 2416,\n",
              " 2420,\n",
              " 2429,\n",
              " 2430,\n",
              " 2439,\n",
              " 2447,\n",
              " 2456,\n",
              " 2466,\n",
              " 2470,\n",
              " 2476,\n",
              " 2491,\n",
              " 2494,\n",
              " 2497,\n",
              " 2498,\n",
              " 2502,\n",
              " 2503,\n",
              " 2516,\n",
              " 2521,\n",
              " 2524,\n",
              " 2527,\n",
              " 2528,\n",
              " 2530,\n",
              " 2532,\n",
              " 2534,\n",
              " 2538,\n",
              " 2549,\n",
              " 2561,\n",
              " 2568,\n",
              " 2569,\n",
              " 2570,\n",
              " 2571,\n",
              " 2581,\n",
              " 2585,\n",
              " 2586,\n",
              " 2587,\n",
              " 2588,\n",
              " 2591,\n",
              " 2592,\n",
              " 2597,\n",
              " 2598,\n",
              " 2599,\n",
              " 2600,\n",
              " 2604,\n",
              " 2614,\n",
              " 2617,\n",
              " 2623,\n",
              " 2624,\n",
              " 2629,\n",
              " 2630,\n",
              " 2631,\n",
              " 2633,\n",
              " 2636,\n",
              " 2639,\n",
              " 2642,\n",
              " 2647,\n",
              " 2660,\n",
              " 2666,\n",
              " 2667,\n",
              " 2668,\n",
              " 2671,\n",
              " 2673,\n",
              " 2675,\n",
              " 2689,\n",
              " 2690,\n",
              " 2697,\n",
              " 2700,\n",
              " 2705,\n",
              " 2706,\n",
              " 2708,\n",
              " 2716,\n",
              " 2721,\n",
              " 2730,\n",
              " 2731,\n",
              " 2732,\n",
              " 2733,\n",
              " 2734,\n",
              " 2735,\n",
              " 2738,\n",
              " 2739,\n",
              " 2743,\n",
              " 2761,\n",
              " 2769,\n",
              " 2774,\n",
              " 2775,\n",
              " 2790,\n",
              " 2791,\n",
              " 2795,\n",
              " 2800,\n",
              " 2801,\n",
              " 2806,\n",
              " 2809,\n",
              " 2812,\n",
              " 2814,\n",
              " 2816,\n",
              " 2819,\n",
              " 2825,\n",
              " 2827,\n",
              " 2828,\n",
              " 2835,\n",
              " 2836,\n",
              " 2837,\n",
              " 2838,\n",
              " 2841,\n",
              " 2848,\n",
              " 2850,\n",
              " 2855,\n",
              " 2857,\n",
              " 2863,\n",
              " 2864,\n",
              " 2869,\n",
              " 2870,\n",
              " 2871,\n",
              " 2872,\n",
              " 2874,\n",
              " 2875,\n",
              " 2876,\n",
              " 2877,\n",
              " 2878,\n",
              " 2889,\n",
              " 2890,\n",
              " 2897,\n",
              " 2898,\n",
              " 2900,\n",
              " 2912,\n",
              " 2913,\n",
              " 2914,\n",
              " 2917,\n",
              " 2918,\n",
              " 2923,\n",
              " 2924,\n",
              " 2926,\n",
              " 2934,\n",
              " 2947,\n",
              " 2948,\n",
              " 2953,\n",
              " 2958,\n",
              " 2959,\n",
              " 2964,\n",
              " 2968,\n",
              " 2969,\n",
              " 2970,\n",
              " 2975,\n",
              " 2976,\n",
              " 2977,\n",
              " 2978,\n",
              " 2980,\n",
              " 2986,\n",
              " 2991,\n",
              " 2992,\n",
              " 3017,\n",
              " 3025,\n",
              " 3029,\n",
              " 3035,\n",
              " 3036,\n",
              " 3039,\n",
              " 3043,\n",
              " 3046,\n",
              " 3048,\n",
              " 3049,\n",
              " 3051,\n",
              " 3060,\n",
              " 3066,\n",
              " 3075,\n",
              " 3076,\n",
              " 3091,\n",
              " 3095,\n",
              " 3097,\n",
              " 3110,\n",
              " 3114,\n",
              " 3116,\n",
              " 3121,\n",
              " 3128,\n",
              " 3134,\n",
              " 3135,\n",
              " 3148,\n",
              " 3162,\n",
              " 3163,\n",
              " 3165,\n",
              " 3177,\n",
              " 3188,\n",
              " 3193,\n",
              " 3195,\n",
              " 3198,\n",
              " 3201,\n",
              " 3204,\n",
              " 3208,\n",
              " 3217,\n",
              " 3218,\n",
              " 3219,\n",
              " 3220,\n",
              " 3223,\n",
              " 3225,\n",
              " 3226,\n",
              " 3228,\n",
              " 3229,\n",
              " 3230,\n",
              " 3231,\n",
              " 3232,\n",
              " 3234,\n",
              " 3235,\n",
              " 3240,\n",
              " 3241,\n",
              " 3242,\n",
              " 3243,\n",
              " 3245,\n",
              " 3246,\n",
              " 3248,\n",
              " 3249,\n",
              " 3251,\n",
              " 3252,\n",
              " 3253,\n",
              " 3254,\n",
              " 3256,\n",
              " 3257,\n",
              " 3260,\n",
              " 3262,\n",
              " 3265,\n",
              " 3268,\n",
              " 3269,\n",
              " 3270,\n",
              " 3271,\n",
              " 3273,\n",
              " 3274,\n",
              " 3275,\n",
              " 3277,\n",
              " 3280,\n",
              " 3281,\n",
              " 3282,\n",
              " 3283,\n",
              " 3284,\n",
              " 3285,\n",
              " 3286,\n",
              " 3289,\n",
              " 3290,\n",
              " 3291,\n",
              " 3292,\n",
              " 3296,\n",
              " 3297,\n",
              " 3298,\n",
              " 3299,\n",
              " 3300,\n",
              " 3301,\n",
              " 3302,\n",
              " 3303,\n",
              " 3305,\n",
              " 3306,\n",
              " 3307,\n",
              " 3309,\n",
              " 3310,\n",
              " 3314,\n",
              " 3315,\n",
              " 3318,\n",
              " 3319,\n",
              " 3320,\n",
              " 3322,\n",
              " 3323,\n",
              " 3324,\n",
              " 3325,\n",
              " 3327,\n",
              " 3331,\n",
              " 3333,\n",
              " 3335,\n",
              " 3339,\n",
              " 3340,\n",
              " 3342,\n",
              " 3344,\n",
              " 3347,\n",
              " 3348,\n",
              " 3351,\n",
              " 3357,\n",
              " 3361,\n",
              " 3377,\n",
              " 3382,\n",
              " 3390,\n",
              " 3410,\n",
              " 3411,\n",
              " 3424,\n",
              " 3429,\n",
              " 3435,\n",
              " 3439,\n",
              " 3444,\n",
              " 3447,\n",
              " 3456,\n",
              " 3463,\n",
              " 3466,\n",
              " 3472,\n",
              " 3477,\n",
              " 3481,\n",
              " 3501,\n",
              " 3503,\n",
              " 3506,\n",
              " 3507,\n",
              " 3508,\n",
              " 3510,\n",
              " 3511,\n",
              " 3514,\n",
              " 3517,\n",
              " 3522,\n",
              " 3525,\n",
              " 3527,\n",
              " 3530,\n",
              " 3538,\n",
              " 3541,\n",
              " 3542,\n",
              " 3549,\n",
              " 3551,\n",
              " 3558,\n",
              " 3560,\n",
              " 3563,\n",
              " 3566,\n",
              " 3568,\n",
              " 3571,\n",
              " 3584,\n",
              " 3585,\n",
              " 3601,\n",
              " 3602,\n",
              " 3604,\n",
              " 3615,\n",
              " 3616,\n",
              " 3620,\n",
              " 3624,\n",
              " 3627,\n",
              " 3629,\n",
              " 3630,\n",
              " 3637,\n",
              " 3643,\n",
              " 3645,\n",
              " 3649,\n",
              " 3652,\n",
              " 3655,\n",
              " 3659,\n",
              " 3660,\n",
              " 3661,\n",
              " 3666,\n",
              " 3684,\n",
              " 3686,\n",
              " 3688,\n",
              " 3691,\n",
              " 3702,\n",
              " 3703,\n",
              " 3714,\n",
              " 3722,\n",
              " 3733,\n",
              " 3740,\n",
              " 3744,\n",
              " 3745,\n",
              " 3749,\n",
              " 3756,\n",
              " 3761,\n",
              " 3763,\n",
              " 3775,\n",
              " 3778,\n",
              " 3790,\n",
              " 3792,\n",
              " 3794,\n",
              " 3802,\n",
              " 3803,\n",
              " 3807,\n",
              " 3831,\n",
              " 3835,\n",
              " 3836,\n",
              " 3842,\n",
              " 3844,\n",
              " 3846,\n",
              " 3849,\n",
              " 3855,\n",
              " 3856,\n",
              " 3857,\n",
              " 3858,\n",
              " 3861,\n",
              " 3864,\n",
              " 3879,\n",
              " 3882,\n",
              " 3887,\n",
              " 3891,\n",
              " 3910,\n",
              " 3911,\n",
              " 3914,\n",
              " 3916,\n",
              " 3922,\n",
              " 3923,\n",
              " 3924,\n",
              " 3926,\n",
              " 3950,\n",
              " 3953,\n",
              " 3969,\n",
              " 3976,\n",
              " 3981,\n",
              " 3984,\n",
              " 3986,\n",
              " 3987,\n",
              " 4001,\n",
              " 4032,\n",
              " 4035,\n",
              " 4041,\n",
              " 4043,\n",
              " 4044,\n",
              " 4045,\n",
              " 4049,\n",
              " 4052,\n",
              " 4053,\n",
              " 4055,\n",
              " 4056,\n",
              " 4075,\n",
              " 4078,\n",
              " 4079,\n",
              " 4083,\n",
              " 4086,\n",
              " 4098,\n",
              " 4099,\n",
              " 4102,\n",
              " 4106,\n",
              " 4118,\n",
              " 4126,\n",
              " 4127,\n",
              " 4129,\n",
              " 4132,\n",
              " 4133,\n",
              " 4135,\n",
              " 4137,\n",
              " 4138,\n",
              " 4139,\n",
              " 4154,\n",
              " 4160,\n",
              " 4170,\n",
              " 4172,\n",
              " 4182,\n",
              " 4184,\n",
              " 4199,\n",
              " 4209,\n",
              " 4218,\n",
              " 4224,\n",
              " 4225,\n",
              " 4229,\n",
              " 4233,\n",
              " 4235,\n",
              " 4243,\n",
              " 4244,\n",
              " 4250,\n",
              " 4255,\n",
              " 4261,\n",
              " 4269,\n",
              " 4270,\n",
              " 4272,\n",
              " 4279,\n",
              " 4283,\n",
              " 4284,\n",
              " 4285,\n",
              " 4287,\n",
              " 4291,\n",
              " 4293,\n",
              " 4302,\n",
              " ...]"
            ]
          },
          "execution_count": 28,
          "metadata": {},
          "output_type": "execute_result"
        }
      ],
      "source": [
        "badSentenceIndices"
      ]
    },
    {
      "cell_type": "code",
      "execution_count": null,
      "metadata": {
        "id": "B4Eynz0Hgnhr"
      },
      "outputs": [],
      "source": [
        ""
      ]
    }
  ],
  "metadata": {
    "accelerator": "GPU",
    "colab": {
      "collapsed_sections": [],
      "name": "Persian-Name-Entitiy-Recognition.ipynb",
      "provenance": []
    },
    "gpuClass": "standard",
    "kernelspec": {
      "display_name": "Python 3",
      "name": "python3"
    },
    "language_info": {
      "name": "python"
    }
  },
  "nbformat": 4,
  "nbformat_minor": 0
}